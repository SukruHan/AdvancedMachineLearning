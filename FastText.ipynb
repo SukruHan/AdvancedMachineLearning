{
 "cells": [
  {
   "cell_type": "markdown",
   "metadata": {},
   "source": [
    "Creating our own model"
   ]
  },
  {
   "cell_type": "code",
   "execution_count": 2,
   "metadata": {},
   "outputs": [
    {
     "name": "stderr",
     "output_type": "stream",
     "text": [
      "C:\\Users\\han\\Anaconda3\\lib\\site-packages\\ipykernel_launcher.py:2: DeprecationWarning: Call to deprecated `load_fasttext_format` (use load_facebook_vectors (to use pretrained embeddings) or load_facebook_model (to continue training with the loaded full model, more RAM) instead).\n",
      "  \n"
     ]
    }
   ],
   "source": [
    "from gensim.models import FastText #instead of this version, find a version without wrapper.\n",
    "model_dan=FastText.load_fasttext_format('cc.da.300.bin')"
   ]
  },
  {
   "cell_type": "code",
   "execution_count": 3,
   "metadata": {},
   "outputs": [
    {
     "name": "stdout",
     "output_type": "stream",
     "text": [
      "0.2325377\n",
      "[('takker', 0.6787657737731934), ('takke', 0.6613830327987671), ('TAK', 0.6562446355819702), ('tak.', 0.6307595372200012), ('tak.Og', 0.6274226903915405), ('TUSIND', 0.6098675727844238), ('Tusind', 0.5937371253967285), ('hjælpen.', 0.5825209617614746), ('tak.-', 0.576162576675415), ('tak.Mvh.', 0.570332407951355)]\n"
     ]
    }
   ],
   "source": [
    "print(model_dan.wv.similarity(\"tak\", \"Velkommen\"))\n",
    "print(model_dan.wv.most_similar(\"tak\"))"
   ]
  },
  {
   "cell_type": "code",
   "execution_count": 4,
   "metadata": {},
   "outputs": [
    {
     "name": "stdout",
     "output_type": "stream",
     "text": [
      "græs\n"
     ]
    },
    {
     "name": "stderr",
     "output_type": "stream",
     "text": [
      "C:\\Users\\han\\Anaconda3\\lib\\site-packages\\gensim\\models\\keyedvectors.py:877: FutureWarning: arrays to stack must be passed as a \"sequence\" type such as list or tuple. Support for non-sequence iterables such as generators is deprecated as of NumPy 1.16 and will raise an error in the future.\n",
      "  vectors = vstack(self.word_vec(word, use_norm=True) for word in used_words).astype(REAL)\n"
     ]
    }
   ],
   "source": [
    "print(model_dan.wv.doesnt_match('stol bord reol græs'.split(\" \")))"
   ]
  },
  {
   "cell_type": "code",
   "execution_count": 1,
   "metadata": {},
   "outputs": [],
   "source": [
    "from IPython.display import display, HTML\n",
    "import pandas as pd\n",
    "import numpy as np"
   ]
  },
  {
   "cell_type": "code",
   "execution_count": 6,
   "metadata": {},
   "outputs": [
    {
     "data": {
      "text/html": [
       "<table border=\"1\" class=\"dataframe\">\n",
       "  <thead>\n",
       "    <tr style=\"text-align: right;\">\n",
       "      <th></th>\n",
       "      <th>word1</th>\n",
       "      <th>word2</th>\n",
       "      <th>word3</th>\n",
       "      <th>word4</th>\n",
       "    </tr>\n",
       "  </thead>\n",
       "  <tbody>\n",
       "    <tr>\n",
       "      <th>0</th>\n",
       "      <td>æble</td>\n",
       "      <td>pære</td>\n",
       "      <td>kirsebær</td>\n",
       "      <td>stol</td>\n",
       "    </tr>\n",
       "    <tr>\n",
       "      <th>1</th>\n",
       "      <td>stol</td>\n",
       "      <td>bord</td>\n",
       "      <td>reol</td>\n",
       "      <td>græs</td>\n",
       "    </tr>\n",
       "    <tr>\n",
       "      <th>2</th>\n",
       "      <td>græs</td>\n",
       "      <td>træ</td>\n",
       "      <td>blomst</td>\n",
       "      <td>bil</td>\n",
       "    </tr>\n",
       "    <tr>\n",
       "      <th>3</th>\n",
       "      <td>bil</td>\n",
       "      <td>cykel</td>\n",
       "      <td>tog</td>\n",
       "      <td>vind</td>\n",
       "    </tr>\n",
       "    <tr>\n",
       "      <th>4</th>\n",
       "      <td>vind</td>\n",
       "      <td>regn</td>\n",
       "      <td>solskin</td>\n",
       "      <td>mandag</td>\n",
       "    </tr>\n",
       "    <tr>\n",
       "      <th>5</th>\n",
       "      <td>mandag</td>\n",
       "      <td>tirsdag</td>\n",
       "      <td>søndag</td>\n",
       "      <td>tømrer</td>\n",
       "    </tr>\n",
       "    <tr>\n",
       "      <th>6</th>\n",
       "      <td>tømrer</td>\n",
       "      <td>vvs-mand</td>\n",
       "      <td>snedker</td>\n",
       "      <td>barn</td>\n",
       "    </tr>\n",
       "    <tr>\n",
       "      <th>7</th>\n",
       "      <td>barn</td>\n",
       "      <td>far</td>\n",
       "      <td>mormor</td>\n",
       "      <td>lampe</td>\n",
       "    </tr>\n",
       "    <tr>\n",
       "      <th>8</th>\n",
       "      <td>lampe</td>\n",
       "      <td>stearinlys</td>\n",
       "      <td>lommelygte</td>\n",
       "      <td>jern</td>\n",
       "    </tr>\n",
       "    <tr>\n",
       "      <th>9</th>\n",
       "      <td>jern</td>\n",
       "      <td>guld</td>\n",
       "      <td>magnesium</td>\n",
       "      <td>sjov</td>\n",
       "    </tr>\n",
       "    <tr>\n",
       "      <th>10</th>\n",
       "      <td>sjov</td>\n",
       "      <td>dårlig</td>\n",
       "      <td>vanvittig</td>\n",
       "      <td>papir</td>\n",
       "    </tr>\n",
       "    <tr>\n",
       "      <th>11</th>\n",
       "      <td>papir</td>\n",
       "      <td>ringbind</td>\n",
       "      <td>blyant</td>\n",
       "      <td>vagt</td>\n",
       "    </tr>\n",
       "    <tr>\n",
       "      <th>12</th>\n",
       "      <td>vagt</td>\n",
       "      <td>politimand</td>\n",
       "      <td>fængselsbetjent</td>\n",
       "      <td>by</td>\n",
       "    </tr>\n",
       "    <tr>\n",
       "      <th>13</th>\n",
       "      <td>by</td>\n",
       "      <td>landsby</td>\n",
       "      <td>købstad</td>\n",
       "      <td>småkage</td>\n",
       "    </tr>\n",
       "    <tr>\n",
       "      <th>14</th>\n",
       "      <td>småkage</td>\n",
       "      <td>citronmåne</td>\n",
       "      <td>kringle</td>\n",
       "      <td>dør</td>\n",
       "    </tr>\n",
       "    <tr>\n",
       "      <th>15</th>\n",
       "      <td>dør</td>\n",
       "      <td>væg</td>\n",
       "      <td>vindue</td>\n",
       "      <td>klaver</td>\n",
       "    </tr>\n",
       "    <tr>\n",
       "      <th>16</th>\n",
       "      <td>klaver</td>\n",
       "      <td>trompet</td>\n",
       "      <td>blokfløjte</td>\n",
       "      <td>fandens</td>\n",
       "    </tr>\n",
       "    <tr>\n",
       "      <th>17</th>\n",
       "      <td>fandens</td>\n",
       "      <td>fuck</td>\n",
       "      <td>sgu</td>\n",
       "      <td>vand</td>\n",
       "    </tr>\n",
       "    <tr>\n",
       "      <th>18</th>\n",
       "      <td>vand</td>\n",
       "      <td>jord</td>\n",
       "      <td>ild</td>\n",
       "      <td>hukommelse</td>\n",
       "    </tr>\n",
       "    <tr>\n",
       "      <th>19</th>\n",
       "      <td>hukommelse</td>\n",
       "      <td>intelligens</td>\n",
       "      <td>emotion</td>\n",
       "      <td>Niels Bohr</td>\n",
       "    </tr>\n",
       "    <tr>\n",
       "      <th>20</th>\n",
       "      <td>Niels Bohr</td>\n",
       "      <td>H.C. Ørsted</td>\n",
       "      <td>Ole Rømer</td>\n",
       "      <td>Lars Løkke Rasmussen</td>\n",
       "    </tr>\n",
       "    <tr>\n",
       "      <th>21</th>\n",
       "      <td>Lars Løkke Rasmussen</td>\n",
       "      <td>Poul Nyrup Rasmussen</td>\n",
       "      <td>Anders Fogh Rasmussen</td>\n",
       "      <td>Peter Schmeichel</td>\n",
       "    </tr>\n",
       "    <tr>\n",
       "      <th>22</th>\n",
       "      <td>Peter Schmeichel</td>\n",
       "      <td>Kasper Schmeichel</td>\n",
       "      <td>Brian Laudrup</td>\n",
       "      <td>Caroline Wozniacki</td>\n",
       "    </tr>\n",
       "    <tr>\n",
       "      <th>23</th>\n",
       "      <td>Caroline Wozniacki</td>\n",
       "      <td>Steffi Graf</td>\n",
       "      <td>Serena Williams</td>\n",
       "      <td>Monaco</td>\n",
       "    </tr>\n",
       "    <tr>\n",
       "      <th>24</th>\n",
       "      <td>Monaco</td>\n",
       "      <td>Paris</td>\n",
       "      <td>Milano</td>\n",
       "      <td>Pia</td>\n",
       "    </tr>\n",
       "    <tr>\n",
       "      <th>25</th>\n",
       "      <td>Pia</td>\n",
       "      <td>Lone</td>\n",
       "      <td>Marianne</td>\n",
       "      <td>Ole</td>\n",
       "    </tr>\n",
       "    <tr>\n",
       "      <th>26</th>\n",
       "      <td>bold</td>\n",
       "      <td>fjerbold</td>\n",
       "      <td>puck</td>\n",
       "      <td>mave</td>\n",
       "    </tr>\n",
       "    <tr>\n",
       "      <th>27</th>\n",
       "      <td>mave</td>\n",
       "      <td>bryst</td>\n",
       "      <td>ryg</td>\n",
       "      <td>hat</td>\n",
       "    </tr>\n",
       "    <tr>\n",
       "      <th>28</th>\n",
       "      <td>hat</td>\n",
       "      <td>kasket</td>\n",
       "      <td>hue</td>\n",
       "      <td>ishockey</td>\n",
       "    </tr>\n",
       "    <tr>\n",
       "      <th>29</th>\n",
       "      <td>ishockey</td>\n",
       "      <td>skiløb</td>\n",
       "      <td>skihop</td>\n",
       "      <td>fodbold</td>\n",
       "    </tr>\n",
       "    <tr>\n",
       "      <th>30</th>\n",
       "      <td>gå</td>\n",
       "      <td>løbe</td>\n",
       "      <td>kravle</td>\n",
       "      <td>sidde</td>\n",
       "    </tr>\n",
       "    <tr>\n",
       "      <th>31</th>\n",
       "      <td>rød</td>\n",
       "      <td>blå</td>\n",
       "      <td>violet</td>\n",
       "      <td>himmel</td>\n",
       "    </tr>\n",
       "    <tr>\n",
       "      <th>32</th>\n",
       "      <td>Finland</td>\n",
       "      <td>Sverige</td>\n",
       "      <td>Norge</td>\n",
       "      <td>Kina</td>\n",
       "    </tr>\n",
       "    <tr>\n",
       "      <th>33</th>\n",
       "      <td>Kina</td>\n",
       "      <td>Japan</td>\n",
       "      <td>Sydkorea</td>\n",
       "      <td>Irland</td>\n",
       "    </tr>\n",
       "    <tr>\n",
       "      <th>34</th>\n",
       "      <td>humor</td>\n",
       "      <td>komedie</td>\n",
       "      <td>comedy</td>\n",
       "      <td>beskidt</td>\n",
       "    </tr>\n",
       "    <tr>\n",
       "      <th>35</th>\n",
       "      <td>vaskemaskine</td>\n",
       "      <td>strygejern</td>\n",
       "      <td>tørretumbler</td>\n",
       "      <td>beskidt</td>\n",
       "    </tr>\n",
       "    <tr>\n",
       "      <th>36</th>\n",
       "      <td>restaurant</td>\n",
       "      <td>café</td>\n",
       "      <td>bar</td>\n",
       "      <td>øl</td>\n",
       "    </tr>\n",
       "    <tr>\n",
       "      <th>37</th>\n",
       "      <td>øl</td>\n",
       "      <td>vin</td>\n",
       "      <td>spiritus</td>\n",
       "      <td>køkken</td>\n",
       "    </tr>\n",
       "    <tr>\n",
       "      <th>38</th>\n",
       "      <td>køkken</td>\n",
       "      <td>baderum</td>\n",
       "      <td>stue</td>\n",
       "      <td>øl</td>\n",
       "    </tr>\n",
       "    <tr>\n",
       "      <th>39</th>\n",
       "      <td>wing</td>\n",
       "      <td>back</td>\n",
       "      <td>forward</td>\n",
       "      <td>vinge</td>\n",
       "    </tr>\n",
       "    <tr>\n",
       "      <th>40</th>\n",
       "      <td>vinge</td>\n",
       "      <td>landingsstel</td>\n",
       "      <td>propel</td>\n",
       "      <td>kartoffel</td>\n",
       "    </tr>\n",
       "    <tr>\n",
       "      <th>41</th>\n",
       "      <td>kartoffel</td>\n",
       "      <td>frikadelle</td>\n",
       "      <td>salat</td>\n",
       "      <td>pejs</td>\n",
       "    </tr>\n",
       "    <tr>\n",
       "      <th>42</th>\n",
       "      <td>Viborg</td>\n",
       "      <td>Randers</td>\n",
       "      <td>Hobro</td>\n",
       "      <td>Kattegat</td>\n",
       "    </tr>\n",
       "    <tr>\n",
       "      <th>43</th>\n",
       "      <td>Kattegat</td>\n",
       "      <td>Øresund</td>\n",
       "      <td>Alssund</td>\n",
       "      <td>Sjælland</td>\n",
       "    </tr>\n",
       "    <tr>\n",
       "      <th>44</th>\n",
       "      <td>eg</td>\n",
       "      <td>lærketræ</td>\n",
       "      <td>æbletræ</td>\n",
       "      <td>slange</td>\n",
       "    </tr>\n",
       "    <tr>\n",
       "      <th>45</th>\n",
       "      <td>hugorm</td>\n",
       "      <td>pyton</td>\n",
       "      <td>snog</td>\n",
       "      <td>hund</td>\n",
       "    </tr>\n",
       "    <tr>\n",
       "      <th>46</th>\n",
       "      <td>ko</td>\n",
       "      <td>so</td>\n",
       "      <td>hest</td>\n",
       "      <td>krappe</td>\n",
       "    </tr>\n",
       "    <tr>\n",
       "      <th>47</th>\n",
       "      <td>ugle</td>\n",
       "      <td>krage</td>\n",
       "      <td>måge</td>\n",
       "      <td>hund</td>\n",
       "    </tr>\n",
       "    <tr>\n",
       "      <th>48</th>\n",
       "      <td>hund</td>\n",
       "      <td>ræv</td>\n",
       "      <td>ulv</td>\n",
       "      <td>krappe</td>\n",
       "    </tr>\n",
       "    <tr>\n",
       "      <th>49</th>\n",
       "      <td>spilletid</td>\n",
       "      <td>halvleg</td>\n",
       "      <td>dommer</td>\n",
       "      <td>ræv</td>\n",
       "    </tr>\n",
       "    <tr>\n",
       "      <th>50</th>\n",
       "      <td>tv</td>\n",
       "      <td>radio</td>\n",
       "      <td>telefon</td>\n",
       "      <td>klud</td>\n",
       "    </tr>\n",
       "    <tr>\n",
       "      <th>51</th>\n",
       "      <td>ondt</td>\n",
       "      <td>forfærdeligt</td>\n",
       "      <td>skrækkeligt</td>\n",
       "      <td>herligt</td>\n",
       "    </tr>\n",
       "    <tr>\n",
       "      <th>52</th>\n",
       "      <td>hoppende</td>\n",
       "      <td>dansende</td>\n",
       "      <td>løbende</td>\n",
       "      <td>døende</td>\n",
       "    </tr>\n",
       "    <tr>\n",
       "      <th>53</th>\n",
       "      <td>saver</td>\n",
       "      <td>hamrer</td>\n",
       "      <td>skruer</td>\n",
       "      <td>aer</td>\n",
       "    </tr>\n",
       "    <tr>\n",
       "      <th>54</th>\n",
       "      <td>går</td>\n",
       "      <td>spadserer</td>\n",
       "      <td>vandrer</td>\n",
       "      <td>siger</td>\n",
       "    </tr>\n",
       "    <tr>\n",
       "      <th>55</th>\n",
       "      <td>gange</td>\n",
       "      <td>dividere</td>\n",
       "      <td>lægge sammen</td>\n",
       "      <td>vandrer</td>\n",
       "    </tr>\n",
       "    <tr>\n",
       "      <th>56</th>\n",
       "      <td>mener</td>\n",
       "      <td>tror</td>\n",
       "      <td>ved</td>\n",
       "      <td>går</td>\n",
       "    </tr>\n",
       "    <tr>\n",
       "      <th>57</th>\n",
       "      <td>fire</td>\n",
       "      <td>fem</td>\n",
       "      <td>sytten</td>\n",
       "      <td>aldrig</td>\n",
       "    </tr>\n",
       "    <tr>\n",
       "      <th>58</th>\n",
       "      <td>Nielsen</td>\n",
       "      <td>Jensen</td>\n",
       "      <td>Olsen</td>\n",
       "      <td>kassen</td>\n",
       "    </tr>\n",
       "    <tr>\n",
       "      <th>59</th>\n",
       "      <td>mega</td>\n",
       "      <td>kæmpe</td>\n",
       "      <td>enorm</td>\n",
       "      <td>smule</td>\n",
       "    </tr>\n",
       "    <tr>\n",
       "      <th>60</th>\n",
       "      <td>kufferter</td>\n",
       "      <td>tasker</td>\n",
       "      <td>bæreposer</td>\n",
       "      <td>styrelser</td>\n",
       "    </tr>\n",
       "    <tr>\n",
       "      <th>61</th>\n",
       "      <td>landstræner</td>\n",
       "      <td>håndboldekspert</td>\n",
       "      <td>mål</td>\n",
       "      <td>rum</td>\n",
       "    </tr>\n",
       "    <tr>\n",
       "      <th>62</th>\n",
       "      <td>trup</td>\n",
       "      <td>gruppe</td>\n",
       "      <td>hold</td>\n",
       "      <td>sti</td>\n",
       "    </tr>\n",
       "    <tr>\n",
       "      <th>63</th>\n",
       "      <td>grafik</td>\n",
       "      <td>figur</td>\n",
       "      <td>plot</td>\n",
       "      <td>lån</td>\n",
       "    </tr>\n",
       "    <tr>\n",
       "      <th>64</th>\n",
       "      <td>januar</td>\n",
       "      <td>maj</td>\n",
       "      <td>juni</td>\n",
       "      <td>ur</td>\n",
       "    </tr>\n",
       "    <tr>\n",
       "      <th>65</th>\n",
       "      <td>angiveligt</td>\n",
       "      <td>muligvis</td>\n",
       "      <td>sandsynligvis</td>\n",
       "      <td>nutidigt</td>\n",
       "    </tr>\n",
       "    <tr>\n",
       "      <th>66</th>\n",
       "      <td>oplysninger</td>\n",
       "      <td>data</td>\n",
       "      <td>informationer</td>\n",
       "      <td>fjerner</td>\n",
       "    </tr>\n",
       "    <tr>\n",
       "      <th>67</th>\n",
       "      <td>fire minutter</td>\n",
       "      <td>tre timer</td>\n",
       "      <td>en uge</td>\n",
       "      <td>to piger</td>\n",
       "    </tr>\n",
       "    <tr>\n",
       "      <th>68</th>\n",
       "      <td>instrumentbrættet</td>\n",
       "      <td>motorer</td>\n",
       "      <td>cockpit</td>\n",
       "      <td>sagen</td>\n",
       "    </tr>\n",
       "    <tr>\n",
       "      <th>69</th>\n",
       "      <td>anmeldelse</td>\n",
       "      <td>politi</td>\n",
       "      <td>forbrydelse</td>\n",
       "      <td>kaffe</td>\n",
       "    </tr>\n",
       "    <tr>\n",
       "      <th>70</th>\n",
       "      <td>instrueret</td>\n",
       "      <td>organiseret</td>\n",
       "      <td>ledet</td>\n",
       "      <td>skuffet</td>\n",
       "    </tr>\n",
       "    <tr>\n",
       "      <th>71</th>\n",
       "      <td>billede</td>\n",
       "      <td>foto</td>\n",
       "      <td>tegning</td>\n",
       "      <td>skål</td>\n",
       "    </tr>\n",
       "    <tr>\n",
       "      <th>72</th>\n",
       "      <td>kapitel</td>\n",
       "      <td>paragraf</td>\n",
       "      <td>sektion</td>\n",
       "      <td>park</td>\n",
       "    </tr>\n",
       "    <tr>\n",
       "      <th>73</th>\n",
       "      <td>virksomhed</td>\n",
       "      <td>firma</td>\n",
       "      <td>selskab</td>\n",
       "      <td>sovs</td>\n",
       "    </tr>\n",
       "    <tr>\n",
       "      <th>74</th>\n",
       "      <td>tres</td>\n",
       "      <td>60</td>\n",
       "      <td>LX</td>\n",
       "      <td>3</td>\n",
       "    </tr>\n",
       "    <tr>\n",
       "      <th>75</th>\n",
       "      <td>1864</td>\n",
       "      <td>1807</td>\n",
       "      <td>1940</td>\n",
       "      <td>1909</td>\n",
       "    </tr>\n",
       "    <tr>\n",
       "      <th>76</th>\n",
       "      <td>diplom</td>\n",
       "      <td>udmærkelse</td>\n",
       "      <td>pris</td>\n",
       "      <td>øremærke</td>\n",
       "    </tr>\n",
       "    <tr>\n",
       "      <th>77</th>\n",
       "      <td>bange</td>\n",
       "      <td>urolig</td>\n",
       "      <td>nervøs</td>\n",
       "      <td>ordentlig</td>\n",
       "    </tr>\n",
       "    <tr>\n",
       "      <th>78</th>\n",
       "      <td>norsk</td>\n",
       "      <td>engelsk</td>\n",
       "      <td>spansk</td>\n",
       "      <td>falsk</td>\n",
       "    </tr>\n",
       "    <tr>\n",
       "      <th>79</th>\n",
       "      <td>mus</td>\n",
       "      <td>tastatur</td>\n",
       "      <td>skærm</td>\n",
       "      <td>bræt</td>\n",
       "    </tr>\n",
       "    <tr>\n",
       "      <th>80</th>\n",
       "      <td>dør</td>\n",
       "      <td>kradser af</td>\n",
       "      <td>udånder</td>\n",
       "      <td>åbner</td>\n",
       "    </tr>\n",
       "    <tr>\n",
       "      <th>81</th>\n",
       "      <td>og</td>\n",
       "      <td>samt</td>\n",
       "      <td>endvidere</td>\n",
       "      <td>sin</td>\n",
       "    </tr>\n",
       "    <tr>\n",
       "      <th>82</th>\n",
       "      <td>hans</td>\n",
       "      <td>sit</td>\n",
       "      <td>vores</td>\n",
       "      <td>vises</td>\n",
       "    </tr>\n",
       "    <tr>\n",
       "      <th>83</th>\n",
       "      <td>stod og råbte</td>\n",
       "      <td>lå og sov</td>\n",
       "      <td>sad og så</td>\n",
       "      <td>mand og kvinde</td>\n",
       "    </tr>\n",
       "    <tr>\n",
       "      <th>84</th>\n",
       "      <td>frokost</td>\n",
       "      <td>morgenmad</td>\n",
       "      <td>brunch</td>\n",
       "      <td>måne</td>\n",
       "    </tr>\n",
       "    <tr>\n",
       "      <th>85</th>\n",
       "      <td>mænd</td>\n",
       "      <td>personer</td>\n",
       "      <td>individer</td>\n",
       "      <td>gange</td>\n",
       "    </tr>\n",
       "    <tr>\n",
       "      <th>86</th>\n",
       "      <td>kidnappe</td>\n",
       "      <td>røve</td>\n",
       "      <td>stjæle</td>\n",
       "      <td>køre</td>\n",
       "    </tr>\n",
       "    <tr>\n",
       "      <th>87</th>\n",
       "      <td>råbte</td>\n",
       "      <td>skreg</td>\n",
       "      <td>larmede</td>\n",
       "      <td>vuggede</td>\n",
       "    </tr>\n",
       "    <tr>\n",
       "      <th>88</th>\n",
       "      <td>kontorist</td>\n",
       "      <td>embedsmand</td>\n",
       "      <td>bureaukrat</td>\n",
       "      <td>spisebord</td>\n",
       "    </tr>\n",
       "    <tr>\n",
       "      <th>89</th>\n",
       "      <td>vegetation</td>\n",
       "      <td>krat</td>\n",
       "      <td>bed</td>\n",
       "      <td>skur</td>\n",
       "    </tr>\n",
       "    <tr>\n",
       "      <th>90</th>\n",
       "      <td>cyklist</td>\n",
       "      <td>bilist</td>\n",
       "      <td>chauffør</td>\n",
       "      <td>ekspedient</td>\n",
       "    </tr>\n",
       "    <tr>\n",
       "      <th>91</th>\n",
       "      <td>bibliotek</td>\n",
       "      <td>bog</td>\n",
       "      <td>låner</td>\n",
       "      <td>flag</td>\n",
       "    </tr>\n",
       "    <tr>\n",
       "      <th>92</th>\n",
       "      <td>halvsyg</td>\n",
       "      <td>forkølelse</td>\n",
       "      <td>hoster</td>\n",
       "      <td>vej</td>\n",
       "    </tr>\n",
       "    <tr>\n",
       "      <th>93</th>\n",
       "      <td>musik</td>\n",
       "      <td>node</td>\n",
       "      <td>rytme</td>\n",
       "      <td>leder</td>\n",
       "    </tr>\n",
       "    <tr>\n",
       "      <th>94</th>\n",
       "      <td>rapport</td>\n",
       "      <td>sagsakt</td>\n",
       "      <td>artikel</td>\n",
       "      <td>spand</td>\n",
       "    </tr>\n",
       "    <tr>\n",
       "      <th>95</th>\n",
       "      <td>tekande</td>\n",
       "      <td>vinflaske</td>\n",
       "      <td>slikskål</td>\n",
       "      <td>racerbil</td>\n",
       "    </tr>\n",
       "    <tr>\n",
       "      <th>96</th>\n",
       "      <td>forhører</td>\n",
       "      <td>spørger</td>\n",
       "      <td>anmoder</td>\n",
       "      <td>banker</td>\n",
       "    </tr>\n",
       "    <tr>\n",
       "      <th>97</th>\n",
       "      <td>fremtidige</td>\n",
       "      <td>fortidige</td>\n",
       "      <td>nutidige</td>\n",
       "      <td>havdige</td>\n",
       "    </tr>\n",
       "    <tr>\n",
       "      <th>98</th>\n",
       "      <td>kanal</td>\n",
       "      <td>flod</td>\n",
       "      <td>bæk</td>\n",
       "      <td>spejl</td>\n",
       "    </tr>\n",
       "    <tr>\n",
       "      <th>99</th>\n",
       "      <td>kanal</td>\n",
       "      <td>program</td>\n",
       "      <td>udsendelse</td>\n",
       "      <td>vask</td>\n",
       "    </tr>\n",
       "  </tbody>\n",
       "</table>"
      ],
      "text/plain": [
       "<IPython.core.display.HTML object>"
      ]
     },
     "metadata": {},
     "output_type": "display_data"
    }
   ],
   "source": [
    "dans = pd.read_excel(\"dan_dataset.xlsx\", encoding= 'cp865')\n",
    "display(HTML(dans.to_html()))"
   ]
  },
  {
   "cell_type": "code",
   "execution_count": 9,
   "metadata": {
    "scrolled": true
   },
   "outputs": [
    {
     "name": "stdout",
     "output_type": "stream",
     "text": [
      "['bil' 'cykel' 'tog' 'vind'] tog\n",
      "['Lars Løkke Rasmussen' 'Poul Nyrup Rasmussen' 'Anders Fogh Rasmussen'\n",
      " 'Peter Schmeichel'] Anders Fogh Rasmussen\n",
      "['Caroline Wozniacki' 'Steffi Graf' 'Serena Williams' 'Monaco'] Serena Williams\n",
      "['Pia' 'Lone' 'Marianne' 'Ole'] Pia\n",
      "['ishockey' 'skiløb' 'skihop' 'fodbold'] skihop\n",
      "['gå' 'løbe' 'kravle' 'sidde'] gå\n",
      "['Kattegat' 'Øresund' 'Alssund' 'Sjælland'] Alssund\n",
      "['hoppende' 'dansende' 'løbende' 'døende'] løbende\n",
      "['gange' 'dividere' 'lægge sammen' 'vandrer'] lægge sammen\n",
      "['mener' 'tror' 'ved' 'går'] ved\n",
      "['fire minutter' 'tre timer' 'en uge' 'to piger'] tre timer\n",
      "['anmeldelse' 'politi' 'forbrydelse' 'kaffe'] anmeldelse\n",
      "[1864 1807 1940 1909] 1807\n",
      "['dør' 'kradser af' 'udånder' 'åbner'] kradser af\n",
      "['og' 'samt' 'endvidere' 'sin'] og\n",
      "['stod og råbte' 'lå og sov' 'sad og så' 'mand og kvinde'] stod og råbte\n",
      "0.84\n"
     ]
    }
   ],
   "source": [
    "total = 0\n",
    "correct = 0\n",
    "predict = 0\n",
    "for index, row in dans.iterrows():\n",
    "    predict = model_dan.wv.doesnt_match(row.values)\n",
    "    total += 1\n",
    "    if predict == row[\"word4\"]:\n",
    "        correct += 1\n",
    "    else:\n",
    "        print(row.values, predict)\n",
    "prediction_accuracy = correct/total\n",
    "print(prediction_accuracy)"
   ]
  },
  {
   "cell_type": "markdown",
   "metadata": {},
   "source": [
    "### English model"
   ]
  },
  {
   "cell_type": "code",
   "execution_count": 2,
   "metadata": {},
   "outputs": [
    {
     "data": {
      "text/html": [
       "<table border=\"1\" class=\"dataframe\">\n",
       "  <thead>\n",
       "    <tr style=\"text-align: right;\">\n",
       "      <th></th>\n",
       "      <th>word1</th>\n",
       "      <th>word2</th>\n",
       "      <th>word3</th>\n",
       "      <th>word4</th>\n",
       "    </tr>\n",
       "  </thead>\n",
       "  <tbody>\n",
       "    <tr>\n",
       "      <th>0</th>\n",
       "      <td>train</td>\n",
       "      <td>car</td>\n",
       "      <td>plane</td>\n",
       "      <td>exercise</td>\n",
       "    </tr>\n",
       "    <tr>\n",
       "      <th>1</th>\n",
       "      <td>brother</td>\n",
       "      <td>sister</td>\n",
       "      <td>father</td>\n",
       "      <td>iron</td>\n",
       "    </tr>\n",
       "    <tr>\n",
       "      <th>2</th>\n",
       "      <td>stool</td>\n",
       "      <td>chair</td>\n",
       "      <td>couch</td>\n",
       "      <td>door</td>\n",
       "    </tr>\n",
       "    <tr>\n",
       "      <th>3</th>\n",
       "      <td>tree</td>\n",
       "      <td>grass</td>\n",
       "      <td>bush</td>\n",
       "      <td>clock</td>\n",
       "    </tr>\n",
       "    <tr>\n",
       "      <th>4</th>\n",
       "      <td>poster</td>\n",
       "      <td>photo</td>\n",
       "      <td>picture</td>\n",
       "      <td>camera</td>\n",
       "    </tr>\n",
       "    <tr>\n",
       "      <th>5</th>\n",
       "      <td>weight</td>\n",
       "      <td>height</td>\n",
       "      <td>length</td>\n",
       "      <td>meter</td>\n",
       "    </tr>\n",
       "    <tr>\n",
       "      <th>6</th>\n",
       "      <td>worm</td>\n",
       "      <td>earthworm</td>\n",
       "      <td>cockroach</td>\n",
       "      <td>tiger</td>\n",
       "    </tr>\n",
       "    <tr>\n",
       "      <th>7</th>\n",
       "      <td>cereals</td>\n",
       "      <td>milk</td>\n",
       "      <td>butter</td>\n",
       "      <td>knife</td>\n",
       "    </tr>\n",
       "    <tr>\n",
       "      <th>8</th>\n",
       "      <td>lunch</td>\n",
       "      <td>dinner</td>\n",
       "      <td>breakfast</td>\n",
       "      <td>kitchen</td>\n",
       "    </tr>\n",
       "    <tr>\n",
       "      <th>9</th>\n",
       "      <td>basketball</td>\n",
       "      <td>baseball</td>\n",
       "      <td>football</td>\n",
       "      <td>strategy</td>\n",
       "    </tr>\n",
       "    <tr>\n",
       "      <th>10</th>\n",
       "      <td>net</td>\n",
       "      <td>ball</td>\n",
       "      <td>racket</td>\n",
       "      <td>spider</td>\n",
       "    </tr>\n",
       "    <tr>\n",
       "      <th>11</th>\n",
       "      <td>shirt</td>\n",
       "      <td>trousers</td>\n",
       "      <td>shorts</td>\n",
       "      <td>cheese</td>\n",
       "    </tr>\n",
       "    <tr>\n",
       "      <th>12</th>\n",
       "      <td>bag</td>\n",
       "      <td>luggage</td>\n",
       "      <td>pocket</td>\n",
       "      <td>money</td>\n",
       "    </tr>\n",
       "    <tr>\n",
       "      <th>13</th>\n",
       "      <td>car</td>\n",
       "      <td>truck</td>\n",
       "      <td>van</td>\n",
       "      <td>plane</td>\n",
       "    </tr>\n",
       "    <tr>\n",
       "      <th>14</th>\n",
       "      <td>coffee</td>\n",
       "      <td>tea</td>\n",
       "      <td>soda</td>\n",
       "      <td>pasta</td>\n",
       "    </tr>\n",
       "    <tr>\n",
       "      <th>15</th>\n",
       "      <td>wind</td>\n",
       "      <td>rain</td>\n",
       "      <td>hail</td>\n",
       "      <td>poverty</td>\n",
       "    </tr>\n",
       "    <tr>\n",
       "      <th>16</th>\n",
       "      <td>math</td>\n",
       "      <td>statistics</td>\n",
       "      <td>probability</td>\n",
       "      <td>environment</td>\n",
       "    </tr>\n",
       "    <tr>\n",
       "      <th>17</th>\n",
       "      <td>derivative</td>\n",
       "      <td>integral</td>\n",
       "      <td>division</td>\n",
       "      <td>course</td>\n",
       "    </tr>\n",
       "    <tr>\n",
       "      <th>18</th>\n",
       "      <td>student</td>\n",
       "      <td>teacher</td>\n",
       "      <td>class</td>\n",
       "      <td>room</td>\n",
       "    </tr>\n",
       "    <tr>\n",
       "      <th>19</th>\n",
       "      <td>brush</td>\n",
       "      <td>mop</td>\n",
       "      <td>duster</td>\n",
       "      <td>pencil</td>\n",
       "    </tr>\n",
       "    <tr>\n",
       "      <th>20</th>\n",
       "      <td>pen</td>\n",
       "      <td>pencil</td>\n",
       "      <td>marker</td>\n",
       "      <td>market</td>\n",
       "    </tr>\n",
       "    <tr>\n",
       "      <th>21</th>\n",
       "      <td>income</td>\n",
       "      <td>wage</td>\n",
       "      <td>salary</td>\n",
       "      <td>strategy</td>\n",
       "    </tr>\n",
       "    <tr>\n",
       "      <th>22</th>\n",
       "      <td>virus</td>\n",
       "      <td>illness</td>\n",
       "      <td>bacteria</td>\n",
       "      <td>medicine</td>\n",
       "    </tr>\n",
       "    <tr>\n",
       "      <th>23</th>\n",
       "      <td>bar</td>\n",
       "      <td>pub</td>\n",
       "      <td>disco</td>\n",
       "      <td>office</td>\n",
       "    </tr>\n",
       "    <tr>\n",
       "      <th>24</th>\n",
       "      <td>school</td>\n",
       "      <td>university</td>\n",
       "      <td>institute</td>\n",
       "      <td>building</td>\n",
       "    </tr>\n",
       "    <tr>\n",
       "      <th>25</th>\n",
       "      <td>book</td>\n",
       "      <td>notebook</td>\n",
       "      <td>sheet</td>\n",
       "      <td>stapler</td>\n",
       "    </tr>\n",
       "    <tr>\n",
       "      <th>26</th>\n",
       "      <td>caution</td>\n",
       "      <td>danger</td>\n",
       "      <td>problem</td>\n",
       "      <td>happiness</td>\n",
       "    </tr>\n",
       "    <tr>\n",
       "      <th>27</th>\n",
       "      <td>knife</td>\n",
       "      <td>gun</td>\n",
       "      <td>ax</td>\n",
       "      <td>care</td>\n",
       "    </tr>\n",
       "    <tr>\n",
       "      <th>28</th>\n",
       "      <td>price</td>\n",
       "      <td>ticket</td>\n",
       "      <td>receipt</td>\n",
       "      <td>expensive</td>\n",
       "    </tr>\n",
       "    <tr>\n",
       "      <th>29</th>\n",
       "      <td>lucky</td>\n",
       "      <td>optimistic</td>\n",
       "      <td>pesimistic</td>\n",
       "      <td>orange</td>\n",
       "    </tr>\n",
       "    <tr>\n",
       "      <th>30</th>\n",
       "      <td>green</td>\n",
       "      <td>black</td>\n",
       "      <td>brown</td>\n",
       "      <td>bag</td>\n",
       "    </tr>\n",
       "    <tr>\n",
       "      <th>31</th>\n",
       "      <td>television</td>\n",
       "      <td>radio</td>\n",
       "      <td>newspaper</td>\n",
       "      <td>medicine</td>\n",
       "    </tr>\n",
       "    <tr>\n",
       "      <th>32</th>\n",
       "      <td>engineering</td>\n",
       "      <td>mathematics</td>\n",
       "      <td>scientific</td>\n",
       "      <td>religion</td>\n",
       "    </tr>\n",
       "    <tr>\n",
       "      <th>33</th>\n",
       "      <td>cathedral</td>\n",
       "      <td>church</td>\n",
       "      <td>monastery</td>\n",
       "      <td>shop</td>\n",
       "    </tr>\n",
       "    <tr>\n",
       "      <th>34</th>\n",
       "      <td>friend</td>\n",
       "      <td>guest</td>\n",
       "      <td>companion</td>\n",
       "      <td>enemy</td>\n",
       "    </tr>\n",
       "    <tr>\n",
       "      <th>35</th>\n",
       "      <td>philosophy</td>\n",
       "      <td>psychology</td>\n",
       "      <td>anatomy</td>\n",
       "      <td>government</td>\n",
       "    </tr>\n",
       "    <tr>\n",
       "      <th>36</th>\n",
       "      <td>fear</td>\n",
       "      <td>joy</td>\n",
       "      <td>surprise</td>\n",
       "      <td>bed</td>\n",
       "    </tr>\n",
       "    <tr>\n",
       "      <th>37</th>\n",
       "      <td>professor</td>\n",
       "      <td>book</td>\n",
       "      <td>meeting</td>\n",
       "      <td>pepper</td>\n",
       "    </tr>\n",
       "    <tr>\n",
       "      <th>38</th>\n",
       "      <td>spain</td>\n",
       "      <td>denmark</td>\n",
       "      <td>turkey</td>\n",
       "      <td>nation</td>\n",
       "    </tr>\n",
       "    <tr>\n",
       "      <th>39</th>\n",
       "      <td>son</td>\n",
       "      <td>child</td>\n",
       "      <td>daughter</td>\n",
       "      <td>family</td>\n",
       "    </tr>\n",
       "    <tr>\n",
       "      <th>40</th>\n",
       "      <td>data</td>\n",
       "      <td>computer</td>\n",
       "      <td>process</td>\n",
       "      <td>room</td>\n",
       "    </tr>\n",
       "    <tr>\n",
       "      <th>41</th>\n",
       "      <td>game</td>\n",
       "      <td>console</td>\n",
       "      <td>play</td>\n",
       "      <td>hotel</td>\n",
       "    </tr>\n",
       "    <tr>\n",
       "      <th>42</th>\n",
       "      <td>volleyball</td>\n",
       "      <td>wrestling</td>\n",
       "      <td>baseball</td>\n",
       "      <td>bat</td>\n",
       "    </tr>\n",
       "    <tr>\n",
       "      <th>43</th>\n",
       "      <td>ventilator</td>\n",
       "      <td>air-conditioner</td>\n",
       "      <td>fan</td>\n",
       "      <td>follower</td>\n",
       "    </tr>\n",
       "    <tr>\n",
       "      <th>44</th>\n",
       "      <td>model</td>\n",
       "      <td>guidance</td>\n",
       "      <td>lead</td>\n",
       "      <td>aluminium</td>\n",
       "    </tr>\n",
       "    <tr>\n",
       "      <th>45</th>\n",
       "      <td>column</td>\n",
       "      <td>line</td>\n",
       "      <td>row</td>\n",
       "      <td>boat</td>\n",
       "    </tr>\n",
       "    <tr>\n",
       "      <th>46</th>\n",
       "      <td>rip</td>\n",
       "      <td>cut</td>\n",
       "      <td>tear</td>\n",
       "      <td>eye</td>\n",
       "    </tr>\n",
       "    <tr>\n",
       "      <th>47</th>\n",
       "      <td>axis</td>\n",
       "      <td>pivot</td>\n",
       "      <td>axes</td>\n",
       "      <td>sword</td>\n",
       "    </tr>\n",
       "    <tr>\n",
       "      <th>48</th>\n",
       "      <td>bend</td>\n",
       "      <td>curve</td>\n",
       "      <td>bow</td>\n",
       "      <td>arrow</td>\n",
       "    </tr>\n",
       "    <tr>\n",
       "      <th>49</th>\n",
       "      <td>good</td>\n",
       "      <td>well</td>\n",
       "      <td>fine</td>\n",
       "      <td>pay</td>\n",
       "    </tr>\n",
       "    <tr>\n",
       "      <th>50</th>\n",
       "      <td>town</td>\n",
       "      <td>city</td>\n",
       "      <td>capital</td>\n",
       "      <td>letter</td>\n",
       "    </tr>\n",
       "    <tr>\n",
       "      <th>51</th>\n",
       "      <td>bottle</td>\n",
       "      <td>jar</td>\n",
       "      <td>can</td>\n",
       "      <td>manage</td>\n",
       "    </tr>\n",
       "    <tr>\n",
       "      <th>52</th>\n",
       "      <td>pub</td>\n",
       "      <td>bistro</td>\n",
       "      <td>bar</td>\n",
       "      <td>rod</td>\n",
       "    </tr>\n",
       "    <tr>\n",
       "      <th>53</th>\n",
       "      <td>straight</td>\n",
       "      <td>right</td>\n",
       "      <td>left</td>\n",
       "      <td>went</td>\n",
       "    </tr>\n",
       "    <tr>\n",
       "      <th>54</th>\n",
       "      <td>fish</td>\n",
       "      <td>salmon</td>\n",
       "      <td>bass</td>\n",
       "      <td>violin</td>\n",
       "    </tr>\n",
       "    <tr>\n",
       "      <th>55</th>\n",
       "      <td>down</td>\n",
       "      <td>up</td>\n",
       "      <td>right</td>\n",
       "      <td>correct</td>\n",
       "    </tr>\n",
       "    <tr>\n",
       "      <th>56</th>\n",
       "      <td>finger</td>\n",
       "      <td>hand</td>\n",
       "      <td>palm</td>\n",
       "      <td>pine</td>\n",
       "    </tr>\n",
       "    <tr>\n",
       "      <th>57</th>\n",
       "      <td>hour</td>\n",
       "      <td>time</td>\n",
       "      <td>watch</td>\n",
       "      <td>display</td>\n",
       "    </tr>\n",
       "    <tr>\n",
       "      <th>58</th>\n",
       "      <td>turkish</td>\n",
       "      <td>spanish</td>\n",
       "      <td>polish</td>\n",
       "      <td>fingernail</td>\n",
       "    </tr>\n",
       "    <tr>\n",
       "      <th>59</th>\n",
       "      <td>attach</td>\n",
       "      <td>clinch</td>\n",
       "      <td>tie</td>\n",
       "      <td>bowtie</td>\n",
       "    </tr>\n",
       "    <tr>\n",
       "      <th>60</th>\n",
       "      <td>wristband</td>\n",
       "      <td>necklace</td>\n",
       "      <td>ring</td>\n",
       "      <td>bang</td>\n",
       "    </tr>\n",
       "    <tr>\n",
       "      <th>61</th>\n",
       "      <td>dolphin</td>\n",
       "      <td>whale</td>\n",
       "      <td>seal</td>\n",
       "      <td>stamp</td>\n",
       "    </tr>\n",
       "    <tr>\n",
       "      <th>62</th>\n",
       "      <td>park</td>\n",
       "      <td>place</td>\n",
       "      <td>square</td>\n",
       "      <td>green</td>\n",
       "    </tr>\n",
       "    <tr>\n",
       "      <th>63</th>\n",
       "      <td>word</td>\n",
       "      <td>sentence</td>\n",
       "      <td>letter</td>\n",
       "      <td>four</td>\n",
       "    </tr>\n",
       "    <tr>\n",
       "      <th>64</th>\n",
       "      <td>gossip</td>\n",
       "      <td>chatter</td>\n",
       "      <td>chitchat</td>\n",
       "      <td>empty</td>\n",
       "    </tr>\n",
       "    <tr>\n",
       "      <th>65</th>\n",
       "      <td>information</td>\n",
       "      <td>intellegence</td>\n",
       "      <td>knowledge</td>\n",
       "      <td>dirty</td>\n",
       "    </tr>\n",
       "    <tr>\n",
       "      <th>66</th>\n",
       "      <td>notice</td>\n",
       "      <td>recognize</td>\n",
       "      <td>detect</td>\n",
       "      <td>hard</td>\n",
       "    </tr>\n",
       "    <tr>\n",
       "      <th>67</th>\n",
       "      <td>thoughts</td>\n",
       "      <td>belief</td>\n",
       "      <td>concern</td>\n",
       "      <td>keyboard</td>\n",
       "    </tr>\n",
       "    <tr>\n",
       "      <th>68</th>\n",
       "      <td>goal</td>\n",
       "      <td>aim</td>\n",
       "      <td>purpose</td>\n",
       "      <td>continue</td>\n",
       "    </tr>\n",
       "    <tr>\n",
       "      <th>69</th>\n",
       "      <td>eye</td>\n",
       "      <td>brow</td>\n",
       "      <td>eyelash</td>\n",
       "      <td>bed</td>\n",
       "    </tr>\n",
       "    <tr>\n",
       "      <th>70</th>\n",
       "      <td>humor</td>\n",
       "      <td>fun</td>\n",
       "      <td>joke</td>\n",
       "      <td>counting</td>\n",
       "    </tr>\n",
       "    <tr>\n",
       "      <th>71</th>\n",
       "      <td>test</td>\n",
       "      <td>evaluation</td>\n",
       "      <td>exam</td>\n",
       "      <td>train</td>\n",
       "    </tr>\n",
       "    <tr>\n",
       "      <th>72</th>\n",
       "      <td>essay</td>\n",
       "      <td>article</td>\n",
       "      <td>paper</td>\n",
       "      <td>water</td>\n",
       "    </tr>\n",
       "    <tr>\n",
       "      <th>73</th>\n",
       "      <td>environment</td>\n",
       "      <td>habitat</td>\n",
       "      <td>surroundings</td>\n",
       "      <td>judge</td>\n",
       "    </tr>\n",
       "    <tr>\n",
       "      <th>74</th>\n",
       "      <td>zoo</td>\n",
       "      <td>animal</td>\n",
       "      <td>circus</td>\n",
       "      <td>ring</td>\n",
       "    </tr>\n",
       "    <tr>\n",
       "      <th>75</th>\n",
       "      <td>estimate</td>\n",
       "      <td>forecast</td>\n",
       "      <td>predict</td>\n",
       "      <td>chew</td>\n",
       "    </tr>\n",
       "    <tr>\n",
       "      <th>76</th>\n",
       "      <td>coffin</td>\n",
       "      <td>dead</td>\n",
       "      <td>buried</td>\n",
       "      <td>cheek</td>\n",
       "    </tr>\n",
       "    <tr>\n",
       "      <th>77</th>\n",
       "      <td>extinct</td>\n",
       "      <td>extinguish</td>\n",
       "      <td>abolish</td>\n",
       "      <td>fork</td>\n",
       "    </tr>\n",
       "    <tr>\n",
       "      <th>78</th>\n",
       "      <td>telephone</td>\n",
       "      <td>radio</td>\n",
       "      <td>television</td>\n",
       "      <td>eat</td>\n",
       "    </tr>\n",
       "    <tr>\n",
       "      <th>79</th>\n",
       "      <td>pause</td>\n",
       "      <td>halt</td>\n",
       "      <td>freeze</td>\n",
       "      <td>shirt</td>\n",
       "    </tr>\n",
       "  </tbody>\n",
       "</table>"
      ],
      "text/plain": [
       "<IPython.core.display.HTML object>"
      ]
     },
     "metadata": {},
     "output_type": "display_data"
    }
   ],
   "source": [
    "engs = pd.read_csv(\"eng_dataset2.csv\", encoding= 'utf-8')\n",
    "display(HTML(engs.to_html()))"
   ]
  },
  {
   "cell_type": "code",
   "execution_count": 3,
   "metadata": {},
   "outputs": [
    {
     "name": "stderr",
     "output_type": "stream",
     "text": [
      "C:\\Users\\han\\Anaconda3\\lib\\site-packages\\ipykernel_launcher.py:2: DeprecationWarning: Call to deprecated `load_fasttext_format` (use load_facebook_vectors (to use pretrained embeddings) or load_facebook_model (to continue training with the loaded full model, more RAM) instead).\n",
      "  \n"
     ]
    }
   ],
   "source": [
    "from gensim.models import FastText\n",
    "model = FastText.load_fasttext_format('cc.en.300.bin')"
   ]
  },
  {
   "cell_type": "code",
   "execution_count": 4,
   "metadata": {},
   "outputs": [
    {
     "name": "stdout",
     "output_type": "stream",
     "text": [
      "[('teachers', 0.754426121711731), ('teacher.The', 0.7518177628517151), ('teacher-', 0.7434277534484863), ('teacher.But', 0.7367769479751587), ('teacher.He', 0.7327342629432678), ('teacher.She', 0.7304024696350098), ('educator', 0.7279404997825623), ('teacher.This', 0.7241754531860352), ('teacher.A', 0.7125754356384277), ('teacher.So', 0.7104302644729614)]\n",
      "0.39747044\n"
     ]
    }
   ],
   "source": [
    "print(model.wv.most_similar('teacher'))\n",
    "# Output = [('headteacher', 0.8075869083404541), ('schoolteacher', 0.7955552339553833), ('teachers', 0.733420729637146), ('teaches', 0.6839243173599243), ('meacher', 0.6825737357139587), ('teach', 0.6285147070884705), ('taught', 0.6244685649871826), ('teaching', 0.6199781894683838), ('schoolmaster', 0.6037642955780029), ('lessons', 0.5812176465988159)]\n",
    "print(model.wv.similarity('teacher', 'teaches'))"
   ]
  },
  {
   "cell_type": "code",
   "execution_count": 5,
   "metadata": {},
   "outputs": [
    {
     "name": "stdout",
     "output_type": "stream",
     "text": [
      "shirt\n"
     ]
    },
    {
     "name": "stderr",
     "output_type": "stream",
     "text": [
      "C:\\Users\\han\\Anaconda3\\lib\\site-packages\\gensim\\models\\keyedvectors.py:877: FutureWarning: arrays to stack must be passed as a \"sequence\" type such as list or tuple. Support for non-sequence iterables such as generators is deprecated as of NumPy 1.16 and will raise an error in the future.\n",
      "  vectors = vstack(self.word_vec(word, use_norm=True) for word in used_words).astype(REAL)\n"
     ]
    }
   ],
   "source": [
    "print(model.wv.doesnt_match('pause halt freeze shirt'.split(\" \")))"
   ]
  },
  {
   "cell_type": "code",
   "execution_count": 6,
   "metadata": {},
   "outputs": [
    {
     "name": "stdout",
     "output_type": "stream",
     "text": [
      "['poster' 'photo' 'picture' 'camera'] poster\n",
      "['book' 'notebook' 'sheet' 'stapler'] book\n",
      "['data' 'computer' 'process' 'room'] process\n",
      "['bend' 'curve' 'bow' 'arrow'] curve\n",
      "['straight' 'right' 'left' 'went'] straight\n",
      "0.9375\n"
     ]
    }
   ],
   "source": [
    "total = 0\n",
    "correct = 0\n",
    "predict = 0\n",
    "for index, row in engs.iterrows():\n",
    "    predict = model.wv.doesnt_match(row.values)\n",
    "    total += 1\n",
    "    if predict == row[\"word4\"]:\n",
    "        correct += 1\n",
    "    else:\n",
    "        print(row.values, predict)\n",
    "prediction_accuracy = correct/total\n",
    "print(prediction_accuracy)"
   ]
  },
  {
   "cell_type": "markdown",
   "metadata": {},
   "source": [
    "### Knowledge Graphs"
   ]
  },
  {
   "cell_type": "code",
   "execution_count": 4,
   "metadata": {},
   "outputs": [],
   "source": [
    "import pandas as pd\n",
    "import numpy as np\n",
    "import json\n",
    "from SPARQLWrapper import SPARQLWrapper, JSON\n",
    "from IPython.display import display, HTML\n",
    "from gensim.models import FastText"
   ]
  },
  {
   "cell_type": "code",
   "execution_count": 5,
   "metadata": {},
   "outputs": [],
   "source": [
    "def get_sparql_dataframe(service, query):\n",
    "    \"\"\"\n",
    "    Helper function to convert SPARQL results into a Pandas data frame.\n",
    "    \"\"\"\n",
    "    sparql = SPARQLWrapper(service)\n",
    "    sparql.setQuery(query)\n",
    "    sparql.setReturnFormat(JSON)\n",
    "    result = sparql.query()\n",
    "\n",
    "    processed_results = json.load(result.response)\n",
    "    cols = processed_results['head']['vars']\n",
    "\n",
    "    out = []\n",
    "    for row in processed_results['results']['bindings']:\n",
    "        item = []\n",
    "        for c in cols:\n",
    "            item.append(row.get(c, {}).get('value'))\n",
    "        out.append(item)\n",
    "\n",
    "    return pd.DataFrame(out, columns=cols)"
   ]
  },
  {
   "cell_type": "code",
   "execution_count": 7,
   "metadata": {},
   "outputs": [
    {
     "data": {
      "text/html": [
       "<div>\n",
       "<style scoped>\n",
       "    .dataframe tbody tr th:only-of-type {\n",
       "        vertical-align: middle;\n",
       "    }\n",
       "\n",
       "    .dataframe tbody tr th {\n",
       "        vertical-align: top;\n",
       "    }\n",
       "\n",
       "    .dataframe thead th {\n",
       "        text-align: right;\n",
       "    }\n",
       "</style>\n",
       "<table border=\"1\" class=\"dataframe\">\n",
       "  <thead>\n",
       "    <tr style=\"text-align: right;\">\n",
       "      <th></th>\n",
       "      <th>lexeme</th>\n",
       "      <th>representation</th>\n",
       "    </tr>\n",
       "  </thead>\n",
       "  <tbody>\n",
       "  </tbody>\n",
       "</table>\n",
       "</div>"
      ],
      "text/plain": [
       "Empty DataFrame\n",
       "Columns: [lexeme, representation]\n",
       "Index: []"
      ]
     },
     "execution_count": 7,
     "metadata": {},
     "output_type": "execute_result"
    }
   ],
   "source": [
    "endpoint = \"https://query.wikidata.org/sparql\"\n",
    "sparql = \"\"\"\n",
    "SELECT ?lexeme ?representation {{\n",
    "   ?lexeme ontolex:lexicalForm / ontolex:representation \"WORD\"@en ;\n",
    "           ontolex:lexicalForm / ontolex:representation ?representation .\n",
    "}}\n",
    "\"\"\"\n",
    "df = get_sparql_dataframe(endpoint, sparql)\n",
    "df.head(None)"
   ]
  },
  {
   "cell_type": "code",
   "execution_count": 10,
   "metadata": {},
   "outputs": [
    {
     "data": {
      "text/plain": [
       "'\\nSELECT ?lexeme ?representation {{\\n   ?lexeme ontolex:lexicalForm / ontolex:representation \"WORD\"@en ;\\n           ontolex:lexicalForm / ontolex:representation ?representation .\\n}}\\n'"
      ]
     },
     "execution_count": 10,
     "metadata": {},
     "output_type": "execute_result"
    }
   ],
   "source": [
    "sparql"
   ]
  },
  {
   "cell_type": "code",
   "execution_count": 11,
   "metadata": {},
   "outputs": [
    {
     "data": {
      "text/html": [
       "<table border=\"1\" class=\"dataframe\">\n",
       "  <thead>\n",
       "    <tr style=\"text-align: right;\">\n",
       "      <th></th>\n",
       "      <th>word1</th>\n",
       "      <th>word2</th>\n",
       "      <th>word3</th>\n",
       "      <th>word4</th>\n",
       "    </tr>\n",
       "  </thead>\n",
       "  <tbody>\n",
       "    <tr>\n",
       "      <th>0</th>\n",
       "      <td>train</td>\n",
       "      <td>car</td>\n",
       "      <td>plane</td>\n",
       "      <td>exercise</td>\n",
       "    </tr>\n",
       "    <tr>\n",
       "      <th>1</th>\n",
       "      <td>brother</td>\n",
       "      <td>sister</td>\n",
       "      <td>father</td>\n",
       "      <td>iron</td>\n",
       "    </tr>\n",
       "    <tr>\n",
       "      <th>2</th>\n",
       "      <td>stool</td>\n",
       "      <td>chair</td>\n",
       "      <td>couch</td>\n",
       "      <td>door</td>\n",
       "    </tr>\n",
       "    <tr>\n",
       "      <th>3</th>\n",
       "      <td>tree</td>\n",
       "      <td>grass</td>\n",
       "      <td>bush</td>\n",
       "      <td>clock</td>\n",
       "    </tr>\n",
       "    <tr>\n",
       "      <th>4</th>\n",
       "      <td>poster</td>\n",
       "      <td>photo</td>\n",
       "      <td>picture</td>\n",
       "      <td>camera</td>\n",
       "    </tr>\n",
       "    <tr>\n",
       "      <th>5</th>\n",
       "      <td>weight</td>\n",
       "      <td>height</td>\n",
       "      <td>length</td>\n",
       "      <td>meter</td>\n",
       "    </tr>\n",
       "    <tr>\n",
       "      <th>6</th>\n",
       "      <td>worm</td>\n",
       "      <td>earthworm</td>\n",
       "      <td>cockroach</td>\n",
       "      <td>tiger</td>\n",
       "    </tr>\n",
       "    <tr>\n",
       "      <th>7</th>\n",
       "      <td>cereals</td>\n",
       "      <td>milk</td>\n",
       "      <td>butter</td>\n",
       "      <td>knife</td>\n",
       "    </tr>\n",
       "    <tr>\n",
       "      <th>8</th>\n",
       "      <td>lunch</td>\n",
       "      <td>dinner</td>\n",
       "      <td>breakfast</td>\n",
       "      <td>kitchen</td>\n",
       "    </tr>\n",
       "    <tr>\n",
       "      <th>9</th>\n",
       "      <td>basketball</td>\n",
       "      <td>baseball</td>\n",
       "      <td>football</td>\n",
       "      <td>strategy</td>\n",
       "    </tr>\n",
       "    <tr>\n",
       "      <th>10</th>\n",
       "      <td>net</td>\n",
       "      <td>ball</td>\n",
       "      <td>racket</td>\n",
       "      <td>spider</td>\n",
       "    </tr>\n",
       "    <tr>\n",
       "      <th>11</th>\n",
       "      <td>shirt</td>\n",
       "      <td>trousers</td>\n",
       "      <td>shorts</td>\n",
       "      <td>cheese</td>\n",
       "    </tr>\n",
       "    <tr>\n",
       "      <th>12</th>\n",
       "      <td>bag</td>\n",
       "      <td>luggage</td>\n",
       "      <td>pocket</td>\n",
       "      <td>money</td>\n",
       "    </tr>\n",
       "    <tr>\n",
       "      <th>13</th>\n",
       "      <td>car</td>\n",
       "      <td>truck</td>\n",
       "      <td>van</td>\n",
       "      <td>plane</td>\n",
       "    </tr>\n",
       "    <tr>\n",
       "      <th>14</th>\n",
       "      <td>coffee</td>\n",
       "      <td>tea</td>\n",
       "      <td>soda</td>\n",
       "      <td>pasta</td>\n",
       "    </tr>\n",
       "    <tr>\n",
       "      <th>15</th>\n",
       "      <td>wind</td>\n",
       "      <td>rain</td>\n",
       "      <td>hail</td>\n",
       "      <td>poverty</td>\n",
       "    </tr>\n",
       "    <tr>\n",
       "      <th>16</th>\n",
       "      <td>math</td>\n",
       "      <td>statistics</td>\n",
       "      <td>probability</td>\n",
       "      <td>environment</td>\n",
       "    </tr>\n",
       "    <tr>\n",
       "      <th>17</th>\n",
       "      <td>derivative</td>\n",
       "      <td>integral</td>\n",
       "      <td>division</td>\n",
       "      <td>course</td>\n",
       "    </tr>\n",
       "    <tr>\n",
       "      <th>18</th>\n",
       "      <td>student</td>\n",
       "      <td>teacher</td>\n",
       "      <td>class</td>\n",
       "      <td>room</td>\n",
       "    </tr>\n",
       "    <tr>\n",
       "      <th>19</th>\n",
       "      <td>brush</td>\n",
       "      <td>mop</td>\n",
       "      <td>duster</td>\n",
       "      <td>pencil</td>\n",
       "    </tr>\n",
       "    <tr>\n",
       "      <th>20</th>\n",
       "      <td>pen</td>\n",
       "      <td>pencil</td>\n",
       "      <td>marker</td>\n",
       "      <td>market</td>\n",
       "    </tr>\n",
       "    <tr>\n",
       "      <th>21</th>\n",
       "      <td>income</td>\n",
       "      <td>wage</td>\n",
       "      <td>salary</td>\n",
       "      <td>strategy</td>\n",
       "    </tr>\n",
       "    <tr>\n",
       "      <th>22</th>\n",
       "      <td>virus</td>\n",
       "      <td>illness</td>\n",
       "      <td>bacteria</td>\n",
       "      <td>medicine</td>\n",
       "    </tr>\n",
       "    <tr>\n",
       "      <th>23</th>\n",
       "      <td>bar</td>\n",
       "      <td>pub</td>\n",
       "      <td>disco</td>\n",
       "      <td>office</td>\n",
       "    </tr>\n",
       "    <tr>\n",
       "      <th>24</th>\n",
       "      <td>school</td>\n",
       "      <td>university</td>\n",
       "      <td>institute</td>\n",
       "      <td>building</td>\n",
       "    </tr>\n",
       "    <tr>\n",
       "      <th>25</th>\n",
       "      <td>book</td>\n",
       "      <td>notebook</td>\n",
       "      <td>sheet</td>\n",
       "      <td>stapler</td>\n",
       "    </tr>\n",
       "    <tr>\n",
       "      <th>26</th>\n",
       "      <td>caution</td>\n",
       "      <td>danger</td>\n",
       "      <td>problem</td>\n",
       "      <td>happiness</td>\n",
       "    </tr>\n",
       "    <tr>\n",
       "      <th>27</th>\n",
       "      <td>knife</td>\n",
       "      <td>gun</td>\n",
       "      <td>ax</td>\n",
       "      <td>care</td>\n",
       "    </tr>\n",
       "    <tr>\n",
       "      <th>28</th>\n",
       "      <td>price</td>\n",
       "      <td>ticket</td>\n",
       "      <td>receipt</td>\n",
       "      <td>expensive</td>\n",
       "    </tr>\n",
       "    <tr>\n",
       "      <th>29</th>\n",
       "      <td>lucky</td>\n",
       "      <td>optimistic</td>\n",
       "      <td>pesimistic</td>\n",
       "      <td>orange</td>\n",
       "    </tr>\n",
       "    <tr>\n",
       "      <th>30</th>\n",
       "      <td>green</td>\n",
       "      <td>black</td>\n",
       "      <td>brown</td>\n",
       "      <td>bag</td>\n",
       "    </tr>\n",
       "    <tr>\n",
       "      <th>31</th>\n",
       "      <td>television</td>\n",
       "      <td>radio</td>\n",
       "      <td>newspaper</td>\n",
       "      <td>medicine</td>\n",
       "    </tr>\n",
       "    <tr>\n",
       "      <th>32</th>\n",
       "      <td>engineering</td>\n",
       "      <td>mathematics</td>\n",
       "      <td>scientific</td>\n",
       "      <td>religion</td>\n",
       "    </tr>\n",
       "    <tr>\n",
       "      <th>33</th>\n",
       "      <td>cathedral</td>\n",
       "      <td>church</td>\n",
       "      <td>monastery</td>\n",
       "      <td>shop</td>\n",
       "    </tr>\n",
       "    <tr>\n",
       "      <th>34</th>\n",
       "      <td>friend</td>\n",
       "      <td>guest</td>\n",
       "      <td>companion</td>\n",
       "      <td>enemy</td>\n",
       "    </tr>\n",
       "    <tr>\n",
       "      <th>35</th>\n",
       "      <td>philosophy</td>\n",
       "      <td>psychology</td>\n",
       "      <td>anatomy</td>\n",
       "      <td>government</td>\n",
       "    </tr>\n",
       "    <tr>\n",
       "      <th>36</th>\n",
       "      <td>fear</td>\n",
       "      <td>joy</td>\n",
       "      <td>surprise</td>\n",
       "      <td>bed</td>\n",
       "    </tr>\n",
       "    <tr>\n",
       "      <th>37</th>\n",
       "      <td>professor</td>\n",
       "      <td>book</td>\n",
       "      <td>meeting</td>\n",
       "      <td>pepper</td>\n",
       "    </tr>\n",
       "    <tr>\n",
       "      <th>38</th>\n",
       "      <td>spain</td>\n",
       "      <td>denmark</td>\n",
       "      <td>turkey</td>\n",
       "      <td>nation</td>\n",
       "    </tr>\n",
       "    <tr>\n",
       "      <th>39</th>\n",
       "      <td>son</td>\n",
       "      <td>child</td>\n",
       "      <td>daughter</td>\n",
       "      <td>family</td>\n",
       "    </tr>\n",
       "    <tr>\n",
       "      <th>40</th>\n",
       "      <td>data</td>\n",
       "      <td>computer</td>\n",
       "      <td>process</td>\n",
       "      <td>room</td>\n",
       "    </tr>\n",
       "    <tr>\n",
       "      <th>41</th>\n",
       "      <td>game</td>\n",
       "      <td>console</td>\n",
       "      <td>play</td>\n",
       "      <td>hotel</td>\n",
       "    </tr>\n",
       "    <tr>\n",
       "      <th>42</th>\n",
       "      <td>volleyball</td>\n",
       "      <td>wrestling</td>\n",
       "      <td>baseball</td>\n",
       "      <td>bat</td>\n",
       "    </tr>\n",
       "    <tr>\n",
       "      <th>43</th>\n",
       "      <td>ventilator</td>\n",
       "      <td>air-conditioner</td>\n",
       "      <td>fan</td>\n",
       "      <td>follower</td>\n",
       "    </tr>\n",
       "    <tr>\n",
       "      <th>44</th>\n",
       "      <td>model</td>\n",
       "      <td>guidance</td>\n",
       "      <td>lead</td>\n",
       "      <td>aluminium</td>\n",
       "    </tr>\n",
       "    <tr>\n",
       "      <th>45</th>\n",
       "      <td>column</td>\n",
       "      <td>line</td>\n",
       "      <td>row</td>\n",
       "      <td>boat</td>\n",
       "    </tr>\n",
       "    <tr>\n",
       "      <th>46</th>\n",
       "      <td>rip</td>\n",
       "      <td>cut</td>\n",
       "      <td>tear</td>\n",
       "      <td>eye</td>\n",
       "    </tr>\n",
       "    <tr>\n",
       "      <th>47</th>\n",
       "      <td>axis</td>\n",
       "      <td>pivot</td>\n",
       "      <td>axes</td>\n",
       "      <td>sword</td>\n",
       "    </tr>\n",
       "    <tr>\n",
       "      <th>48</th>\n",
       "      <td>bend</td>\n",
       "      <td>curve</td>\n",
       "      <td>bow</td>\n",
       "      <td>arrow</td>\n",
       "    </tr>\n",
       "    <tr>\n",
       "      <th>49</th>\n",
       "      <td>good</td>\n",
       "      <td>well</td>\n",
       "      <td>fine</td>\n",
       "      <td>pay</td>\n",
       "    </tr>\n",
       "    <tr>\n",
       "      <th>50</th>\n",
       "      <td>town</td>\n",
       "      <td>city</td>\n",
       "      <td>capital</td>\n",
       "      <td>letter</td>\n",
       "    </tr>\n",
       "    <tr>\n",
       "      <th>51</th>\n",
       "      <td>bottle</td>\n",
       "      <td>jar</td>\n",
       "      <td>can</td>\n",
       "      <td>manage</td>\n",
       "    </tr>\n",
       "    <tr>\n",
       "      <th>52</th>\n",
       "      <td>pub</td>\n",
       "      <td>bistro</td>\n",
       "      <td>bar</td>\n",
       "      <td>rod</td>\n",
       "    </tr>\n",
       "    <tr>\n",
       "      <th>53</th>\n",
       "      <td>straight</td>\n",
       "      <td>right</td>\n",
       "      <td>left</td>\n",
       "      <td>went</td>\n",
       "    </tr>\n",
       "    <tr>\n",
       "      <th>54</th>\n",
       "      <td>fish</td>\n",
       "      <td>salmon</td>\n",
       "      <td>bass</td>\n",
       "      <td>violin</td>\n",
       "    </tr>\n",
       "    <tr>\n",
       "      <th>55</th>\n",
       "      <td>down</td>\n",
       "      <td>up</td>\n",
       "      <td>right</td>\n",
       "      <td>correct</td>\n",
       "    </tr>\n",
       "    <tr>\n",
       "      <th>56</th>\n",
       "      <td>finger</td>\n",
       "      <td>hand</td>\n",
       "      <td>palm</td>\n",
       "      <td>pine</td>\n",
       "    </tr>\n",
       "    <tr>\n",
       "      <th>57</th>\n",
       "      <td>hour</td>\n",
       "      <td>time</td>\n",
       "      <td>watch</td>\n",
       "      <td>display</td>\n",
       "    </tr>\n",
       "    <tr>\n",
       "      <th>58</th>\n",
       "      <td>turkish</td>\n",
       "      <td>spanish</td>\n",
       "      <td>polish</td>\n",
       "      <td>fingernail</td>\n",
       "    </tr>\n",
       "    <tr>\n",
       "      <th>59</th>\n",
       "      <td>attach</td>\n",
       "      <td>clinch</td>\n",
       "      <td>tie</td>\n",
       "      <td>bowtie</td>\n",
       "    </tr>\n",
       "    <tr>\n",
       "      <th>60</th>\n",
       "      <td>wristband</td>\n",
       "      <td>necklace</td>\n",
       "      <td>ring</td>\n",
       "      <td>bang</td>\n",
       "    </tr>\n",
       "    <tr>\n",
       "      <th>61</th>\n",
       "      <td>dolphin</td>\n",
       "      <td>whale</td>\n",
       "      <td>seal</td>\n",
       "      <td>stamp</td>\n",
       "    </tr>\n",
       "    <tr>\n",
       "      <th>62</th>\n",
       "      <td>park</td>\n",
       "      <td>place</td>\n",
       "      <td>square</td>\n",
       "      <td>green</td>\n",
       "    </tr>\n",
       "    <tr>\n",
       "      <th>63</th>\n",
       "      <td>word</td>\n",
       "      <td>sentence</td>\n",
       "      <td>letter</td>\n",
       "      <td>four</td>\n",
       "    </tr>\n",
       "    <tr>\n",
       "      <th>64</th>\n",
       "      <td>gossip</td>\n",
       "      <td>chatter</td>\n",
       "      <td>chitchat</td>\n",
       "      <td>empty</td>\n",
       "    </tr>\n",
       "    <tr>\n",
       "      <th>65</th>\n",
       "      <td>information</td>\n",
       "      <td>intellegence</td>\n",
       "      <td>knowledge</td>\n",
       "      <td>dirty</td>\n",
       "    </tr>\n",
       "    <tr>\n",
       "      <th>66</th>\n",
       "      <td>notice</td>\n",
       "      <td>recognize</td>\n",
       "      <td>detect</td>\n",
       "      <td>hard</td>\n",
       "    </tr>\n",
       "    <tr>\n",
       "      <th>67</th>\n",
       "      <td>thoughts</td>\n",
       "      <td>belief</td>\n",
       "      <td>concern</td>\n",
       "      <td>keyboard</td>\n",
       "    </tr>\n",
       "    <tr>\n",
       "      <th>68</th>\n",
       "      <td>goal</td>\n",
       "      <td>aim</td>\n",
       "      <td>purpose</td>\n",
       "      <td>continue</td>\n",
       "    </tr>\n",
       "    <tr>\n",
       "      <th>69</th>\n",
       "      <td>eye</td>\n",
       "      <td>brow</td>\n",
       "      <td>eyelash</td>\n",
       "      <td>bed</td>\n",
       "    </tr>\n",
       "    <tr>\n",
       "      <th>70</th>\n",
       "      <td>humor</td>\n",
       "      <td>fun</td>\n",
       "      <td>joke</td>\n",
       "      <td>counting</td>\n",
       "    </tr>\n",
       "    <tr>\n",
       "      <th>71</th>\n",
       "      <td>test</td>\n",
       "      <td>evaluation</td>\n",
       "      <td>exam</td>\n",
       "      <td>train</td>\n",
       "    </tr>\n",
       "    <tr>\n",
       "      <th>72</th>\n",
       "      <td>essay</td>\n",
       "      <td>article</td>\n",
       "      <td>paper</td>\n",
       "      <td>water</td>\n",
       "    </tr>\n",
       "    <tr>\n",
       "      <th>73</th>\n",
       "      <td>environment</td>\n",
       "      <td>habitat</td>\n",
       "      <td>surroundings</td>\n",
       "      <td>judge</td>\n",
       "    </tr>\n",
       "    <tr>\n",
       "      <th>74</th>\n",
       "      <td>zoo</td>\n",
       "      <td>animal</td>\n",
       "      <td>circus</td>\n",
       "      <td>ring</td>\n",
       "    </tr>\n",
       "    <tr>\n",
       "      <th>75</th>\n",
       "      <td>estimate</td>\n",
       "      <td>forecast</td>\n",
       "      <td>predict</td>\n",
       "      <td>chew</td>\n",
       "    </tr>\n",
       "    <tr>\n",
       "      <th>76</th>\n",
       "      <td>coffin</td>\n",
       "      <td>dead</td>\n",
       "      <td>buried</td>\n",
       "      <td>cheek</td>\n",
       "    </tr>\n",
       "    <tr>\n",
       "      <th>77</th>\n",
       "      <td>extinct</td>\n",
       "      <td>extinguish</td>\n",
       "      <td>abolish</td>\n",
       "      <td>fork</td>\n",
       "    </tr>\n",
       "    <tr>\n",
       "      <th>78</th>\n",
       "      <td>telephone</td>\n",
       "      <td>radio</td>\n",
       "      <td>television</td>\n",
       "      <td>eat</td>\n",
       "    </tr>\n",
       "    <tr>\n",
       "      <th>79</th>\n",
       "      <td>pause</td>\n",
       "      <td>halt</td>\n",
       "      <td>freeze</td>\n",
       "      <td>shirt</td>\n",
       "    </tr>\n",
       "  </tbody>\n",
       "</table>"
      ],
      "text/plain": [
       "<IPython.core.display.HTML object>"
      ]
     },
     "metadata": {},
     "output_type": "display_data"
    }
   ],
   "source": [
    "engs = pd.read_csv(\"eng_dataset2.csv\", encoding= 'utf-8')\n",
    "display(HTML(engs.to_html()))"
   ]
  },
  {
   "cell_type": "code",
   "execution_count": 244,
   "metadata": {},
   "outputs": [],
   "source": [
    "# List Data structure\n",
    "lexi = []\n",
    "for index, row in engs.iterrows():\n",
    "    for word in row.values:\n",
    "        sparql = sparql.replace(\"WORD\", word)\n",
    "        lex = list(get_sparql_dataframe(endpoint, sparql).representation.unique())\n",
    "        index = 0\n",
    "        while(index < len(lex)):\n",
    "            if lex[index] not in model.wv.vocab:\n",
    "                del lex[index]\n",
    "                index -= 1\n",
    "            index += 1\n",
    "        if word not in lex:\n",
    "            lex.append(word)\n",
    "        else:\n",
    "            pass\n",
    "        lexi.append(lex)\n",
    "        sparql = \"\"\"\n",
    "        SELECT ?lexeme ?representation {{\n",
    "           ?lexeme ontolex:lexicalForm / ontolex:representation \"WORD\"@en ;\n",
    "                   ontolex:lexicalForm / ontolex:representation ?representation .\n",
    "        }}\n",
    "        \"\"\""
   ]
  },
  {
   "cell_type": "code",
   "execution_count": 245,
   "metadata": {},
   "outputs": [
    {
     "data": {
      "text/plain": [
       "[['train', 'trains', 'trained', 'training'],\n",
       " ['car', 'cars'],\n",
       " ['plane', 'planes', 'planed', 'planing', 'planer'],\n",
       " ['exercise', 'exercises', 'exercised', 'exercising'],\n",
       " ['brother', 'brothers', 'bretheren'],\n",
       " ['sister', 'sisters'],\n",
       " ['father', 'fathers', 'fathered', 'fathering'],\n",
       " ['iron', 'irons', 'ironed', 'ironing'],\n",
       " ['stool'],\n",
       " ['chair', 'chairs', 'chaired', 'chairing'],\n",
       " ['couch', 'couches', 'couched', 'couching'],\n",
       " ['door', 'doors'],\n",
       " ['tree', 'trees', 'treed', 'treeing'],\n",
       " ['grass', 'grasses'],\n",
       " ['bush', 'bushes'],\n",
       " ['clock', 'clocks', 'clocked', 'clocking'],\n",
       " ['poster', 'posters'],\n",
       " ['photo', 'photos'],\n",
       " ['picture', 'pictures', 'pictured', 'picturing'],\n",
       " ['camera', 'cameras'],\n",
       " ['weight', 'weights', 'weighted', 'weighting'],\n",
       " ['height', 'heights'],\n",
       " ['length', 'lengths'],\n",
       " ['meter', 'meters', 'metered', 'metering', 'metre', 'metres'],\n",
       " ['worm', 'worms', 'wormed', 'worming'],\n",
       " ['earthworm', 'earthworms'],\n",
       " ['cockroach', 'cockroaches'],\n",
       " ['tiger', 'tigers'],\n",
       " ['cereal', 'cereals'],\n",
       " ['milk', 'milks', 'milked', 'milking'],\n",
       " ['butter', 'butters', 'buttered', 'buttering'],\n",
       " ['knife', 'knifes', 'knifed', 'knifing', 'knives'],\n",
       " ['lunch', 'lunches', 'lunched', 'lunching'],\n",
       " ['dinner', 'dinners'],\n",
       " ['breakfast', 'breakfasts', 'breakfasted', 'breakfasting'],\n",
       " ['kitchen', 'kitchens'],\n",
       " ['basketball', 'basketballs'],\n",
       " ['baseball', 'baseballs'],\n",
       " ['football', 'footballs'],\n",
       " ['strategy', 'strategies'],\n",
       " ['net', 'nets', 'netted', 'netting'],\n",
       " ['ball', 'balls', 'balled', 'balling'],\n",
       " ['racket'],\n",
       " ['spider', 'spiders'],\n",
       " ['shirt', 'shirts'],\n",
       " ['trousers'],\n",
       " ['short', 'shorts', 'shorted', 'shorting'],\n",
       " ['cheese', 'cheeses'],\n",
       " ['bag', 'bags', 'bagged', 'bagging'],\n",
       " ['luggage'],\n",
       " ['pocket', 'pockets', 'pocketed', 'pocketing'],\n",
       " ['money', 'monies'],\n",
       " ['car', 'cars'],\n",
       " ['truck', 'trucks', 'trucked', 'trucking'],\n",
       " ['van', 'vans'],\n",
       " ['plane', 'planes', 'planed', 'planing', 'planer'],\n",
       " ['coffee', 'coffees'],\n",
       " ['tea', 'teas'],\n",
       " ['soda', 'sodas'],\n",
       " ['pasta', 'pastas'],\n",
       " ['wind', 'winds', 'wound', 'winding', 'winded'],\n",
       " ['rain', 'rains', 'rained', 'raining'],\n",
       " ['hail', 'hails', 'hailed', 'hailing'],\n",
       " ['poverty', 'poverties'],\n",
       " ['math', 'maths'],\n",
       " ['statistic', 'statistics'],\n",
       " ['probability', 'probabilities'],\n",
       " ['environment', 'environments'],\n",
       " ['derivative', 'derivatives'],\n",
       " ['integral', 'integrals'],\n",
       " ['division', 'divisions'],\n",
       " ['course', 'courses', 'coursed', 'coursing'],\n",
       " ['student', 'students'],\n",
       " ['teacher', 'teachers'],\n",
       " ['class', 'classes', 'classed', 'classing'],\n",
       " ['room', 'rooms', 'roomed', 'rooming'],\n",
       " ['brush', 'brushes', 'brushed', 'brushing'],\n",
       " ['mop', 'mops', 'mopped', 'mopping'],\n",
       " ['duster'],\n",
       " ['pencil', 'pencils', 'penciled', 'pencilled', 'penciling', 'pencilling'],\n",
       " ['pen', 'pens', 'penned', 'penning'],\n",
       " ['pencil', 'pencils', 'penciled', 'pencilled', 'penciling', 'pencilling'],\n",
       " ['marker', 'markers'],\n",
       " ['market', 'markets', 'marketed', 'marketing'],\n",
       " ['income', 'incomes'],\n",
       " ['wage', 'wages', 'waged', 'waging'],\n",
       " ['salary', 'salaries'],\n",
       " ['strategy', 'strategies'],\n",
       " ['virus', 'viruses'],\n",
       " ['illness', 'illnesses'],\n",
       " ['bacterium', 'bacteria'],\n",
       " ['medicine', 'medicines'],\n",
       " ['bar', 'bars', 'barred', 'barring'],\n",
       " ['pub', 'pubs'],\n",
       " ['disco'],\n",
       " ['office', 'offices'],\n",
       " ['school', 'schools', 'schooled', 'schooling'],\n",
       " ['university', 'universities'],\n",
       " ['institute', 'institutes', 'instituted', 'instituting'],\n",
       " ['building', 'buildings', 'built', 'builds', 'build'],\n",
       " ['book', 'books', 'booked', 'booking'],\n",
       " ['notebook', 'notebooks'],\n",
       " ['sheet', 'sheets', 'sheeted', 'sheeting'],\n",
       " ['stapler', 'staplers'],\n",
       " ['caution', 'cautions'],\n",
       " ['danger', 'dangers'],\n",
       " ['problem', 'problems'],\n",
       " ['happiness', 'happinesses'],\n",
       " ['knife', 'knifes', 'knifed', 'knifing', 'knives'],\n",
       " ['gun', 'guns'],\n",
       " ['ax'],\n",
       " ['care', 'cares', 'cared', 'caring'],\n",
       " ['price', 'prices', 'priced', 'pricing'],\n",
       " ['ticket', 'tickets'],\n",
       " ['receipt', 'receipts'],\n",
       " ['expensive'],\n",
       " ['lucky', 'luckier', 'luckiest'],\n",
       " ['optimistic'],\n",
       " ['pesimistic'],\n",
       " ['orange', 'oranges'],\n",
       " ['green', 'greener', 'greenest', 'greens', 'greened', 'greening'],\n",
       " ['black', 'blacker', 'blackest'],\n",
       " ['brown', 'browns'],\n",
       " ['bag', 'bags', 'bagged', 'bagging'],\n",
       " ['television', 'televisions'],\n",
       " ['radio', 'radios', 'radioed', 'radioing'],\n",
       " ['newspaper', 'newspapers'],\n",
       " ['medicine', 'medicines'],\n",
       " ['engineering', 'engineerings', 'engineer', 'engineers', 'engineered'],\n",
       " ['mathematics'],\n",
       " ['scientific'],\n",
       " ['religion', 'religions'],\n",
       " ['cathedral', 'cathedrals'],\n",
       " ['church', 'churches'],\n",
       " ['monastery', 'monasteries'],\n",
       " ['shop', 'shops', 'shopped', 'shopping'],\n",
       " ['friend', 'friends'],\n",
       " ['guest', 'guests', 'guested', 'guesting'],\n",
       " ['companion', 'companions'],\n",
       " ['enemy', 'enemies'],\n",
       " ['philosophy', 'philosophies'],\n",
       " ['psychology', 'psychologies'],\n",
       " ['anatomy', 'anatomies'],\n",
       " ['government', 'governments'],\n",
       " ['fear', 'fears', 'feared', 'fearing'],\n",
       " ['joy', 'joys'],\n",
       " ['surprise', 'surprises', 'surprised', 'surprising'],\n",
       " ['bed', 'beds', 'bedded', 'bedding'],\n",
       " ['professor', 'professors'],\n",
       " ['book', 'books', 'booked', 'booking'],\n",
       " ['meet', 'meets', 'met', 'meeting', 'meetings'],\n",
       " ['pepper', 'peppers'],\n",
       " ['spain'],\n",
       " ['denmark'],\n",
       " ['turkey', 'turkeys'],\n",
       " ['nation', 'nations'],\n",
       " ['son', 'sons'],\n",
       " ['child', 'children'],\n",
       " ['daughter', 'daughters'],\n",
       " ['family', 'families'],\n",
       " ['data', 'datum'],\n",
       " ['computer', 'computers'],\n",
       " ['process', 'processes', 'processed', 'processing'],\n",
       " ['room', 'rooms', 'roomed', 'rooming'],\n",
       " ['game', 'games', 'gamed', 'gaming', 'gamer', 'gamest'],\n",
       " ['console'],\n",
       " ['play', 'plays', 'played', 'playing'],\n",
       " ['hotel', 'hotels'],\n",
       " ['volleyball', 'volleyballs'],\n",
       " ['wrestle', 'wrestles', 'wrestled', 'wrestling'],\n",
       " ['baseball', 'baseballs'],\n",
       " ['bat', 'bats', 'batted', 'batting'],\n",
       " ['ventilator', 'ventilators'],\n",
       " ['air-conditioner'],\n",
       " ['fan', 'fans', 'fanned', 'fanning'],\n",
       " ['follower', 'followers'],\n",
       " ['model', 'models', 'modeled', 'modelled', 'modeling', 'modelling'],\n",
       " ['guidance', 'guidances'],\n",
       " ['lead', 'leads', 'led', 'leading'],\n",
       " ['aluminium', 'aluminum', 'aluminums'],\n",
       " ['column', 'columns'],\n",
       " ['line', 'lines', 'lined', 'lining'],\n",
       " ['row', 'rows', 'rowed', 'rowing'],\n",
       " ['boat', 'boats', 'boated', 'boating'],\n",
       " ['rip', 'rips', 'ripped', 'ripping'],\n",
       " ['cut', 'cuts', 'cutting'],\n",
       " ['tear', 'tears', 'tore', 'torn', 'tearing', 'teared'],\n",
       " ['eye', 'eyes', 'eyed', 'eyeing'],\n",
       " ['axis', 'axes'],\n",
       " ['pivot', 'pivots', 'pivoted', 'pivoting'],\n",
       " ['axe', 'ax', 'axes', 'axed', 'axing', 'axis'],\n",
       " ['sword', 'swords'],\n",
       " ['bend', 'bends', 'bent', 'bending'],\n",
       " ['curve', 'curves', 'curved', 'curving'],\n",
       " ['bow', 'bows', 'bowed', 'bowing'],\n",
       " ['arrow', 'arrows'],\n",
       " ['good', 'better', 'best', 'goods'],\n",
       " ['well', 'wells'],\n",
       " ['fine', 'finer', 'finest', 'fines', 'fined', 'fining'],\n",
       " ['pay', 'pays', 'paid', 'paying'],\n",
       " ['town', 'towns'],\n",
       " ['city', 'cities'],\n",
       " ['capital', 'capitals'],\n",
       " ['letter', 'letters'],\n",
       " ['bottle', 'bottles', 'bottled', 'bottling'],\n",
       " ['jar', 'jars', 'jarred', 'jarring'],\n",
       " ['can', 'could', 'cans', 'canned', 'canning'],\n",
       " ['manage', 'manages', 'managed', 'managing'],\n",
       " ['pub', 'pubs'],\n",
       " ['bistro'],\n",
       " ['bar', 'bars', 'barred', 'barring'],\n",
       " ['rod', 'rods'],\n",
       " ['straight', 'straighter', 'straightest'],\n",
       " ['right', 'rights', 'righted', 'righting'],\n",
       " ['leave', 'leaves', 'left', 'leaving'],\n",
       " ['go', 'goes', 'went', 'gone', 'going'],\n",
       " ['fish', 'fishes', 'fished', 'fishing'],\n",
       " ['salmon'],\n",
       " ['bass', 'basses'],\n",
       " ['violin', 'violins'],\n",
       " ['down', 'downs'],\n",
       " ['-up', 'up'],\n",
       " ['right', 'rights', 'righted', 'righting'],\n",
       " ['correct', 'corrects', 'corrected', 'correcting'],\n",
       " ['finger', 'fingers', 'fingered', 'fingering'],\n",
       " ['hand', 'hands', 'handed', 'handing'],\n",
       " ['palm', 'palms', 'palmed', 'palming'],\n",
       " ['pine', 'pines', 'pined', 'pining'],\n",
       " ['hour', 'hours'],\n",
       " ['time', 'times', 'timed', 'timing'],\n",
       " ['watch', 'watches', 'watched', 'watching'],\n",
       " ['display', 'displays', 'displayed', 'displaying'],\n",
       " ['turkish'],\n",
       " ['spanish'],\n",
       " ['polish', 'polishes', 'polished', 'polishing'],\n",
       " ['fingernail'],\n",
       " ['attach', 'attaches', 'attached', 'attaching'],\n",
       " ['clinch'],\n",
       " ['tie', 'ties', 'tied', 'tying'],\n",
       " ['bowtie', 'bowties'],\n",
       " ['wristband', 'wristbands'],\n",
       " ['necklace', 'necklaces'],\n",
       " ['ring', 'rings', 'rang', 'rung', 'ringing'],\n",
       " ['bang', 'bangs', 'banged', 'banging'],\n",
       " ['dolphin', 'dolphins'],\n",
       " ['whale', 'whales', 'whaled', 'whaling'],\n",
       " ['seal', 'seals', 'sealed', 'sealing'],\n",
       " ['stamp', 'stamps', 'stamped', 'stamping'],\n",
       " ['park', 'parks', 'parked', 'parking'],\n",
       " ['place', 'places', 'placed', 'placing'],\n",
       " ['square', 'squares', 'squared', 'squaring'],\n",
       " ['green', 'greener', 'greenest', 'greens', 'greened', 'greening'],\n",
       " ['word', 'words', 'worded', 'wording'],\n",
       " ['sentence', 'sentences', 'sentenced', 'sentencing'],\n",
       " ['letter', 'letters'],\n",
       " ['four'],\n",
       " ['gossip'],\n",
       " ['chatter', 'chatters', 'chattered', 'chattering'],\n",
       " ['chitchat'],\n",
       " ['empty', 'emptier', 'emptiest', 'empties', 'emptied', 'emptying'],\n",
       " ['information', 'informations'],\n",
       " ['intellegence'],\n",
       " ['knowledge'],\n",
       " ['dirty', 'dirtier', 'dirtiest'],\n",
       " ['notice', 'notices', 'noticed', 'noticing'],\n",
       " ['recognize',\n",
       "  'recognise',\n",
       "  'recognizes',\n",
       "  'recognises',\n",
       "  'recognized',\n",
       "  'recognised',\n",
       "  'recognizing',\n",
       "  'recognising'],\n",
       " ['detect', 'detects', 'detected', 'detecting'],\n",
       " ['hard', 'harder', 'hardest'],\n",
       " ['thought', 'thoughts'],\n",
       " ['belief', 'beliefs'],\n",
       " ['concern', 'concerns', 'concerned', 'concerning'],\n",
       " ['keyboard', 'keyboards'],\n",
       " ['goal', 'goals'],\n",
       " ['aim', 'aims', 'aimed', 'aiming'],\n",
       " ['purpose', 'purposes'],\n",
       " ['continue', 'continues', 'continued', 'continuing'],\n",
       " ['eye', 'eyes', 'eyed', 'eyeing'],\n",
       " ['brow', 'brows'],\n",
       " ['eyelash'],\n",
       " ['bed', 'beds', 'bedded', 'bedding'],\n",
       " ['humor',\n",
       "  'humour',\n",
       "  'humors',\n",
       "  'humours',\n",
       "  'humored',\n",
       "  'humoured',\n",
       "  'humoring',\n",
       "  'humouring'],\n",
       " ['fun'],\n",
       " ['joke', 'jokes', 'joked', 'joking'],\n",
       " ['counted', 'counts', 'counting'],\n",
       " ['tested', 'test', 'tests', 'testing'],\n",
       " ['evaluation', 'evaluations'],\n",
       " ['exam', 'exams'],\n",
       " ['train', 'trains', 'trained', 'training'],\n",
       " ['essay', 'essays'],\n",
       " ['article', 'articles'],\n",
       " ['paper', 'papers', 'papered', 'papering'],\n",
       " ['water', 'waters', 'watered', 'watering'],\n",
       " ['environment', 'environments'],\n",
       " ['habitat', 'habitats'],\n",
       " ['surrounding', 'surroundings'],\n",
       " ['judge', 'judges', 'judged', 'judging'],\n",
       " ['zoo', 'zoos'],\n",
       " ['animal', 'animals'],\n",
       " ['circus', 'circuses'],\n",
       " ['ring', 'rings', 'rang', 'rung', 'ringing'],\n",
       " ['estimate', 'estimates', 'estimated', 'estimating'],\n",
       " ['forecast', 'forecasts', 'forecasted', 'forecasting'],\n",
       " ['predict', 'predicts', 'predicted', 'predicting'],\n",
       " ['chew', 'chews', 'chewed', 'chewing'],\n",
       " ['coffin', 'coffins'],\n",
       " ['dead', 'deader', 'deadest'],\n",
       " ['bury', 'buries', 'buried', 'burying'],\n",
       " ['cheek', 'cheeks'],\n",
       " ['extinct'],\n",
       " ['extinguish', 'extinguishes', 'extinguished', 'extinguishing'],\n",
       " ['abolish', 'abolishes', 'abolished', 'abolishing'],\n",
       " ['fork', 'forks', 'forked', 'forking'],\n",
       " ['telephone', 'telephones', 'telephoned', 'telephoning'],\n",
       " ['radio', 'radios', 'radioed', 'radioing'],\n",
       " ['television', 'televisions'],\n",
       " ['eat', 'eats', 'ate', 'eaten', 'eating'],\n",
       " ['pause', 'pauses', 'paused', 'pausing'],\n",
       " ['halt', 'halts', 'halted', 'halting'],\n",
       " ['freeze', 'freezes', 'froze', 'frozen', 'freezing'],\n",
       " ['shirt', 'shirts']]"
      ]
     },
     "execution_count": 245,
     "metadata": {},
     "output_type": "execute_result"
    }
   ],
   "source": [
    "lexi"
   ]
  },
  {
   "cell_type": "code",
   "execution_count": 9,
   "metadata": {},
   "outputs": [],
   "source": [
    "import pickle"
   ]
  },
  {
   "cell_type": "code",
   "execution_count": 247,
   "metadata": {},
   "outputs": [],
   "source": [
    "with open(\"list_lex.txt\", \"wb\") as fp:   #Pickling\n",
    "    pickle.dump(lexi, fp)"
   ]
  },
  {
   "cell_type": "code",
   "execution_count": 10,
   "metadata": {},
   "outputs": [],
   "source": [
    "# Read it from disk\n",
    "with open(\"list_lex.txt\", \"rb\") as fp:   # Unpickling\n",
    "    lexi = pickle.load(fp)"
   ]
  },
  {
   "cell_type": "code",
   "execution_count": 11,
   "metadata": {},
   "outputs": [
    {
     "data": {
      "text/plain": [
       "[['train', 'trains', 'trained', 'training'],\n",
       " ['car', 'cars'],\n",
       " ['plane', 'planes', 'planed', 'planing', 'planer'],\n",
       " ['exercise', 'exercises', 'exercised', 'exercising'],\n",
       " ['brother', 'brothers', 'bretheren'],\n",
       " ['sister', 'sisters'],\n",
       " ['father', 'fathers', 'fathered', 'fathering'],\n",
       " ['iron', 'irons', 'ironed', 'ironing'],\n",
       " ['stool'],\n",
       " ['chair', 'chairs', 'chaired', 'chairing'],\n",
       " ['couch', 'couches', 'couched', 'couching'],\n",
       " ['door', 'doors'],\n",
       " ['tree', 'trees', 'treed', 'treeing'],\n",
       " ['grass', 'grasses'],\n",
       " ['bush', 'bushes'],\n",
       " ['clock', 'clocks', 'clocked', 'clocking'],\n",
       " ['poster', 'posters'],\n",
       " ['photo', 'photos'],\n",
       " ['picture', 'pictures', 'pictured', 'picturing'],\n",
       " ['camera', 'cameras'],\n",
       " ['weight', 'weights', 'weighted', 'weighting'],\n",
       " ['height', 'heights'],\n",
       " ['length', 'lengths'],\n",
       " ['meter', 'meters', 'metered', 'metering', 'metre', 'metres'],\n",
       " ['worm', 'worms', 'wormed', 'worming'],\n",
       " ['earthworm', 'earthworms'],\n",
       " ['cockroach', 'cockroaches'],\n",
       " ['tiger', 'tigers'],\n",
       " ['cereal', 'cereals'],\n",
       " ['milk', 'milks', 'milked', 'milking'],\n",
       " ['butter', 'butters', 'buttered', 'buttering'],\n",
       " ['knife', 'knifes', 'knifed', 'knifing', 'knives'],\n",
       " ['lunch', 'lunches', 'lunched', 'lunching'],\n",
       " ['dinner', 'dinners'],\n",
       " ['breakfast', 'breakfasts', 'breakfasted', 'breakfasting'],\n",
       " ['kitchen', 'kitchens'],\n",
       " ['basketball', 'basketballs'],\n",
       " ['baseball', 'baseballs'],\n",
       " ['football', 'footballs'],\n",
       " ['strategy', 'strategies'],\n",
       " ['net', 'nets', 'netted', 'netting'],\n",
       " ['ball', 'balls', 'balled', 'balling'],\n",
       " ['racket'],\n",
       " ['spider', 'spiders'],\n",
       " ['shirt', 'shirts'],\n",
       " ['trousers'],\n",
       " ['short', 'shorts', 'shorted', 'shorting'],\n",
       " ['cheese', 'cheeses'],\n",
       " ['bag', 'bags', 'bagged', 'bagging'],\n",
       " ['luggage'],\n",
       " ['pocket', 'pockets', 'pocketed', 'pocketing'],\n",
       " ['money', 'monies'],\n",
       " ['car', 'cars'],\n",
       " ['truck', 'trucks', 'trucked', 'trucking'],\n",
       " ['van', 'vans'],\n",
       " ['plane', 'planes', 'planed', 'planing', 'planer'],\n",
       " ['coffee', 'coffees'],\n",
       " ['tea', 'teas'],\n",
       " ['soda', 'sodas'],\n",
       " ['pasta', 'pastas'],\n",
       " ['wind', 'winds', 'wound', 'winding', 'winded'],\n",
       " ['rain', 'rains', 'rained', 'raining'],\n",
       " ['hail', 'hails', 'hailed', 'hailing'],\n",
       " ['poverty', 'poverties'],\n",
       " ['math', 'maths'],\n",
       " ['statistic', 'statistics'],\n",
       " ['probability', 'probabilities'],\n",
       " ['environment', 'environments'],\n",
       " ['derivative', 'derivatives'],\n",
       " ['integral', 'integrals'],\n",
       " ['division', 'divisions'],\n",
       " ['course', 'courses', 'coursed', 'coursing'],\n",
       " ['student', 'students'],\n",
       " ['teacher', 'teachers'],\n",
       " ['class', 'classes', 'classed', 'classing'],\n",
       " ['room', 'rooms', 'roomed', 'rooming'],\n",
       " ['brush', 'brushes', 'brushed', 'brushing'],\n",
       " ['mop', 'mops', 'mopped', 'mopping'],\n",
       " ['duster'],\n",
       " ['pencil', 'pencils', 'penciled', 'pencilled', 'penciling', 'pencilling'],\n",
       " ['pen', 'pens', 'penned', 'penning'],\n",
       " ['pencil', 'pencils', 'penciled', 'pencilled', 'penciling', 'pencilling'],\n",
       " ['marker', 'markers'],\n",
       " ['market', 'markets', 'marketed', 'marketing'],\n",
       " ['income', 'incomes'],\n",
       " ['wage', 'wages', 'waged', 'waging'],\n",
       " ['salary', 'salaries'],\n",
       " ['strategy', 'strategies'],\n",
       " ['virus', 'viruses'],\n",
       " ['illness', 'illnesses'],\n",
       " ['bacterium', 'bacteria'],\n",
       " ['medicine', 'medicines'],\n",
       " ['bar', 'bars', 'barred', 'barring'],\n",
       " ['pub', 'pubs'],\n",
       " ['disco'],\n",
       " ['office', 'offices'],\n",
       " ['school', 'schools', 'schooled', 'schooling'],\n",
       " ['university', 'universities'],\n",
       " ['institute', 'institutes', 'instituted', 'instituting'],\n",
       " ['building', 'buildings', 'built', 'builds', 'build'],\n",
       " ['book', 'books', 'booked', 'booking'],\n",
       " ['notebook', 'notebooks'],\n",
       " ['sheet', 'sheets', 'sheeted', 'sheeting'],\n",
       " ['stapler', 'staplers'],\n",
       " ['caution', 'cautions'],\n",
       " ['danger', 'dangers'],\n",
       " ['problem', 'problems'],\n",
       " ['happiness', 'happinesses'],\n",
       " ['knife', 'knifes', 'knifed', 'knifing', 'knives'],\n",
       " ['gun', 'guns'],\n",
       " ['ax'],\n",
       " ['care', 'cares', 'cared', 'caring'],\n",
       " ['price', 'prices', 'priced', 'pricing'],\n",
       " ['ticket', 'tickets'],\n",
       " ['receipt', 'receipts'],\n",
       " ['expensive'],\n",
       " ['lucky', 'luckier', 'luckiest'],\n",
       " ['optimistic'],\n",
       " ['pesimistic'],\n",
       " ['orange', 'oranges'],\n",
       " ['green', 'greener', 'greenest', 'greens', 'greened', 'greening'],\n",
       " ['black', 'blacker', 'blackest'],\n",
       " ['brown', 'browns'],\n",
       " ['bag', 'bags', 'bagged', 'bagging'],\n",
       " ['television', 'televisions'],\n",
       " ['radio', 'radios', 'radioed', 'radioing'],\n",
       " ['newspaper', 'newspapers'],\n",
       " ['medicine', 'medicines'],\n",
       " ['engineering', 'engineerings', 'engineer', 'engineers', 'engineered'],\n",
       " ['mathematics'],\n",
       " ['scientific'],\n",
       " ['religion', 'religions'],\n",
       " ['cathedral', 'cathedrals'],\n",
       " ['church', 'churches'],\n",
       " ['monastery', 'monasteries'],\n",
       " ['shop', 'shops', 'shopped', 'shopping'],\n",
       " ['friend', 'friends'],\n",
       " ['guest', 'guests', 'guested', 'guesting'],\n",
       " ['companion', 'companions'],\n",
       " ['enemy', 'enemies'],\n",
       " ['philosophy', 'philosophies'],\n",
       " ['psychology', 'psychologies'],\n",
       " ['anatomy', 'anatomies'],\n",
       " ['government', 'governments'],\n",
       " ['fear', 'fears', 'feared', 'fearing'],\n",
       " ['joy', 'joys'],\n",
       " ['surprise', 'surprises', 'surprised', 'surprising'],\n",
       " ['bed', 'beds', 'bedded', 'bedding'],\n",
       " ['professor', 'professors'],\n",
       " ['book', 'books', 'booked', 'booking'],\n",
       " ['meet', 'meets', 'met', 'meeting', 'meetings'],\n",
       " ['pepper', 'peppers'],\n",
       " ['spain'],\n",
       " ['denmark'],\n",
       " ['turkey', 'turkeys'],\n",
       " ['nation', 'nations'],\n",
       " ['son', 'sons'],\n",
       " ['child', 'children'],\n",
       " ['daughter', 'daughters'],\n",
       " ['family', 'families'],\n",
       " ['data', 'datum'],\n",
       " ['computer', 'computers'],\n",
       " ['process', 'processes', 'processed', 'processing'],\n",
       " ['room', 'rooms', 'roomed', 'rooming'],\n",
       " ['game', 'games', 'gamed', 'gaming', 'gamer', 'gamest'],\n",
       " ['console'],\n",
       " ['play', 'plays', 'played', 'playing'],\n",
       " ['hotel', 'hotels'],\n",
       " ['volleyball', 'volleyballs'],\n",
       " ['wrestle', 'wrestles', 'wrestled', 'wrestling'],\n",
       " ['baseball', 'baseballs'],\n",
       " ['bat', 'bats', 'batted', 'batting'],\n",
       " ['ventilator', 'ventilators'],\n",
       " ['air-conditioner'],\n",
       " ['fan', 'fans', 'fanned', 'fanning'],\n",
       " ['follower', 'followers'],\n",
       " ['model', 'models', 'modeled', 'modelled', 'modeling', 'modelling'],\n",
       " ['guidance', 'guidances'],\n",
       " ['lead', 'leads', 'led', 'leading'],\n",
       " ['aluminium', 'aluminum', 'aluminums'],\n",
       " ['column', 'columns'],\n",
       " ['line', 'lines', 'lined', 'lining'],\n",
       " ['row', 'rows', 'rowed', 'rowing'],\n",
       " ['boat', 'boats', 'boated', 'boating'],\n",
       " ['rip', 'rips', 'ripped', 'ripping'],\n",
       " ['cut', 'cuts', 'cutting'],\n",
       " ['tear', 'tears', 'tore', 'torn', 'tearing', 'teared'],\n",
       " ['eye', 'eyes', 'eyed', 'eyeing'],\n",
       " ['axis', 'axes'],\n",
       " ['pivot', 'pivots', 'pivoted', 'pivoting'],\n",
       " ['axe', 'ax', 'axes', 'axed', 'axing', 'axis'],\n",
       " ['sword', 'swords'],\n",
       " ['bend', 'bends', 'bent', 'bending'],\n",
       " ['curve', 'curves', 'curved', 'curving'],\n",
       " ['bow', 'bows', 'bowed', 'bowing'],\n",
       " ['arrow', 'arrows'],\n",
       " ['good', 'better', 'best', 'goods'],\n",
       " ['well', 'wells'],\n",
       " ['fine', 'finer', 'finest', 'fines', 'fined', 'fining'],\n",
       " ['pay', 'pays', 'paid', 'paying'],\n",
       " ['town', 'towns'],\n",
       " ['city', 'cities'],\n",
       " ['capital', 'capitals'],\n",
       " ['letter', 'letters'],\n",
       " ['bottle', 'bottles', 'bottled', 'bottling'],\n",
       " ['jar', 'jars', 'jarred', 'jarring'],\n",
       " ['can', 'could', 'cans', 'canned', 'canning'],\n",
       " ['manage', 'manages', 'managed', 'managing'],\n",
       " ['pub', 'pubs'],\n",
       " ['bistro'],\n",
       " ['bar', 'bars', 'barred', 'barring'],\n",
       " ['rod', 'rods'],\n",
       " ['straight', 'straighter', 'straightest'],\n",
       " ['right', 'rights', 'righted', 'righting'],\n",
       " ['leave', 'leaves', 'left', 'leaving'],\n",
       " ['go', 'goes', 'went', 'gone', 'going'],\n",
       " ['fish', 'fishes', 'fished', 'fishing'],\n",
       " ['salmon'],\n",
       " ['bass', 'basses'],\n",
       " ['violin', 'violins'],\n",
       " ['down', 'downs'],\n",
       " ['-up', 'up'],\n",
       " ['right', 'rights', 'righted', 'righting'],\n",
       " ['correct', 'corrects', 'corrected', 'correcting'],\n",
       " ['finger', 'fingers', 'fingered', 'fingering'],\n",
       " ['hand', 'hands', 'handed', 'handing'],\n",
       " ['palm', 'palms', 'palmed', 'palming'],\n",
       " ['pine', 'pines', 'pined', 'pining'],\n",
       " ['hour', 'hours'],\n",
       " ['time', 'times', 'timed', 'timing'],\n",
       " ['watch', 'watches', 'watched', 'watching'],\n",
       " ['display', 'displays', 'displayed', 'displaying'],\n",
       " ['turkish'],\n",
       " ['spanish'],\n",
       " ['polish', 'polishes', 'polished', 'polishing'],\n",
       " ['fingernail'],\n",
       " ['attach', 'attaches', 'attached', 'attaching'],\n",
       " ['clinch'],\n",
       " ['tie', 'ties', 'tied', 'tying'],\n",
       " ['bowtie', 'bowties'],\n",
       " ['wristband', 'wristbands'],\n",
       " ['necklace', 'necklaces'],\n",
       " ['ring', 'rings', 'rang', 'rung', 'ringing'],\n",
       " ['bang', 'bangs', 'banged', 'banging'],\n",
       " ['dolphin', 'dolphins'],\n",
       " ['whale', 'whales', 'whaled', 'whaling'],\n",
       " ['seal', 'seals', 'sealed', 'sealing'],\n",
       " ['stamp', 'stamps', 'stamped', 'stamping'],\n",
       " ['park', 'parks', 'parked', 'parking'],\n",
       " ['place', 'places', 'placed', 'placing'],\n",
       " ['square', 'squares', 'squared', 'squaring'],\n",
       " ['green', 'greener', 'greenest', 'greens', 'greened', 'greening'],\n",
       " ['word', 'words', 'worded', 'wording'],\n",
       " ['sentence', 'sentences', 'sentenced', 'sentencing'],\n",
       " ['letter', 'letters'],\n",
       " ['four'],\n",
       " ['gossip'],\n",
       " ['chatter', 'chatters', 'chattered', 'chattering'],\n",
       " ['chitchat'],\n",
       " ['empty', 'emptier', 'emptiest', 'empties', 'emptied', 'emptying'],\n",
       " ['information', 'informations'],\n",
       " ['intellegence'],\n",
       " ['knowledge'],\n",
       " ['dirty', 'dirtier', 'dirtiest'],\n",
       " ['notice', 'notices', 'noticed', 'noticing'],\n",
       " ['recognize',\n",
       "  'recognise',\n",
       "  'recognizes',\n",
       "  'recognises',\n",
       "  'recognized',\n",
       "  'recognised',\n",
       "  'recognizing',\n",
       "  'recognising'],\n",
       " ['detect', 'detects', 'detected', 'detecting'],\n",
       " ['hard', 'harder', 'hardest'],\n",
       " ['thought', 'thoughts'],\n",
       " ['belief', 'beliefs'],\n",
       " ['concern', 'concerns', 'concerned', 'concerning'],\n",
       " ['keyboard', 'keyboards'],\n",
       " ['goal', 'goals'],\n",
       " ['aim', 'aims', 'aimed', 'aiming'],\n",
       " ['purpose', 'purposes'],\n",
       " ['continue', 'continues', 'continued', 'continuing'],\n",
       " ['eye', 'eyes', 'eyed', 'eyeing'],\n",
       " ['brow', 'brows'],\n",
       " ['eyelash'],\n",
       " ['bed', 'beds', 'bedded', 'bedding'],\n",
       " ['humor',\n",
       "  'humour',\n",
       "  'humors',\n",
       "  'humours',\n",
       "  'humored',\n",
       "  'humoured',\n",
       "  'humoring',\n",
       "  'humouring'],\n",
       " ['fun'],\n",
       " ['joke', 'jokes', 'joked', 'joking'],\n",
       " ['counted', 'counts', 'counting'],\n",
       " ['tested', 'test', 'tests', 'testing'],\n",
       " ['evaluation', 'evaluations'],\n",
       " ['exam', 'exams'],\n",
       " ['train', 'trains', 'trained', 'training'],\n",
       " ['essay', 'essays'],\n",
       " ['article', 'articles'],\n",
       " ['paper', 'papers', 'papered', 'papering'],\n",
       " ['water', 'waters', 'watered', 'watering'],\n",
       " ['environment', 'environments'],\n",
       " ['habitat', 'habitats'],\n",
       " ['surrounding', 'surroundings'],\n",
       " ['judge', 'judges', 'judged', 'judging'],\n",
       " ['zoo', 'zoos'],\n",
       " ['animal', 'animals'],\n",
       " ['circus', 'circuses'],\n",
       " ['ring', 'rings', 'rang', 'rung', 'ringing'],\n",
       " ['estimate', 'estimates', 'estimated', 'estimating'],\n",
       " ['forecast', 'forecasts', 'forecasted', 'forecasting'],\n",
       " ['predict', 'predicts', 'predicted', 'predicting'],\n",
       " ['chew', 'chews', 'chewed', 'chewing'],\n",
       " ['coffin', 'coffins'],\n",
       " ['dead', 'deader', 'deadest'],\n",
       " ['bury', 'buries', 'buried', 'burying'],\n",
       " ['cheek', 'cheeks'],\n",
       " ['extinct'],\n",
       " ['extinguish', 'extinguishes', 'extinguished', 'extinguishing'],\n",
       " ['abolish', 'abolishes', 'abolished', 'abolishing'],\n",
       " ['fork', 'forks', 'forked', 'forking'],\n",
       " ['telephone', 'telephones', 'telephoned', 'telephoning'],\n",
       " ['radio', 'radios', 'radioed', 'radioing'],\n",
       " ['television', 'televisions'],\n",
       " ['eat', 'eats', 'ate', 'eaten', 'eating'],\n",
       " ['pause', 'pauses', 'paused', 'pausing'],\n",
       " ['halt', 'halts', 'halted', 'halting'],\n",
       " ['freeze', 'freezes', 'froze', 'frozen', 'freezing'],\n",
       " ['shirt', 'shirts']]"
      ]
     },
     "execution_count": 11,
     "metadata": {},
     "output_type": "execute_result"
    }
   ],
   "source": [
    "lexi"
   ]
  },
  {
   "cell_type": "code",
   "execution_count": 264,
   "metadata": {},
   "outputs": [],
   "source": [
    "lexi_dic = {}\n",
    "for index, row in engs.iterrows():\n",
    "    for word in row.values:\n",
    "        sparql = sparql.replace(\"WORD\", word)\n",
    "        if word in lexi_dic.keys():\n",
    "            pass\n",
    "        else:\n",
    "            lexi_dic[word] = list(get_sparql_dataframe(endpoint, sparql).representation.unique())\n",
    "            if bool(lexi_dic[word]) == False:\n",
    "                lexi_dic[word] = [word]\n",
    "            index = 0\n",
    "            while(index < len(lexi_dic[word])):\n",
    "                if lexi_dic[word][index] not in model.wv.vocab:\n",
    "                    del lexi_dic[word][index]\n",
    "                    index -= 1\n",
    "                index += 1\n",
    "            \n",
    "        sparql = \"\"\"\n",
    "        SELECT ?lexeme ?representation {{\n",
    "           ?lexeme ontolex:lexicalForm / ontolex:representation \"WORD\"@en ;\n",
    "                   ontolex:lexicalForm / ontolex:representation ?representation .\n",
    "        }}\n",
    "        \"\"\""
   ]
  },
  {
   "cell_type": "code",
   "execution_count": 265,
   "metadata": {},
   "outputs": [
    {
     "data": {
      "text/plain": [
       "{'train': ['train', 'trains', 'trained', 'training'],\n",
       " 'car': ['car', 'cars'],\n",
       " 'plane': ['plane', 'planes', 'planed', 'planing', 'planer'],\n",
       " 'exercise': ['exercise', 'exercises', 'exercised', 'exercising'],\n",
       " 'brother': ['brother', 'brothers', 'bretheren'],\n",
       " 'sister': ['sister', 'sisters'],\n",
       " 'father': ['father', 'fathers', 'fathered', 'fathering'],\n",
       " 'iron': ['iron', 'irons', 'ironed', 'ironing'],\n",
       " 'stool': ['stool'],\n",
       " 'chair': ['chair', 'chairs', 'chaired', 'chairing'],\n",
       " 'couch': ['couch', 'couches', 'couched', 'couching'],\n",
       " 'door': ['door', 'doors'],\n",
       " 'tree': ['tree', 'trees', 'treed', 'treeing'],\n",
       " 'grass': ['grass', 'grasses'],\n",
       " 'bush': ['bush', 'bushes'],\n",
       " 'clock': ['clock', 'clocks', 'clocked', 'clocking'],\n",
       " 'poster': ['poster', 'posters'],\n",
       " 'photo': ['photo', 'photos'],\n",
       " 'picture': ['picture', 'pictures', 'pictured', 'picturing'],\n",
       " 'camera': ['camera', 'cameras'],\n",
       " 'weight': ['weight', 'weights', 'weighted', 'weighting'],\n",
       " 'height': ['height', 'heights'],\n",
       " 'length': ['length', 'lengths'],\n",
       " 'meter': ['meter', 'meters', 'metered', 'metering', 'metre', 'metres'],\n",
       " 'worm': ['worm', 'worms', 'wormed', 'worming'],\n",
       " 'earthworm': ['earthworm', 'earthworms'],\n",
       " 'cockroach': ['cockroach', 'cockroaches'],\n",
       " 'tiger': ['tiger', 'tigers'],\n",
       " 'cereals': ['cereal', 'cereals'],\n",
       " 'milk': ['milk', 'milks', 'milked', 'milking'],\n",
       " 'butter': ['butter', 'butters', 'buttered', 'buttering'],\n",
       " 'knife': ['knife', 'knifes', 'knifed', 'knifing', 'knives'],\n",
       " 'lunch': ['lunch', 'lunches', 'lunched', 'lunching'],\n",
       " 'dinner': ['dinner', 'dinners'],\n",
       " 'breakfast': ['breakfast', 'breakfasts', 'breakfasted', 'breakfasting'],\n",
       " 'kitchen': ['kitchen', 'kitchens'],\n",
       " 'basketball': ['basketball', 'basketballs'],\n",
       " 'baseball': ['baseball', 'baseballs'],\n",
       " 'football': ['football', 'footballs'],\n",
       " 'strategy': ['strategy', 'strategies'],\n",
       " 'net': ['net', 'nets', 'netted', 'netting'],\n",
       " 'ball': ['ball', 'balls', 'balled', 'balling'],\n",
       " 'racket': ['racket'],\n",
       " 'spider': ['spider', 'spiders'],\n",
       " 'shirt': ['shirt', 'shirts'],\n",
       " 'trousers': ['trousers'],\n",
       " 'shorts': ['short', 'shorts', 'shorted', 'shorting'],\n",
       " 'cheese': ['cheese', 'cheeses'],\n",
       " 'bag': ['bag', 'bags', 'bagged', 'bagging'],\n",
       " 'luggage': ['luggage'],\n",
       " 'pocket': ['pocket', 'pockets', 'pocketed', 'pocketing'],\n",
       " 'money': ['money', 'monies'],\n",
       " 'truck': ['truck', 'trucks', 'trucked', 'trucking'],\n",
       " 'van': ['van', 'vans'],\n",
       " 'coffee': ['coffee', 'coffees'],\n",
       " 'tea': ['tea', 'teas'],\n",
       " 'soda': ['soda', 'sodas'],\n",
       " 'pasta': ['pasta', 'pastas'],\n",
       " 'wind': ['wind', 'winds', 'wound', 'winding', 'winded'],\n",
       " 'rain': ['rain', 'rains', 'rained', 'raining'],\n",
       " 'hail': ['hail', 'hails', 'hailed', 'hailing'],\n",
       " 'poverty': ['poverty', 'poverties'],\n",
       " 'math': ['math', 'maths'],\n",
       " 'statistics': ['statistic', 'statistics'],\n",
       " 'probability': ['probability', 'probabilities'],\n",
       " 'environment': ['environment', 'environments'],\n",
       " 'derivative': ['derivative', 'derivatives'],\n",
       " 'integral': ['integral', 'integrals'],\n",
       " 'division': ['division', 'divisions'],\n",
       " 'course': ['course', 'courses', 'coursed', 'coursing'],\n",
       " 'student': ['student', 'students'],\n",
       " 'teacher': ['teacher', 'teachers'],\n",
       " 'class': ['class', 'classes', 'classed', 'classing'],\n",
       " 'room': ['room', 'rooms', 'roomed', 'rooming'],\n",
       " 'brush': ['brush', 'brushes', 'brushed', 'brushing'],\n",
       " 'mop': ['mop', 'mops', 'mopped', 'mopping'],\n",
       " 'duster': ['duster'],\n",
       " 'pencil': ['pencil',\n",
       "  'pencils',\n",
       "  'penciled',\n",
       "  'pencilled',\n",
       "  'penciling',\n",
       "  'pencilling'],\n",
       " 'pen': ['pen', 'pens', 'penned', 'penning'],\n",
       " 'marker': ['marker', 'markers'],\n",
       " 'market': ['market', 'markets', 'marketed', 'marketing'],\n",
       " 'income': ['income', 'incomes'],\n",
       " 'wage': ['wage', 'wages', 'waged', 'waging'],\n",
       " 'salary': ['salary', 'salaries'],\n",
       " 'virus': ['virus', 'viruses'],\n",
       " 'illness': ['illness', 'illnesses'],\n",
       " 'bacteria': ['bacterium', 'bacteria'],\n",
       " 'medicine': ['medicine', 'medicines'],\n",
       " 'bar': ['bar', 'bars', 'barred', 'barring'],\n",
       " 'pub': ['pub', 'pubs'],\n",
       " 'disco': ['disco'],\n",
       " 'office': ['office', 'offices'],\n",
       " 'school': ['school', 'schools', 'schooled', 'schooling'],\n",
       " 'university': ['university', 'universities'],\n",
       " 'institute': ['institute', 'institutes', 'instituted', 'instituting'],\n",
       " 'building': ['building', 'buildings', 'built', 'builds', 'build'],\n",
       " 'book': ['book', 'books', 'booked', 'booking'],\n",
       " 'notebook': ['notebook', 'notebooks'],\n",
       " 'sheet': ['sheet', 'sheets', 'sheeted', 'sheeting'],\n",
       " 'stapler': ['stapler', 'staplers'],\n",
       " 'caution': ['caution', 'cautions'],\n",
       " 'danger': ['danger', 'dangers'],\n",
       " 'problem': ['problem', 'problems'],\n",
       " 'happiness': ['happiness', 'happinesses'],\n",
       " 'gun': ['gun', 'guns'],\n",
       " 'ax': ['ax'],\n",
       " 'care': ['care', 'cares', 'cared', 'caring'],\n",
       " 'price': ['price', 'prices', 'priced', 'pricing'],\n",
       " 'ticket': ['ticket', 'tickets'],\n",
       " 'receipt': ['receipt', 'receipts'],\n",
       " 'expensive': ['expensive'],\n",
       " 'lucky': ['lucky', 'luckier', 'luckiest'],\n",
       " 'optimistic': ['optimistic'],\n",
       " 'pesimistic': ['pesimistic'],\n",
       " 'orange': ['orange', 'oranges'],\n",
       " 'green': ['green', 'greener', 'greenest', 'greens', 'greened', 'greening'],\n",
       " 'black': ['black', 'blacker', 'blackest'],\n",
       " 'brown': ['brown', 'browns'],\n",
       " 'television': ['television', 'televisions'],\n",
       " 'radio': ['radio', 'radios', 'radioed', 'radioing'],\n",
       " 'newspaper': ['newspaper', 'newspapers'],\n",
       " 'engineering': ['engineering',\n",
       "  'engineerings',\n",
       "  'engineer',\n",
       "  'engineers',\n",
       "  'engineered'],\n",
       " 'mathematics': ['mathematics'],\n",
       " 'scientific': ['scientific'],\n",
       " 'religion': ['religion', 'religions'],\n",
       " 'cathedral': ['cathedral', 'cathedrals'],\n",
       " 'church': ['church', 'churches'],\n",
       " 'monastery': ['monastery', 'monasteries'],\n",
       " 'shop': ['shop', 'shops', 'shopped', 'shopping'],\n",
       " 'friend': ['friend', 'friends'],\n",
       " 'guest': ['guest', 'guests', 'guested', 'guesting'],\n",
       " 'companion': ['companion', 'companions'],\n",
       " 'enemy': ['enemy', 'enemies'],\n",
       " 'philosophy': ['philosophy', 'philosophies'],\n",
       " 'psychology': ['psychology', 'psychologies'],\n",
       " 'anatomy': ['anatomy', 'anatomies'],\n",
       " 'government': ['government', 'governments'],\n",
       " 'fear': ['fear', 'fears', 'feared', 'fearing'],\n",
       " 'joy': ['joy', 'joys'],\n",
       " 'surprise': ['surprise', 'surprises', 'surprised', 'surprising'],\n",
       " 'bed': ['bed', 'beds', 'bedded', 'bedding'],\n",
       " 'professor': ['professor', 'professors'],\n",
       " 'meeting': ['meet', 'meets', 'met', 'meeting', 'meetings'],\n",
       " 'pepper': ['pepper', 'peppers'],\n",
       " 'spain': ['spain'],\n",
       " 'denmark': ['denmark'],\n",
       " 'turkey': ['turkey', 'turkeys'],\n",
       " 'nation': ['nation', 'nations'],\n",
       " 'son': ['son', 'sons'],\n",
       " 'child': ['child', 'children'],\n",
       " 'daughter': ['daughter', 'daughters'],\n",
       " 'family': ['family', 'families'],\n",
       " 'data': ['data', 'datum'],\n",
       " 'computer': ['computer', 'computers'],\n",
       " 'process': ['process', 'processes', 'processed', 'processing'],\n",
       " 'game': ['game', 'games', 'gamed', 'gaming', 'gamer', 'gamest'],\n",
       " 'console': ['console'],\n",
       " 'play': ['play', 'plays', 'played', 'playing'],\n",
       " 'hotel': ['hotel', 'hotels'],\n",
       " 'volleyball': ['volleyball', 'volleyballs'],\n",
       " 'wrestling': ['wrestle', 'wrestles', 'wrestled', 'wrestling'],\n",
       " 'bat': ['bat', 'bats', 'batted', 'batting'],\n",
       " 'ventilator': ['ventilator', 'ventilators'],\n",
       " 'air-conditioner': ['air-conditioner'],\n",
       " 'fan': ['fan', 'fans', 'fanned', 'fanning'],\n",
       " 'follower': ['follower', 'followers'],\n",
       " 'model': ['model', 'models', 'modeled', 'modelled', 'modeling', 'modelling'],\n",
       " 'guidance': ['guidance', 'guidances'],\n",
       " 'lead': ['lead', 'leads', 'led', 'leading'],\n",
       " 'aluminium': ['aluminium', 'aluminum', 'aluminums'],\n",
       " 'column': ['column', 'columns'],\n",
       " 'line': ['line', 'lines', 'lined', 'lining'],\n",
       " 'row': ['row', 'rows', 'rowed', 'rowing'],\n",
       " 'boat': ['boat', 'boats', 'boated', 'boating'],\n",
       " 'rip': ['rip', 'rips', 'ripped', 'ripping'],\n",
       " 'cut': ['cut', 'cuts', 'cutting'],\n",
       " 'tear': ['tear', 'tears', 'tore', 'torn', 'tearing', 'teared'],\n",
       " 'eye': ['eye', 'eyes', 'eyed', 'eyeing'],\n",
       " 'axis': ['axis', 'axes'],\n",
       " 'pivot': ['pivot', 'pivots', 'pivoted', 'pivoting'],\n",
       " 'axes': ['axe', 'ax', 'axes', 'axed', 'axing', 'axis'],\n",
       " 'sword': ['sword', 'swords'],\n",
       " 'bend': ['bend', 'bends', 'bent', 'bending'],\n",
       " 'curve': ['curve', 'curves', 'curved', 'curving'],\n",
       " 'bow': ['bow', 'bows', 'bowed', 'bowing'],\n",
       " 'arrow': ['arrow', 'arrows'],\n",
       " 'good': ['good', 'better', 'best', 'goods'],\n",
       " 'well': ['well', 'wells'],\n",
       " 'fine': ['fine', 'finer', 'finest', 'fines', 'fined', 'fining'],\n",
       " 'pay': ['pay', 'pays', 'paid', 'paying'],\n",
       " 'town': ['town', 'towns'],\n",
       " 'city': ['city', 'cities'],\n",
       " 'capital': ['capital', 'capitals'],\n",
       " 'letter': ['letter', 'letters'],\n",
       " 'bottle': ['bottle', 'bottles', 'bottled', 'bottling'],\n",
       " 'jar': ['jar', 'jars', 'jarred', 'jarring'],\n",
       " 'can': ['can', 'could', 'cans', 'canned', 'canning'],\n",
       " 'manage': ['manage', 'manages', 'managed', 'managing'],\n",
       " 'bistro': ['bistro'],\n",
       " 'rod': ['rod', 'rods'],\n",
       " 'straight': ['straight', 'straighter', 'straightest'],\n",
       " 'right': ['right', 'rights', 'righted', 'righting'],\n",
       " 'left': ['leave', 'leaves', 'left', 'leaving'],\n",
       " 'went': ['go', 'goes', 'went', 'gone', 'going'],\n",
       " 'fish': ['fish', 'fishes', 'fished', 'fishing'],\n",
       " 'salmon': ['salmon'],\n",
       " 'bass': ['bass', 'basses'],\n",
       " 'violin': ['violin', 'violins'],\n",
       " 'down': ['down', 'downs'],\n",
       " 'up': ['-up', 'up'],\n",
       " 'correct': ['correct', 'corrects', 'corrected', 'correcting'],\n",
       " 'finger': ['finger', 'fingers', 'fingered', 'fingering'],\n",
       " 'hand': ['hand', 'hands', 'handed', 'handing'],\n",
       " 'palm': ['palm', 'palms', 'palmed', 'palming'],\n",
       " 'pine': ['pine', 'pines', 'pined', 'pining'],\n",
       " 'hour': ['hour', 'hours'],\n",
       " 'time': ['time', 'times', 'timed', 'timing'],\n",
       " 'watch': ['watch', 'watches', 'watched', 'watching'],\n",
       " 'display': ['display', 'displays', 'displayed', 'displaying'],\n",
       " 'turkish': ['turkish'],\n",
       " 'spanish': ['spanish'],\n",
       " 'polish': ['polish', 'polishes', 'polished', 'polishing'],\n",
       " 'fingernail': ['fingernail'],\n",
       " 'attach': ['attach', 'attaches', 'attached', 'attaching'],\n",
       " 'clinch': ['clinch'],\n",
       " 'tie': ['tie', 'ties', 'tied', 'tying'],\n",
       " 'bowtie': ['bowtie', 'bowties'],\n",
       " 'wristband': ['wristband', 'wristbands'],\n",
       " 'necklace': ['necklace', 'necklaces'],\n",
       " 'ring': ['ring', 'rings', 'rang', 'rung', 'ringing'],\n",
       " 'bang': ['bang', 'bangs', 'banged', 'banging'],\n",
       " 'dolphin': ['dolphin', 'dolphins'],\n",
       " 'whale': ['whale', 'whales', 'whaled', 'whaling'],\n",
       " 'seal': ['seal', 'seals', 'sealed', 'sealing'],\n",
       " 'stamp': ['stamp', 'stamps', 'stamped', 'stamping'],\n",
       " 'park': ['park', 'parks', 'parked', 'parking'],\n",
       " 'place': ['place', 'places', 'placed', 'placing'],\n",
       " 'square': ['square', 'squares', 'squared', 'squaring'],\n",
       " 'word': ['word', 'words', 'worded', 'wording'],\n",
       " 'sentence': ['sentence', 'sentences', 'sentenced', 'sentencing'],\n",
       " 'four': ['four'],\n",
       " 'gossip': ['gossip'],\n",
       " 'chatter': ['chatter', 'chatters', 'chattered', 'chattering'],\n",
       " 'chitchat': ['chitchat'],\n",
       " 'empty': ['empty', 'emptier', 'emptiest', 'empties', 'emptied', 'emptying'],\n",
       " 'information': ['information', 'informations'],\n",
       " 'intellegence': ['intellegence'],\n",
       " 'knowledge': ['knowledge'],\n",
       " 'dirty': ['dirty', 'dirtier', 'dirtiest'],\n",
       " 'notice': ['notice', 'notices', 'noticed', 'noticing'],\n",
       " 'recognize': ['recognize',\n",
       "  'recognise',\n",
       "  'recognizes',\n",
       "  'recognises',\n",
       "  'recognized',\n",
       "  'recognised',\n",
       "  'recognizing',\n",
       "  'recognising'],\n",
       " 'detect': ['detect', 'detects', 'detected', 'detecting'],\n",
       " 'hard': ['hard', 'harder', 'hardest'],\n",
       " 'thoughts': ['thought', 'thoughts'],\n",
       " 'belief': ['belief', 'beliefs'],\n",
       " 'concern': ['concern', 'concerns', 'concerned', 'concerning'],\n",
       " 'keyboard': ['keyboard', 'keyboards'],\n",
       " 'goal': ['goal', 'goals'],\n",
       " 'aim': ['aim', 'aims', 'aimed', 'aiming'],\n",
       " 'purpose': ['purpose', 'purposes'],\n",
       " 'continue': ['continue', 'continues', 'continued', 'continuing'],\n",
       " 'brow': ['brow', 'brows'],\n",
       " 'eyelash': ['eyelash'],\n",
       " 'humor': ['humor',\n",
       "  'humour',\n",
       "  'humors',\n",
       "  'humours',\n",
       "  'humored',\n",
       "  'humoured',\n",
       "  'humoring',\n",
       "  'humouring'],\n",
       " 'fun': ['fun'],\n",
       " 'joke': ['joke', 'jokes', 'joked', 'joking'],\n",
       " 'counting': ['counted', 'counts', 'counting'],\n",
       " 'test': ['tested', 'test', 'tests', 'testing'],\n",
       " 'evaluation': ['evaluation', 'evaluations'],\n",
       " 'exam': ['exam', 'exams'],\n",
       " 'essay': ['essay', 'essays'],\n",
       " 'article': ['article', 'articles'],\n",
       " 'paper': ['paper', 'papers', 'papered', 'papering'],\n",
       " 'water': ['water', 'waters', 'watered', 'watering'],\n",
       " 'habitat': ['habitat', 'habitats'],\n",
       " 'surroundings': ['surrounding', 'surroundings'],\n",
       " 'judge': ['judge', 'judges', 'judged', 'judging'],\n",
       " 'zoo': ['zoo', 'zoos'],\n",
       " 'animal': ['animal', 'animals'],\n",
       " 'circus': ['circus', 'circuses'],\n",
       " 'estimate': ['estimate', 'estimates', 'estimated', 'estimating'],\n",
       " 'forecast': ['forecast', 'forecasts', 'forecasted', 'forecasting'],\n",
       " 'predict': ['predict', 'predicts', 'predicted', 'predicting'],\n",
       " 'chew': ['chew', 'chews', 'chewed', 'chewing'],\n",
       " 'coffin': ['coffin', 'coffins'],\n",
       " 'dead': ['dead', 'deader', 'deadest'],\n",
       " 'buried': ['bury', 'buries', 'buried', 'burying'],\n",
       " 'cheek': ['cheek', 'cheeks'],\n",
       " 'extinct': ['extinct'],\n",
       " 'extinguish': ['extinguish', 'extinguishes', 'extinguished', 'extinguishing'],\n",
       " 'abolish': ['abolish', 'abolishes', 'abolished', 'abolishing'],\n",
       " 'fork': ['fork', 'forks', 'forked', 'forking'],\n",
       " 'telephone': ['telephone', 'telephones', 'telephoned', 'telephoning'],\n",
       " 'eat': ['eat', 'eats', 'ate', 'eaten', 'eating'],\n",
       " 'pause': ['pause', 'pauses', 'paused', 'pausing'],\n",
       " 'halt': ['halt', 'halts', 'halted', 'halting'],\n",
       " 'freeze': ['freeze', 'freezes', 'froze', 'frozen', 'freezing']}"
      ]
     },
     "execution_count": 265,
     "metadata": {},
     "output_type": "execute_result"
    }
   ],
   "source": [
    "lexi_dic"
   ]
  },
  {
   "cell_type": "code",
   "execution_count": 266,
   "metadata": {},
   "outputs": [],
   "source": [
    "with open(\"dict_lex.txt\", \"wb\") as fp:   #Pickling\n",
    "    pickle.dump(lexi_dic, fp)"
   ]
  },
  {
   "cell_type": "code",
   "execution_count": 12,
   "metadata": {},
   "outputs": [],
   "source": [
    "# Read it from disk\n",
    "\n",
    "with open(\"dict_lex.txt\", \"rb\") as fp:   # Unpickling\n",
    "    lexi_dic = pickle.load(fp)"
   ]
  },
  {
   "cell_type": "code",
   "execution_count": 13,
   "metadata": {},
   "outputs": [
    {
     "data": {
      "text/plain": [
       "{'train': ['train', 'trains', 'trained', 'training'],\n",
       " 'car': ['car', 'cars'],\n",
       " 'plane': ['plane', 'planes', 'planed', 'planing', 'planer'],\n",
       " 'exercise': ['exercise', 'exercises', 'exercised', 'exercising'],\n",
       " 'brother': ['brother', 'brothers', 'bretheren'],\n",
       " 'sister': ['sister', 'sisters'],\n",
       " 'father': ['father', 'fathers', 'fathered', 'fathering'],\n",
       " 'iron': ['iron', 'irons', 'ironed', 'ironing'],\n",
       " 'stool': ['stool'],\n",
       " 'chair': ['chair', 'chairs', 'chaired', 'chairing'],\n",
       " 'couch': ['couch', 'couches', 'couched', 'couching'],\n",
       " 'door': ['door', 'doors'],\n",
       " 'tree': ['tree', 'trees', 'treed', 'treeing'],\n",
       " 'grass': ['grass', 'grasses'],\n",
       " 'bush': ['bush', 'bushes'],\n",
       " 'clock': ['clock', 'clocks', 'clocked', 'clocking'],\n",
       " 'poster': ['poster', 'posters'],\n",
       " 'photo': ['photo', 'photos'],\n",
       " 'picture': ['picture', 'pictures', 'pictured', 'picturing'],\n",
       " 'camera': ['camera', 'cameras'],\n",
       " 'weight': ['weight', 'weights', 'weighted', 'weighting'],\n",
       " 'height': ['height', 'heights'],\n",
       " 'length': ['length', 'lengths'],\n",
       " 'meter': ['meter', 'meters', 'metered', 'metering', 'metre', 'metres'],\n",
       " 'worm': ['worm', 'worms', 'wormed', 'worming'],\n",
       " 'earthworm': ['earthworm', 'earthworms'],\n",
       " 'cockroach': ['cockroach', 'cockroaches'],\n",
       " 'tiger': ['tiger', 'tigers'],\n",
       " 'cereals': ['cereal', 'cereals'],\n",
       " 'milk': ['milk', 'milks', 'milked', 'milking'],\n",
       " 'butter': ['butter', 'butters', 'buttered', 'buttering'],\n",
       " 'knife': ['knife', 'knifes', 'knifed', 'knifing', 'knives'],\n",
       " 'lunch': ['lunch', 'lunches', 'lunched', 'lunching'],\n",
       " 'dinner': ['dinner', 'dinners'],\n",
       " 'breakfast': ['breakfast', 'breakfasts', 'breakfasted', 'breakfasting'],\n",
       " 'kitchen': ['kitchen', 'kitchens'],\n",
       " 'basketball': ['basketball', 'basketballs'],\n",
       " 'baseball': ['baseball', 'baseballs'],\n",
       " 'football': ['football', 'footballs'],\n",
       " 'strategy': ['strategy', 'strategies'],\n",
       " 'net': ['net', 'nets', 'netted', 'netting'],\n",
       " 'ball': ['ball', 'balls', 'balled', 'balling'],\n",
       " 'racket': ['racket'],\n",
       " 'spider': ['spider', 'spiders'],\n",
       " 'shirt': ['shirt', 'shirts'],\n",
       " 'trousers': ['trousers'],\n",
       " 'shorts': ['short', 'shorts', 'shorted', 'shorting'],\n",
       " 'cheese': ['cheese', 'cheeses'],\n",
       " 'bag': ['bag', 'bags', 'bagged', 'bagging'],\n",
       " 'luggage': ['luggage'],\n",
       " 'pocket': ['pocket', 'pockets', 'pocketed', 'pocketing'],\n",
       " 'money': ['money', 'monies'],\n",
       " 'truck': ['truck', 'trucks', 'trucked', 'trucking'],\n",
       " 'van': ['van', 'vans'],\n",
       " 'coffee': ['coffee', 'coffees'],\n",
       " 'tea': ['tea', 'teas'],\n",
       " 'soda': ['soda', 'sodas'],\n",
       " 'pasta': ['pasta', 'pastas'],\n",
       " 'wind': ['wind', 'winds', 'wound', 'winding', 'winded'],\n",
       " 'rain': ['rain', 'rains', 'rained', 'raining'],\n",
       " 'hail': ['hail', 'hails', 'hailed', 'hailing'],\n",
       " 'poverty': ['poverty', 'poverties'],\n",
       " 'math': ['math', 'maths'],\n",
       " 'statistics': ['statistic', 'statistics'],\n",
       " 'probability': ['probability', 'probabilities'],\n",
       " 'environment': ['environment', 'environments'],\n",
       " 'derivative': ['derivative', 'derivatives'],\n",
       " 'integral': ['integral', 'integrals'],\n",
       " 'division': ['division', 'divisions'],\n",
       " 'course': ['course', 'courses', 'coursed', 'coursing'],\n",
       " 'student': ['student', 'students'],\n",
       " 'teacher': ['teacher', 'teachers'],\n",
       " 'class': ['class', 'classes', 'classed', 'classing'],\n",
       " 'room': ['room', 'rooms', 'roomed', 'rooming'],\n",
       " 'brush': ['brush', 'brushes', 'brushed', 'brushing'],\n",
       " 'mop': ['mop', 'mops', 'mopped', 'mopping'],\n",
       " 'duster': ['duster'],\n",
       " 'pencil': ['pencil',\n",
       "  'pencils',\n",
       "  'penciled',\n",
       "  'pencilled',\n",
       "  'penciling',\n",
       "  'pencilling'],\n",
       " 'pen': ['pen', 'pens', 'penned', 'penning'],\n",
       " 'marker': ['marker', 'markers'],\n",
       " 'market': ['market', 'markets', 'marketed', 'marketing'],\n",
       " 'income': ['income', 'incomes'],\n",
       " 'wage': ['wage', 'wages', 'waged', 'waging'],\n",
       " 'salary': ['salary', 'salaries'],\n",
       " 'virus': ['virus', 'viruses'],\n",
       " 'illness': ['illness', 'illnesses'],\n",
       " 'bacteria': ['bacterium', 'bacteria'],\n",
       " 'medicine': ['medicine', 'medicines'],\n",
       " 'bar': ['bar', 'bars', 'barred', 'barring'],\n",
       " 'pub': ['pub', 'pubs'],\n",
       " 'disco': ['disco'],\n",
       " 'office': ['office', 'offices'],\n",
       " 'school': ['school', 'schools', 'schooled', 'schooling'],\n",
       " 'university': ['university', 'universities'],\n",
       " 'institute': ['institute', 'institutes', 'instituted', 'instituting'],\n",
       " 'building': ['building', 'buildings', 'built', 'builds', 'build'],\n",
       " 'book': ['book', 'books', 'booked', 'booking'],\n",
       " 'notebook': ['notebook', 'notebooks'],\n",
       " 'sheet': ['sheet', 'sheets', 'sheeted', 'sheeting'],\n",
       " 'stapler': ['stapler', 'staplers'],\n",
       " 'caution': ['caution', 'cautions'],\n",
       " 'danger': ['danger', 'dangers'],\n",
       " 'problem': ['problem', 'problems'],\n",
       " 'happiness': ['happiness', 'happinesses'],\n",
       " 'gun': ['gun', 'guns'],\n",
       " 'ax': ['ax'],\n",
       " 'care': ['care', 'cares', 'cared', 'caring'],\n",
       " 'price': ['price', 'prices', 'priced', 'pricing'],\n",
       " 'ticket': ['ticket', 'tickets'],\n",
       " 'receipt': ['receipt', 'receipts'],\n",
       " 'expensive': ['expensive'],\n",
       " 'lucky': ['lucky', 'luckier', 'luckiest'],\n",
       " 'optimistic': ['optimistic'],\n",
       " 'pesimistic': ['pesimistic'],\n",
       " 'orange': ['orange', 'oranges'],\n",
       " 'green': ['green', 'greener', 'greenest', 'greens', 'greened', 'greening'],\n",
       " 'black': ['black', 'blacker', 'blackest'],\n",
       " 'brown': ['brown', 'browns'],\n",
       " 'television': ['television', 'televisions'],\n",
       " 'radio': ['radio', 'radios', 'radioed', 'radioing'],\n",
       " 'newspaper': ['newspaper', 'newspapers'],\n",
       " 'engineering': ['engineering',\n",
       "  'engineerings',\n",
       "  'engineer',\n",
       "  'engineers',\n",
       "  'engineered'],\n",
       " 'mathematics': ['mathematics'],\n",
       " 'scientific': ['scientific'],\n",
       " 'religion': ['religion', 'religions'],\n",
       " 'cathedral': ['cathedral', 'cathedrals'],\n",
       " 'church': ['church', 'churches'],\n",
       " 'monastery': ['monastery', 'monasteries'],\n",
       " 'shop': ['shop', 'shops', 'shopped', 'shopping'],\n",
       " 'friend': ['friend', 'friends'],\n",
       " 'guest': ['guest', 'guests', 'guested', 'guesting'],\n",
       " 'companion': ['companion', 'companions'],\n",
       " 'enemy': ['enemy', 'enemies'],\n",
       " 'philosophy': ['philosophy', 'philosophies'],\n",
       " 'psychology': ['psychology', 'psychologies'],\n",
       " 'anatomy': ['anatomy', 'anatomies'],\n",
       " 'government': ['government', 'governments'],\n",
       " 'fear': ['fear', 'fears', 'feared', 'fearing'],\n",
       " 'joy': ['joy', 'joys'],\n",
       " 'surprise': ['surprise', 'surprises', 'surprised', 'surprising'],\n",
       " 'bed': ['bed', 'beds', 'bedded', 'bedding'],\n",
       " 'professor': ['professor', 'professors'],\n",
       " 'meeting': ['meet', 'meets', 'met', 'meeting', 'meetings'],\n",
       " 'pepper': ['pepper', 'peppers'],\n",
       " 'spain': ['spain'],\n",
       " 'denmark': ['denmark'],\n",
       " 'turkey': ['turkey', 'turkeys'],\n",
       " 'nation': ['nation', 'nations'],\n",
       " 'son': ['son', 'sons'],\n",
       " 'child': ['child', 'children'],\n",
       " 'daughter': ['daughter', 'daughters'],\n",
       " 'family': ['family', 'families'],\n",
       " 'data': ['data', 'datum'],\n",
       " 'computer': ['computer', 'computers'],\n",
       " 'process': ['process', 'processes', 'processed', 'processing'],\n",
       " 'game': ['game', 'games', 'gamed', 'gaming', 'gamer', 'gamest'],\n",
       " 'console': ['console'],\n",
       " 'play': ['play', 'plays', 'played', 'playing'],\n",
       " 'hotel': ['hotel', 'hotels'],\n",
       " 'volleyball': ['volleyball', 'volleyballs'],\n",
       " 'wrestling': ['wrestle', 'wrestles', 'wrestled', 'wrestling'],\n",
       " 'bat': ['bat', 'bats', 'batted', 'batting'],\n",
       " 'ventilator': ['ventilator', 'ventilators'],\n",
       " 'air-conditioner': ['air-conditioner'],\n",
       " 'fan': ['fan', 'fans', 'fanned', 'fanning'],\n",
       " 'follower': ['follower', 'followers'],\n",
       " 'model': ['model', 'models', 'modeled', 'modelled', 'modeling', 'modelling'],\n",
       " 'guidance': ['guidance', 'guidances'],\n",
       " 'lead': ['lead', 'leads', 'led', 'leading'],\n",
       " 'aluminium': ['aluminium', 'aluminum', 'aluminums'],\n",
       " 'column': ['column', 'columns'],\n",
       " 'line': ['line', 'lines', 'lined', 'lining'],\n",
       " 'row': ['row', 'rows', 'rowed', 'rowing'],\n",
       " 'boat': ['boat', 'boats', 'boated', 'boating'],\n",
       " 'rip': ['rip', 'rips', 'ripped', 'ripping'],\n",
       " 'cut': ['cut', 'cuts', 'cutting'],\n",
       " 'tear': ['tear', 'tears', 'tore', 'torn', 'tearing', 'teared'],\n",
       " 'eye': ['eye', 'eyes', 'eyed', 'eyeing'],\n",
       " 'axis': ['axis', 'axes'],\n",
       " 'pivot': ['pivot', 'pivots', 'pivoted', 'pivoting'],\n",
       " 'axes': ['axe', 'ax', 'axes', 'axed', 'axing', 'axis'],\n",
       " 'sword': ['sword', 'swords'],\n",
       " 'bend': ['bend', 'bends', 'bent', 'bending'],\n",
       " 'curve': ['curve', 'curves', 'curved', 'curving'],\n",
       " 'bow': ['bow', 'bows', 'bowed', 'bowing'],\n",
       " 'arrow': ['arrow', 'arrows'],\n",
       " 'good': ['good', 'better', 'best', 'goods'],\n",
       " 'well': ['well', 'wells'],\n",
       " 'fine': ['fine', 'finer', 'finest', 'fines', 'fined', 'fining'],\n",
       " 'pay': ['pay', 'pays', 'paid', 'paying'],\n",
       " 'town': ['town', 'towns'],\n",
       " 'city': ['city', 'cities'],\n",
       " 'capital': ['capital', 'capitals'],\n",
       " 'letter': ['letter', 'letters'],\n",
       " 'bottle': ['bottle', 'bottles', 'bottled', 'bottling'],\n",
       " 'jar': ['jar', 'jars', 'jarred', 'jarring'],\n",
       " 'can': ['can', 'could', 'cans', 'canned', 'canning'],\n",
       " 'manage': ['manage', 'manages', 'managed', 'managing'],\n",
       " 'bistro': ['bistro'],\n",
       " 'rod': ['rod', 'rods'],\n",
       " 'straight': ['straight', 'straighter', 'straightest'],\n",
       " 'right': ['right', 'rights', 'righted', 'righting'],\n",
       " 'left': ['leave', 'leaves', 'left', 'leaving'],\n",
       " 'went': ['go', 'goes', 'went', 'gone', 'going'],\n",
       " 'fish': ['fish', 'fishes', 'fished', 'fishing'],\n",
       " 'salmon': ['salmon'],\n",
       " 'bass': ['bass', 'basses'],\n",
       " 'violin': ['violin', 'violins'],\n",
       " 'down': ['down', 'downs'],\n",
       " 'up': ['-up', 'up'],\n",
       " 'correct': ['correct', 'corrects', 'corrected', 'correcting'],\n",
       " 'finger': ['finger', 'fingers', 'fingered', 'fingering'],\n",
       " 'hand': ['hand', 'hands', 'handed', 'handing'],\n",
       " 'palm': ['palm', 'palms', 'palmed', 'palming'],\n",
       " 'pine': ['pine', 'pines', 'pined', 'pining'],\n",
       " 'hour': ['hour', 'hours'],\n",
       " 'time': ['time', 'times', 'timed', 'timing'],\n",
       " 'watch': ['watch', 'watches', 'watched', 'watching'],\n",
       " 'display': ['display', 'displays', 'displayed', 'displaying'],\n",
       " 'turkish': ['turkish'],\n",
       " 'spanish': ['spanish'],\n",
       " 'polish': ['polish', 'polishes', 'polished', 'polishing'],\n",
       " 'fingernail': ['fingernail'],\n",
       " 'attach': ['attach', 'attaches', 'attached', 'attaching'],\n",
       " 'clinch': ['clinch'],\n",
       " 'tie': ['tie', 'ties', 'tied', 'tying'],\n",
       " 'bowtie': ['bowtie', 'bowties'],\n",
       " 'wristband': ['wristband', 'wristbands'],\n",
       " 'necklace': ['necklace', 'necklaces'],\n",
       " 'ring': ['ring', 'rings', 'rang', 'rung', 'ringing'],\n",
       " 'bang': ['bang', 'bangs', 'banged', 'banging'],\n",
       " 'dolphin': ['dolphin', 'dolphins'],\n",
       " 'whale': ['whale', 'whales', 'whaled', 'whaling'],\n",
       " 'seal': ['seal', 'seals', 'sealed', 'sealing'],\n",
       " 'stamp': ['stamp', 'stamps', 'stamped', 'stamping'],\n",
       " 'park': ['park', 'parks', 'parked', 'parking'],\n",
       " 'place': ['place', 'places', 'placed', 'placing'],\n",
       " 'square': ['square', 'squares', 'squared', 'squaring'],\n",
       " 'word': ['word', 'words', 'worded', 'wording'],\n",
       " 'sentence': ['sentence', 'sentences', 'sentenced', 'sentencing'],\n",
       " 'four': ['four'],\n",
       " 'gossip': ['gossip'],\n",
       " 'chatter': ['chatter', 'chatters', 'chattered', 'chattering'],\n",
       " 'chitchat': ['chitchat'],\n",
       " 'empty': ['empty', 'emptier', 'emptiest', 'empties', 'emptied', 'emptying'],\n",
       " 'information': ['information', 'informations'],\n",
       " 'intellegence': ['intellegence'],\n",
       " 'knowledge': ['knowledge'],\n",
       " 'dirty': ['dirty', 'dirtier', 'dirtiest'],\n",
       " 'notice': ['notice', 'notices', 'noticed', 'noticing'],\n",
       " 'recognize': ['recognize',\n",
       "  'recognise',\n",
       "  'recognizes',\n",
       "  'recognises',\n",
       "  'recognized',\n",
       "  'recognised',\n",
       "  'recognizing',\n",
       "  'recognising'],\n",
       " 'detect': ['detect', 'detects', 'detected', 'detecting'],\n",
       " 'hard': ['hard', 'harder', 'hardest'],\n",
       " 'thoughts': ['thought', 'thoughts'],\n",
       " 'belief': ['belief', 'beliefs'],\n",
       " 'concern': ['concern', 'concerns', 'concerned', 'concerning'],\n",
       " 'keyboard': ['keyboard', 'keyboards'],\n",
       " 'goal': ['goal', 'goals'],\n",
       " 'aim': ['aim', 'aims', 'aimed', 'aiming'],\n",
       " 'purpose': ['purpose', 'purposes'],\n",
       " 'continue': ['continue', 'continues', 'continued', 'continuing'],\n",
       " 'brow': ['brow', 'brows'],\n",
       " 'eyelash': ['eyelash'],\n",
       " 'humor': ['humor',\n",
       "  'humour',\n",
       "  'humors',\n",
       "  'humours',\n",
       "  'humored',\n",
       "  'humoured',\n",
       "  'humoring',\n",
       "  'humouring'],\n",
       " 'fun': ['fun'],\n",
       " 'joke': ['joke', 'jokes', 'joked', 'joking'],\n",
       " 'counting': ['counted', 'counts', 'counting'],\n",
       " 'test': ['tested', 'test', 'tests', 'testing'],\n",
       " 'evaluation': ['evaluation', 'evaluations'],\n",
       " 'exam': ['exam', 'exams'],\n",
       " 'essay': ['essay', 'essays'],\n",
       " 'article': ['article', 'articles'],\n",
       " 'paper': ['paper', 'papers', 'papered', 'papering'],\n",
       " 'water': ['water', 'waters', 'watered', 'watering'],\n",
       " 'habitat': ['habitat', 'habitats'],\n",
       " 'surroundings': ['surrounding', 'surroundings'],\n",
       " 'judge': ['judge', 'judges', 'judged', 'judging'],\n",
       " 'zoo': ['zoo', 'zoos'],\n",
       " 'animal': ['animal', 'animals'],\n",
       " 'circus': ['circus', 'circuses'],\n",
       " 'estimate': ['estimate', 'estimates', 'estimated', 'estimating'],\n",
       " 'forecast': ['forecast', 'forecasts', 'forecasted', 'forecasting'],\n",
       " 'predict': ['predict', 'predicts', 'predicted', 'predicting'],\n",
       " 'chew': ['chew', 'chews', 'chewed', 'chewing'],\n",
       " 'coffin': ['coffin', 'coffins'],\n",
       " 'dead': ['dead', 'deader', 'deadest'],\n",
       " 'buried': ['bury', 'buries', 'buried', 'burying'],\n",
       " 'cheek': ['cheek', 'cheeks'],\n",
       " 'extinct': ['extinct'],\n",
       " 'extinguish': ['extinguish', 'extinguishes', 'extinguished', 'extinguishing'],\n",
       " 'abolish': ['abolish', 'abolishes', 'abolished', 'abolishing'],\n",
       " 'fork': ['fork', 'forks', 'forked', 'forking'],\n",
       " 'telephone': ['telephone', 'telephones', 'telephoned', 'telephoning'],\n",
       " 'eat': ['eat', 'eats', 'ate', 'eaten', 'eating'],\n",
       " 'pause': ['pause', 'pauses', 'paused', 'pausing'],\n",
       " 'halt': ['halt', 'halts', 'halted', 'halting'],\n",
       " 'freeze': ['freeze', 'freezes', 'froze', 'frozen', 'freezing']}"
      ]
     },
     "execution_count": 13,
     "metadata": {},
     "output_type": "execute_result"
    }
   ],
   "source": [
    "lexi_dic"
   ]
  },
  {
   "cell_type": "code",
   "execution_count": 269,
   "metadata": {},
   "outputs": [
    {
     "data": {
      "text/plain": [
       "['train', 'trains', 'trained', 'training']"
      ]
     },
     "execution_count": 269,
     "metadata": {},
     "output_type": "execute_result"
    }
   ],
   "source": [
    "lexi[0]"
   ]
  },
  {
   "cell_type": "code",
   "execution_count": 270,
   "metadata": {},
   "outputs": [
    {
     "name": "stderr",
     "output_type": "stream",
     "text": [
      "C:\\Users\\han\\Anaconda3\\lib\\site-packages\\ipykernel_launcher.py:1: DeprecationWarning: Call to deprecated `__getitem__` (Method will be removed in 4.0.0, use self.wv.__getitem__() instead).\n",
      "  \"\"\"Entry point for launching an IPython kernel.\n"
     ]
    },
    {
     "data": {
      "text/plain": [
       "array([[ 0.01335806, -0.00963157,  0.03965454, ...,  0.07919838,\n",
       "        -0.00055836, -0.0662052 ],\n",
       "       [-0.00253134,  0.01508703,  0.01517177, ...,  0.05169091,\n",
       "        -0.00538796, -0.01359428],\n",
       "       [-0.01918122, -0.03465904,  0.01602776, ...,  0.01641077,\n",
       "         0.00442993,  0.02570257],\n",
       "       [-0.00498601,  0.03099985,  0.01820157, ...,  0.04192511,\n",
       "         0.01714599, -0.01442314]], dtype=float32)"
      ]
     },
     "execution_count": 270,
     "metadata": {},
     "output_type": "execute_result"
    }
   ],
   "source": [
    "model[lexi[0]]"
   ]
  },
  {
   "cell_type": "code",
   "execution_count": 271,
   "metadata": {},
   "outputs": [
    {
     "name": "stderr",
     "output_type": "stream",
     "text": [
      "C:\\Users\\han\\Anaconda3\\lib\\site-packages\\ipykernel_launcher.py:1: DeprecationWarning: Call to deprecated `__getitem__` (Method will be removed in 4.0.0, use self.wv.__getitem__() instead).\n",
      "  \"\"\"Entry point for launching an IPython kernel.\n"
     ]
    },
    {
     "data": {
      "text/plain": [
       "(4, 300)"
      ]
     },
     "execution_count": 271,
     "metadata": {},
     "output_type": "execute_result"
    }
   ],
   "source": [
    "model[lexi[0]].shape"
   ]
  },
  {
   "cell_type": "code",
   "execution_count": 272,
   "metadata": {},
   "outputs": [
    {
     "data": {
      "text/plain": [
       "array([ 0.01335806, -0.00963157,  0.03965454,  0.09180262, -0.0331926 ,\n",
       "        0.08483929,  0.02431522,  0.11968493, -0.03047159,  0.03519484,\n",
       "       -0.05092164, -0.08361745,  0.11178705,  0.00459423, -0.04539838,\n",
       "        0.04538921, -0.01614951, -0.04424891, -0.06453691,  0.05003573,\n",
       "       -0.04184186,  0.02385198,  0.02200905, -0.04567365, -0.02363077,\n",
       "       -0.00429634, -0.03335963, -0.06826761,  0.09015382,  0.12594485,\n",
       "       -0.00410175,  0.06496722, -0.06773715, -0.05794243, -0.10057162,\n",
       "        0.09784637, -0.04982875,  0.05412917,  0.07086789, -0.03909565,\n",
       "        0.09275963, -0.03988485,  0.0238022 ,  0.0008159 , -0.07310851,\n",
       "        0.03018969,  0.10965546,  0.05243463, -0.02951758, -0.01182625,\n",
       "       -0.07442603,  0.01813956, -0.02006794,  0.01225487, -0.05043595,\n",
       "       -0.01680496,  0.00351408,  0.05478802, -0.06699947, -0.04158157,\n",
       "        0.04288917, -0.09914285,  0.02928351,  0.00958564, -0.00819166,\n",
       "       -0.14485727, -0.08048556,  0.02208955,  0.00488378,  0.09056231,\n",
       "       -0.02584584,  0.01134155,  0.06407131, -0.02064742, -0.03912585,\n",
       "       -0.04486647, -0.04704739,  0.04287355, -0.06050363, -0.04180455,\n",
       "       -0.11741509,  0.05291629, -0.10688448, -0.01659535,  0.04476181,\n",
       "       -0.05251549, -0.03512856,  0.06947125,  0.12232283, -0.05278021,\n",
       "        0.10318004, -0.06097425, -0.03180758,  0.1359679 ,  0.01602001,\n",
       "        0.03490443,  0.04557296,  0.03727712,  0.00675477,  0.03985506,\n",
       "        0.08184598, -0.10982733, -0.00185578, -0.03927453, -0.02574524,\n",
       "        0.02921247, -0.01537662, -0.02660109, -0.06164645,  0.00585851,\n",
       "        0.02742789, -0.00076131,  0.0099746 ,  0.04861277,  0.01333037,\n",
       "        0.0476556 , -0.11114161,  0.04415321, -0.11021531,  0.10101685,\n",
       "       -0.10374748,  0.0900699 , -0.10414007, -0.11610866, -0.10254542,\n",
       "       -0.0074827 , -0.0798814 ,  0.10681888,  0.10472868,  0.02044966,\n",
       "       -0.07667954,  0.02875847,  0.03615856, -0.00570497,  0.01300575,\n",
       "        0.00682473,  0.03732841,  0.22554523, -0.04194811, -0.08869198,\n",
       "       -0.03844035,  0.04233208,  0.00218541,  0.04332126, -0.02520422,\n",
       "        0.02613483, -0.13457091,  0.08702333, -0.0310187 ,  0.00695395,\n",
       "       -0.0153453 , -0.05803869,  0.04622164, -0.02556453, -0.04534815,\n",
       "       -0.13916966,  0.06636515,  0.02043917, -0.11452742,  0.11659581,\n",
       "        0.05951459,  0.05634498,  0.09515329,  0.0123287 , -0.01253999,\n",
       "        0.00598482,  0.01759652,  0.04710472,  0.00024816,  0.05064928,\n",
       "        0.084264  , -0.08578561, -0.0397209 ,  0.03623253, -0.04291523,\n",
       "       -0.09113361,  0.03014532, -0.04456709,  0.02855935,  0.03508287,\n",
       "       -0.01662655, -0.02912681, -0.05503979, -0.07912382, -0.02044699,\n",
       "       -0.03229501, -0.0346405 , -0.02987687,  0.03478442,  0.15600371,\n",
       "       -0.0386856 , -0.07775714, -0.03038055, -0.02673822, -0.04831027,\n",
       "       -0.05500225,  0.07608379, -0.0336066 ,  0.11123974, -0.04152319,\n",
       "        0.01745305,  0.02080484,  0.0517961 , -0.2372338 , -0.00401079,\n",
       "        0.009994  ,  0.00239898, -0.01047313, -0.06102173,  0.08202282,\n",
       "        0.04164869, -0.05148026, -0.0482991 , -0.02658356,  0.00238393,\n",
       "       -0.02889033, -0.03278844, -0.05879916,  0.03986723, -0.03742608,\n",
       "       -0.02723867,  0.05276706,  0.02714325,  0.00978657,  0.14874823,\n",
       "        0.05444919, -0.00612426,  0.02849881, -0.06793885, -0.02570708,\n",
       "       -0.08785947,  0.219597  , -0.06751326, -0.13237953,  0.04378126,\n",
       "       -0.02697519,  0.03344905, -0.01406614,  0.06610901, -0.07132521,\n",
       "       -0.10832164,  0.01922671, -0.04836761, -0.08748977,  0.11007463,\n",
       "       -0.09657115,  0.15718222, -0.09161708, -0.0082772 , -0.03474782,\n",
       "        0.025275  , -0.03575145, -0.03643521, -0.02219027, -0.01933408,\n",
       "        0.08254109, -0.09189648,  0.00379943, -0.06914674, -0.07392258,\n",
       "        0.04774835, -0.04887453, -0.03843731,  0.03192998, -0.00839453,\n",
       "       -0.08049788, -0.03812631,  0.01275616, -0.08890972,  0.02762317,\n",
       "       -0.02109442, -0.00654994, -0.07197642, -0.02098485,  0.0127009 ,\n",
       "        0.01355284, -0.06544107,  0.0407474 ,  0.02818336,  0.05439591,\n",
       "        0.03789262, -0.03825253, -0.09145369, -0.12118962,  0.07199205,\n",
       "        0.08782788, -0.00665511,  0.05567503,  0.0216505 , -0.10835934,\n",
       "        0.04740774,  0.02097193, -0.04061994, -0.07781526,  0.06299913,\n",
       "        0.03054584,  0.13308406,  0.07919838, -0.00055836, -0.0662052 ],\n",
       "      dtype=float32)"
      ]
     },
     "execution_count": 272,
     "metadata": {},
     "output_type": "execute_result"
    }
   ],
   "source": [
    "model.wv.get_vector(lexi[0][0])"
   ]
  },
  {
   "cell_type": "code",
   "execution_count": 273,
   "metadata": {},
   "outputs": [
    {
     "data": {
      "text/plain": [
       "array([ 0.01335806, -0.00963157,  0.03965454,  0.09180262, -0.0331926 ,\n",
       "        0.08483929,  0.02431522,  0.11968493, -0.03047159,  0.03519484,\n",
       "       -0.05092164, -0.08361745,  0.11178705,  0.00459423, -0.04539838,\n",
       "        0.04538921, -0.01614951, -0.04424891, -0.06453691,  0.05003573,\n",
       "       -0.04184186,  0.02385198,  0.02200905, -0.04567365, -0.02363077,\n",
       "       -0.00429634, -0.03335963, -0.06826761,  0.09015382,  0.12594485,\n",
       "       -0.00410175,  0.06496722, -0.06773715, -0.05794243, -0.10057162,\n",
       "        0.09784637, -0.04982875,  0.05412917,  0.07086789, -0.03909565,\n",
       "        0.09275963, -0.03988485,  0.0238022 ,  0.0008159 , -0.07310851,\n",
       "        0.03018969,  0.10965546,  0.05243463, -0.02951758, -0.01182625,\n",
       "       -0.07442603,  0.01813956, -0.02006794,  0.01225487, -0.05043595,\n",
       "       -0.01680496,  0.00351408,  0.05478802, -0.06699947, -0.04158157,\n",
       "        0.04288917, -0.09914285,  0.02928351,  0.00958564, -0.00819166,\n",
       "       -0.14485727, -0.08048556,  0.02208955,  0.00488378,  0.09056231,\n",
       "       -0.02584584,  0.01134155,  0.06407131, -0.02064742, -0.03912585,\n",
       "       -0.04486647, -0.04704739,  0.04287355, -0.06050363, -0.04180455,\n",
       "       -0.11741509,  0.05291629, -0.10688448, -0.01659535,  0.04476181,\n",
       "       -0.05251549, -0.03512856,  0.06947125,  0.12232283, -0.05278021,\n",
       "        0.10318004, -0.06097425, -0.03180758,  0.1359679 ,  0.01602001,\n",
       "        0.03490443,  0.04557296,  0.03727712,  0.00675477,  0.03985506,\n",
       "        0.08184598, -0.10982733, -0.00185578, -0.03927453, -0.02574524,\n",
       "        0.02921247, -0.01537662, -0.02660109, -0.06164645,  0.00585851,\n",
       "        0.02742789, -0.00076131,  0.0099746 ,  0.04861277,  0.01333037,\n",
       "        0.0476556 , -0.11114161,  0.04415321, -0.11021531,  0.10101685,\n",
       "       -0.10374748,  0.0900699 , -0.10414007, -0.11610866, -0.10254542,\n",
       "       -0.0074827 , -0.0798814 ,  0.10681888,  0.10472868,  0.02044966,\n",
       "       -0.07667954,  0.02875847,  0.03615856, -0.00570497,  0.01300575,\n",
       "        0.00682473,  0.03732841,  0.22554523, -0.04194811, -0.08869198,\n",
       "       -0.03844035,  0.04233208,  0.00218541,  0.04332126, -0.02520422,\n",
       "        0.02613483, -0.13457091,  0.08702333, -0.0310187 ,  0.00695395,\n",
       "       -0.0153453 , -0.05803869,  0.04622164, -0.02556453, -0.04534815,\n",
       "       -0.13916966,  0.06636515,  0.02043917, -0.11452742,  0.11659581,\n",
       "        0.05951459,  0.05634498,  0.09515329,  0.0123287 , -0.01253999,\n",
       "        0.00598482,  0.01759652,  0.04710472,  0.00024816,  0.05064928,\n",
       "        0.084264  , -0.08578561, -0.0397209 ,  0.03623253, -0.04291523,\n",
       "       -0.09113361,  0.03014532, -0.04456709,  0.02855935,  0.03508287,\n",
       "       -0.01662655, -0.02912681, -0.05503979, -0.07912382, -0.02044699,\n",
       "       -0.03229501, -0.0346405 , -0.02987687,  0.03478442,  0.15600371,\n",
       "       -0.0386856 , -0.07775714, -0.03038055, -0.02673822, -0.04831027,\n",
       "       -0.05500225,  0.07608379, -0.0336066 ,  0.11123974, -0.04152319,\n",
       "        0.01745305,  0.02080484,  0.0517961 , -0.2372338 , -0.00401079,\n",
       "        0.009994  ,  0.00239898, -0.01047313, -0.06102173,  0.08202282,\n",
       "        0.04164869, -0.05148026, -0.0482991 , -0.02658356,  0.00238393,\n",
       "       -0.02889033, -0.03278844, -0.05879916,  0.03986723, -0.03742608,\n",
       "       -0.02723867,  0.05276706,  0.02714325,  0.00978657,  0.14874823,\n",
       "        0.05444919, -0.00612426,  0.02849881, -0.06793885, -0.02570708,\n",
       "       -0.08785947,  0.219597  , -0.06751326, -0.13237953,  0.04378126,\n",
       "       -0.02697519,  0.03344905, -0.01406614,  0.06610901, -0.07132521,\n",
       "       -0.10832164,  0.01922671, -0.04836761, -0.08748977,  0.11007463,\n",
       "       -0.09657115,  0.15718222, -0.09161708, -0.0082772 , -0.03474782,\n",
       "        0.025275  , -0.03575145, -0.03643521, -0.02219027, -0.01933408,\n",
       "        0.08254109, -0.09189648,  0.00379943, -0.06914674, -0.07392258,\n",
       "        0.04774835, -0.04887453, -0.03843731,  0.03192998, -0.00839453,\n",
       "       -0.08049788, -0.03812631,  0.01275616, -0.08890972,  0.02762317,\n",
       "       -0.02109442, -0.00654994, -0.07197642, -0.02098485,  0.0127009 ,\n",
       "        0.01355284, -0.06544107,  0.0407474 ,  0.02818336,  0.05439591,\n",
       "        0.03789262, -0.03825253, -0.09145369, -0.12118962,  0.07199205,\n",
       "        0.08782788, -0.00665511,  0.05567503,  0.0216505 , -0.10835934,\n",
       "        0.04740774,  0.02097193, -0.04061994, -0.07781526,  0.06299913,\n",
       "        0.03054584,  0.13308406,  0.07919838, -0.00055836, -0.0662052 ],\n",
       "      dtype=float32)"
      ]
     },
     "execution_count": 273,
     "metadata": {},
     "output_type": "execute_result"
    }
   ],
   "source": [
    "model.wv.word_vec(lexi[0][0])"
   ]
  },
  {
   "cell_type": "code",
   "execution_count": 274,
   "metadata": {},
   "outputs": [
    {
     "data": {
      "text/plain": [
       "array([ True,  True,  True,  True,  True,  True,  True,  True,  True,\n",
       "        True,  True,  True,  True,  True,  True,  True,  True,  True,\n",
       "        True,  True,  True,  True,  True,  True,  True,  True,  True,\n",
       "        True,  True,  True,  True,  True,  True,  True,  True,  True,\n",
       "        True,  True,  True,  True,  True,  True,  True,  True,  True,\n",
       "        True,  True,  True,  True,  True,  True,  True,  True,  True,\n",
       "        True,  True,  True,  True,  True,  True,  True,  True,  True,\n",
       "        True,  True,  True,  True,  True,  True,  True,  True,  True,\n",
       "        True,  True,  True,  True,  True,  True,  True,  True,  True,\n",
       "        True,  True,  True,  True,  True,  True,  True,  True,  True,\n",
       "        True,  True,  True,  True,  True,  True,  True,  True,  True,\n",
       "        True,  True,  True,  True,  True,  True,  True,  True,  True,\n",
       "        True,  True,  True,  True,  True,  True,  True,  True,  True,\n",
       "        True,  True,  True,  True,  True,  True,  True,  True,  True,\n",
       "        True,  True,  True,  True,  True,  True,  True,  True,  True,\n",
       "        True,  True,  True,  True,  True,  True,  True,  True,  True,\n",
       "        True,  True,  True,  True,  True,  True,  True,  True,  True,\n",
       "        True,  True,  True,  True,  True,  True,  True,  True,  True,\n",
       "        True,  True,  True,  True,  True,  True,  True,  True,  True,\n",
       "        True,  True,  True,  True,  True,  True,  True,  True,  True,\n",
       "        True,  True,  True,  True,  True,  True,  True,  True,  True,\n",
       "        True,  True,  True,  True,  True,  True,  True,  True,  True,\n",
       "        True,  True,  True,  True,  True,  True,  True,  True,  True,\n",
       "        True,  True,  True,  True,  True,  True,  True,  True,  True,\n",
       "        True,  True,  True,  True,  True,  True,  True,  True,  True,\n",
       "        True,  True,  True,  True,  True,  True,  True,  True,  True,\n",
       "        True,  True,  True,  True,  True,  True,  True,  True,  True,\n",
       "        True,  True,  True,  True,  True,  True,  True,  True,  True,\n",
       "        True,  True,  True,  True,  True,  True,  True,  True,  True,\n",
       "        True,  True,  True,  True,  True,  True,  True,  True,  True,\n",
       "        True,  True,  True,  True,  True,  True,  True,  True,  True,\n",
       "        True,  True,  True,  True,  True,  True,  True,  True,  True,\n",
       "        True,  True,  True,  True,  True,  True,  True,  True,  True,\n",
       "        True,  True,  True])"
      ]
     },
     "execution_count": 274,
     "metadata": {},
     "output_type": "execute_result"
    }
   ],
   "source": [
    "model.wv.word_vec(lexi[0][0]) == model.wv.get_vector(lexi[0][0])"
   ]
  },
  {
   "cell_type": "code",
   "execution_count": 14,
   "metadata": {},
   "outputs": [],
   "source": [
    "sentence_obama = 'Obama speaks to the media in Illinois'.lower().split()\n",
    "sentence_president = 'The president greets the press in Chicago'.lower().split()"
   ]
  },
  {
   "cell_type": "code",
   "execution_count": 15,
   "metadata": {},
   "outputs": [],
   "source": [
    "from nltk.corpus import stopwords\n",
    "stopwords = stopwords.words('english')\n",
    "sentence_obama = [w for w in sentence_obama if w not in stopwords]\n",
    "sentence_president = [w for w in sentence_president if w not in stopwords]"
   ]
  },
  {
   "cell_type": "code",
   "execution_count": 277,
   "metadata": {},
   "outputs": [
    {
     "name": "stdout",
     "output_type": "stream",
     "text": [
      "['obama', 'speaks', 'media', 'illinois']\n"
     ]
    }
   ],
   "source": [
    "print(sentence_obama)"
   ]
  },
  {
   "cell_type": "code",
   "execution_count": 278,
   "metadata": {},
   "outputs": [
    {
     "name": "stdout",
     "output_type": "stream",
     "text": [
      "['president', 'greets', 'press', 'chicago']\n"
     ]
    }
   ],
   "source": [
    "print(sentence_president)"
   ]
  },
  {
   "cell_type": "code",
   "execution_count": 279,
   "metadata": {},
   "outputs": [
    {
     "name": "stderr",
     "output_type": "stream",
     "text": [
      "C:\\Users\\han\\Anaconda3\\lib\\site-packages\\ipykernel_launcher.py:1: DeprecationWarning: Call to deprecated `wmdistance` (Method will be removed in 4.0.0, use self.wv.wmdistance() instead).\n",
      "  \"\"\"Entry point for launching an IPython kernel.\n"
     ]
    },
    {
     "data": {
      "text/plain": [
       "0.7330935981635585"
      ]
     },
     "execution_count": 279,
     "metadata": {},
     "output_type": "execute_result"
    }
   ],
   "source": [
    "model.wmdistance(lexi[0][0], lexi[0][1])"
   ]
  },
  {
   "cell_type": "code",
   "execution_count": 280,
   "metadata": {},
   "outputs": [
    {
     "name": "stdout",
     "output_type": "stream",
     "text": [
      "0.9925199205029905\n"
     ]
    },
    {
     "name": "stderr",
     "output_type": "stream",
     "text": [
      "C:\\Users\\han\\Anaconda3\\lib\\site-packages\\ipykernel_launcher.py:1: DeprecationWarning: Call to deprecated `wmdistance` (Method will be removed in 4.0.0, use self.wv.wmdistance() instead).\n",
      "  \"\"\"Entry point for launching an IPython kernel.\n"
     ]
    }
   ],
   "source": [
    "distance = model.wmdistance(sentence_obama, sentence_president)\n",
    "print(distance)"
   ]
  },
  {
   "cell_type": "code",
   "execution_count": 19,
   "metadata": {},
   "outputs": [
    {
     "data": {
      "text/plain": [
       "'\\nt-Distributed Stochastic Neighbor Embedding\\nThe t-SNE algorithm calculates a similarity measure between pairs of instances in the high dimensional space and \\nin the low dimensional space. It then tries to optimize these two similarity measures using a cost function. \\n'"
      ]
     },
     "execution_count": 19,
     "metadata": {},
     "output_type": "execute_result"
    }
   ],
   "source": [
    "from sklearn.decomposition import IncrementalPCA    # inital reduction\n",
    "from sklearn.manifold import TSNE                   # final reduction\n",
    "import numpy as np                                  # array handling\n",
    "\n",
    "\"\"\"\n",
    "t-Distributed Stochastic Neighbor Embedding\n",
    "The t-SNE algorithm calculates a similarity measure between pairs of instances in the high dimensional space and \n",
    "in the low dimensional space. It then tries to optimize these two similarity measures using a cost function. \n",
    "\"\"\""
   ]
  },
  {
   "cell_type": "code",
   "execution_count": 20,
   "metadata": {},
   "outputs": [],
   "source": [
    "def reduce_dimensions(lexi):\n",
    "    num_dimensions = 2  # final num dimensions (2D, 3D, etc)\n",
    "\n",
    "    vectors = [] # positions in vector space\n",
    "    labels = [] # keep track of words to label our data again later\n",
    "    for ls in lexi:\n",
    "        for word in ls:\n",
    "            vectors.append(model.wv[word])\n",
    "            labels.append(word)\n",
    "\n",
    "    # convert both lists into numpy vectors for reduction\n",
    "    vectors = np.asarray(vectors)\n",
    "    labels = np.asarray(labels)\n",
    "\n",
    "    # reduce using t-SNE\n",
    "    vectors = np.asarray(vectors)\n",
    "    tsne = TSNE(n_components=num_dimensions, random_state=0)\n",
    "    vectors = tsne.fit_transform(vectors)\n",
    "\n",
    "    x_vals = [v[0] for v in vectors]\n",
    "    y_vals = [v[1] for v in vectors]\n",
    "    return x_vals, y_vals, labels"
   ]
  },
  {
   "cell_type": "code",
   "execution_count": 21,
   "metadata": {},
   "outputs": [],
   "source": [
    "x_vals, y_vals, labels = reduce_dimensions(lexi)\n",
    "\n",
    "def plot_with_plotly(x_vals, y_vals, labels, plot_in_notebook=True):\n",
    "    from plotly.offline import init_notebook_mode, iplot, plot\n",
    "    import plotly.graph_objs as go\n",
    "\n",
    "    trace = go.Scatter(x=x_vals, y=y_vals, mode='text', text=labels)\n",
    "    data = [trace]\n",
    "\n",
    "    if plot_in_notebook:\n",
    "        init_notebook_mode(connected=True)\n",
    "        iplot(data, filename='word-embedding-plot')\n",
    "    else:\n",
    "        plot(data, filename='word-embedding-plot.html')\n",
    "        \n",
    "        \n"
   ]
  },
  {
   "cell_type": "code",
   "execution_count": 22,
   "metadata": {},
   "outputs": [
    {
     "data": {
      "text/html": [
       "        <script type=\"text/javascript\">\n",
       "        window.PlotlyConfig = {MathJaxConfig: 'local'};\n",
       "        if (window.MathJax) {MathJax.Hub.Config({SVG: {font: \"STIX-Web\"}});}\n",
       "        if (typeof require !== 'undefined') {\n",
       "        require.undef(\"plotly\");\n",
       "        requirejs.config({\n",
       "            paths: {\n",
       "                'plotly': ['https://cdn.plot.ly/plotly-latest.min']\n",
       "            }\n",
       "        });\n",
       "        require(['plotly'], function(Plotly) {\n",
       "            window._Plotly = Plotly;\n",
       "        });\n",
       "        }\n",
       "        </script>\n",
       "        "
      ]
     },
     "metadata": {},
     "output_type": "display_data"
    },
    {
     "data": {
      "application/vnd.plotly.v1+json": {
       "config": {
        "linkText": "Export to plot.ly",
        "plotlyServerURL": "https://plot.ly",
        "showLink": false
       },
       "data": [
        {
         "mode": "text",
         "text": [
          "train",
          "trains",
          "trained",
          "training",
          "car",
          "cars",
          "plane",
          "planes",
          "planed",
          "planing",
          "planer",
          "exercise",
          "exercises",
          "exercised",
          "exercising",
          "brother",
          "brothers",
          "bretheren",
          "sister",
          "sisters",
          "father",
          "fathers",
          "fathered",
          "fathering",
          "iron",
          "irons",
          "ironed",
          "ironing",
          "stool",
          "chair",
          "chairs",
          "chaired",
          "chairing",
          "couch",
          "couches",
          "couched",
          "couching",
          "door",
          "doors",
          "tree",
          "trees",
          "treed",
          "treeing",
          "grass",
          "grasses",
          "bush",
          "bushes",
          "clock",
          "clocks",
          "clocked",
          "clocking",
          "poster",
          "posters",
          "photo",
          "photos",
          "picture",
          "pictures",
          "pictured",
          "picturing",
          "camera",
          "cameras",
          "weight",
          "weights",
          "weighted",
          "weighting",
          "height",
          "heights",
          "length",
          "lengths",
          "meter",
          "meters",
          "metered",
          "metering",
          "metre",
          "metres",
          "worm",
          "worms",
          "wormed",
          "worming",
          "earthworm",
          "earthworms",
          "cockroach",
          "cockroaches",
          "tiger",
          "tigers",
          "cereal",
          "cereals",
          "milk",
          "milks",
          "milked",
          "milking",
          "butter",
          "butters",
          "buttered",
          "buttering",
          "knife",
          "knifes",
          "knifed",
          "knifing",
          "knives",
          "lunch",
          "lunches",
          "lunched",
          "lunching",
          "dinner",
          "dinners",
          "breakfast",
          "breakfasts",
          "breakfasted",
          "breakfasting",
          "kitchen",
          "kitchens",
          "basketball",
          "basketballs",
          "baseball",
          "baseballs",
          "football",
          "footballs",
          "strategy",
          "strategies",
          "net",
          "nets",
          "netted",
          "netting",
          "ball",
          "balls",
          "balled",
          "balling",
          "racket",
          "spider",
          "spiders",
          "shirt",
          "shirts",
          "trousers",
          "short",
          "shorts",
          "shorted",
          "shorting",
          "cheese",
          "cheeses",
          "bag",
          "bags",
          "bagged",
          "bagging",
          "luggage",
          "pocket",
          "pockets",
          "pocketed",
          "pocketing",
          "money",
          "monies",
          "car",
          "cars",
          "truck",
          "trucks",
          "trucked",
          "trucking",
          "van",
          "vans",
          "plane",
          "planes",
          "planed",
          "planing",
          "planer",
          "coffee",
          "coffees",
          "tea",
          "teas",
          "soda",
          "sodas",
          "pasta",
          "pastas",
          "wind",
          "winds",
          "wound",
          "winding",
          "winded",
          "rain",
          "rains",
          "rained",
          "raining",
          "hail",
          "hails",
          "hailed",
          "hailing",
          "poverty",
          "poverties",
          "math",
          "maths",
          "statistic",
          "statistics",
          "probability",
          "probabilities",
          "environment",
          "environments",
          "derivative",
          "derivatives",
          "integral",
          "integrals",
          "division",
          "divisions",
          "course",
          "courses",
          "coursed",
          "coursing",
          "student",
          "students",
          "teacher",
          "teachers",
          "class",
          "classes",
          "classed",
          "classing",
          "room",
          "rooms",
          "roomed",
          "rooming",
          "brush",
          "brushes",
          "brushed",
          "brushing",
          "mop",
          "mops",
          "mopped",
          "mopping",
          "duster",
          "pencil",
          "pencils",
          "penciled",
          "pencilled",
          "penciling",
          "pencilling",
          "pen",
          "pens",
          "penned",
          "penning",
          "pencil",
          "pencils",
          "penciled",
          "pencilled",
          "penciling",
          "pencilling",
          "marker",
          "markers",
          "market",
          "markets",
          "marketed",
          "marketing",
          "income",
          "incomes",
          "wage",
          "wages",
          "waged",
          "waging",
          "salary",
          "salaries",
          "strategy",
          "strategies",
          "virus",
          "viruses",
          "illness",
          "illnesses",
          "bacterium",
          "bacteria",
          "medicine",
          "medicines",
          "bar",
          "bars",
          "barred",
          "barring",
          "pub",
          "pubs",
          "disco",
          "office",
          "offices",
          "school",
          "schools",
          "schooled",
          "schooling",
          "university",
          "universities",
          "institute",
          "institutes",
          "instituted",
          "instituting",
          "building",
          "buildings",
          "built",
          "builds",
          "build",
          "book",
          "books",
          "booked",
          "booking",
          "notebook",
          "notebooks",
          "sheet",
          "sheets",
          "sheeted",
          "sheeting",
          "stapler",
          "staplers",
          "caution",
          "cautions",
          "danger",
          "dangers",
          "problem",
          "problems",
          "happiness",
          "happinesses",
          "knife",
          "knifes",
          "knifed",
          "knifing",
          "knives",
          "gun",
          "guns",
          "ax",
          "care",
          "cares",
          "cared",
          "caring",
          "price",
          "prices",
          "priced",
          "pricing",
          "ticket",
          "tickets",
          "receipt",
          "receipts",
          "expensive",
          "lucky",
          "luckier",
          "luckiest",
          "optimistic",
          "pesimistic",
          "orange",
          "oranges",
          "green",
          "greener",
          "greenest",
          "greens",
          "greened",
          "greening",
          "black",
          "blacker",
          "blackest",
          "brown",
          "browns",
          "bag",
          "bags",
          "bagged",
          "bagging",
          "television",
          "televisions",
          "radio",
          "radios",
          "radioed",
          "radioing",
          "newspaper",
          "newspapers",
          "medicine",
          "medicines",
          "engineering",
          "engineerings",
          "engineer",
          "engineers",
          "engineered",
          "mathematics",
          "scientific",
          "religion",
          "religions",
          "cathedral",
          "cathedrals",
          "church",
          "churches",
          "monastery",
          "monasteries",
          "shop",
          "shops",
          "shopped",
          "shopping",
          "friend",
          "friends",
          "guest",
          "guests",
          "guested",
          "guesting",
          "companion",
          "companions",
          "enemy",
          "enemies",
          "philosophy",
          "philosophies",
          "psychology",
          "psychologies",
          "anatomy",
          "anatomies",
          "government",
          "governments",
          "fear",
          "fears",
          "feared",
          "fearing",
          "joy",
          "joys",
          "surprise",
          "surprises",
          "surprised",
          "surprising",
          "bed",
          "beds",
          "bedded",
          "bedding",
          "professor",
          "professors",
          "book",
          "books",
          "booked",
          "booking",
          "meet",
          "meets",
          "met",
          "meeting",
          "meetings",
          "pepper",
          "peppers",
          "spain",
          "denmark",
          "turkey",
          "turkeys",
          "nation",
          "nations",
          "son",
          "sons",
          "child",
          "children",
          "daughter",
          "daughters",
          "family",
          "families",
          "data",
          "datum",
          "computer",
          "computers",
          "process",
          "processes",
          "processed",
          "processing",
          "room",
          "rooms",
          "roomed",
          "rooming",
          "game",
          "games",
          "gamed",
          "gaming",
          "gamer",
          "gamest",
          "console",
          "play",
          "plays",
          "played",
          "playing",
          "hotel",
          "hotels",
          "volleyball",
          "volleyballs",
          "wrestle",
          "wrestles",
          "wrestled",
          "wrestling",
          "baseball",
          "baseballs",
          "bat",
          "bats",
          "batted",
          "batting",
          "ventilator",
          "ventilators",
          "air-conditioner",
          "fan",
          "fans",
          "fanned",
          "fanning",
          "follower",
          "followers",
          "model",
          "models",
          "modeled",
          "modelled",
          "modeling",
          "modelling",
          "guidance",
          "guidances",
          "lead",
          "leads",
          "led",
          "leading",
          "aluminium",
          "aluminum",
          "aluminums",
          "column",
          "columns",
          "line",
          "lines",
          "lined",
          "lining",
          "row",
          "rows",
          "rowed",
          "rowing",
          "boat",
          "boats",
          "boated",
          "boating",
          "rip",
          "rips",
          "ripped",
          "ripping",
          "cut",
          "cuts",
          "cutting",
          "tear",
          "tears",
          "tore",
          "torn",
          "tearing",
          "teared",
          "eye",
          "eyes",
          "eyed",
          "eyeing",
          "axis",
          "axes",
          "pivot",
          "pivots",
          "pivoted",
          "pivoting",
          "axe",
          "ax",
          "axes",
          "axed",
          "axing",
          "axis",
          "sword",
          "swords",
          "bend",
          "bends",
          "bent",
          "bending",
          "curve",
          "curves",
          "curved",
          "curving",
          "bow",
          "bows",
          "bowed",
          "bowing",
          "arrow",
          "arrows",
          "good",
          "better",
          "best",
          "goods",
          "well",
          "wells",
          "fine",
          "finer",
          "finest",
          "fines",
          "fined",
          "fining",
          "pay",
          "pays",
          "paid",
          "paying",
          "town",
          "towns",
          "city",
          "cities",
          "capital",
          "capitals",
          "letter",
          "letters",
          "bottle",
          "bottles",
          "bottled",
          "bottling",
          "jar",
          "jars",
          "jarred",
          "jarring",
          "can",
          "could",
          "cans",
          "canned",
          "canning",
          "manage",
          "manages",
          "managed",
          "managing",
          "pub",
          "pubs",
          "bistro",
          "bar",
          "bars",
          "barred",
          "barring",
          "rod",
          "rods",
          "straight",
          "straighter",
          "straightest",
          "right",
          "rights",
          "righted",
          "righting",
          "leave",
          "leaves",
          "left",
          "leaving",
          "go",
          "goes",
          "went",
          "gone",
          "going",
          "fish",
          "fishes",
          "fished",
          "fishing",
          "salmon",
          "bass",
          "basses",
          "violin",
          "violins",
          "down",
          "downs",
          "-up",
          "up",
          "right",
          "rights",
          "righted",
          "righting",
          "correct",
          "corrects",
          "corrected",
          "correcting",
          "finger",
          "fingers",
          "fingered",
          "fingering",
          "hand",
          "hands",
          "handed",
          "handing",
          "palm",
          "palms",
          "palmed",
          "palming",
          "pine",
          "pines",
          "pined",
          "pining",
          "hour",
          "hours",
          "time",
          "times",
          "timed",
          "timing",
          "watch",
          "watches",
          "watched",
          "watching",
          "display",
          "displays",
          "displayed",
          "displaying",
          "turkish",
          "spanish",
          "polish",
          "polishes",
          "polished",
          "polishing",
          "fingernail",
          "attach",
          "attaches",
          "attached",
          "attaching",
          "clinch",
          "tie",
          "ties",
          "tied",
          "tying",
          "bowtie",
          "bowties",
          "wristband",
          "wristbands",
          "necklace",
          "necklaces",
          "ring",
          "rings",
          "rang",
          "rung",
          "ringing",
          "bang",
          "bangs",
          "banged",
          "banging",
          "dolphin",
          "dolphins",
          "whale",
          "whales",
          "whaled",
          "whaling",
          "seal",
          "seals",
          "sealed",
          "sealing",
          "stamp",
          "stamps",
          "stamped",
          "stamping",
          "park",
          "parks",
          "parked",
          "parking",
          "place",
          "places",
          "placed",
          "placing",
          "square",
          "squares",
          "squared",
          "squaring",
          "green",
          "greener",
          "greenest",
          "greens",
          "greened",
          "greening",
          "word",
          "words",
          "worded",
          "wording",
          "sentence",
          "sentences",
          "sentenced",
          "sentencing",
          "letter",
          "letters",
          "four",
          "gossip",
          "chatter",
          "chatters",
          "chattered",
          "chattering",
          "chitchat",
          "empty",
          "emptier",
          "emptiest",
          "empties",
          "emptied",
          "emptying",
          "information",
          "informations",
          "intellegence",
          "knowledge",
          "dirty",
          "dirtier",
          "dirtiest",
          "notice",
          "notices",
          "noticed",
          "noticing",
          "recognize",
          "recognise",
          "recognizes",
          "recognises",
          "recognized",
          "recognised",
          "recognizing",
          "recognising",
          "detect",
          "detects",
          "detected",
          "detecting",
          "hard",
          "harder",
          "hardest",
          "thought",
          "thoughts",
          "belief",
          "beliefs",
          "concern",
          "concerns",
          "concerned",
          "concerning",
          "keyboard",
          "keyboards",
          "goal",
          "goals",
          "aim",
          "aims",
          "aimed",
          "aiming",
          "purpose",
          "purposes",
          "continue",
          "continues",
          "continued",
          "continuing",
          "eye",
          "eyes",
          "eyed",
          "eyeing",
          "brow",
          "brows",
          "eyelash",
          "bed",
          "beds",
          "bedded",
          "bedding",
          "humor",
          "humour",
          "humors",
          "humours",
          "humored",
          "humoured",
          "humoring",
          "humouring",
          "fun",
          "joke",
          "jokes",
          "joked",
          "joking",
          "counted",
          "counts",
          "counting",
          "tested",
          "test",
          "tests",
          "testing",
          "evaluation",
          "evaluations",
          "exam",
          "exams",
          "train",
          "trains",
          "trained",
          "training",
          "essay",
          "essays",
          "article",
          "articles",
          "paper",
          "papers",
          "papered",
          "papering",
          "water",
          "waters",
          "watered",
          "watering",
          "environment",
          "environments",
          "habitat",
          "habitats",
          "surrounding",
          "surroundings",
          "judge",
          "judges",
          "judged",
          "judging",
          "zoo",
          "zoos",
          "animal",
          "animals",
          "circus",
          "circuses",
          "ring",
          "rings",
          "rang",
          "rung",
          "ringing",
          "estimate",
          "estimates",
          "estimated",
          "estimating",
          "forecast",
          "forecasts",
          "forecasted",
          "forecasting",
          "predict",
          "predicts",
          "predicted",
          "predicting",
          "chew",
          "chews",
          "chewed",
          "chewing",
          "coffin",
          "coffins",
          "dead",
          "deader",
          "deadest",
          "bury",
          "buries",
          "buried",
          "burying",
          "cheek",
          "cheeks",
          "extinct",
          "extinguish",
          "extinguishes",
          "extinguished",
          "extinguishing",
          "abolish",
          "abolishes",
          "abolished",
          "abolishing",
          "fork",
          "forks",
          "forked",
          "forking",
          "telephone",
          "telephones",
          "telephoned",
          "telephoning",
          "radio",
          "radios",
          "radioed",
          "radioing",
          "television",
          "televisions",
          "eat",
          "eats",
          "ate",
          "eaten",
          "eating",
          "pause",
          "pauses",
          "paused",
          "pausing",
          "halt",
          "halts",
          "halted",
          "halting",
          "freeze",
          "freezes",
          "froze",
          "frozen",
          "freezing",
          "shirt",
          "shirts"
         ],
         "type": "scatter",
         "x": [
          43.12343215942383,
          43.307762145996094,
          -3.5544004440307617,
          3.0388550758361816,
          38.34853744506836,
          39.76158905029297,
          49.0433349609375,
          46.995914459228516,
          -41.95097732543945,
          -25.707366943359375,
          -24.470645904541016,
          -0.03912294656038284,
          0.868956983089447,
          -1.4959871768951416,
          -0.7101492285728455,
          20.34444808959961,
          20.22510528564453,
          8.612062454223633,
          19.241527557373047,
          19.448396682739258,
          21.432498931884766,
          22.668720245361328,
          25.018510818481445,
          24.691164016723633,
          7.038516998291016,
          -19.114259719848633,
          -19.682403564453125,
          -19.40409278869629,
          23.10576629638672,
          21.848268508911133,
          21.406675338745117,
          23.131927490234375,
          22.996366500854492,
          19.241897583007812,
          19.693069458007812,
          -13.342458724975586,
          -13.35224723815918,
          58.57461929321289,
          58.571590423583984,
          42.683937072753906,
          42.01137924194336,
          -10.842756271362305,
          -19.351585388183594,
          37.70008850097656,
          38.4237174987793,
          40.21406936645508,
          40.60031509399414,
          8.494887351989746,
          8.513202667236328,
          -31.95917510986328,
          -31.970081329345703,
          11.47507095336914,
          11.471451759338379,
          4.3312554359436035,
          4.2997894287109375,
          2.918527841567993,
          3.666437864303589,
          1.300004482269287,
          -10.680655479431152,
          18.042116165161133,
          18.0811767578125,
          -3.6371662616729736,
          -3.981144666671753,
          -4.938810348510742,
          -4.643435478210449,
          -56.8444938659668,
          -56.99677658081055,
          17.602476119995117,
          17.62649154663086,
          -61.18288803100586,
          -61.58201217651367,
          -58.17975616455078,
          -58.18231201171875,
          -62.42593002319336,
          -61.995426177978516,
          32.168968200683594,
          31.573461532592773,
          -34.75017166137695,
          -34.745819091796875,
          30.803970336914062,
          31.075576782226562,
          27.59551429748535,
          27.46815299987793,
          43.35576248168945,
          43.107505798339844,
          30.420351028442383,
          30.39919090270996,
          27.84491539001465,
          26.882740020751953,
          25.65314483642578,
          25.4907283782959,
          16.828838348388672,
          16.301843643188477,
          18.4322452545166,
          18.42620849609375,
          -35.93341064453125,
          -34.548728942871094,
          -27.209596633911133,
          -24.545398712158203,
          -33.431365966796875,
          26.44821548461914,
          26.56867027282715,
          22.37220573425293,
          23.13994026184082,
          28.212848663330078,
          27.854644775390625,
          25.83836555480957,
          26.16297149658203,
          23.550621032714844,
          24.049945831298828,
          25.924488067626953,
          25.95847511291504,
          3.8287770748138428,
          1.385934829711914,
          2.597999334335327,
          -0.07354754209518433,
          3.89486026763916,
          0.5892847776412964,
          0.8393906950950623,
          1.3708148002624512,
          16.045272827148438,
          15.80989933013916,
          14.044792175292969,
          14.54409408569336,
          -2.5362768173217773,
          -1.677260160446167,
          -23.252330780029297,
          -22.768726348876953,
          1.4939645528793335,
          27.582082748413086,
          27.673873901367188,
          4.875697135925293,
          5.812976837158203,
          7.102314472198486,
          50.646305084228516,
          7.082791328430176,
          -37.50355529785156,
          -37.50193405151367,
          20.484107971191406,
          20.536678314208984,
          -9.930440902709961,
          -8.608850479125977,
          -36.66873550415039,
          -34.301395416259766,
          10.568020820617676,
          -35.7443962097168,
          -35.80149459838867,
          -1.027937889099121,
          -1.0744935274124146,
          27.746536254882812,
          27.81439781188965,
          38.348533630371094,
          39.760658264160156,
          35.34365463256836,
          35.517459869384766,
          0.0926731526851654,
          33.521156311035156,
          34.94729995727539,
          35.64302062988281,
          49.043304443359375,
          46.99589920043945,
          -41.9511833190918,
          -25.707416534423828,
          -24.470645904541016,
          22.1464786529541,
          22.240549087524414,
          22.993860244750977,
          22.803424835205078,
          17.449615478515625,
          17.5881404876709,
          32.270050048828125,
          32.29314041137695,
          -43.533626556396484,
          -43.52888870239258,
          -5.845484256744385,
          -6.185413837432861,
          52.30038833618164,
          -1.4425666332244873,
          -1.2639107704162598,
          -1.1137455701828003,
          -1.1218891143798828,
          2.122241735458374,
          3.8248751163482666,
          2.1285109519958496,
          2.5984554290771484,
          9.80946159362793,
          8.957841873168945,
          23.332834243774414,
          23.258298873901367,
          -3.2072205543518066,
          -3.3764278888702393,
          -3.661717653274536,
          -3.508449077606201,
          3.2789013385772705,
          4.586966037750244,
          -1.9509493112564087,
          -1.8301671743392944,
          -4.4341607093811035,
          -5.7071757316589355,
          1.9395179748535156,
          2.1706578731536865,
          6.031978130340576,
          6.610568046569824,
          -30.343746185302734,
          -30.338821411132812,
          15.665975570678711,
          15.134781837463379,
          16.96500587463379,
          16.077165603637695,
          8.930255889892578,
          8.52647876739502,
          -11.80272102355957,
          -12.204533576965332,
          50.81997299194336,
          51.40141677856445,
          50.34699630737305,
          53.940773010253906,
          -28.151018142700195,
          -27.880945205688477,
          -26.921545028686523,
          -27.0544490814209,
          -32.1709098815918,
          -31.911235809326172,
          -31.79723358154297,
          -31.70599937438965,
          -1.926066517829895,
          -48.526832580566406,
          -47.161651611328125,
          -44.5080680847168,
          -42.9669075012207,
          -44.81279754638672,
          -43.050655364990234,
          -49.40584182739258,
          -48.54352569580078,
          -14.496976852416992,
          -14.497624397277832,
          -48.41376876831055,
          -47.161651611328125,
          -44.63547134399414,
          -43.02396011352539,
          -44.62324523925781,
          -43.021270751953125,
          -2.8910653591156006,
          -2.887331485748291,
          13.452815055847168,
          13.495793342590332,
          -0.954496443271637,
          2.8099029064178467,
          28.975358963012695,
          29.16879653930664,
          32.070533752441406,
          32.012027740478516,
          -7.626951694488525,
          -7.639220237731934,
          33.699310302734375,
          33.41708755493164,
          1.0067886114120483,
          1.3696285486221313,
          27.57126235961914,
          27.94447135925293,
          22.695819854736328,
          22.7143497467041,
          30.31078338623047,
          30.19427490234375,
          17.79134178161621,
          16.088584899902344,
          28.054298400878906,
          24.18649673461914,
          -50.66716766357422,
          -9.969552993774414,
          52.98145294189453,
          50.52891159057617,
          25.36277961730957,
          23.191394805908203,
          23.231096267700195,
          15.576970100402832,
          14.64424991607666,
          16.352657318115234,
          16.127683639526367,
          12.571383476257324,
          12.097631454467773,
          10.873991966247559,
          11.103645324707031,
          -2.863717555999756,
          -3.057774066925049,
          20.64042854309082,
          21.06344223022461,
          12.826676368713379,
          11.163387298583984,
          11.598052024841309,
          31.325197219848633,
          32.07197189331055,
          -41.943756103515625,
          -18.52594566345215,
          14.362143516540527,
          14.293916702270508,
          37.2392692565918,
          37.309181213378906,
          10.57070255279541,
          9.86793041229248,
          11.870171546936035,
          11.875027656555176,
          4.876381874084473,
          4.545603275299072,
          -4.849791049957275,
          -4.92460298538208,
          -1.7794530391693115,
          -1.784481406211853,
          7.416228771209717,
          7.826548099517822,
          -36.13652420043945,
          -34.09575271606445,
          -27.209598541259766,
          -24.545392990112305,
          -33.86518478393555,
          -29.886974334716797,
          -30.758262634277344,
          -41.7570915222168,
          12.987706184387207,
          11.574872970581055,
          11.354961395263672,
          11.805713653564453,
          -4.420793056488037,
          -3.959707736968994,
          -5.899550437927246,
          -0.7502879500389099,
          -12.519822120666504,
          -12.488556861877441,
          -4.799572467803955,
          -4.415018558502197,
          -6.738166332244873,
          -23.629554748535156,
          -22.9644775390625,
          -23.685630798339844,
          -9.042789459228516,
          -8.795950889587402,
          5.629727840423584,
          5.129079341888428,
          7.76657247543335,
          36.54178237915039,
          33.3502197265625,
          9.739123344421387,
          -9.055882453918457,
          15.232956886291504,
          4.7902703285217285,
          1.6502286195755005,
          1.7978640794754028,
          5.6515374183654785,
          7.5262579917907715,
          -9.79296875,
          -8.608850479125977,
          -36.66873550415039,
          -34.301395416259766,
          14.80384349822998,
          16.95490837097168,
          33.800052642822266,
          32.297462463378906,
          10.788732528686523,
          12.721200942993164,
          10.981911659240723,
          11.119544982910156,
          17.79134178161621,
          16.087318420410156,
          6.68472146987915,
          6.230886936187744,
          8.24339485168457,
          7.92582368850708,
          0.5460425615310669,
          6.271330833435059,
          4.872682571411133,
          32.02124786376953,
          31.6732120513916,
          26.270048141479492,
          26.096513748168945,
          25.06070899963379,
          25.306438446044922,
          23.941556930541992,
          23.886568069458008,
          27.128599166870117,
          26.764162063598633,
          4.09319543838501,
          4.546940803527832,
          16.965557098388672,
          17.040122985839844,
          38.08540344238281,
          37.71590805053711,
          6.371053695678711,
          6.370109558105469,
          7.350621700286865,
          7.46233606338501,
          -13.482562065124512,
          -13.332865715026855,
          4.5249223709106445,
          4.007130146026611,
          5.872063636779785,
          4.9912638664245605,
          -15.775528907775879,
          -15.570676803588867,
          8.99100399017334,
          9.27623462677002,
          -6.701702117919922,
          -5.787715435028076,
          -8.123795509338379,
          -7.932785987854004,
          -7.730215549468994,
          -6.839694976806641,
          -9.792519569396973,
          -9.255929946899414,
          -10.427263259887695,
          -9.451210975646973,
          44.98226547241211,
          45.628665924072266,
          45.5106201171875,
          41.53711700439453,
          13.252524375915527,
          13.635205268859863,
          31.32522201538086,
          32.072181701660156,
          -41.9437141418457,
          -18.52594566345215,
          18.577131271362305,
          18.68378257751465,
          18.2479190826416,
          20.247297286987305,
          20.32586097717285,
          35.55571365356445,
          35.552207946777344,
          12.292278289794922,
          11.462121963500977,
          45.35783767700195,
          45.341209411621094,
          26.927322387695312,
          27.728864669799805,
          23.766191482543945,
          22.81765365600586,
          10.26465129852295,
          20.248733520507812,
          20.293622970581055,
          20.658252716064453,
          18.231538772583008,
          19.320358276367188,
          -5.172868728637695,
          -3.421778917312622,
          18.241436004638672,
          17.875289916992188,
          -7.668384075164795,
          -7.648416996002197,
          -10.410561561584473,
          -9.606673240661621,
          50.81993865966797,
          51.401607513427734,
          50.34699249267578,
          53.94081497192383,
          -6.134694576263428,
          -5.938233852386475,
          -6.8693366050720215,
          19.943199157714844,
          20.855030059814453,
          12.32175064086914,
          -18.049184799194336,
          -7.727201461791992,
          -8.309060096740723,
          -7.022444725036621,
          -6.731991291046143,
          54.84108352661133,
          55.01470184326172,
          4.073858261108398,
          1.5886948108673096,
          10.005623817443848,
          10.055213928222656,
          9.62885570526123,
          10.610974311828613,
          2.597999334335327,
          -0.07354699075222015,
          0.6107548475265503,
          0.7083512544631958,
          -2.3776776790618896,
          -1.894038200378418,
          11.004902839660645,
          10.968780517578125,
          6.219910144805908,
          23.782217025756836,
          23.14598846435547,
          -22.705263137817383,
          -22.7054443359375,
          21.62557601928711,
          21.903423309326172,
          -27.270742416381836,
          -26.947046279907227,
          0.7355870008468628,
          0.6781620979309082,
          -24.762584686279297,
          -24.644596099853516,
          3.3289337158203125,
          3.931802272796631,
          -9.639670372009277,
          -10.01180648803711,
          -11.000263214111328,
          -9.740992546081543,
          8.150064468383789,
          7.74238395690918,
          7.121805667877197,
          -22.8636531829834,
          -23.198049545288086,
          8.5794677734375,
          8.599601745605469,
          -38.41927719116211,
          -38.17166519165039,
          -25.717201232910156,
          -24.9055233001709,
          7.303524971008301,
          6.3510026931762695,
          39.61825180053711,
          39.60647201538086,
          -30.37552833557129,
          36.188899993896484,
          -26.70230484008789,
          -25.456636428833008,
          -26.26134490966797,
          -25.078527450561523,
          -20.99614906311035,
          -21.506229400634766,
          -22.458358764648438,
          -24.629684448242188,
          -23.358137130737305,
          -27.672292709350586,
          -27.670495986938477,
          -24.963539123535156,
          -22.78473472595215,
          -52.965423583984375,
          -49.530555725097656,
          -48.166717529296875,
          -43.26734924316406,
          -33.42919921875,
          -36.97975158691406,
          -37.17682647705078,
          -36.733436584472656,
          -35.450687408447266,
          -35.86529541015625,
          -36.11423873901367,
          -41.75724411010742,
          -36.97975158691406,
          -36.183387756347656,
          -36.1483039855957,
          -33.429203033447266,
          -32.602073669433594,
          -32.4112434387207,
          -33.9417839050293,
          -34.29612350463867,
          -36.37937927246094,
          -35.325923919677734,
          -29.46681785583496,
          -29.686412811279297,
          -31.008358001708984,
          -30.95303726196289,
          -31.290813446044922,
          -31.826229095458984,
          -10.981541633605957,
          -11.017829895019531,
          -34.478050231933594,
          -34.32683181762695,
          -18.54144287109375,
          -19.220918655395508,
          -19.827665328979492,
          14.799661636352539,
          -15.767794609069824,
          22.039968490600586,
          -16.268468856811523,
          -20.53114891052246,
          -19.042278289794922,
          2.2540202140808105,
          1.0433601140975952,
          1.2911193370819092,
          -1.3213180303573608,
          -0.28904032707214355,
          -1.7974402904510498,
          -1.2052292823791504,
          30.516103744506836,
          30.15009880065918,
          30.117149353027344,
          29.72313117980957,
          18.464670181274414,
          19.17769432067871,
          18.09542465209961,
          16.570880889892578,
          -15.469944953918457,
          -15.201539993286133,
          -14.313909530639648,
          -14.045799255371094,
          -18.736324310302734,
          -18.445497512817383,
          -1.637265682220459,
          -8.249082565307617,
          -13.135248184204102,
          -12.619051933288574,
          -15.343640327453613,
          -12.557124137878418,
          -13.976448059082031,
          -1.8067357540130615,
          -1.9972771406173706,
          -2.501716375350952,
          -1.7457358837127686,
          52.98145294189453,
          50.528907775878906,
          26.10965919494629,
          28.054298400878906,
          24.18649673461914,
          -50.66715621948242,
          -9.969422340393066,
          52.641326904296875,
          52.618038177490234,
          -15.600475311279297,
          -16.153255462646484,
          -16.317873001098633,
          -16.363140106201172,
          -2.1537024974823,
          -54.57848358154297,
          -55.47882080078125,
          -12.783750534057617,
          -13.281353950500488,
          -14.8202486038208,
          -13.147909164428711,
          -13.12297248840332,
          -6.167712211608887,
          -11.426318168640137,
          -10.990312576293945,
          -11.146258354187012,
          34.4449462890625,
          33.45255661010742,
          -29.86819839477539,
          36.25956726074219,
          36.26915740966797,
          31.02971649169922,
          30.070083618164062,
          28.549407958984375,
          28.81108856201172,
          -14.385404586791992,
          -43.076961517333984,
          -36.414920806884766,
          -36.21340560913086,
          -16.363140106201172,
          -2.1537024974823,
          -54.57847213745117,
          -55.47874450683594,
          -14.135744094848633,
          -16.460487365722656,
          -15.017374038696289,
          -15.476297378540039,
          -27.234619140625,
          -27.695913314819336,
          -25.211645126342773,
          -24.99401092529297,
          -28.60637092590332,
          -28.576929092407227,
          -21.485984802246094,
          -21.363059997558594,
          -31.15829849243164,
          -30.527156829833984,
          -24.719255447387695,
          -24.651657104492188,
          42.647605895996094,
          42.24113082885742,
          3.9681036472320557,
          3.710566282272339,
          1.6612900495529175,
          1.5892064571380615,
          0.3783304989337921,
          1.0950626134872437,
          -9.625493049621582,
          -9.108893394470215,
          5.261451721191406,
          5.555917739868164,
          3.632505416870117,
          3.9873924255371094,
          -12.888273239135742,
          -12.505070686340332,
          -13.5984468460083,
          -12.880171775817871,
          13.71496295928955,
          12.980545043945312,
          -23.946311950683594,
          -24.02269172668457,
          -23.337947845458984,
          -23.69272804260254,
          -24.06956672668457,
          -11.318705558776855,
          -10.101886749267578,
          -11.626709938049316,
          -11.855085372924805,
          0.9824315905570984,
          20.89445686340332,
          21.482892990112305,
          19.6190128326416,
          20.151981353759766,
          14.500142097473145,
          14.509272575378418,
          -7.17996072769165,
          -7.158171653747559,
          -7.957576751708984,
          -7.936910629272461,
          4.778977394104004,
          6.617364406585693,
          -18.869150161743164,
          -15.081886291503906,
          -16.55803680419922,
          -30.110309600830078,
          -29.52506446838379,
          -28.19702911376953,
          -28.89000701904297,
          41.219451904296875,
          41.20919418334961,
          42.046714782714844,
          41.550376892089844,
          -23.22902488708496,
          39.07861328125,
          12.541411399841309,
          12.792426109313965,
          12.269383430480957,
          12.356955528259277,
          -18.837047576904297,
          -18.762422561645508,
          -15.711923599243164,
          -15.584872245788574,
          37.1047477722168,
          37.14177322387695,
          30.913440704345703,
          30.16448211669922,
          8.38901138305664,
          8.883377075195312,
          -14.839009284973145,
          -14.398822784423828,
          -15.479966163635254,
          -14.845169067382812,
          -16.212692260742188,
          -16.439821243286133,
          7.7655487060546875,
          36.541812896728516,
          33.350215911865234,
          9.739432334899902,
          -9.055883407592773,
          15.232956886291504,
          13.518768310546875,
          13.400126457214355,
          12.853461265563965,
          12.246804237365723,
          11.027565956115723,
          11.323625564575195,
          8.484277725219727,
          9.319293975830078,
          18.21137046813965,
          16.572702407836914,
          17.44754981994629,
          -30.886463165283203,
          -28.62947654724121,
          -28.234909057617188,
          -26.532949447631836,
          -26.99755096435547,
          -29.496997833251953,
          -27.824419021606445,
          -26.33677864074707,
          -2.4559712409973145,
          -28.603567123413086,
          -27.71311378479004,
          -27.865835189819336,
          1.1898430585861206,
          1.0887730121612549,
          3.791677713394165,
          2.6104576587677,
          -5.681224346160889,
          -5.176866054534912,
          -4.367624282836914,
          -13.189630508422852,
          -13.373305320739746,
          -12.349043846130371,
          -12.186800956726074,
          -8.570291519165039,
          -7.398608207702637,
          -7.935814380645752,
          -7.276139259338379,
          -5.65195894241333,
          -6.183132171630859,
          -9.044577598571777,
          -8.142369270324707,
          -18.363950729370117,
          -18.443294525146484,
          -16.816184997558594,
          -16.791593551635742,
          -20.42381477355957,
          -19.475830078125,
          -18.882644653320312,
          -11.952542304992676,
          1.98576819896698,
          34.89944839477539,
          34.3329963684082,
          -3.710057020187378,
          -4.111851215362549,
          -10.299948692321777,
          0.5736943483352661,
          19.363506317138672,
          19.400508880615234,
          1.1606502532958984,
          1.201168179512024,
          -18.076419830322266,
          -18.56371307373047,
          -19.692678451538086,
          -18.895870208740234,
          19.605655670166016,
          19.738759994506836,
          -5.031632900238037,
          -5.732431411743164,
          -5.01447057723999,
          -5.607594013214111,
          -52.96542739868164,
          -49.530517578125,
          -48.16667556762695,
          -43.26738357543945,
          -50.46479797363281,
          -50.46223831176758,
          -23.124814987182617,
          44.98223876953125,
          45.62864685058594,
          45.510616302490234,
          41.53711700439453,
          -18.20310401916504,
          -18.21346664428711,
          42.972900390625,
          42.97407150268555,
          -20.007431030273438,
          -19.921890258789062,
          -19.287109375,
          -18.7407283782959,
          -19.432741165161133,
          -16.715229034423828,
          -17.04930877685547,
          -14.379472732543945,
          -15.061281204223633,
          -3.3469350337982178,
          -2.102972984313965,
          -3.1007978916168213,
          -21.81496238708496,
          -24.198938369750977,
          -23.669090270996094,
          -22.296045303344727,
          -0.8390577435493469,
          -0.6619664430618286,
          -20.941572189331055,
          -20.950359344482422,
          43.39345169067383,
          43.30760955810547,
          -3.5544002056121826,
          3.039548873901367,
          8.002948760986328,
          8.090514183044434,
          7.67540168762207,
          7.9781718254089355,
          11.459904670715332,
          11.130363464355469,
          -49.5013542175293,
          -49.50120544433594,
          5.1008219718933105,
          4.663952827453613,
          -11.845352172851562,
          -11.716763496398926,
          3.2343666553497314,
          4.539689540863037,
          35.213008880615234,
          35.28533172607422,
          2.3548080921173096,
          3.2306716442108154,
          -42.35410690307617,
          -42.15433120727539,
          -40.13367462158203,
          -40.3718376159668,
          41.14462661743164,
          41.252437591552734,
          39.31544876098633,
          39.48613739013672,
          45.94492721557617,
          45.89596939086914,
          4.778977394104004,
          6.617364406585693,
          -18.869152069091797,
          -15.081860542297363,
          -16.558073043823242,
          -10.234321594238281,
          -9.658855438232422,
          -10.392898559570312,
          -9.257476806640625,
          -6.088277816772461,
          -6.45722770690918,
          -6.425999641418457,
          -7.294633865356445,
          -9.126172065734863,
          -8.240147590637207,
          -7.692249298095703,
          -8.186985969543457,
          -33.26204299926758,
          -34.016048431396484,
          -32.56562042236328,
          -32.758419036865234,
          11.078980445861816,
          11.102278709411621,
          1.0932198762893677,
          -1.3478018045425415,
          -1.8610068559646606,
          5.102431774139404,
          4.772891998291016,
          3.3705828189849854,
          3.8875749111175537,
          -47.630584716796875,
          -47.66788101196289,
          33.5475959777832,
          -4.939492225646973,
          -5.884512424468994,
          -4.971158981323242,
          -4.411710262298584,
          -8.404252052307129,
          -10.386225700378418,
          -9.486312866210938,
          -8.693155288696289,
          -43.02195739746094,
          -43.02610778808594,
          -18.201330184936523,
          -18.14313507080078,
          14.899454116821289,
          15.423368453979492,
          -16.039735794067383,
          -16.233285903930664,
          33.799957275390625,
          32.297462463378906,
          10.785865783691406,
          12.721830368041992,
          14.803220748901367,
          16.95341682434082,
          -2.1257412433624268,
          -1.1768691539764404,
          -3.5655019283294678,
          -3.0557165145874023,
          -2.000408172607422,
          -45.72825622558594,
          -44.96218490600586,
          -44.149723052978516,
          -44.595672607421875,
          -37.84543991088867,
          -37.166282653808594,
          -36.575199127197266,
          -36.2470588684082,
          -37.318790435791016,
          -37.3584098815918,
          -38.707069396972656,
          -37.0827751159668,
          -36.304012298583984,
          4.619987487792969,
          5.814347743988037
         ],
         "y": [
          30.397123336791992,
          28.622018814086914,
          41.8524169921875,
          -15.085966110229492,
          23.694507598876953,
          20.983915328979492,
          22.3026180267334,
          21.32668685913086,
          19.150314331054688,
          -30.802658081054688,
          -34.95906066894531,
          -13.62663459777832,
          -13.339766502380371,
          -14.265299797058105,
          -13.810084342956543,
          11.257173538208008,
          12.37238883972168,
          -5.085460186004639,
          11.008487701416016,
          12.495676040649414,
          10.903668403625488,
          11.873939514160156,
          12.309242248535156,
          12.401966094970703,
          11.488737106323242,
          -10.201604843139648,
          -7.601465225219727,
          -8.556915283203125,
          -9.833597183227539,
          -9.253948211669922,
          -9.357626914978027,
          24.82438850402832,
          24.865232467651367,
          -10.18323802947998,
          -9.509138107299805,
          -33.43803787231445,
          -33.409427642822266,
          9.349272727966309,
          9.34570026397705,
          -10.515887260437012,
          -10.102317810058594,
          38.359188079833984,
          -4.310848712921143,
          -10.033124923706055,
          -9.744830131530762,
          -11.829827308654785,
          -10.699366569519043,
          33.139339447021484,
          33.1275520324707,
          13.714770317077637,
          13.716383934020996,
          -20.803707122802734,
          -20.788082122802734,
          14.033188819885254,
          12.86218547821045,
          12.416202545166016,
          12.456912994384766,
          12.13877010345459,
          5.591228008270264,
          19.566198348999023,
          19.558454513549805,
          -12.459940910339355,
          -11.806663513183594,
          -10.344959259033203,
          -10.26623249053955,
          -13.562809944152832,
          -13.612226486206055,
          -50.250762939453125,
          -50.249698638916016,
          2.352861166000366,
          3.064622402191162,
          -3.039607048034668,
          -2.982646942138672,
          4.465683460235596,
          3.765223264694214,
          -8.412388801574707,
          -7.666378974914551,
          5.9172234535217285,
          5.9111199378967285,
          -5.909210205078125,
          -6.099308013916016,
          -6.195821762084961,
          -6.1974663734436035,
          3.3767361640930176,
          3.5106654167175293,
          -19.27690315246582,
          -19.292713165283203,
          30.01799774169922,
          30.758283615112305,
          31.633237838745117,
          31.747013092041016,
          -20.04165267944336,
          -19.799884796142578,
          -21.613048553466797,
          -20.988433837890625,
          -42.793399810791016,
          -44.379066467285156,
          40.53621292114258,
          39.28794479370117,
          -43.563438415527344,
          -24.926170349121094,
          -23.850486755371094,
          -22.134103775024414,
          -22.563852310180664,
          -23.874433517456055,
          -23.527524948120117,
          -21.160778045654297,
          -21.404977798461914,
          -20.774608612060547,
          -20.977094650268555,
          -16.71971893310547,
          -16.376863479614258,
          -26.465070724487305,
          -26.138057708740234,
          -29.82304573059082,
          -29.119592666625977,
          -27.57019805908203,
          -27.209497451782227,
          -8.695940017700195,
          -7.048113822937012,
          24.366653442382812,
          23.09915542602539,
          23.15311622619629,
          23.161775588989258,
          -27.30788230895996,
          -27.452167510986328,
          22.503520965576172,
          22.546123504638672,
          -23.269792556762695,
          -8.774792671203613,
          -8.543292999267578,
          -36.04192352294922,
          -34.47545623779297,
          -31.22431182861328,
          2.896348237991333,
          -32.06639099121094,
          43.2127571105957,
          43.214332580566406,
          -17.580432891845703,
          -17.523670196533203,
          -41.092506408691406,
          -39.150997161865234,
          -8.004772186279297,
          -10.202798843383789,
          -3.9347617626190186,
          -0.6930559277534485,
          -0.5986555218696594,
          20.25705909729004,
          20.442508697509766,
          16.001998901367188,
          15.915184020996094,
          23.694507598876953,
          20.983694076538086,
          17.52130889892578,
          17.786128997802734,
          3.397150754928589,
          15.009387016296387,
          20.156723022460938,
          19.21706199645996,
          22.302656173706055,
          21.326644897460938,
          19.150468826293945,
          -30.802658081054688,
          -34.95905685424805,
          -26.633481979370117,
          -26.89390754699707,
          -29.206409454345703,
          -28.5592098236084,
          -28.749818801879883,
          -28.550434112548828,
          -24.05597496032715,
          -24.053462982177734,
          36.3359260559082,
          36.331504821777344,
          26.81841278076172,
          25.8792781829834,
          6.1660614013671875,
          54.21467208862305,
          53.4686393737793,
          51.8577995300293,
          51.94757080078125,
          46.58446502685547,
          45.219017028808594,
          44.457557678222656,
          45.25127029418945,
          4.378497123718262,
          4.837302207946777,
          -45.34846878051758,
          -44.85588073730469,
          -6.499748706817627,
          -6.133960723876953,
          -3.5816802978515625,
          -3.774122714996338,
          0.5742138028144836,
          1.1067113876342773,
          -1.289528250694275,
          -1.450118899345398,
          4.627133369445801,
          -13.724040031433105,
          5.5417704582214355,
          5.301055908203125,
          -15.862524032592773,
          -16.076398849487305,
          47.750789642333984,
          47.74150085449219,
          -1.5967509746551514,
          -0.7377776503562927,
          -0.25651901960372925,
          -0.09748142957687378,
          -17.162364959716797,
          -16.936899185180664,
          -19.71341896057129,
          -18.321386337280273,
          -24.98419189453125,
          -22.226722717285156,
          -14.144083976745605,
          -13.411852836608887,
          -7.589310646057129,
          -7.15830659866333,
          -4.854793548583984,
          -5.321206092834473,
          -6.50306510925293,
          -5.593207359313965,
          -3.8700506687164307,
          -4.147516250610352,
          -23.1138858795166,
          -6.280339241027832,
          -7.8570332527160645,
          -0.3808683156967163,
          -0.9884592890739441,
          -2.835609197616577,
          -2.6548919677734375,
          -9.656265258789062,
          -9.119370460510254,
          53.46603012084961,
          53.47966003417969,
          -6.215126991271973,
          -7.857032775878906,
          -0.9079382419586182,
          -0.5248153805732727,
          -3.2402923107147217,
          -3.072044610977173,
          -37.979530334472656,
          -37.97690963745117,
          12.781709671020508,
          12.688454627990723,
          1.3621224164962769,
          -7.838784217834473,
          37.80836868286133,
          37.86838912963867,
          39.62688064575195,
          38.7208366394043,
          47.92538070678711,
          47.92738342285156,
          36.922550201416016,
          37.16407012939453,
          -8.748943328857422,
          -7.047523498535156,
          -12.753931999206543,
          -12.523407936096191,
          -13.651435852050781,
          -13.628758430480957,
          -11.42629337310791,
          -11.495623588562012,
          -13.837627410888672,
          -15.310273170471191,
          -37.81610870361328,
          -37.039241790771484,
          -24.9856014251709,
          33.97341537475586,
          -5.319170951843262,
          -4.514926433563232,
          -6.077812671661377,
          -2.840047597885132,
          -2.6570823192596436,
          1.697904109954834,
          1.6151182651519775,
          4.254349708557129,
          3.756136894226074,
          0.06483637541532516,
          -0.009853377938270569,
          -1.469821572303772,
          -0.940064549446106,
          2.3990042209625244,
          2.5972368717193604,
          -0.7734457850456238,
          -0.5616837739944458,
          -28.553470611572266,
          -26.51362419128418,
          -27.063982009887695,
          -47.846466064453125,
          -45.09588623046875,
          6.684546947479248,
          -31.86756134033203,
          -11.163595199584961,
          -11.144964218139648,
          -20.919832229614258,
          -20.898902893066406,
          11.387418746948242,
          10.675067901611328,
          -6.125708103179932,
          -6.138714790344238,
          -12.764829635620117,
          -12.101065635681152,
          20.73005485534668,
          20.921972274780273,
          15.252178192138672,
          15.305217742919922,
          5.736999988555908,
          5.517380714416504,
          -43.129329681396484,
          -44.63712692260742,
          40.53620910644531,
          39.28794479370117,
          -43.26111602783203,
          -43.6677131652832,
          -43.4196891784668,
          -38.35980224609375,
          28.302303314208984,
          30.208370208740234,
          29.206653594970703,
          27.691951751708984,
          13.663893699645996,
          13.425646781921387,
          13.535508155822754,
          -6.56673526763916,
          -28.76515769958496,
          -28.799684524536133,
          -16.71245002746582,
          -16.700761795043945,
          12.36847972869873,
          15.830265998840332,
          15.263304710388184,
          14.7214994430542,
          8.03613567352295,
          7.726532936096191,
          -47.521087646484375,
          -46.99629592895508,
          -47.8990478515625,
          -14.97922134399414,
          -15.181474685668945,
          -52.52288055419922,
          41.55304718017578,
          -24.456254959106445,
          -50.70164108276367,
          -52.44549560546875,
          -52.228206634521484,
          -50.68083953857422,
          -52.015228271484375,
          -41.181480407714844,
          -39.150997161865234,
          -8.004772186279297,
          -10.202798843383789,
          -7.680820941925049,
          -7.673381805419922,
          28.760986328125,
          26.061220169067383,
          54.67938995361328,
          53.4338493347168,
          -8.795819282531738,
          -8.930307388305664,
          -13.837627410888672,
          -15.308950424194336,
          -2.5783751010894775,
          -2.2586653232574463,
          -2.8265748023986816,
          -2.1119730472564697,
          1.1090096235275269,
          -4.309866905212402,
          -3.08601450920105,
          -30.144933700561523,
          -30.089996337890625,
          3.5735220909118652,
          3.0251553058624268,
          1.1082236766815186,
          1.6819524765014648,
          4.244950771331787,
          3.86426043510437,
          -1.9650673866271973,
          -1.6670806407928467,
          8.064289093017578,
          6.928802490234375,
          9.99886703491211,
          9.141912460327148,
          -26.537761688232422,
          -26.07107925415039,
          28.50381851196289,
          28.49679946899414,
          2.2346131801605225,
          2.1773533821105957,
          -23.845361709594727,
          -23.906614303588867,
          -4.883236408233643,
          -5.161022186279297,
          -5.9747090339660645,
          -6.3827314376831055,
          -38.46292495727539,
          -38.029293060302734,
          0.19655810296535492,
          0.3844013810157776,
          18.542654037475586,
          18.150314331054688,
          16.39075469970703,
          16.901090621948242,
          22.88546371459961,
          22.42674446105957,
          11.836074829101562,
          12.367522239685059,
          10.560310363769531,
          10.742517471313477,
          -24.92470932006836,
          -21.86799430847168,
          -16.78829002380371,
          -19.962146759033203,
          -2.2884511947631836,
          -1.2600350379943848,
          -47.84642791748047,
          -45.095909118652344,
          6.6845479011535645,
          -31.86756134033203,
          29.738868713378906,
          29.09516716003418,
          30.95391082763672,
          26.704442977905273,
          26.4998722076416,
          -37.937957763671875,
          -37.91873550415039,
          3.7116832733154297,
          2.0444397926330566,
          13.412449836730957,
          13.393362045288086,
          -31.621049880981445,
          -30.84674072265625,
          8.993158340454102,
          9.570219993591309,
          -14.024930000305176,
          7.62050199508667,
          9.534857749938965,
          9.20263957977295,
          7.686352729797363,
          7.14311408996582,
          -6.81727933883667,
          -8.157928466796875,
          -4.733251571655273,
          -4.788647174835205,
          -8.634052276611328,
          -8.082376480102539,
          -8.572883605957031,
          -8.459675788879395,
          -24.984188079833984,
          -22.230010986328125,
          -14.144083023071289,
          -13.411859512329102,
          -25.68895149230957,
          -25.565244674682617,
          -19.515426635742188,
          -5.237130641937256,
          -5.349664211273193,
          -15.133016586303711,
          2.1874234676361084,
          -23.54935073852539,
          -22.255125045776367,
          -22.012081146240234,
          -22.244726181030273,
          -20.335132598876953,
          -20.22237205505371,
          -25.879230499267578,
          -25.53566551208496,
          19.38280487060547,
          20.307828903198242,
          18.972654342651367,
          18.34075927734375,
          -29.82304573059082,
          -29.119577407836914,
          -32.9256477355957,
          -32.07986831665039,
          -31.964496612548828,
          -31.650753021240234,
          7.961068153381348,
          8.058627128601074,
          -0.33923986554145813,
          19.70442771911621,
          18.9245662689209,
          49.334197998046875,
          49.33152770996094,
          17.24465560913086,
          17.52250099182129,
          -25.084592819213867,
          -25.10162353515625,
          9.54914379119873,
          9.55500316619873,
          -24.761865615844727,
          -24.72810173034668,
          -10.021806716918945,
          -9.874089241027832,
          28.605493545532227,
          27.80150604248047,
          29.090131759643555,
          26.62116813659668,
          9.923664093017578,
          9.707924842834473,
          8.976219177246094,
          -19.061899185180664,
          -19.127466201782227,
          24.340370178222656,
          24.32741928100586,
          2.6502416133880615,
          2.641883611679077,
          -19.534481048583984,
          -19.389469146728516,
          -25.51364517211914,
          -25.55485725402832,
          13.976642608642578,
          14.009926795959473,
          6.443563461303711,
          -1.7854809761047363,
          33.75182342529297,
          33.204986572265625,
          31.69158363342285,
          31.410478591918945,
          33.564430236816406,
          32.77659606933594,
          32.114200592041016,
          29.2421817779541,
          27.29469108581543,
          31.166276931762695,
          30.151968002319336,
          30.771831512451172,
          26.714128494262695,
          9.478428840637207,
          11.012341499328613,
          16.173675537109375,
          13.595779418945312,
          -26.68248176574707,
          -36.646610260009766,
          -23.20305633544922,
          -22.5712890625,
          -21.69101333618164,
          -21.813173294067383,
          -40.36907196044922,
          -38.35981369018555,
          -36.6466064453125,
          22.179899215698242,
          22.202348709106445,
          -26.682477951049805,
          -40.05898666381836,
          -40.26653289794922,
          -17.656476974487305,
          -16.67330551147461,
          -17.340087890625,
          -17.43735694885254,
          -17.419170379638672,
          -17.086153030395508,
          -14.732179641723633,
          -14.982562065124512,
          -33.37413024902344,
          -33.31521224975586,
          20.686264038085938,
          20.672069549560547,
          -31.813928604125977,
          -31.929838180541992,
          12.909090995788574,
          14.23202896118164,
          19.691795349121094,
          -16.432580947875977,
          12.513202667236328,
          2.2912437915802,
          13.912480354309082,
          13.510804176330566,
          19.955068588256836,
          16.953805923461914,
          17.68462562561035,
          16.51740264892578,
          25.172330856323242,
          24.027860641479492,
          23.889019012451172,
          23.08144760131836,
          3.4359216690063477,
          1.6606248617172241,
          3.7892990112304688,
          1.3610496520996094,
          -33.16633987426758,
          -33.28716278076172,
          -40.99394226074219,
          -39.90673065185547,
          -15.56686019897461,
          -15.657681465148926,
          -14.424405097961426,
          -13.454778671264648,
          -15.446481704711914,
          -15.424960136413574,
          -10.174861907958984,
          10.427993774414062,
          13.331562042236328,
          12.314156532287598,
          -17.2186279296875,
          -10.453963279724121,
          -11.644375801086426,
          6.116623401641846,
          7.424045562744141,
          6.858123302459717,
          4.544434070587158,
          -5.3191704750061035,
          -4.514927864074707,
          -19.02698516845703,
          -37.81610870361328,
          -37.039241790771484,
          -24.985599517822266,
          33.97386169433594,
          14.451083183288574,
          14.457662582397461,
          17.752826690673828,
          16.831775665283203,
          17.948787689208984,
          21.93289566040039,
          -19.542640686035156,
          23.048717498779297,
          20.479995727539062,
          23.736215591430664,
          25.314481735229492,
          23.559921264648438,
          24.088882446289062,
          15.848221778869629,
          9.733729362487793,
          16.759431838989258,
          15.819631576538086,
          14.397175788879395,
          -4.262932300567627,
          -3.7997841835021973,
          6.3057403564453125,
          -2.2907912731170654,
          -3.7094674110412598,
          10.142210960388184,
          9.636265754699707,
          8.637544631958008,
          8.813417434692383,
          18.675334930419922,
          -19.861196517944336,
          16.5523681640625,
          17.502286911010742,
          21.932897567749023,
          -19.542640686035156,
          23.048717498779297,
          20.478973388671875,
          -5.129654407501221,
          -4.512011528015137,
          -4.501707077026367,
          -4.279655933380127,
          -0.09457936137914658,
          0.29405519366264343,
          3.008869171142578,
          2.917357921600342,
          2.3152990341186523,
          1.3414288759231567,
          3.1880290508270264,
          3.2850501537323,
          0.5433119535446167,
          0.544385552406311,
          6.285682201385498,
          6.362653732299805,
          -7.63787317276001,
          -8.453648567199707,
          24.572559356689453,
          24.32744598388672,
          31.252593994140625,
          31.000410079956055,
          28.618146896362305,
          28.199602127075195,
          -16.605037689208984,
          -15.639723777770996,
          20.35090446472168,
          19.174219131469727,
          20.46442985534668,
          20.2426815032959,
          -1.783576488494873,
          -1.3314708471298218,
          -0.7967726588249207,
          -0.34502676129341125,
          5.792440414428711,
          4.850152492523193,
          -8.057183265686035,
          -8.417508125305176,
          -5.227445125579834,
          -5.58245849609375,
          -1.1511030197143555,
          1.4068018198013306,
          1.8554480075836182,
          2.673485279083252,
          2.3421435356140137,
          6.802092552185059,
          44.63958740234375,
          42.89552688598633,
          43.378700256347656,
          43.24237823486328,
          17.06068992614746,
          17.066200256347656,
          -33.514366149902344,
          -33.46016311645508,
          -29.785430908203125,
          -29.784473419189453,
          -20.83030891418457,
          -21.10887336730957,
          43.102325439453125,
          45.13737487792969,
          39.79439163208008,
          23.76679229736328,
          25.647056579589844,
          24.183361053466797,
          24.346006393432617,
          -0.04980911314487457,
          -0.11368697881698608,
          -2.2323317527770996,
          -1.8840439319610596,
          9.88389778137207,
          -2.691545248031616,
          45.50625991821289,
          45.086402893066406,
          42.905094146728516,
          43.26112365722656,
          -46.295684814453125,
          -46.3679313659668,
          -8.611244201660156,
          -8.658796310424805,
          9.083168983459473,
          8.987507820129395,
          19.94965171813965,
          19.387216567993164,
          15.022791862487793,
          14.536783218383789,
          2.2129547595977783,
          2.3641159534454346,
          33.00657272338867,
          33.21626281738281,
          31.426923751831055,
          31.047353744506836,
          -47.8995475769043,
          -14.979222297668457,
          -15.181474685668945,
          -52.522884368896484,
          41.553043365478516,
          -24.456254959106445,
          -41.35734176635742,
          -40.36185073852539,
          -34.42151641845703,
          -35.14494705200195,
          -39.02288818359375,
          -39.05253982543945,
          -39.62498474121094,
          -39.30366134643555,
          -40.79460525512695,
          -39.89790344238281,
          13.65744400024414,
          18.440330505371094,
          18.525753021240234,
          19.635778427124023,
          19.482318878173828,
          19.473180770874023,
          18.61655616760254,
          12.555015563964844,
          12.020501136779785,
          35.25344467163086,
          9.97191047668457,
          11.042537689208984,
          10.57109546661377,
          -2.576474905014038,
          -2.8871774673461914,
          -1.675936222076416,
          -2.5172159671783447,
          32.16793441772461,
          31.54920196533203,
          31.414836883544922,
          6.3487868309021,
          5.734539985656738,
          8.196069717407227,
          7.583337783813477,
          3.792419910430908,
          4.549580097198486,
          2.670628070831299,
          3.165212631225586,
          3.872056007385254,
          4.246561527252197,
          4.53175687789917,
          4.990096092224121,
          -0.6087197065353394,
          -1.71014404296875,
          -1.3588612079620361,
          -0.7448309063911438,
          16.53309440612793,
          15.574835777282715,
          16.73975372314453,
          10.70199203491211,
          -4.603984832763672,
          -31.8372859954834,
          -31.531448364257812,
          17.102720260620117,
          17.207462310791016,
          9.213448524475098,
          -1.4589979648590088,
          2.5401604175567627,
          2.5551414489746094,
          -18.235580444335938,
          -18.174657821655273,
          -27.11565399169922,
          -26.150741577148438,
          -25.15923309326172,
          -24.78662872314453,
          36.03017807006836,
          36.09971237182617,
          7.858449459075928,
          8.111106872558594,
          6.958860397338867,
          6.89209508895874,
          9.478558540344238,
          11.012340545654297,
          16.173673629760742,
          13.595780372619629,
          1.026813268661499,
          0.9983043670654297,
          -1.3719712495803833,
          -24.92465591430664,
          -21.867963790893555,
          -16.78827476501465,
          -19.962160110473633,
          -20.485816955566406,
          -20.473751068115234,
          -35.339969635009766,
          -35.34086608886719,
          8.537972450256348,
          8.126362800598145,
          5.803948879241943,
          6.7411065101623535,
          11.109758377075195,
          9.096588134765625,
          9.152729034423828,
          10.037384986877441,
          9.332356452941895,
          10.571573257446289,
          10.966938018798828,
          10.441454887390137,
          -12.391461372375488,
          -13.9051513671875,
          -13.978290557861328,
          -13.196331977844238,
          -4.458914756774902,
          -4.43924617767334,
          -40.1975212097168,
          -40.196014404296875,
          30.405010223388672,
          28.622018814086914,
          41.852420806884766,
          -15.086047172546387,
          -11.537660598754883,
          -11.426478385925293,
          -8.59407901763916,
          -8.710359573364258,
          -11.469970703125,
          -10.941062927246094,
          -17.182703018188477,
          -17.193349838256836,
          4.204593181610107,
          3.617537260055542,
          -47.83645248413086,
          -47.6115837097168,
          0.8214621543884277,
          0.7067877650260925,
          2.522650718688965,
          2.3719749450683594,
          2.3986802101135254,
          2.102837562561035,
          -14.407914161682129,
          -14.215131759643555,
          -11.897748947143555,
          -12.552772521972656,
          6.823808193206787,
          6.195271015167236,
          3.6729729175567627,
          3.6920149326324463,
          7.756384372711182,
          7.742101192474365,
          -20.83030891418457,
          -21.10887336730957,
          43.10237503051758,
          45.13705825805664,
          39.793907165527344,
          -5.309658527374268,
          -5.54500675201416,
          -4.395684719085693,
          -4.24356746673584,
          -4.284874439239502,
          -4.9137959480285645,
          -3.1503407955169678,
          -4.00213098526001,
          -1.85977303981781,
          -0.9957685470581055,
          -1.9952439069747925,
          -2.6342759132385254,
          36.36942672729492,
          35.17756271362305,
          34.69204330444336,
          34.77983093261719,
          37.27766036987305,
          37.263328552246094,
          37.0945930480957,
          37.12124252319336,
          35.97306823730469,
          37.93312454223633,
          36.034568786621094,
          37.199462890625,
          37.01074981689453,
          5.2542290687561035,
          5.269439220428467,
          6.462264060974121,
          -0.055396661162376404,
          0.6853448152542114,
          0.877167284488678,
          0.4637763798236847,
          -12.786331176757812,
          -12.631813049316406,
          -11.497998237609863,
          -11.847419738769531,
          -29.015132904052734,
          -29.027162551879883,
          26.593088150024414,
          26.568134307861328,
          -5.0129313468933105,
          -5.250563621520996,
          5.471417427062988,
          4.919931888580322,
          28.762792587280273,
          26.06116485595703,
          54.67637252807617,
          53.433109283447266,
          -7.680485725402832,
          -7.6694793701171875,
          -46.20085906982422,
          -44.96492004394531,
          -46.17100143432617,
          -44.66950225830078,
          -43.9317626953125,
          25.83808135986328,
          26.275470733642578,
          24.720876693725586,
          25.40726661682129,
          12.359027862548828,
          10.443952560424805,
          11.995850563049316,
          11.313614845275879,
          29.24594497680664,
          29.7517147064209,
          28.368648529052734,
          27.737762451171875,
          28.496625900268555,
          -35.86940383911133,
          -34.47409439086914
         ]
        }
       ],
       "layout": {
        "template": {
         "data": {
          "bar": [
           {
            "error_x": {
             "color": "#2a3f5f"
            },
            "error_y": {
             "color": "#2a3f5f"
            },
            "marker": {
             "line": {
              "color": "#E5ECF6",
              "width": 0.5
             }
            },
            "type": "bar"
           }
          ],
          "barpolar": [
           {
            "marker": {
             "line": {
              "color": "#E5ECF6",
              "width": 0.5
             }
            },
            "type": "barpolar"
           }
          ],
          "carpet": [
           {
            "aaxis": {
             "endlinecolor": "#2a3f5f",
             "gridcolor": "white",
             "linecolor": "white",
             "minorgridcolor": "white",
             "startlinecolor": "#2a3f5f"
            },
            "baxis": {
             "endlinecolor": "#2a3f5f",
             "gridcolor": "white",
             "linecolor": "white",
             "minorgridcolor": "white",
             "startlinecolor": "#2a3f5f"
            },
            "type": "carpet"
           }
          ],
          "choropleth": [
           {
            "colorbar": {
             "outlinewidth": 0,
             "ticks": ""
            },
            "type": "choropleth"
           }
          ],
          "contour": [
           {
            "colorbar": {
             "outlinewidth": 0,
             "ticks": ""
            },
            "colorscale": [
             [
              0,
              "#0d0887"
             ],
             [
              0.1111111111111111,
              "#46039f"
             ],
             [
              0.2222222222222222,
              "#7201a8"
             ],
             [
              0.3333333333333333,
              "#9c179e"
             ],
             [
              0.4444444444444444,
              "#bd3786"
             ],
             [
              0.5555555555555556,
              "#d8576b"
             ],
             [
              0.6666666666666666,
              "#ed7953"
             ],
             [
              0.7777777777777778,
              "#fb9f3a"
             ],
             [
              0.8888888888888888,
              "#fdca26"
             ],
             [
              1,
              "#f0f921"
             ]
            ],
            "type": "contour"
           }
          ],
          "contourcarpet": [
           {
            "colorbar": {
             "outlinewidth": 0,
             "ticks": ""
            },
            "type": "contourcarpet"
           }
          ],
          "heatmap": [
           {
            "colorbar": {
             "outlinewidth": 0,
             "ticks": ""
            },
            "colorscale": [
             [
              0,
              "#0d0887"
             ],
             [
              0.1111111111111111,
              "#46039f"
             ],
             [
              0.2222222222222222,
              "#7201a8"
             ],
             [
              0.3333333333333333,
              "#9c179e"
             ],
             [
              0.4444444444444444,
              "#bd3786"
             ],
             [
              0.5555555555555556,
              "#d8576b"
             ],
             [
              0.6666666666666666,
              "#ed7953"
             ],
             [
              0.7777777777777778,
              "#fb9f3a"
             ],
             [
              0.8888888888888888,
              "#fdca26"
             ],
             [
              1,
              "#f0f921"
             ]
            ],
            "type": "heatmap"
           }
          ],
          "heatmapgl": [
           {
            "colorbar": {
             "outlinewidth": 0,
             "ticks": ""
            },
            "colorscale": [
             [
              0,
              "#0d0887"
             ],
             [
              0.1111111111111111,
              "#46039f"
             ],
             [
              0.2222222222222222,
              "#7201a8"
             ],
             [
              0.3333333333333333,
              "#9c179e"
             ],
             [
              0.4444444444444444,
              "#bd3786"
             ],
             [
              0.5555555555555556,
              "#d8576b"
             ],
             [
              0.6666666666666666,
              "#ed7953"
             ],
             [
              0.7777777777777778,
              "#fb9f3a"
             ],
             [
              0.8888888888888888,
              "#fdca26"
             ],
             [
              1,
              "#f0f921"
             ]
            ],
            "type": "heatmapgl"
           }
          ],
          "histogram": [
           {
            "marker": {
             "colorbar": {
              "outlinewidth": 0,
              "ticks": ""
             }
            },
            "type": "histogram"
           }
          ],
          "histogram2d": [
           {
            "colorbar": {
             "outlinewidth": 0,
             "ticks": ""
            },
            "colorscale": [
             [
              0,
              "#0d0887"
             ],
             [
              0.1111111111111111,
              "#46039f"
             ],
             [
              0.2222222222222222,
              "#7201a8"
             ],
             [
              0.3333333333333333,
              "#9c179e"
             ],
             [
              0.4444444444444444,
              "#bd3786"
             ],
             [
              0.5555555555555556,
              "#d8576b"
             ],
             [
              0.6666666666666666,
              "#ed7953"
             ],
             [
              0.7777777777777778,
              "#fb9f3a"
             ],
             [
              0.8888888888888888,
              "#fdca26"
             ],
             [
              1,
              "#f0f921"
             ]
            ],
            "type": "histogram2d"
           }
          ],
          "histogram2dcontour": [
           {
            "colorbar": {
             "outlinewidth": 0,
             "ticks": ""
            },
            "colorscale": [
             [
              0,
              "#0d0887"
             ],
             [
              0.1111111111111111,
              "#46039f"
             ],
             [
              0.2222222222222222,
              "#7201a8"
             ],
             [
              0.3333333333333333,
              "#9c179e"
             ],
             [
              0.4444444444444444,
              "#bd3786"
             ],
             [
              0.5555555555555556,
              "#d8576b"
             ],
             [
              0.6666666666666666,
              "#ed7953"
             ],
             [
              0.7777777777777778,
              "#fb9f3a"
             ],
             [
              0.8888888888888888,
              "#fdca26"
             ],
             [
              1,
              "#f0f921"
             ]
            ],
            "type": "histogram2dcontour"
           }
          ],
          "mesh3d": [
           {
            "colorbar": {
             "outlinewidth": 0,
             "ticks": ""
            },
            "type": "mesh3d"
           }
          ],
          "parcoords": [
           {
            "line": {
             "colorbar": {
              "outlinewidth": 0,
              "ticks": ""
             }
            },
            "type": "parcoords"
           }
          ],
          "pie": [
           {
            "automargin": true,
            "type": "pie"
           }
          ],
          "scatter": [
           {
            "marker": {
             "colorbar": {
              "outlinewidth": 0,
              "ticks": ""
             }
            },
            "type": "scatter"
           }
          ],
          "scatter3d": [
           {
            "line": {
             "colorbar": {
              "outlinewidth": 0,
              "ticks": ""
             }
            },
            "marker": {
             "colorbar": {
              "outlinewidth": 0,
              "ticks": ""
             }
            },
            "type": "scatter3d"
           }
          ],
          "scattercarpet": [
           {
            "marker": {
             "colorbar": {
              "outlinewidth": 0,
              "ticks": ""
             }
            },
            "type": "scattercarpet"
           }
          ],
          "scattergeo": [
           {
            "marker": {
             "colorbar": {
              "outlinewidth": 0,
              "ticks": ""
             }
            },
            "type": "scattergeo"
           }
          ],
          "scattergl": [
           {
            "marker": {
             "colorbar": {
              "outlinewidth": 0,
              "ticks": ""
             }
            },
            "type": "scattergl"
           }
          ],
          "scattermapbox": [
           {
            "marker": {
             "colorbar": {
              "outlinewidth": 0,
              "ticks": ""
             }
            },
            "type": "scattermapbox"
           }
          ],
          "scatterpolar": [
           {
            "marker": {
             "colorbar": {
              "outlinewidth": 0,
              "ticks": ""
             }
            },
            "type": "scatterpolar"
           }
          ],
          "scatterpolargl": [
           {
            "marker": {
             "colorbar": {
              "outlinewidth": 0,
              "ticks": ""
             }
            },
            "type": "scatterpolargl"
           }
          ],
          "scatterternary": [
           {
            "marker": {
             "colorbar": {
              "outlinewidth": 0,
              "ticks": ""
             }
            },
            "type": "scatterternary"
           }
          ],
          "surface": [
           {
            "colorbar": {
             "outlinewidth": 0,
             "ticks": ""
            },
            "colorscale": [
             [
              0,
              "#0d0887"
             ],
             [
              0.1111111111111111,
              "#46039f"
             ],
             [
              0.2222222222222222,
              "#7201a8"
             ],
             [
              0.3333333333333333,
              "#9c179e"
             ],
             [
              0.4444444444444444,
              "#bd3786"
             ],
             [
              0.5555555555555556,
              "#d8576b"
             ],
             [
              0.6666666666666666,
              "#ed7953"
             ],
             [
              0.7777777777777778,
              "#fb9f3a"
             ],
             [
              0.8888888888888888,
              "#fdca26"
             ],
             [
              1,
              "#f0f921"
             ]
            ],
            "type": "surface"
           }
          ],
          "table": [
           {
            "cells": {
             "fill": {
              "color": "#EBF0F8"
             },
             "line": {
              "color": "white"
             }
            },
            "header": {
             "fill": {
              "color": "#C8D4E3"
             },
             "line": {
              "color": "white"
             }
            },
            "type": "table"
           }
          ]
         },
         "layout": {
          "annotationdefaults": {
           "arrowcolor": "#2a3f5f",
           "arrowhead": 0,
           "arrowwidth": 1
          },
          "coloraxis": {
           "colorbar": {
            "outlinewidth": 0,
            "ticks": ""
           }
          },
          "colorscale": {
           "diverging": [
            [
             0,
             "#8e0152"
            ],
            [
             0.1,
             "#c51b7d"
            ],
            [
             0.2,
             "#de77ae"
            ],
            [
             0.3,
             "#f1b6da"
            ],
            [
             0.4,
             "#fde0ef"
            ],
            [
             0.5,
             "#f7f7f7"
            ],
            [
             0.6,
             "#e6f5d0"
            ],
            [
             0.7,
             "#b8e186"
            ],
            [
             0.8,
             "#7fbc41"
            ],
            [
             0.9,
             "#4d9221"
            ],
            [
             1,
             "#276419"
            ]
           ],
           "sequential": [
            [
             0,
             "#0d0887"
            ],
            [
             0.1111111111111111,
             "#46039f"
            ],
            [
             0.2222222222222222,
             "#7201a8"
            ],
            [
             0.3333333333333333,
             "#9c179e"
            ],
            [
             0.4444444444444444,
             "#bd3786"
            ],
            [
             0.5555555555555556,
             "#d8576b"
            ],
            [
             0.6666666666666666,
             "#ed7953"
            ],
            [
             0.7777777777777778,
             "#fb9f3a"
            ],
            [
             0.8888888888888888,
             "#fdca26"
            ],
            [
             1,
             "#f0f921"
            ]
           ],
           "sequentialminus": [
            [
             0,
             "#0d0887"
            ],
            [
             0.1111111111111111,
             "#46039f"
            ],
            [
             0.2222222222222222,
             "#7201a8"
            ],
            [
             0.3333333333333333,
             "#9c179e"
            ],
            [
             0.4444444444444444,
             "#bd3786"
            ],
            [
             0.5555555555555556,
             "#d8576b"
            ],
            [
             0.6666666666666666,
             "#ed7953"
            ],
            [
             0.7777777777777778,
             "#fb9f3a"
            ],
            [
             0.8888888888888888,
             "#fdca26"
            ],
            [
             1,
             "#f0f921"
            ]
           ]
          },
          "colorway": [
           "#636efa",
           "#EF553B",
           "#00cc96",
           "#ab63fa",
           "#FFA15A",
           "#19d3f3",
           "#FF6692",
           "#B6E880",
           "#FF97FF",
           "#FECB52"
          ],
          "font": {
           "color": "#2a3f5f"
          },
          "geo": {
           "bgcolor": "white",
           "lakecolor": "white",
           "landcolor": "#E5ECF6",
           "showlakes": true,
           "showland": true,
           "subunitcolor": "white"
          },
          "hoverlabel": {
           "align": "left"
          },
          "hovermode": "closest",
          "mapbox": {
           "style": "light"
          },
          "paper_bgcolor": "white",
          "plot_bgcolor": "#E5ECF6",
          "polar": {
           "angularaxis": {
            "gridcolor": "white",
            "linecolor": "white",
            "ticks": ""
           },
           "bgcolor": "#E5ECF6",
           "radialaxis": {
            "gridcolor": "white",
            "linecolor": "white",
            "ticks": ""
           }
          },
          "scene": {
           "xaxis": {
            "backgroundcolor": "#E5ECF6",
            "gridcolor": "white",
            "gridwidth": 2,
            "linecolor": "white",
            "showbackground": true,
            "ticks": "",
            "zerolinecolor": "white"
           },
           "yaxis": {
            "backgroundcolor": "#E5ECF6",
            "gridcolor": "white",
            "gridwidth": 2,
            "linecolor": "white",
            "showbackground": true,
            "ticks": "",
            "zerolinecolor": "white"
           },
           "zaxis": {
            "backgroundcolor": "#E5ECF6",
            "gridcolor": "white",
            "gridwidth": 2,
            "linecolor": "white",
            "showbackground": true,
            "ticks": "",
            "zerolinecolor": "white"
           }
          },
          "shapedefaults": {
           "line": {
            "color": "#2a3f5f"
           }
          },
          "ternary": {
           "aaxis": {
            "gridcolor": "white",
            "linecolor": "white",
            "ticks": ""
           },
           "baxis": {
            "gridcolor": "white",
            "linecolor": "white",
            "ticks": ""
           },
           "bgcolor": "#E5ECF6",
           "caxis": {
            "gridcolor": "white",
            "linecolor": "white",
            "ticks": ""
           }
          },
          "title": {
           "x": 0.05
          },
          "xaxis": {
           "automargin": true,
           "gridcolor": "white",
           "linecolor": "white",
           "ticks": "",
           "title": {
            "standoff": 15
           },
           "zerolinecolor": "white",
           "zerolinewidth": 2
          },
          "yaxis": {
           "automargin": true,
           "gridcolor": "white",
           "linecolor": "white",
           "ticks": "",
           "title": {
            "standoff": 15
           },
           "zerolinecolor": "white",
           "zerolinewidth": 2
          }
         }
        }
       }
      },
      "text/html": [
       "<div>\n",
       "        \n",
       "        \n",
       "            <div id=\"db20eaba-a09e-44b7-8b15-a416df5bab7f\" class=\"plotly-graph-div\" style=\"height:525px; width:100%;\"></div>\n",
       "            <script type=\"text/javascript\">\n",
       "                require([\"plotly\"], function(Plotly) {\n",
       "                    window.PLOTLYENV=window.PLOTLYENV || {};\n",
       "                    \n",
       "                if (document.getElementById(\"db20eaba-a09e-44b7-8b15-a416df5bab7f\")) {\n",
       "                    Plotly.newPlot(\n",
       "                        'db20eaba-a09e-44b7-8b15-a416df5bab7f',\n",
       "                        [{\"mode\": \"text\", \"text\": [\"train\", \"trains\", \"trained\", \"training\", \"car\", \"cars\", \"plane\", \"planes\", \"planed\", \"planing\", \"planer\", \"exercise\", \"exercises\", \"exercised\", \"exercising\", \"brother\", \"brothers\", \"bretheren\", \"sister\", \"sisters\", \"father\", \"fathers\", \"fathered\", \"fathering\", \"iron\", \"irons\", \"ironed\", \"ironing\", \"stool\", \"chair\", \"chairs\", \"chaired\", \"chairing\", \"couch\", \"couches\", \"couched\", \"couching\", \"door\", \"doors\", \"tree\", \"trees\", \"treed\", \"treeing\", \"grass\", \"grasses\", \"bush\", \"bushes\", \"clock\", \"clocks\", \"clocked\", \"clocking\", \"poster\", \"posters\", \"photo\", \"photos\", \"picture\", \"pictures\", \"pictured\", \"picturing\", \"camera\", \"cameras\", \"weight\", \"weights\", \"weighted\", \"weighting\", \"height\", \"heights\", \"length\", \"lengths\", \"meter\", \"meters\", \"metered\", \"metering\", \"metre\", \"metres\", \"worm\", \"worms\", \"wormed\", \"worming\", \"earthworm\", \"earthworms\", \"cockroach\", \"cockroaches\", \"tiger\", \"tigers\", \"cereal\", \"cereals\", \"milk\", \"milks\", \"milked\", \"milking\", \"butter\", \"butters\", \"buttered\", \"buttering\", \"knife\", \"knifes\", \"knifed\", \"knifing\", \"knives\", \"lunch\", \"lunches\", \"lunched\", \"lunching\", \"dinner\", \"dinners\", \"breakfast\", \"breakfasts\", \"breakfasted\", \"breakfasting\", \"kitchen\", \"kitchens\", \"basketball\", \"basketballs\", \"baseball\", \"baseballs\", \"football\", \"footballs\", \"strategy\", \"strategies\", \"net\", \"nets\", \"netted\", \"netting\", \"ball\", \"balls\", \"balled\", \"balling\", \"racket\", \"spider\", \"spiders\", \"shirt\", \"shirts\", \"trousers\", \"short\", \"shorts\", \"shorted\", \"shorting\", \"cheese\", \"cheeses\", \"bag\", \"bags\", \"bagged\", \"bagging\", \"luggage\", \"pocket\", \"pockets\", \"pocketed\", \"pocketing\", \"money\", \"monies\", \"car\", \"cars\", \"truck\", \"trucks\", \"trucked\", \"trucking\", \"van\", \"vans\", \"plane\", \"planes\", \"planed\", \"planing\", \"planer\", \"coffee\", \"coffees\", \"tea\", \"teas\", \"soda\", \"sodas\", \"pasta\", \"pastas\", \"wind\", \"winds\", \"wound\", \"winding\", \"winded\", \"rain\", \"rains\", \"rained\", \"raining\", \"hail\", \"hails\", \"hailed\", \"hailing\", \"poverty\", \"poverties\", \"math\", \"maths\", \"statistic\", \"statistics\", \"probability\", \"probabilities\", \"environment\", \"environments\", \"derivative\", \"derivatives\", \"integral\", \"integrals\", \"division\", \"divisions\", \"course\", \"courses\", \"coursed\", \"coursing\", \"student\", \"students\", \"teacher\", \"teachers\", \"class\", \"classes\", \"classed\", \"classing\", \"room\", \"rooms\", \"roomed\", \"rooming\", \"brush\", \"brushes\", \"brushed\", \"brushing\", \"mop\", \"mops\", \"mopped\", \"mopping\", \"duster\", \"pencil\", \"pencils\", \"penciled\", \"pencilled\", \"penciling\", \"pencilling\", \"pen\", \"pens\", \"penned\", \"penning\", \"pencil\", \"pencils\", \"penciled\", \"pencilled\", \"penciling\", \"pencilling\", \"marker\", \"markers\", \"market\", \"markets\", \"marketed\", \"marketing\", \"income\", \"incomes\", \"wage\", \"wages\", \"waged\", \"waging\", \"salary\", \"salaries\", \"strategy\", \"strategies\", \"virus\", \"viruses\", \"illness\", \"illnesses\", \"bacterium\", \"bacteria\", \"medicine\", \"medicines\", \"bar\", \"bars\", \"barred\", \"barring\", \"pub\", \"pubs\", \"disco\", \"office\", \"offices\", \"school\", \"schools\", \"schooled\", \"schooling\", \"university\", \"universities\", \"institute\", \"institutes\", \"instituted\", \"instituting\", \"building\", \"buildings\", \"built\", \"builds\", \"build\", \"book\", \"books\", \"booked\", \"booking\", \"notebook\", \"notebooks\", \"sheet\", \"sheets\", \"sheeted\", \"sheeting\", \"stapler\", \"staplers\", \"caution\", \"cautions\", \"danger\", \"dangers\", \"problem\", \"problems\", \"happiness\", \"happinesses\", \"knife\", \"knifes\", \"knifed\", \"knifing\", \"knives\", \"gun\", \"guns\", \"ax\", \"care\", \"cares\", \"cared\", \"caring\", \"price\", \"prices\", \"priced\", \"pricing\", \"ticket\", \"tickets\", \"receipt\", \"receipts\", \"expensive\", \"lucky\", \"luckier\", \"luckiest\", \"optimistic\", \"pesimistic\", \"orange\", \"oranges\", \"green\", \"greener\", \"greenest\", \"greens\", \"greened\", \"greening\", \"black\", \"blacker\", \"blackest\", \"brown\", \"browns\", \"bag\", \"bags\", \"bagged\", \"bagging\", \"television\", \"televisions\", \"radio\", \"radios\", \"radioed\", \"radioing\", \"newspaper\", \"newspapers\", \"medicine\", \"medicines\", \"engineering\", \"engineerings\", \"engineer\", \"engineers\", \"engineered\", \"mathematics\", \"scientific\", \"religion\", \"religions\", \"cathedral\", \"cathedrals\", \"church\", \"churches\", \"monastery\", \"monasteries\", \"shop\", \"shops\", \"shopped\", \"shopping\", \"friend\", \"friends\", \"guest\", \"guests\", \"guested\", \"guesting\", \"companion\", \"companions\", \"enemy\", \"enemies\", \"philosophy\", \"philosophies\", \"psychology\", \"psychologies\", \"anatomy\", \"anatomies\", \"government\", \"governments\", \"fear\", \"fears\", \"feared\", \"fearing\", \"joy\", \"joys\", \"surprise\", \"surprises\", \"surprised\", \"surprising\", \"bed\", \"beds\", \"bedded\", \"bedding\", \"professor\", \"professors\", \"book\", \"books\", \"booked\", \"booking\", \"meet\", \"meets\", \"met\", \"meeting\", \"meetings\", \"pepper\", \"peppers\", \"spain\", \"denmark\", \"turkey\", \"turkeys\", \"nation\", \"nations\", \"son\", \"sons\", \"child\", \"children\", \"daughter\", \"daughters\", \"family\", \"families\", \"data\", \"datum\", \"computer\", \"computers\", \"process\", \"processes\", \"processed\", \"processing\", \"room\", \"rooms\", \"roomed\", \"rooming\", \"game\", \"games\", \"gamed\", \"gaming\", \"gamer\", \"gamest\", \"console\", \"play\", \"plays\", \"played\", \"playing\", \"hotel\", \"hotels\", \"volleyball\", \"volleyballs\", \"wrestle\", \"wrestles\", \"wrestled\", \"wrestling\", \"baseball\", \"baseballs\", \"bat\", \"bats\", \"batted\", \"batting\", \"ventilator\", \"ventilators\", \"air-conditioner\", \"fan\", \"fans\", \"fanned\", \"fanning\", \"follower\", \"followers\", \"model\", \"models\", \"modeled\", \"modelled\", \"modeling\", \"modelling\", \"guidance\", \"guidances\", \"lead\", \"leads\", \"led\", \"leading\", \"aluminium\", \"aluminum\", \"aluminums\", \"column\", \"columns\", \"line\", \"lines\", \"lined\", \"lining\", \"row\", \"rows\", \"rowed\", \"rowing\", \"boat\", \"boats\", \"boated\", \"boating\", \"rip\", \"rips\", \"ripped\", \"ripping\", \"cut\", \"cuts\", \"cutting\", \"tear\", \"tears\", \"tore\", \"torn\", \"tearing\", \"teared\", \"eye\", \"eyes\", \"eyed\", \"eyeing\", \"axis\", \"axes\", \"pivot\", \"pivots\", \"pivoted\", \"pivoting\", \"axe\", \"ax\", \"axes\", \"axed\", \"axing\", \"axis\", \"sword\", \"swords\", \"bend\", \"bends\", \"bent\", \"bending\", \"curve\", \"curves\", \"curved\", \"curving\", \"bow\", \"bows\", \"bowed\", \"bowing\", \"arrow\", \"arrows\", \"good\", \"better\", \"best\", \"goods\", \"well\", \"wells\", \"fine\", \"finer\", \"finest\", \"fines\", \"fined\", \"fining\", \"pay\", \"pays\", \"paid\", \"paying\", \"town\", \"towns\", \"city\", \"cities\", \"capital\", \"capitals\", \"letter\", \"letters\", \"bottle\", \"bottles\", \"bottled\", \"bottling\", \"jar\", \"jars\", \"jarred\", \"jarring\", \"can\", \"could\", \"cans\", \"canned\", \"canning\", \"manage\", \"manages\", \"managed\", \"managing\", \"pub\", \"pubs\", \"bistro\", \"bar\", \"bars\", \"barred\", \"barring\", \"rod\", \"rods\", \"straight\", \"straighter\", \"straightest\", \"right\", \"rights\", \"righted\", \"righting\", \"leave\", \"leaves\", \"left\", \"leaving\", \"go\", \"goes\", \"went\", \"gone\", \"going\", \"fish\", \"fishes\", \"fished\", \"fishing\", \"salmon\", \"bass\", \"basses\", \"violin\", \"violins\", \"down\", \"downs\", \"-up\", \"up\", \"right\", \"rights\", \"righted\", \"righting\", \"correct\", \"corrects\", \"corrected\", \"correcting\", \"finger\", \"fingers\", \"fingered\", \"fingering\", \"hand\", \"hands\", \"handed\", \"handing\", \"palm\", \"palms\", \"palmed\", \"palming\", \"pine\", \"pines\", \"pined\", \"pining\", \"hour\", \"hours\", \"time\", \"times\", \"timed\", \"timing\", \"watch\", \"watches\", \"watched\", \"watching\", \"display\", \"displays\", \"displayed\", \"displaying\", \"turkish\", \"spanish\", \"polish\", \"polishes\", \"polished\", \"polishing\", \"fingernail\", \"attach\", \"attaches\", \"attached\", \"attaching\", \"clinch\", \"tie\", \"ties\", \"tied\", \"tying\", \"bowtie\", \"bowties\", \"wristband\", \"wristbands\", \"necklace\", \"necklaces\", \"ring\", \"rings\", \"rang\", \"rung\", \"ringing\", \"bang\", \"bangs\", \"banged\", \"banging\", \"dolphin\", \"dolphins\", \"whale\", \"whales\", \"whaled\", \"whaling\", \"seal\", \"seals\", \"sealed\", \"sealing\", \"stamp\", \"stamps\", \"stamped\", \"stamping\", \"park\", \"parks\", \"parked\", \"parking\", \"place\", \"places\", \"placed\", \"placing\", \"square\", \"squares\", \"squared\", \"squaring\", \"green\", \"greener\", \"greenest\", \"greens\", \"greened\", \"greening\", \"word\", \"words\", \"worded\", \"wording\", \"sentence\", \"sentences\", \"sentenced\", \"sentencing\", \"letter\", \"letters\", \"four\", \"gossip\", \"chatter\", \"chatters\", \"chattered\", \"chattering\", \"chitchat\", \"empty\", \"emptier\", \"emptiest\", \"empties\", \"emptied\", \"emptying\", \"information\", \"informations\", \"intellegence\", \"knowledge\", \"dirty\", \"dirtier\", \"dirtiest\", \"notice\", \"notices\", \"noticed\", \"noticing\", \"recognize\", \"recognise\", \"recognizes\", \"recognises\", \"recognized\", \"recognised\", \"recognizing\", \"recognising\", \"detect\", \"detects\", \"detected\", \"detecting\", \"hard\", \"harder\", \"hardest\", \"thought\", \"thoughts\", \"belief\", \"beliefs\", \"concern\", \"concerns\", \"concerned\", \"concerning\", \"keyboard\", \"keyboards\", \"goal\", \"goals\", \"aim\", \"aims\", \"aimed\", \"aiming\", \"purpose\", \"purposes\", \"continue\", \"continues\", \"continued\", \"continuing\", \"eye\", \"eyes\", \"eyed\", \"eyeing\", \"brow\", \"brows\", \"eyelash\", \"bed\", \"beds\", \"bedded\", \"bedding\", \"humor\", \"humour\", \"humors\", \"humours\", \"humored\", \"humoured\", \"humoring\", \"humouring\", \"fun\", \"joke\", \"jokes\", \"joked\", \"joking\", \"counted\", \"counts\", \"counting\", \"tested\", \"test\", \"tests\", \"testing\", \"evaluation\", \"evaluations\", \"exam\", \"exams\", \"train\", \"trains\", \"trained\", \"training\", \"essay\", \"essays\", \"article\", \"articles\", \"paper\", \"papers\", \"papered\", \"papering\", \"water\", \"waters\", \"watered\", \"watering\", \"environment\", \"environments\", \"habitat\", \"habitats\", \"surrounding\", \"surroundings\", \"judge\", \"judges\", \"judged\", \"judging\", \"zoo\", \"zoos\", \"animal\", \"animals\", \"circus\", \"circuses\", \"ring\", \"rings\", \"rang\", \"rung\", \"ringing\", \"estimate\", \"estimates\", \"estimated\", \"estimating\", \"forecast\", \"forecasts\", \"forecasted\", \"forecasting\", \"predict\", \"predicts\", \"predicted\", \"predicting\", \"chew\", \"chews\", \"chewed\", \"chewing\", \"coffin\", \"coffins\", \"dead\", \"deader\", \"deadest\", \"bury\", \"buries\", \"buried\", \"burying\", \"cheek\", \"cheeks\", \"extinct\", \"extinguish\", \"extinguishes\", \"extinguished\", \"extinguishing\", \"abolish\", \"abolishes\", \"abolished\", \"abolishing\", \"fork\", \"forks\", \"forked\", \"forking\", \"telephone\", \"telephones\", \"telephoned\", \"telephoning\", \"radio\", \"radios\", \"radioed\", \"radioing\", \"television\", \"televisions\", \"eat\", \"eats\", \"ate\", \"eaten\", \"eating\", \"pause\", \"pauses\", \"paused\", \"pausing\", \"halt\", \"halts\", \"halted\", \"halting\", \"freeze\", \"freezes\", \"froze\", \"frozen\", \"freezing\", \"shirt\", \"shirts\"], \"type\": \"scatter\", \"x\": [43.12343215942383, 43.307762145996094, -3.5544004440307617, 3.0388550758361816, 38.34853744506836, 39.76158905029297, 49.0433349609375, 46.995914459228516, -41.95097732543945, -25.707366943359375, -24.470645904541016, -0.03912294656038284, 0.868956983089447, -1.4959871768951416, -0.7101492285728455, 20.34444808959961, 20.22510528564453, 8.612062454223633, 19.241527557373047, 19.448396682739258, 21.432498931884766, 22.668720245361328, 25.018510818481445, 24.691164016723633, 7.038516998291016, -19.114259719848633, -19.682403564453125, -19.40409278869629, 23.10576629638672, 21.848268508911133, 21.406675338745117, 23.131927490234375, 22.996366500854492, 19.241897583007812, 19.693069458007812, -13.342458724975586, -13.35224723815918, 58.57461929321289, 58.571590423583984, 42.683937072753906, 42.01137924194336, -10.842756271362305, -19.351585388183594, 37.70008850097656, 38.4237174987793, 40.21406936645508, 40.60031509399414, 8.494887351989746, 8.513202667236328, -31.95917510986328, -31.970081329345703, 11.47507095336914, 11.471451759338379, 4.3312554359436035, 4.2997894287109375, 2.918527841567993, 3.666437864303589, 1.300004482269287, -10.680655479431152, 18.042116165161133, 18.0811767578125, -3.6371662616729736, -3.981144666671753, -4.938810348510742, -4.643435478210449, -56.8444938659668, -56.99677658081055, 17.602476119995117, 17.62649154663086, -61.18288803100586, -61.58201217651367, -58.17975616455078, -58.18231201171875, -62.42593002319336, -61.995426177978516, 32.168968200683594, 31.573461532592773, -34.75017166137695, -34.745819091796875, 30.803970336914062, 31.075576782226562, 27.59551429748535, 27.46815299987793, 43.35576248168945, 43.107505798339844, 30.420351028442383, 30.39919090270996, 27.84491539001465, 26.882740020751953, 25.65314483642578, 25.4907283782959, 16.828838348388672, 16.301843643188477, 18.4322452545166, 18.42620849609375, -35.93341064453125, -34.548728942871094, -27.209596633911133, -24.545398712158203, -33.431365966796875, 26.44821548461914, 26.56867027282715, 22.37220573425293, 23.13994026184082, 28.212848663330078, 27.854644775390625, 25.83836555480957, 26.16297149658203, 23.550621032714844, 24.049945831298828, 25.924488067626953, 25.95847511291504, 3.8287770748138428, 1.385934829711914, 2.597999334335327, -0.07354754209518433, 3.89486026763916, 0.5892847776412964, 0.8393906950950623, 1.3708148002624512, 16.045272827148438, 15.80989933013916, 14.044792175292969, 14.54409408569336, -2.5362768173217773, -1.677260160446167, -23.252330780029297, -22.768726348876953, 1.4939645528793335, 27.582082748413086, 27.673873901367188, 4.875697135925293, 5.812976837158203, 7.102314472198486, 50.646305084228516, 7.082791328430176, -37.50355529785156, -37.50193405151367, 20.484107971191406, 20.536678314208984, -9.930440902709961, -8.608850479125977, -36.66873550415039, -34.301395416259766, 10.568020820617676, -35.7443962097168, -35.80149459838867, -1.027937889099121, -1.0744935274124146, 27.746536254882812, 27.81439781188965, 38.348533630371094, 39.760658264160156, 35.34365463256836, 35.517459869384766, 0.0926731526851654, 33.521156311035156, 34.94729995727539, 35.64302062988281, 49.043304443359375, 46.99589920043945, -41.9511833190918, -25.707416534423828, -24.470645904541016, 22.1464786529541, 22.240549087524414, 22.993860244750977, 22.803424835205078, 17.449615478515625, 17.5881404876709, 32.270050048828125, 32.29314041137695, -43.533626556396484, -43.52888870239258, -5.845484256744385, -6.185413837432861, 52.30038833618164, -1.4425666332244873, -1.2639107704162598, -1.1137455701828003, -1.1218891143798828, 2.122241735458374, 3.8248751163482666, 2.1285109519958496, 2.5984554290771484, 9.80946159362793, 8.957841873168945, 23.332834243774414, 23.258298873901367, -3.2072205543518066, -3.3764278888702393, -3.661717653274536, -3.508449077606201, 3.2789013385772705, 4.586966037750244, -1.9509493112564087, -1.8301671743392944, -4.4341607093811035, -5.7071757316589355, 1.9395179748535156, 2.1706578731536865, 6.031978130340576, 6.610568046569824, -30.343746185302734, -30.338821411132812, 15.665975570678711, 15.134781837463379, 16.96500587463379, 16.077165603637695, 8.930255889892578, 8.52647876739502, -11.80272102355957, -12.204533576965332, 50.81997299194336, 51.40141677856445, 50.34699630737305, 53.940773010253906, -28.151018142700195, -27.880945205688477, -26.921545028686523, -27.0544490814209, -32.1709098815918, -31.911235809326172, -31.79723358154297, -31.70599937438965, -1.926066517829895, -48.526832580566406, -47.161651611328125, -44.5080680847168, -42.9669075012207, -44.81279754638672, -43.050655364990234, -49.40584182739258, -48.54352569580078, -14.496976852416992, -14.497624397277832, -48.41376876831055, -47.161651611328125, -44.63547134399414, -43.02396011352539, -44.62324523925781, -43.021270751953125, -2.8910653591156006, -2.887331485748291, 13.452815055847168, 13.495793342590332, -0.954496443271637, 2.8099029064178467, 28.975358963012695, 29.16879653930664, 32.070533752441406, 32.012027740478516, -7.626951694488525, -7.639220237731934, 33.699310302734375, 33.41708755493164, 1.0067886114120483, 1.3696285486221313, 27.57126235961914, 27.94447135925293, 22.695819854736328, 22.7143497467041, 30.31078338623047, 30.19427490234375, 17.79134178161621, 16.088584899902344, 28.054298400878906, 24.18649673461914, -50.66716766357422, -9.969552993774414, 52.98145294189453, 50.52891159057617, 25.36277961730957, 23.191394805908203, 23.231096267700195, 15.576970100402832, 14.64424991607666, 16.352657318115234, 16.127683639526367, 12.571383476257324, 12.097631454467773, 10.873991966247559, 11.103645324707031, -2.863717555999756, -3.057774066925049, 20.64042854309082, 21.06344223022461, 12.826676368713379, 11.163387298583984, 11.598052024841309, 31.325197219848633, 32.07197189331055, -41.943756103515625, -18.52594566345215, 14.362143516540527, 14.293916702270508, 37.2392692565918, 37.309181213378906, 10.57070255279541, 9.86793041229248, 11.870171546936035, 11.875027656555176, 4.876381874084473, 4.545603275299072, -4.849791049957275, -4.92460298538208, -1.7794530391693115, -1.784481406211853, 7.416228771209717, 7.826548099517822, -36.13652420043945, -34.09575271606445, -27.209598541259766, -24.545392990112305, -33.86518478393555, -29.886974334716797, -30.758262634277344, -41.7570915222168, 12.987706184387207, 11.574872970581055, 11.354961395263672, 11.805713653564453, -4.420793056488037, -3.959707736968994, -5.899550437927246, -0.7502879500389099, -12.519822120666504, -12.488556861877441, -4.799572467803955, -4.415018558502197, -6.738166332244873, -23.629554748535156, -22.9644775390625, -23.685630798339844, -9.042789459228516, -8.795950889587402, 5.629727840423584, 5.129079341888428, 7.76657247543335, 36.54178237915039, 33.3502197265625, 9.739123344421387, -9.055882453918457, 15.232956886291504, 4.7902703285217285, 1.6502286195755005, 1.7978640794754028, 5.6515374183654785, 7.5262579917907715, -9.79296875, -8.608850479125977, -36.66873550415039, -34.301395416259766, 14.80384349822998, 16.95490837097168, 33.800052642822266, 32.297462463378906, 10.788732528686523, 12.721200942993164, 10.981911659240723, 11.119544982910156, 17.79134178161621, 16.087318420410156, 6.68472146987915, 6.230886936187744, 8.24339485168457, 7.92582368850708, 0.5460425615310669, 6.271330833435059, 4.872682571411133, 32.02124786376953, 31.6732120513916, 26.270048141479492, 26.096513748168945, 25.06070899963379, 25.306438446044922, 23.941556930541992, 23.886568069458008, 27.128599166870117, 26.764162063598633, 4.09319543838501, 4.546940803527832, 16.965557098388672, 17.040122985839844, 38.08540344238281, 37.71590805053711, 6.371053695678711, 6.370109558105469, 7.350621700286865, 7.46233606338501, -13.482562065124512, -13.332865715026855, 4.5249223709106445, 4.007130146026611, 5.872063636779785, 4.9912638664245605, -15.775528907775879, -15.570676803588867, 8.99100399017334, 9.27623462677002, -6.701702117919922, -5.787715435028076, -8.123795509338379, -7.932785987854004, -7.730215549468994, -6.839694976806641, -9.792519569396973, -9.255929946899414, -10.427263259887695, -9.451210975646973, 44.98226547241211, 45.628665924072266, 45.5106201171875, 41.53711700439453, 13.252524375915527, 13.635205268859863, 31.32522201538086, 32.072181701660156, -41.9437141418457, -18.52594566345215, 18.577131271362305, 18.68378257751465, 18.2479190826416, 20.247297286987305, 20.32586097717285, 35.55571365356445, 35.552207946777344, 12.292278289794922, 11.462121963500977, 45.35783767700195, 45.341209411621094, 26.927322387695312, 27.728864669799805, 23.766191482543945, 22.81765365600586, 10.26465129852295, 20.248733520507812, 20.293622970581055, 20.658252716064453, 18.231538772583008, 19.320358276367188, -5.172868728637695, -3.421778917312622, 18.241436004638672, 17.875289916992188, -7.668384075164795, -7.648416996002197, -10.410561561584473, -9.606673240661621, 50.81993865966797, 51.401607513427734, 50.34699249267578, 53.94081497192383, -6.134694576263428, -5.938233852386475, -6.8693366050720215, 19.943199157714844, 20.855030059814453, 12.32175064086914, -18.049184799194336, -7.727201461791992, -8.309060096740723, -7.022444725036621, -6.731991291046143, 54.84108352661133, 55.01470184326172, 4.073858261108398, 1.5886948108673096, 10.005623817443848, 10.055213928222656, 9.62885570526123, 10.610974311828613, 2.597999334335327, -0.07354699075222015, 0.6107548475265503, 0.7083512544631958, -2.3776776790618896, -1.894038200378418, 11.004902839660645, 10.968780517578125, 6.219910144805908, 23.782217025756836, 23.14598846435547, -22.705263137817383, -22.7054443359375, 21.62557601928711, 21.903423309326172, -27.270742416381836, -26.947046279907227, 0.7355870008468628, 0.6781620979309082, -24.762584686279297, -24.644596099853516, 3.3289337158203125, 3.931802272796631, -9.639670372009277, -10.01180648803711, -11.000263214111328, -9.740992546081543, 8.150064468383789, 7.74238395690918, 7.121805667877197, -22.8636531829834, -23.198049545288086, 8.5794677734375, 8.599601745605469, -38.41927719116211, -38.17166519165039, -25.717201232910156, -24.9055233001709, 7.303524971008301, 6.3510026931762695, 39.61825180053711, 39.60647201538086, -30.37552833557129, 36.188899993896484, -26.70230484008789, -25.456636428833008, -26.26134490966797, -25.078527450561523, -20.99614906311035, -21.506229400634766, -22.458358764648438, -24.629684448242188, -23.358137130737305, -27.672292709350586, -27.670495986938477, -24.963539123535156, -22.78473472595215, -52.965423583984375, -49.530555725097656, -48.166717529296875, -43.26734924316406, -33.42919921875, -36.97975158691406, -37.17682647705078, -36.733436584472656, -35.450687408447266, -35.86529541015625, -36.11423873901367, -41.75724411010742, -36.97975158691406, -36.183387756347656, -36.1483039855957, -33.429203033447266, -32.602073669433594, -32.4112434387207, -33.9417839050293, -34.29612350463867, -36.37937927246094, -35.325923919677734, -29.46681785583496, -29.686412811279297, -31.008358001708984, -30.95303726196289, -31.290813446044922, -31.826229095458984, -10.981541633605957, -11.017829895019531, -34.478050231933594, -34.32683181762695, -18.54144287109375, -19.220918655395508, -19.827665328979492, 14.799661636352539, -15.767794609069824, 22.039968490600586, -16.268468856811523, -20.53114891052246, -19.042278289794922, 2.2540202140808105, 1.0433601140975952, 1.2911193370819092, -1.3213180303573608, -0.28904032707214355, -1.7974402904510498, -1.2052292823791504, 30.516103744506836, 30.15009880065918, 30.117149353027344, 29.72313117980957, 18.464670181274414, 19.17769432067871, 18.09542465209961, 16.570880889892578, -15.469944953918457, -15.201539993286133, -14.313909530639648, -14.045799255371094, -18.736324310302734, -18.445497512817383, -1.637265682220459, -8.249082565307617, -13.135248184204102, -12.619051933288574, -15.343640327453613, -12.557124137878418, -13.976448059082031, -1.8067357540130615, -1.9972771406173706, -2.501716375350952, -1.7457358837127686, 52.98145294189453, 50.528907775878906, 26.10965919494629, 28.054298400878906, 24.18649673461914, -50.66715621948242, -9.969422340393066, 52.641326904296875, 52.618038177490234, -15.600475311279297, -16.153255462646484, -16.317873001098633, -16.363140106201172, -2.1537024974823, -54.57848358154297, -55.47882080078125, -12.783750534057617, -13.281353950500488, -14.8202486038208, -13.147909164428711, -13.12297248840332, -6.167712211608887, -11.426318168640137, -10.990312576293945, -11.146258354187012, 34.4449462890625, 33.45255661010742, -29.86819839477539, 36.25956726074219, 36.26915740966797, 31.02971649169922, 30.070083618164062, 28.549407958984375, 28.81108856201172, -14.385404586791992, -43.076961517333984, -36.414920806884766, -36.21340560913086, -16.363140106201172, -2.1537024974823, -54.57847213745117, -55.47874450683594, -14.135744094848633, -16.460487365722656, -15.017374038696289, -15.476297378540039, -27.234619140625, -27.695913314819336, -25.211645126342773, -24.99401092529297, -28.60637092590332, -28.576929092407227, -21.485984802246094, -21.363059997558594, -31.15829849243164, -30.527156829833984, -24.719255447387695, -24.651657104492188, 42.647605895996094, 42.24113082885742, 3.9681036472320557, 3.710566282272339, 1.6612900495529175, 1.5892064571380615, 0.3783304989337921, 1.0950626134872437, -9.625493049621582, -9.108893394470215, 5.261451721191406, 5.555917739868164, 3.632505416870117, 3.9873924255371094, -12.888273239135742, -12.505070686340332, -13.5984468460083, -12.880171775817871, 13.71496295928955, 12.980545043945312, -23.946311950683594, -24.02269172668457, -23.337947845458984, -23.69272804260254, -24.06956672668457, -11.318705558776855, -10.101886749267578, -11.626709938049316, -11.855085372924805, 0.9824315905570984, 20.89445686340332, 21.482892990112305, 19.6190128326416, 20.151981353759766, 14.500142097473145, 14.509272575378418, -7.17996072769165, -7.158171653747559, -7.957576751708984, -7.936910629272461, 4.778977394104004, 6.617364406585693, -18.869150161743164, -15.081886291503906, -16.55803680419922, -30.110309600830078, -29.52506446838379, -28.19702911376953, -28.89000701904297, 41.219451904296875, 41.20919418334961, 42.046714782714844, 41.550376892089844, -23.22902488708496, 39.07861328125, 12.541411399841309, 12.792426109313965, 12.269383430480957, 12.356955528259277, -18.837047576904297, -18.762422561645508, -15.711923599243164, -15.584872245788574, 37.1047477722168, 37.14177322387695, 30.913440704345703, 30.16448211669922, 8.38901138305664, 8.883377075195312, -14.839009284973145, -14.398822784423828, -15.479966163635254, -14.845169067382812, -16.212692260742188, -16.439821243286133, 7.7655487060546875, 36.541812896728516, 33.350215911865234, 9.739432334899902, -9.055883407592773, 15.232956886291504, 13.518768310546875, 13.400126457214355, 12.853461265563965, 12.246804237365723, 11.027565956115723, 11.323625564575195, 8.484277725219727, 9.319293975830078, 18.21137046813965, 16.572702407836914, 17.44754981994629, -30.886463165283203, -28.62947654724121, -28.234909057617188, -26.532949447631836, -26.99755096435547, -29.496997833251953, -27.824419021606445, -26.33677864074707, -2.4559712409973145, -28.603567123413086, -27.71311378479004, -27.865835189819336, 1.1898430585861206, 1.0887730121612549, 3.791677713394165, 2.6104576587677, -5.681224346160889, -5.176866054534912, -4.367624282836914, -13.189630508422852, -13.373305320739746, -12.349043846130371, -12.186800956726074, -8.570291519165039, -7.398608207702637, -7.935814380645752, -7.276139259338379, -5.65195894241333, -6.183132171630859, -9.044577598571777, -8.142369270324707, -18.363950729370117, -18.443294525146484, -16.816184997558594, -16.791593551635742, -20.42381477355957, -19.475830078125, -18.882644653320312, -11.952542304992676, 1.98576819896698, 34.89944839477539, 34.3329963684082, -3.710057020187378, -4.111851215362549, -10.299948692321777, 0.5736943483352661, 19.363506317138672, 19.400508880615234, 1.1606502532958984, 1.201168179512024, -18.076419830322266, -18.56371307373047, -19.692678451538086, -18.895870208740234, 19.605655670166016, 19.738759994506836, -5.031632900238037, -5.732431411743164, -5.01447057723999, -5.607594013214111, -52.96542739868164, -49.530517578125, -48.16667556762695, -43.26738357543945, -50.46479797363281, -50.46223831176758, -23.124814987182617, 44.98223876953125, 45.62864685058594, 45.510616302490234, 41.53711700439453, -18.20310401916504, -18.21346664428711, 42.972900390625, 42.97407150268555, -20.007431030273438, -19.921890258789062, -19.287109375, -18.7407283782959, -19.432741165161133, -16.715229034423828, -17.04930877685547, -14.379472732543945, -15.061281204223633, -3.3469350337982178, -2.102972984313965, -3.1007978916168213, -21.81496238708496, -24.198938369750977, -23.669090270996094, -22.296045303344727, -0.8390577435493469, -0.6619664430618286, -20.941572189331055, -20.950359344482422, 43.39345169067383, 43.30760955810547, -3.5544002056121826, 3.039548873901367, 8.002948760986328, 8.090514183044434, 7.67540168762207, 7.9781718254089355, 11.459904670715332, 11.130363464355469, -49.5013542175293, -49.50120544433594, 5.1008219718933105, 4.663952827453613, -11.845352172851562, -11.716763496398926, 3.2343666553497314, 4.539689540863037, 35.213008880615234, 35.28533172607422, 2.3548080921173096, 3.2306716442108154, -42.35410690307617, -42.15433120727539, -40.13367462158203, -40.3718376159668, 41.14462661743164, 41.252437591552734, 39.31544876098633, 39.48613739013672, 45.94492721557617, 45.89596939086914, 4.778977394104004, 6.617364406585693, -18.869152069091797, -15.081860542297363, -16.558073043823242, -10.234321594238281, -9.658855438232422, -10.392898559570312, -9.257476806640625, -6.088277816772461, -6.45722770690918, -6.425999641418457, -7.294633865356445, -9.126172065734863, -8.240147590637207, -7.692249298095703, -8.186985969543457, -33.26204299926758, -34.016048431396484, -32.56562042236328, -32.758419036865234, 11.078980445861816, 11.102278709411621, 1.0932198762893677, -1.3478018045425415, -1.8610068559646606, 5.102431774139404, 4.772891998291016, 3.3705828189849854, 3.8875749111175537, -47.630584716796875, -47.66788101196289, 33.5475959777832, -4.939492225646973, -5.884512424468994, -4.971158981323242, -4.411710262298584, -8.404252052307129, -10.386225700378418, -9.486312866210938, -8.693155288696289, -43.02195739746094, -43.02610778808594, -18.201330184936523, -18.14313507080078, 14.899454116821289, 15.423368453979492, -16.039735794067383, -16.233285903930664, 33.799957275390625, 32.297462463378906, 10.785865783691406, 12.721830368041992, 14.803220748901367, 16.95341682434082, -2.1257412433624268, -1.1768691539764404, -3.5655019283294678, -3.0557165145874023, -2.000408172607422, -45.72825622558594, -44.96218490600586, -44.149723052978516, -44.595672607421875, -37.84543991088867, -37.166282653808594, -36.575199127197266, -36.2470588684082, -37.318790435791016, -37.3584098815918, -38.707069396972656, -37.0827751159668, -36.304012298583984, 4.619987487792969, 5.814347743988037], \"y\": [30.397123336791992, 28.622018814086914, 41.8524169921875, -15.085966110229492, 23.694507598876953, 20.983915328979492, 22.3026180267334, 21.32668685913086, 19.150314331054688, -30.802658081054688, -34.95906066894531, -13.62663459777832, -13.339766502380371, -14.265299797058105, -13.810084342956543, 11.257173538208008, 12.37238883972168, -5.085460186004639, 11.008487701416016, 12.495676040649414, 10.903668403625488, 11.873939514160156, 12.309242248535156, 12.401966094970703, 11.488737106323242, -10.201604843139648, -7.601465225219727, -8.556915283203125, -9.833597183227539, -9.253948211669922, -9.357626914978027, 24.82438850402832, 24.865232467651367, -10.18323802947998, -9.509138107299805, -33.43803787231445, -33.409427642822266, 9.349272727966309, 9.34570026397705, -10.515887260437012, -10.102317810058594, 38.359188079833984, -4.310848712921143, -10.033124923706055, -9.744830131530762, -11.829827308654785, -10.699366569519043, 33.139339447021484, 33.1275520324707, 13.714770317077637, 13.716383934020996, -20.803707122802734, -20.788082122802734, 14.033188819885254, 12.86218547821045, 12.416202545166016, 12.456912994384766, 12.13877010345459, 5.591228008270264, 19.566198348999023, 19.558454513549805, -12.459940910339355, -11.806663513183594, -10.344959259033203, -10.26623249053955, -13.562809944152832, -13.612226486206055, -50.250762939453125, -50.249698638916016, 2.352861166000366, 3.064622402191162, -3.039607048034668, -2.982646942138672, 4.465683460235596, 3.765223264694214, -8.412388801574707, -7.666378974914551, 5.9172234535217285, 5.9111199378967285, -5.909210205078125, -6.099308013916016, -6.195821762084961, -6.1974663734436035, 3.3767361640930176, 3.5106654167175293, -19.27690315246582, -19.292713165283203, 30.01799774169922, 30.758283615112305, 31.633237838745117, 31.747013092041016, -20.04165267944336, -19.799884796142578, -21.613048553466797, -20.988433837890625, -42.793399810791016, -44.379066467285156, 40.53621292114258, 39.28794479370117, -43.563438415527344, -24.926170349121094, -23.850486755371094, -22.134103775024414, -22.563852310180664, -23.874433517456055, -23.527524948120117, -21.160778045654297, -21.404977798461914, -20.774608612060547, -20.977094650268555, -16.71971893310547, -16.376863479614258, -26.465070724487305, -26.138057708740234, -29.82304573059082, -29.119592666625977, -27.57019805908203, -27.209497451782227, -8.695940017700195, -7.048113822937012, 24.366653442382812, 23.09915542602539, 23.15311622619629, 23.161775588989258, -27.30788230895996, -27.452167510986328, 22.503520965576172, 22.546123504638672, -23.269792556762695, -8.774792671203613, -8.543292999267578, -36.04192352294922, -34.47545623779297, -31.22431182861328, 2.896348237991333, -32.06639099121094, 43.2127571105957, 43.214332580566406, -17.580432891845703, -17.523670196533203, -41.092506408691406, -39.150997161865234, -8.004772186279297, -10.202798843383789, -3.9347617626190186, -0.6930559277534485, -0.5986555218696594, 20.25705909729004, 20.442508697509766, 16.001998901367188, 15.915184020996094, 23.694507598876953, 20.983694076538086, 17.52130889892578, 17.786128997802734, 3.397150754928589, 15.009387016296387, 20.156723022460938, 19.21706199645996, 22.302656173706055, 21.326644897460938, 19.150468826293945, -30.802658081054688, -34.95905685424805, -26.633481979370117, -26.89390754699707, -29.206409454345703, -28.5592098236084, -28.749818801879883, -28.550434112548828, -24.05597496032715, -24.053462982177734, 36.3359260559082, 36.331504821777344, 26.81841278076172, 25.8792781829834, 6.1660614013671875, 54.21467208862305, 53.4686393737793, 51.8577995300293, 51.94757080078125, 46.58446502685547, 45.219017028808594, 44.457557678222656, 45.25127029418945, 4.378497123718262, 4.837302207946777, -45.34846878051758, -44.85588073730469, -6.499748706817627, -6.133960723876953, -3.5816802978515625, -3.774122714996338, 0.5742138028144836, 1.1067113876342773, -1.289528250694275, -1.450118899345398, 4.627133369445801, -13.724040031433105, 5.5417704582214355, 5.301055908203125, -15.862524032592773, -16.076398849487305, 47.750789642333984, 47.74150085449219, -1.5967509746551514, -0.7377776503562927, -0.25651901960372925, -0.09748142957687378, -17.162364959716797, -16.936899185180664, -19.71341896057129, -18.321386337280273, -24.98419189453125, -22.226722717285156, -14.144083976745605, -13.411852836608887, -7.589310646057129, -7.15830659866333, -4.854793548583984, -5.321206092834473, -6.50306510925293, -5.593207359313965, -3.8700506687164307, -4.147516250610352, -23.1138858795166, -6.280339241027832, -7.8570332527160645, -0.3808683156967163, -0.9884592890739441, -2.835609197616577, -2.6548919677734375, -9.656265258789062, -9.119370460510254, 53.46603012084961, 53.47966003417969, -6.215126991271973, -7.857032775878906, -0.9079382419586182, -0.5248153805732727, -3.2402923107147217, -3.072044610977173, -37.979530334472656, -37.97690963745117, 12.781709671020508, 12.688454627990723, 1.3621224164962769, -7.838784217834473, 37.80836868286133, 37.86838912963867, 39.62688064575195, 38.7208366394043, 47.92538070678711, 47.92738342285156, 36.922550201416016, 37.16407012939453, -8.748943328857422, -7.047523498535156, -12.753931999206543, -12.523407936096191, -13.651435852050781, -13.628758430480957, -11.42629337310791, -11.495623588562012, -13.837627410888672, -15.310273170471191, -37.81610870361328, -37.039241790771484, -24.9856014251709, 33.97341537475586, -5.319170951843262, -4.514926433563232, -6.077812671661377, -2.840047597885132, -2.6570823192596436, 1.697904109954834, 1.6151182651519775, 4.254349708557129, 3.756136894226074, 0.06483637541532516, -0.009853377938270569, -1.469821572303772, -0.940064549446106, 2.3990042209625244, 2.5972368717193604, -0.7734457850456238, -0.5616837739944458, -28.553470611572266, -26.51362419128418, -27.063982009887695, -47.846466064453125, -45.09588623046875, 6.684546947479248, -31.86756134033203, -11.163595199584961, -11.144964218139648, -20.919832229614258, -20.898902893066406, 11.387418746948242, 10.675067901611328, -6.125708103179932, -6.138714790344238, -12.764829635620117, -12.101065635681152, 20.73005485534668, 20.921972274780273, 15.252178192138672, 15.305217742919922, 5.736999988555908, 5.517380714416504, -43.129329681396484, -44.63712692260742, 40.53620910644531, 39.28794479370117, -43.26111602783203, -43.6677131652832, -43.4196891784668, -38.35980224609375, 28.302303314208984, 30.208370208740234, 29.206653594970703, 27.691951751708984, 13.663893699645996, 13.425646781921387, 13.535508155822754, -6.56673526763916, -28.76515769958496, -28.799684524536133, -16.71245002746582, -16.700761795043945, 12.36847972869873, 15.830265998840332, 15.263304710388184, 14.7214994430542, 8.03613567352295, 7.726532936096191, -47.521087646484375, -46.99629592895508, -47.8990478515625, -14.97922134399414, -15.181474685668945, -52.52288055419922, 41.55304718017578, -24.456254959106445, -50.70164108276367, -52.44549560546875, -52.228206634521484, -50.68083953857422, -52.015228271484375, -41.181480407714844, -39.150997161865234, -8.004772186279297, -10.202798843383789, -7.680820941925049, -7.673381805419922, 28.760986328125, 26.061220169067383, 54.67938995361328, 53.4338493347168, -8.795819282531738, -8.930307388305664, -13.837627410888672, -15.308950424194336, -2.5783751010894775, -2.2586653232574463, -2.8265748023986816, -2.1119730472564697, 1.1090096235275269, -4.309866905212402, -3.08601450920105, -30.144933700561523, -30.089996337890625, 3.5735220909118652, 3.0251553058624268, 1.1082236766815186, 1.6819524765014648, 4.244950771331787, 3.86426043510437, -1.9650673866271973, -1.6670806407928467, 8.064289093017578, 6.928802490234375, 9.99886703491211, 9.141912460327148, -26.537761688232422, -26.07107925415039, 28.50381851196289, 28.49679946899414, 2.2346131801605225, 2.1773533821105957, -23.845361709594727, -23.906614303588867, -4.883236408233643, -5.161022186279297, -5.9747090339660645, -6.3827314376831055, -38.46292495727539, -38.029293060302734, 0.19655810296535492, 0.3844013810157776, 18.542654037475586, 18.150314331054688, 16.39075469970703, 16.901090621948242, 22.88546371459961, 22.42674446105957, 11.836074829101562, 12.367522239685059, 10.560310363769531, 10.742517471313477, -24.92470932006836, -21.86799430847168, -16.78829002380371, -19.962146759033203, -2.2884511947631836, -1.2600350379943848, -47.84642791748047, -45.095909118652344, 6.6845479011535645, -31.86756134033203, 29.738868713378906, 29.09516716003418, 30.95391082763672, 26.704442977905273, 26.4998722076416, -37.937957763671875, -37.91873550415039, 3.7116832733154297, 2.0444397926330566, 13.412449836730957, 13.393362045288086, -31.621049880981445, -30.84674072265625, 8.993158340454102, 9.570219993591309, -14.024930000305176, 7.62050199508667, 9.534857749938965, 9.20263957977295, 7.686352729797363, 7.14311408996582, -6.81727933883667, -8.157928466796875, -4.733251571655273, -4.788647174835205, -8.634052276611328, -8.082376480102539, -8.572883605957031, -8.459675788879395, -24.984188079833984, -22.230010986328125, -14.144083023071289, -13.411859512329102, -25.68895149230957, -25.565244674682617, -19.515426635742188, -5.237130641937256, -5.349664211273193, -15.133016586303711, 2.1874234676361084, -23.54935073852539, -22.255125045776367, -22.012081146240234, -22.244726181030273, -20.335132598876953, -20.22237205505371, -25.879230499267578, -25.53566551208496, 19.38280487060547, 20.307828903198242, 18.972654342651367, 18.34075927734375, -29.82304573059082, -29.119577407836914, -32.9256477355957, -32.07986831665039, -31.964496612548828, -31.650753021240234, 7.961068153381348, 8.058627128601074, -0.33923986554145813, 19.70442771911621, 18.9245662689209, 49.334197998046875, 49.33152770996094, 17.24465560913086, 17.52250099182129, -25.084592819213867, -25.10162353515625, 9.54914379119873, 9.55500316619873, -24.761865615844727, -24.72810173034668, -10.021806716918945, -9.874089241027832, 28.605493545532227, 27.80150604248047, 29.090131759643555, 26.62116813659668, 9.923664093017578, 9.707924842834473, 8.976219177246094, -19.061899185180664, -19.127466201782227, 24.340370178222656, 24.32741928100586, 2.6502416133880615, 2.641883611679077, -19.534481048583984, -19.389469146728516, -25.51364517211914, -25.55485725402832, 13.976642608642578, 14.009926795959473, 6.443563461303711, -1.7854809761047363, 33.75182342529297, 33.204986572265625, 31.69158363342285, 31.410478591918945, 33.564430236816406, 32.77659606933594, 32.114200592041016, 29.2421817779541, 27.29469108581543, 31.166276931762695, 30.151968002319336, 30.771831512451172, 26.714128494262695, 9.478428840637207, 11.012341499328613, 16.173675537109375, 13.595779418945312, -26.68248176574707, -36.646610260009766, -23.20305633544922, -22.5712890625, -21.69101333618164, -21.813173294067383, -40.36907196044922, -38.35981369018555, -36.6466064453125, 22.179899215698242, 22.202348709106445, -26.682477951049805, -40.05898666381836, -40.26653289794922, -17.656476974487305, -16.67330551147461, -17.340087890625, -17.43735694885254, -17.419170379638672, -17.086153030395508, -14.732179641723633, -14.982562065124512, -33.37413024902344, -33.31521224975586, 20.686264038085938, 20.672069549560547, -31.813928604125977, -31.929838180541992, 12.909090995788574, 14.23202896118164, 19.691795349121094, -16.432580947875977, 12.513202667236328, 2.2912437915802, 13.912480354309082, 13.510804176330566, 19.955068588256836, 16.953805923461914, 17.68462562561035, 16.51740264892578, 25.172330856323242, 24.027860641479492, 23.889019012451172, 23.08144760131836, 3.4359216690063477, 1.6606248617172241, 3.7892990112304688, 1.3610496520996094, -33.16633987426758, -33.28716278076172, -40.99394226074219, -39.90673065185547, -15.56686019897461, -15.657681465148926, -14.424405097961426, -13.454778671264648, -15.446481704711914, -15.424960136413574, -10.174861907958984, 10.427993774414062, 13.331562042236328, 12.314156532287598, -17.2186279296875, -10.453963279724121, -11.644375801086426, 6.116623401641846, 7.424045562744141, 6.858123302459717, 4.544434070587158, -5.3191704750061035, -4.514927864074707, -19.02698516845703, -37.81610870361328, -37.039241790771484, -24.985599517822266, 33.97386169433594, 14.451083183288574, 14.457662582397461, 17.752826690673828, 16.831775665283203, 17.948787689208984, 21.93289566040039, -19.542640686035156, 23.048717498779297, 20.479995727539062, 23.736215591430664, 25.314481735229492, 23.559921264648438, 24.088882446289062, 15.848221778869629, 9.733729362487793, 16.759431838989258, 15.819631576538086, 14.397175788879395, -4.262932300567627, -3.7997841835021973, 6.3057403564453125, -2.2907912731170654, -3.7094674110412598, 10.142210960388184, 9.636265754699707, 8.637544631958008, 8.813417434692383, 18.675334930419922, -19.861196517944336, 16.5523681640625, 17.502286911010742, 21.932897567749023, -19.542640686035156, 23.048717498779297, 20.478973388671875, -5.129654407501221, -4.512011528015137, -4.501707077026367, -4.279655933380127, -0.09457936137914658, 0.29405519366264343, 3.008869171142578, 2.917357921600342, 2.3152990341186523, 1.3414288759231567, 3.1880290508270264, 3.2850501537323, 0.5433119535446167, 0.544385552406311, 6.285682201385498, 6.362653732299805, -7.63787317276001, -8.453648567199707, 24.572559356689453, 24.32744598388672, 31.252593994140625, 31.000410079956055, 28.618146896362305, 28.199602127075195, -16.605037689208984, -15.639723777770996, 20.35090446472168, 19.174219131469727, 20.46442985534668, 20.2426815032959, -1.783576488494873, -1.3314708471298218, -0.7967726588249207, -0.34502676129341125, 5.792440414428711, 4.850152492523193, -8.057183265686035, -8.417508125305176, -5.227445125579834, -5.58245849609375, -1.1511030197143555, 1.4068018198013306, 1.8554480075836182, 2.673485279083252, 2.3421435356140137, 6.802092552185059, 44.63958740234375, 42.89552688598633, 43.378700256347656, 43.24237823486328, 17.06068992614746, 17.066200256347656, -33.514366149902344, -33.46016311645508, -29.785430908203125, -29.784473419189453, -20.83030891418457, -21.10887336730957, 43.102325439453125, 45.13737487792969, 39.79439163208008, 23.76679229736328, 25.647056579589844, 24.183361053466797, 24.346006393432617, -0.04980911314487457, -0.11368697881698608, -2.2323317527770996, -1.8840439319610596, 9.88389778137207, -2.691545248031616, 45.50625991821289, 45.086402893066406, 42.905094146728516, 43.26112365722656, -46.295684814453125, -46.3679313659668, -8.611244201660156, -8.658796310424805, 9.083168983459473, 8.987507820129395, 19.94965171813965, 19.387216567993164, 15.022791862487793, 14.536783218383789, 2.2129547595977783, 2.3641159534454346, 33.00657272338867, 33.21626281738281, 31.426923751831055, 31.047353744506836, -47.8995475769043, -14.979222297668457, -15.181474685668945, -52.522884368896484, 41.553043365478516, -24.456254959106445, -41.35734176635742, -40.36185073852539, -34.42151641845703, -35.14494705200195, -39.02288818359375, -39.05253982543945, -39.62498474121094, -39.30366134643555, -40.79460525512695, -39.89790344238281, 13.65744400024414, 18.440330505371094, 18.525753021240234, 19.635778427124023, 19.482318878173828, 19.473180770874023, 18.61655616760254, 12.555015563964844, 12.020501136779785, 35.25344467163086, 9.97191047668457, 11.042537689208984, 10.57109546661377, -2.576474905014038, -2.8871774673461914, -1.675936222076416, -2.5172159671783447, 32.16793441772461, 31.54920196533203, 31.414836883544922, 6.3487868309021, 5.734539985656738, 8.196069717407227, 7.583337783813477, 3.792419910430908, 4.549580097198486, 2.670628070831299, 3.165212631225586, 3.872056007385254, 4.246561527252197, 4.53175687789917, 4.990096092224121, -0.6087197065353394, -1.71014404296875, -1.3588612079620361, -0.7448309063911438, 16.53309440612793, 15.574835777282715, 16.73975372314453, 10.70199203491211, -4.603984832763672, -31.8372859954834, -31.531448364257812, 17.102720260620117, 17.207462310791016, 9.213448524475098, -1.4589979648590088, 2.5401604175567627, 2.5551414489746094, -18.235580444335938, -18.174657821655273, -27.11565399169922, -26.150741577148438, -25.15923309326172, -24.78662872314453, 36.03017807006836, 36.09971237182617, 7.858449459075928, 8.111106872558594, 6.958860397338867, 6.89209508895874, 9.478558540344238, 11.012340545654297, 16.173673629760742, 13.595780372619629, 1.026813268661499, 0.9983043670654297, -1.3719712495803833, -24.92465591430664, -21.867963790893555, -16.78827476501465, -19.962160110473633, -20.485816955566406, -20.473751068115234, -35.339969635009766, -35.34086608886719, 8.537972450256348, 8.126362800598145, 5.803948879241943, 6.7411065101623535, 11.109758377075195, 9.096588134765625, 9.152729034423828, 10.037384986877441, 9.332356452941895, 10.571573257446289, 10.966938018798828, 10.441454887390137, -12.391461372375488, -13.9051513671875, -13.978290557861328, -13.196331977844238, -4.458914756774902, -4.43924617767334, -40.1975212097168, -40.196014404296875, 30.405010223388672, 28.622018814086914, 41.852420806884766, -15.086047172546387, -11.537660598754883, -11.426478385925293, -8.59407901763916, -8.710359573364258, -11.469970703125, -10.941062927246094, -17.182703018188477, -17.193349838256836, 4.204593181610107, 3.617537260055542, -47.83645248413086, -47.6115837097168, 0.8214621543884277, 0.7067877650260925, 2.522650718688965, 2.3719749450683594, 2.3986802101135254, 2.102837562561035, -14.407914161682129, -14.215131759643555, -11.897748947143555, -12.552772521972656, 6.823808193206787, 6.195271015167236, 3.6729729175567627, 3.6920149326324463, 7.756384372711182, 7.742101192474365, -20.83030891418457, -21.10887336730957, 43.10237503051758, 45.13705825805664, 39.793907165527344, -5.309658527374268, -5.54500675201416, -4.395684719085693, -4.24356746673584, -4.284874439239502, -4.9137959480285645, -3.1503407955169678, -4.00213098526001, -1.85977303981781, -0.9957685470581055, -1.9952439069747925, -2.6342759132385254, 36.36942672729492, 35.17756271362305, 34.69204330444336, 34.77983093261719, 37.27766036987305, 37.263328552246094, 37.0945930480957, 37.12124252319336, 35.97306823730469, 37.93312454223633, 36.034568786621094, 37.199462890625, 37.01074981689453, 5.2542290687561035, 5.269439220428467, 6.462264060974121, -0.055396661162376404, 0.6853448152542114, 0.877167284488678, 0.4637763798236847, -12.786331176757812, -12.631813049316406, -11.497998237609863, -11.847419738769531, -29.015132904052734, -29.027162551879883, 26.593088150024414, 26.568134307861328, -5.0129313468933105, -5.250563621520996, 5.471417427062988, 4.919931888580322, 28.762792587280273, 26.06116485595703, 54.67637252807617, 53.433109283447266, -7.680485725402832, -7.6694793701171875, -46.20085906982422, -44.96492004394531, -46.17100143432617, -44.66950225830078, -43.9317626953125, 25.83808135986328, 26.275470733642578, 24.720876693725586, 25.40726661682129, 12.359027862548828, 10.443952560424805, 11.995850563049316, 11.313614845275879, 29.24594497680664, 29.7517147064209, 28.368648529052734, 27.737762451171875, 28.496625900268555, -35.86940383911133, -34.47409439086914]}],\n",
       "                        {\"template\": {\"data\": {\"bar\": [{\"error_x\": {\"color\": \"#2a3f5f\"}, \"error_y\": {\"color\": \"#2a3f5f\"}, \"marker\": {\"line\": {\"color\": \"#E5ECF6\", \"width\": 0.5}}, \"type\": \"bar\"}], \"barpolar\": [{\"marker\": {\"line\": {\"color\": \"#E5ECF6\", \"width\": 0.5}}, \"type\": \"barpolar\"}], \"carpet\": [{\"aaxis\": {\"endlinecolor\": \"#2a3f5f\", \"gridcolor\": \"white\", \"linecolor\": \"white\", \"minorgridcolor\": \"white\", \"startlinecolor\": \"#2a3f5f\"}, \"baxis\": {\"endlinecolor\": \"#2a3f5f\", \"gridcolor\": \"white\", \"linecolor\": \"white\", \"minorgridcolor\": \"white\", \"startlinecolor\": \"#2a3f5f\"}, \"type\": \"carpet\"}], \"choropleth\": [{\"colorbar\": {\"outlinewidth\": 0, \"ticks\": \"\"}, \"type\": \"choropleth\"}], \"contour\": [{\"colorbar\": {\"outlinewidth\": 0, \"ticks\": \"\"}, \"colorscale\": [[0.0, \"#0d0887\"], [0.1111111111111111, \"#46039f\"], [0.2222222222222222, \"#7201a8\"], [0.3333333333333333, \"#9c179e\"], [0.4444444444444444, \"#bd3786\"], [0.5555555555555556, \"#d8576b\"], [0.6666666666666666, \"#ed7953\"], [0.7777777777777778, \"#fb9f3a\"], [0.8888888888888888, \"#fdca26\"], [1.0, \"#f0f921\"]], \"type\": \"contour\"}], \"contourcarpet\": [{\"colorbar\": {\"outlinewidth\": 0, \"ticks\": \"\"}, \"type\": \"contourcarpet\"}], \"heatmap\": [{\"colorbar\": {\"outlinewidth\": 0, \"ticks\": \"\"}, \"colorscale\": [[0.0, \"#0d0887\"], [0.1111111111111111, \"#46039f\"], [0.2222222222222222, \"#7201a8\"], [0.3333333333333333, \"#9c179e\"], [0.4444444444444444, \"#bd3786\"], [0.5555555555555556, \"#d8576b\"], [0.6666666666666666, \"#ed7953\"], [0.7777777777777778, \"#fb9f3a\"], [0.8888888888888888, \"#fdca26\"], [1.0, \"#f0f921\"]], \"type\": \"heatmap\"}], \"heatmapgl\": [{\"colorbar\": {\"outlinewidth\": 0, \"ticks\": \"\"}, \"colorscale\": [[0.0, \"#0d0887\"], [0.1111111111111111, \"#46039f\"], [0.2222222222222222, \"#7201a8\"], [0.3333333333333333, \"#9c179e\"], [0.4444444444444444, \"#bd3786\"], [0.5555555555555556, \"#d8576b\"], [0.6666666666666666, \"#ed7953\"], [0.7777777777777778, \"#fb9f3a\"], [0.8888888888888888, \"#fdca26\"], [1.0, \"#f0f921\"]], \"type\": \"heatmapgl\"}], \"histogram\": [{\"marker\": {\"colorbar\": {\"outlinewidth\": 0, \"ticks\": \"\"}}, \"type\": \"histogram\"}], \"histogram2d\": [{\"colorbar\": {\"outlinewidth\": 0, \"ticks\": \"\"}, \"colorscale\": [[0.0, \"#0d0887\"], [0.1111111111111111, \"#46039f\"], [0.2222222222222222, \"#7201a8\"], [0.3333333333333333, \"#9c179e\"], [0.4444444444444444, \"#bd3786\"], [0.5555555555555556, \"#d8576b\"], [0.6666666666666666, \"#ed7953\"], [0.7777777777777778, \"#fb9f3a\"], [0.8888888888888888, \"#fdca26\"], [1.0, \"#f0f921\"]], \"type\": \"histogram2d\"}], \"histogram2dcontour\": [{\"colorbar\": {\"outlinewidth\": 0, \"ticks\": \"\"}, \"colorscale\": [[0.0, \"#0d0887\"], [0.1111111111111111, \"#46039f\"], [0.2222222222222222, \"#7201a8\"], [0.3333333333333333, \"#9c179e\"], [0.4444444444444444, \"#bd3786\"], [0.5555555555555556, \"#d8576b\"], [0.6666666666666666, \"#ed7953\"], [0.7777777777777778, \"#fb9f3a\"], [0.8888888888888888, \"#fdca26\"], [1.0, \"#f0f921\"]], \"type\": \"histogram2dcontour\"}], \"mesh3d\": [{\"colorbar\": {\"outlinewidth\": 0, \"ticks\": \"\"}, \"type\": \"mesh3d\"}], \"parcoords\": [{\"line\": {\"colorbar\": {\"outlinewidth\": 0, \"ticks\": \"\"}}, \"type\": \"parcoords\"}], \"pie\": [{\"automargin\": true, \"type\": \"pie\"}], \"scatter\": [{\"marker\": {\"colorbar\": {\"outlinewidth\": 0, \"ticks\": \"\"}}, \"type\": \"scatter\"}], \"scatter3d\": [{\"line\": {\"colorbar\": {\"outlinewidth\": 0, \"ticks\": \"\"}}, \"marker\": {\"colorbar\": {\"outlinewidth\": 0, \"ticks\": \"\"}}, \"type\": \"scatter3d\"}], \"scattercarpet\": [{\"marker\": {\"colorbar\": {\"outlinewidth\": 0, \"ticks\": \"\"}}, \"type\": \"scattercarpet\"}], \"scattergeo\": [{\"marker\": {\"colorbar\": {\"outlinewidth\": 0, \"ticks\": \"\"}}, \"type\": \"scattergeo\"}], \"scattergl\": [{\"marker\": {\"colorbar\": {\"outlinewidth\": 0, \"ticks\": \"\"}}, \"type\": \"scattergl\"}], \"scattermapbox\": [{\"marker\": {\"colorbar\": {\"outlinewidth\": 0, \"ticks\": \"\"}}, \"type\": \"scattermapbox\"}], \"scatterpolar\": [{\"marker\": {\"colorbar\": {\"outlinewidth\": 0, \"ticks\": \"\"}}, \"type\": \"scatterpolar\"}], \"scatterpolargl\": [{\"marker\": {\"colorbar\": {\"outlinewidth\": 0, \"ticks\": \"\"}}, \"type\": \"scatterpolargl\"}], \"scatterternary\": [{\"marker\": {\"colorbar\": {\"outlinewidth\": 0, \"ticks\": \"\"}}, \"type\": \"scatterternary\"}], \"surface\": [{\"colorbar\": {\"outlinewidth\": 0, \"ticks\": \"\"}, \"colorscale\": [[0.0, \"#0d0887\"], [0.1111111111111111, \"#46039f\"], [0.2222222222222222, \"#7201a8\"], [0.3333333333333333, \"#9c179e\"], [0.4444444444444444, \"#bd3786\"], [0.5555555555555556, \"#d8576b\"], [0.6666666666666666, \"#ed7953\"], [0.7777777777777778, \"#fb9f3a\"], [0.8888888888888888, \"#fdca26\"], [1.0, \"#f0f921\"]], \"type\": \"surface\"}], \"table\": [{\"cells\": {\"fill\": {\"color\": \"#EBF0F8\"}, \"line\": {\"color\": \"white\"}}, \"header\": {\"fill\": {\"color\": \"#C8D4E3\"}, \"line\": {\"color\": \"white\"}}, \"type\": \"table\"}]}, \"layout\": {\"annotationdefaults\": {\"arrowcolor\": \"#2a3f5f\", \"arrowhead\": 0, \"arrowwidth\": 1}, \"coloraxis\": {\"colorbar\": {\"outlinewidth\": 0, \"ticks\": \"\"}}, \"colorscale\": {\"diverging\": [[0, \"#8e0152\"], [0.1, \"#c51b7d\"], [0.2, \"#de77ae\"], [0.3, \"#f1b6da\"], [0.4, \"#fde0ef\"], [0.5, \"#f7f7f7\"], [0.6, \"#e6f5d0\"], [0.7, \"#b8e186\"], [0.8, \"#7fbc41\"], [0.9, \"#4d9221\"], [1, \"#276419\"]], \"sequential\": [[0.0, \"#0d0887\"], [0.1111111111111111, \"#46039f\"], [0.2222222222222222, \"#7201a8\"], [0.3333333333333333, \"#9c179e\"], [0.4444444444444444, \"#bd3786\"], [0.5555555555555556, \"#d8576b\"], [0.6666666666666666, \"#ed7953\"], [0.7777777777777778, \"#fb9f3a\"], [0.8888888888888888, \"#fdca26\"], [1.0, \"#f0f921\"]], \"sequentialminus\": [[0.0, \"#0d0887\"], [0.1111111111111111, \"#46039f\"], [0.2222222222222222, \"#7201a8\"], [0.3333333333333333, \"#9c179e\"], [0.4444444444444444, \"#bd3786\"], [0.5555555555555556, \"#d8576b\"], [0.6666666666666666, \"#ed7953\"], [0.7777777777777778, \"#fb9f3a\"], [0.8888888888888888, \"#fdca26\"], [1.0, \"#f0f921\"]]}, \"colorway\": [\"#636efa\", \"#EF553B\", \"#00cc96\", \"#ab63fa\", \"#FFA15A\", \"#19d3f3\", \"#FF6692\", \"#B6E880\", \"#FF97FF\", \"#FECB52\"], \"font\": {\"color\": \"#2a3f5f\"}, \"geo\": {\"bgcolor\": \"white\", \"lakecolor\": \"white\", \"landcolor\": \"#E5ECF6\", \"showlakes\": true, \"showland\": true, \"subunitcolor\": \"white\"}, \"hoverlabel\": {\"align\": \"left\"}, \"hovermode\": \"closest\", \"mapbox\": {\"style\": \"light\"}, \"paper_bgcolor\": \"white\", \"plot_bgcolor\": \"#E5ECF6\", \"polar\": {\"angularaxis\": {\"gridcolor\": \"white\", \"linecolor\": \"white\", \"ticks\": \"\"}, \"bgcolor\": \"#E5ECF6\", \"radialaxis\": {\"gridcolor\": \"white\", \"linecolor\": \"white\", \"ticks\": \"\"}}, \"scene\": {\"xaxis\": {\"backgroundcolor\": \"#E5ECF6\", \"gridcolor\": \"white\", \"gridwidth\": 2, \"linecolor\": \"white\", \"showbackground\": true, \"ticks\": \"\", \"zerolinecolor\": \"white\"}, \"yaxis\": {\"backgroundcolor\": \"#E5ECF6\", \"gridcolor\": \"white\", \"gridwidth\": 2, \"linecolor\": \"white\", \"showbackground\": true, \"ticks\": \"\", \"zerolinecolor\": \"white\"}, \"zaxis\": {\"backgroundcolor\": \"#E5ECF6\", \"gridcolor\": \"white\", \"gridwidth\": 2, \"linecolor\": \"white\", \"showbackground\": true, \"ticks\": \"\", \"zerolinecolor\": \"white\"}}, \"shapedefaults\": {\"line\": {\"color\": \"#2a3f5f\"}}, \"ternary\": {\"aaxis\": {\"gridcolor\": \"white\", \"linecolor\": \"white\", \"ticks\": \"\"}, \"baxis\": {\"gridcolor\": \"white\", \"linecolor\": \"white\", \"ticks\": \"\"}, \"bgcolor\": \"#E5ECF6\", \"caxis\": {\"gridcolor\": \"white\", \"linecolor\": \"white\", \"ticks\": \"\"}}, \"title\": {\"x\": 0.05}, \"xaxis\": {\"automargin\": true, \"gridcolor\": \"white\", \"linecolor\": \"white\", \"ticks\": \"\", \"title\": {\"standoff\": 15}, \"zerolinecolor\": \"white\", \"zerolinewidth\": 2}, \"yaxis\": {\"automargin\": true, \"gridcolor\": \"white\", \"linecolor\": \"white\", \"ticks\": \"\", \"title\": {\"standoff\": 15}, \"zerolinecolor\": \"white\", \"zerolinewidth\": 2}}}},\n",
       "                        {\"responsive\": true}\n",
       "                    ).then(function(){\n",
       "                            \n",
       "var gd = document.getElementById('db20eaba-a09e-44b7-8b15-a416df5bab7f');\n",
       "var x = new MutationObserver(function (mutations, observer) {{\n",
       "        var display = window.getComputedStyle(gd).display;\n",
       "        if (!display || display === 'none') {{\n",
       "            console.log([gd, 'removed!']);\n",
       "            Plotly.purge(gd);\n",
       "            observer.disconnect();\n",
       "        }}\n",
       "}});\n",
       "\n",
       "// Listen for the removal of the full notebook cells\n",
       "var notebookContainer = gd.closest('#notebook-container');\n",
       "if (notebookContainer) {{\n",
       "    x.observe(notebookContainer, {childList: true});\n",
       "}}\n",
       "\n",
       "// Listen for the clearing of the current output cell\n",
       "var outputEl = gd.closest('.output');\n",
       "if (outputEl) {{\n",
       "    x.observe(outputEl, {childList: true});\n",
       "}}\n",
       "\n",
       "                        })\n",
       "                };\n",
       "                });\n",
       "            </script>\n",
       "        </div>"
      ]
     },
     "metadata": {},
     "output_type": "display_data"
    }
   ],
   "source": [
    "def plot_with_matplotlib(x_vals, y_vals, labels):\n",
    "    import matplotlib.pyplot as plt\n",
    "    import random\n",
    "\n",
    "    random.seed(0)\n",
    "\n",
    "    plt.figure(figsize=(18, 18))\n",
    "    plt.scatter(x_vals, y_vals)\n",
    "\n",
    "    #\n",
    "    # Label randomly subsampled 25 data points\n",
    "    #\n",
    "    indices = list(range(len(labels)))\n",
    "    selected_indices = random.sample(indices, 25)\n",
    "    for i in selected_indices:\n",
    "        plt.annotate(labels[i], (x_vals[i], y_vals[i]))\n",
    "\n",
    "try:\n",
    "    get_ipython()\n",
    "except Exception:\n",
    "    plot_function = plot_with_matplotlib\n",
    "else:\n",
    "    plot_function = plot_with_plotly\n",
    "\n",
    "plot_function(x_vals, y_vals, labels)\n"
   ]
  },
  {
   "cell_type": "code",
   "execution_count": 23,
   "metadata": {},
   "outputs": [],
   "source": [
    "def reduce_dimensions_norm(lexi):\n",
    "    num_dimensions = 2  # final num dimensions (2D, 3D, etc)\n",
    "\n",
    "    vectors = [] # positions in vector space\n",
    "    labels = [] # keep track of words to label our data again later\n",
    "    for ls in lexi:\n",
    "        for word in ls:\n",
    "            vectors.append(model.wv[word]/np.linalg.norm(model.wv[word]))\n",
    "            labels.append(word)\n",
    "\n",
    "    # convert both lists into numpy vectors for reduction\n",
    "    vectors = np.asarray(vectors)\n",
    "    labels = np.asarray(labels)\n",
    "\n",
    "    # reduce using t-SNE\n",
    "    vectors = np.asarray(vectors)\n",
    "    tsne = TSNE(n_components=num_dimensions, random_state=0)\n",
    "    vectors = tsne.fit_transform(vectors)\n",
    "\n",
    "    x_vals = [v[0] for v in vectors]\n",
    "    y_vals = [v[1] for v in vectors]\n",
    "    return x_vals, y_vals, labels"
   ]
  },
  {
   "cell_type": "code",
   "execution_count": 24,
   "metadata": {},
   "outputs": [
    {
     "data": {
      "text/html": [
       "        <script type=\"text/javascript\">\n",
       "        window.PlotlyConfig = {MathJaxConfig: 'local'};\n",
       "        if (window.MathJax) {MathJax.Hub.Config({SVG: {font: \"STIX-Web\"}});}\n",
       "        if (typeof require !== 'undefined') {\n",
       "        require.undef(\"plotly\");\n",
       "        requirejs.config({\n",
       "            paths: {\n",
       "                'plotly': ['https://cdn.plot.ly/plotly-latest.min']\n",
       "            }\n",
       "        });\n",
       "        require(['plotly'], function(Plotly) {\n",
       "            window._Plotly = Plotly;\n",
       "        });\n",
       "        }\n",
       "        </script>\n",
       "        "
      ]
     },
     "metadata": {},
     "output_type": "display_data"
    },
    {
     "data": {
      "application/vnd.plotly.v1+json": {
       "config": {
        "linkText": "Export to plot.ly",
        "plotlyServerURL": "https://plot.ly",
        "showLink": false
       },
       "data": [
        {
         "mode": "text",
         "text": [
          "train",
          "trains",
          "trained",
          "training",
          "car",
          "cars",
          "plane",
          "planes",
          "planed",
          "planing",
          "planer",
          "exercise",
          "exercises",
          "exercised",
          "exercising",
          "brother",
          "brothers",
          "bretheren",
          "sister",
          "sisters",
          "father",
          "fathers",
          "fathered",
          "fathering",
          "iron",
          "irons",
          "ironed",
          "ironing",
          "stool",
          "chair",
          "chairs",
          "chaired",
          "chairing",
          "couch",
          "couches",
          "couched",
          "couching",
          "door",
          "doors",
          "tree",
          "trees",
          "treed",
          "treeing",
          "grass",
          "grasses",
          "bush",
          "bushes",
          "clock",
          "clocks",
          "clocked",
          "clocking",
          "poster",
          "posters",
          "photo",
          "photos",
          "picture",
          "pictures",
          "pictured",
          "picturing",
          "camera",
          "cameras",
          "weight",
          "weights",
          "weighted",
          "weighting",
          "height",
          "heights",
          "length",
          "lengths",
          "meter",
          "meters",
          "metered",
          "metering",
          "metre",
          "metres",
          "worm",
          "worms",
          "wormed",
          "worming",
          "earthworm",
          "earthworms",
          "cockroach",
          "cockroaches",
          "tiger",
          "tigers",
          "cereal",
          "cereals",
          "milk",
          "milks",
          "milked",
          "milking",
          "butter",
          "butters",
          "buttered",
          "buttering",
          "knife",
          "knifes",
          "knifed",
          "knifing",
          "knives",
          "lunch",
          "lunches",
          "lunched",
          "lunching",
          "dinner",
          "dinners",
          "breakfast",
          "breakfasts",
          "breakfasted",
          "breakfasting",
          "kitchen",
          "kitchens",
          "basketball",
          "basketballs",
          "baseball",
          "baseballs",
          "football",
          "footballs",
          "strategy",
          "strategies",
          "net",
          "nets",
          "netted",
          "netting",
          "ball",
          "balls",
          "balled",
          "balling",
          "racket",
          "spider",
          "spiders",
          "shirt",
          "shirts",
          "trousers",
          "short",
          "shorts",
          "shorted",
          "shorting",
          "cheese",
          "cheeses",
          "bag",
          "bags",
          "bagged",
          "bagging",
          "luggage",
          "pocket",
          "pockets",
          "pocketed",
          "pocketing",
          "money",
          "monies",
          "car",
          "cars",
          "truck",
          "trucks",
          "trucked",
          "trucking",
          "van",
          "vans",
          "plane",
          "planes",
          "planed",
          "planing",
          "planer",
          "coffee",
          "coffees",
          "tea",
          "teas",
          "soda",
          "sodas",
          "pasta",
          "pastas",
          "wind",
          "winds",
          "wound",
          "winding",
          "winded",
          "rain",
          "rains",
          "rained",
          "raining",
          "hail",
          "hails",
          "hailed",
          "hailing",
          "poverty",
          "poverties",
          "math",
          "maths",
          "statistic",
          "statistics",
          "probability",
          "probabilities",
          "environment",
          "environments",
          "derivative",
          "derivatives",
          "integral",
          "integrals",
          "division",
          "divisions",
          "course",
          "courses",
          "coursed",
          "coursing",
          "student",
          "students",
          "teacher",
          "teachers",
          "class",
          "classes",
          "classed",
          "classing",
          "room",
          "rooms",
          "roomed",
          "rooming",
          "brush",
          "brushes",
          "brushed",
          "brushing",
          "mop",
          "mops",
          "mopped",
          "mopping",
          "duster",
          "pencil",
          "pencils",
          "penciled",
          "pencilled",
          "penciling",
          "pencilling",
          "pen",
          "pens",
          "penned",
          "penning",
          "pencil",
          "pencils",
          "penciled",
          "pencilled",
          "penciling",
          "pencilling",
          "marker",
          "markers",
          "market",
          "markets",
          "marketed",
          "marketing",
          "income",
          "incomes",
          "wage",
          "wages",
          "waged",
          "waging",
          "salary",
          "salaries",
          "strategy",
          "strategies",
          "virus",
          "viruses",
          "illness",
          "illnesses",
          "bacterium",
          "bacteria",
          "medicine",
          "medicines",
          "bar",
          "bars",
          "barred",
          "barring",
          "pub",
          "pubs",
          "disco",
          "office",
          "offices",
          "school",
          "schools",
          "schooled",
          "schooling",
          "university",
          "universities",
          "institute",
          "institutes",
          "instituted",
          "instituting",
          "building",
          "buildings",
          "built",
          "builds",
          "build",
          "book",
          "books",
          "booked",
          "booking",
          "notebook",
          "notebooks",
          "sheet",
          "sheets",
          "sheeted",
          "sheeting",
          "stapler",
          "staplers",
          "caution",
          "cautions",
          "danger",
          "dangers",
          "problem",
          "problems",
          "happiness",
          "happinesses",
          "knife",
          "knifes",
          "knifed",
          "knifing",
          "knives",
          "gun",
          "guns",
          "ax",
          "care",
          "cares",
          "cared",
          "caring",
          "price",
          "prices",
          "priced",
          "pricing",
          "ticket",
          "tickets",
          "receipt",
          "receipts",
          "expensive",
          "lucky",
          "luckier",
          "luckiest",
          "optimistic",
          "pesimistic",
          "orange",
          "oranges",
          "green",
          "greener",
          "greenest",
          "greens",
          "greened",
          "greening",
          "black",
          "blacker",
          "blackest",
          "brown",
          "browns",
          "bag",
          "bags",
          "bagged",
          "bagging",
          "television",
          "televisions",
          "radio",
          "radios",
          "radioed",
          "radioing",
          "newspaper",
          "newspapers",
          "medicine",
          "medicines",
          "engineering",
          "engineerings",
          "engineer",
          "engineers",
          "engineered",
          "mathematics",
          "scientific",
          "religion",
          "religions",
          "cathedral",
          "cathedrals",
          "church",
          "churches",
          "monastery",
          "monasteries",
          "shop",
          "shops",
          "shopped",
          "shopping",
          "friend",
          "friends",
          "guest",
          "guests",
          "guested",
          "guesting",
          "companion",
          "companions",
          "enemy",
          "enemies",
          "philosophy",
          "philosophies",
          "psychology",
          "psychologies",
          "anatomy",
          "anatomies",
          "government",
          "governments",
          "fear",
          "fears",
          "feared",
          "fearing",
          "joy",
          "joys",
          "surprise",
          "surprises",
          "surprised",
          "surprising",
          "bed",
          "beds",
          "bedded",
          "bedding",
          "professor",
          "professors",
          "book",
          "books",
          "booked",
          "booking",
          "meet",
          "meets",
          "met",
          "meeting",
          "meetings",
          "pepper",
          "peppers",
          "spain",
          "denmark",
          "turkey",
          "turkeys",
          "nation",
          "nations",
          "son",
          "sons",
          "child",
          "children",
          "daughter",
          "daughters",
          "family",
          "families",
          "data",
          "datum",
          "computer",
          "computers",
          "process",
          "processes",
          "processed",
          "processing",
          "room",
          "rooms",
          "roomed",
          "rooming",
          "game",
          "games",
          "gamed",
          "gaming",
          "gamer",
          "gamest",
          "console",
          "play",
          "plays",
          "played",
          "playing",
          "hotel",
          "hotels",
          "volleyball",
          "volleyballs",
          "wrestle",
          "wrestles",
          "wrestled",
          "wrestling",
          "baseball",
          "baseballs",
          "bat",
          "bats",
          "batted",
          "batting",
          "ventilator",
          "ventilators",
          "air-conditioner",
          "fan",
          "fans",
          "fanned",
          "fanning",
          "follower",
          "followers",
          "model",
          "models",
          "modeled",
          "modelled",
          "modeling",
          "modelling",
          "guidance",
          "guidances",
          "lead",
          "leads",
          "led",
          "leading",
          "aluminium",
          "aluminum",
          "aluminums",
          "column",
          "columns",
          "line",
          "lines",
          "lined",
          "lining",
          "row",
          "rows",
          "rowed",
          "rowing",
          "boat",
          "boats",
          "boated",
          "boating",
          "rip",
          "rips",
          "ripped",
          "ripping",
          "cut",
          "cuts",
          "cutting",
          "tear",
          "tears",
          "tore",
          "torn",
          "tearing",
          "teared",
          "eye",
          "eyes",
          "eyed",
          "eyeing",
          "axis",
          "axes",
          "pivot",
          "pivots",
          "pivoted",
          "pivoting",
          "axe",
          "ax",
          "axes",
          "axed",
          "axing",
          "axis",
          "sword",
          "swords",
          "bend",
          "bends",
          "bent",
          "bending",
          "curve",
          "curves",
          "curved",
          "curving",
          "bow",
          "bows",
          "bowed",
          "bowing",
          "arrow",
          "arrows",
          "good",
          "better",
          "best",
          "goods",
          "well",
          "wells",
          "fine",
          "finer",
          "finest",
          "fines",
          "fined",
          "fining",
          "pay",
          "pays",
          "paid",
          "paying",
          "town",
          "towns",
          "city",
          "cities",
          "capital",
          "capitals",
          "letter",
          "letters",
          "bottle",
          "bottles",
          "bottled",
          "bottling",
          "jar",
          "jars",
          "jarred",
          "jarring",
          "can",
          "could",
          "cans",
          "canned",
          "canning",
          "manage",
          "manages",
          "managed",
          "managing",
          "pub",
          "pubs",
          "bistro",
          "bar",
          "bars",
          "barred",
          "barring",
          "rod",
          "rods",
          "straight",
          "straighter",
          "straightest",
          "right",
          "rights",
          "righted",
          "righting",
          "leave",
          "leaves",
          "left",
          "leaving",
          "go",
          "goes",
          "went",
          "gone",
          "going",
          "fish",
          "fishes",
          "fished",
          "fishing",
          "salmon",
          "bass",
          "basses",
          "violin",
          "violins",
          "down",
          "downs",
          "-up",
          "up",
          "right",
          "rights",
          "righted",
          "righting",
          "correct",
          "corrects",
          "corrected",
          "correcting",
          "finger",
          "fingers",
          "fingered",
          "fingering",
          "hand",
          "hands",
          "handed",
          "handing",
          "palm",
          "palms",
          "palmed",
          "palming",
          "pine",
          "pines",
          "pined",
          "pining",
          "hour",
          "hours",
          "time",
          "times",
          "timed",
          "timing",
          "watch",
          "watches",
          "watched",
          "watching",
          "display",
          "displays",
          "displayed",
          "displaying",
          "turkish",
          "spanish",
          "polish",
          "polishes",
          "polished",
          "polishing",
          "fingernail",
          "attach",
          "attaches",
          "attached",
          "attaching",
          "clinch",
          "tie",
          "ties",
          "tied",
          "tying",
          "bowtie",
          "bowties",
          "wristband",
          "wristbands",
          "necklace",
          "necklaces",
          "ring",
          "rings",
          "rang",
          "rung",
          "ringing",
          "bang",
          "bangs",
          "banged",
          "banging",
          "dolphin",
          "dolphins",
          "whale",
          "whales",
          "whaled",
          "whaling",
          "seal",
          "seals",
          "sealed",
          "sealing",
          "stamp",
          "stamps",
          "stamped",
          "stamping",
          "park",
          "parks",
          "parked",
          "parking",
          "place",
          "places",
          "placed",
          "placing",
          "square",
          "squares",
          "squared",
          "squaring",
          "green",
          "greener",
          "greenest",
          "greens",
          "greened",
          "greening",
          "word",
          "words",
          "worded",
          "wording",
          "sentence",
          "sentences",
          "sentenced",
          "sentencing",
          "letter",
          "letters",
          "four",
          "gossip",
          "chatter",
          "chatters",
          "chattered",
          "chattering",
          "chitchat",
          "empty",
          "emptier",
          "emptiest",
          "empties",
          "emptied",
          "emptying",
          "information",
          "informations",
          "intellegence",
          "knowledge",
          "dirty",
          "dirtier",
          "dirtiest",
          "notice",
          "notices",
          "noticed",
          "noticing",
          "recognize",
          "recognise",
          "recognizes",
          "recognises",
          "recognized",
          "recognised",
          "recognizing",
          "recognising",
          "detect",
          "detects",
          "detected",
          "detecting",
          "hard",
          "harder",
          "hardest",
          "thought",
          "thoughts",
          "belief",
          "beliefs",
          "concern",
          "concerns",
          "concerned",
          "concerning",
          "keyboard",
          "keyboards",
          "goal",
          "goals",
          "aim",
          "aims",
          "aimed",
          "aiming",
          "purpose",
          "purposes",
          "continue",
          "continues",
          "continued",
          "continuing",
          "eye",
          "eyes",
          "eyed",
          "eyeing",
          "brow",
          "brows",
          "eyelash",
          "bed",
          "beds",
          "bedded",
          "bedding",
          "humor",
          "humour",
          "humors",
          "humours",
          "humored",
          "humoured",
          "humoring",
          "humouring",
          "fun",
          "joke",
          "jokes",
          "joked",
          "joking",
          "counted",
          "counts",
          "counting",
          "tested",
          "test",
          "tests",
          "testing",
          "evaluation",
          "evaluations",
          "exam",
          "exams",
          "train",
          "trains",
          "trained",
          "training",
          "essay",
          "essays",
          "article",
          "articles",
          "paper",
          "papers",
          "papered",
          "papering",
          "water",
          "waters",
          "watered",
          "watering",
          "environment",
          "environments",
          "habitat",
          "habitats",
          "surrounding",
          "surroundings",
          "judge",
          "judges",
          "judged",
          "judging",
          "zoo",
          "zoos",
          "animal",
          "animals",
          "circus",
          "circuses",
          "ring",
          "rings",
          "rang",
          "rung",
          "ringing",
          "estimate",
          "estimates",
          "estimated",
          "estimating",
          "forecast",
          "forecasts",
          "forecasted",
          "forecasting",
          "predict",
          "predicts",
          "predicted",
          "predicting",
          "chew",
          "chews",
          "chewed",
          "chewing",
          "coffin",
          "coffins",
          "dead",
          "deader",
          "deadest",
          "bury",
          "buries",
          "buried",
          "burying",
          "cheek",
          "cheeks",
          "extinct",
          "extinguish",
          "extinguishes",
          "extinguished",
          "extinguishing",
          "abolish",
          "abolishes",
          "abolished",
          "abolishing",
          "fork",
          "forks",
          "forked",
          "forking",
          "telephone",
          "telephones",
          "telephoned",
          "telephoning",
          "radio",
          "radios",
          "radioed",
          "radioing",
          "television",
          "televisions",
          "eat",
          "eats",
          "ate",
          "eaten",
          "eating",
          "pause",
          "pauses",
          "paused",
          "pausing",
          "halt",
          "halts",
          "halted",
          "halting",
          "freeze",
          "freezes",
          "froze",
          "frozen",
          "freezing",
          "shirt",
          "shirts"
         ],
         "type": "scatter",
         "x": [
          -37.74729537963867,
          -36.87751007080078,
          24.753631591796875,
          1.9228427410125732,
          -33.46111297607422,
          -32.87351989746094,
          -35.220584869384766,
          -34.19066619873047,
          16.932355880737305,
          16.24115562438965,
          -17.526592254638672,
          21.426639556884766,
          20.657241821289062,
          22.87729263305664,
          22.036865234375,
          53.50276184082031,
          54.38704299926758,
          55.080596923828125,
          52.4600830078125,
          53.504180908203125,
          54.17731857299805,
          55.134830474853516,
          54.25676727294922,
          54.756954193115234,
          -21.690608978271484,
          -21.223615646362305,
          -23.675809860229492,
          -23.351442337036133,
          -25.647737503051758,
          -26.7288761138916,
          -27.106307983398438,
          25.7303524017334,
          25.649856567382812,
          -29.153310775756836,
          -28.91845703125,
          14.09610652923584,
          14.098366737365723,
          -30.539953231811523,
          -30.595088958740234,
          -8.458695411682129,
          -8.264138221740723,
          -10.234158515930176,
          36.01795959472656,
          -4.925372123718262,
          -5.2756123542785645,
          -6.172755718231201,
          -6.697324275970459,
          -44.80985641479492,
          -44.76939010620117,
          17.835453033447266,
          17.80971336364746,
          -31.398717880249023,
          -31.42127799987793,
          -32.946598052978516,
          -33.91285705566406,
          -32.330848693847656,
          -33.62217330932617,
          -31.27827262878418,
          8.622132301330566,
          -46.44230651855469,
          -46.438148498535156,
          -7.887145042419434,
          -7.788909435272217,
          16.141632080078125,
          16.161996841430664,
          -18.316608428955078,
          -18.552745819091797,
          -16.151371002197266,
          -16.146333694458008,
          -23.879039764404297,
          -23.06476593017578,
          -25.884689331054688,
          -25.6353759765625,
          -22.43560218811035,
          -22.21564483642578,
          -24.382339477539062,
          -24.15508270263672,
          39.232112884521484,
          39.24793243408203,
          -22.667858123779297,
          -23.006752014160156,
          -23.837820053100586,
          -23.907983779907227,
          -20.24787712097168,
          -20.0848445892334,
          -17.00428581237793,
          -17.08060646057129,
          -14.952277183532715,
          -14.41930103302002,
          36.70168685913086,
          36.73748016357422,
          -12.855803489685059,
          -13.361883163452148,
          -11.279178619384766,
          -10.738655090332031,
          -13.894949913024902,
          -14.237388610839844,
          19.898221969604492,
          19.844667434692383,
          -15.148289680480957,
          -13.563976287841797,
          -13.779470443725586,
          -12.56085205078125,
          -12.63008975982666,
          -14.817338943481445,
          -15.125688552856445,
          -16.70850372314453,
          -17.051376342773438,
          -14.122018814086914,
          -14.869224548339844,
          -32.65752410888672,
          -32.88420867919922,
          -24.647642135620117,
          -25.20322036743164,
          -27.126998901367188,
          -27.095491409301758,
          -25.20573616027832,
          -25.644832611083984,
          9.516149520874023,
          8.778806686401367,
          8.531972885131836,
          8.038607597351074,
          9.442193031311035,
          8.794189453125,
          -27.630775451660156,
          -27.540748596191406,
          10.652915000915527,
          10.84853744506836,
          -28.916622161865234,
          -25.517593383789062,
          -25.388813018798828,
          -28.036502838134766,
          -28.55906867980957,
          -26.486160278320312,
          -12.946907043457031,
          -26.88140869140625,
          46.69166946411133,
          46.69986343383789,
          -16.36680030822754,
          -16.554880142211914,
          -21.67970848083496,
          -23.02709197998047,
          8.712072372436523,
          10.29887866973877,
          -24.294048309326172,
          -18.116195678710938,
          -18.271223068237305,
          14.798299789428711,
          15.08755111694336,
          18.36506462097168,
          18.167688369750977,
          -33.46111297607422,
          -32.78656005859375,
          -30.277000427246094,
          -29.90728759765625,
          -27.799901962280273,
          -29.730548858642578,
          -30.047969818115234,
          -30.43794059753418,
          -35.43837356567383,
          -34.34821701049805,
          16.93250274658203,
          16.241146087646484,
          -17.52788734436035,
          -19.909873962402344,
          -20.13897132873535,
          -20.849929809570312,
          -21.277921676635742,
          -18.38442039489746,
          -18.473289489746094,
          -19.226518630981445,
          -19.214523315429688,
          -7.10036039352417,
          -7.063809871673584,
          18.693208694458008,
          17.856651306152344,
          -12.26839542388916,
          -4.0246052742004395,
          -3.8024966716766357,
          -2.5937294960021973,
          -3.0887718200683594,
          42.931175231933594,
          43.2996711730957,
          42.066375732421875,
          42.74708557128906,
          13.846231460571289,
          13.438573837280273,
          -8.248924255371094,
          -8.397751808166504,
          8.205978393554688,
          8.183856010437012,
          10.425973892211914,
          10.33508586883545,
          -14.004240989685059,
          -12.573182106018066,
          -41.126365661621094,
          -40.99741744995117,
          -38.68177032470703,
          -39.6793212890625,
          6.156596660614014,
          6.145071983337402,
          0.016147607937455177,
          -0.5108946561813354,
          35.810935974121094,
          35.87875747680664,
          -6.953522205352783,
          -6.410640716552734,
          -8.195944786071777,
          -7.447459697723389,
          -2.944833278656006,
          -2.60819411277771,
          32.849483489990234,
          32.76871109008789,
          -34.002620697021484,
          -35.92951965332031,
          17.062061309814453,
          -39.72346115112305,
          -2.1718673706054688,
          -2.638906240463257,
          -0.13543705642223358,
          -0.7871415019035339,
          -2.6796340942382812,
          -2.9506263732910156,
          -1.3369486331939697,
          -1.627403736114502,
          -4.204949378967285,
          -7.507505893707275,
          -9.380876541137695,
          -0.4920789301395416,
          -0.8945987224578857,
          -3.1389598846435547,
          -2.896803617477417,
          -7.973820209503174,
          -8.610452651977539,
          1.4380360841751099,
          1.4456993341445923,
          -7.391608715057373,
          -9.272150993347168,
          -1.0142050981521606,
          -0.376141220331192,
          -2.633690595626831,
          -2.415463447570801,
          -9.13393497467041,
          -9.195229530334473,
          3.650555372238159,
          3.4305825233459473,
          22.17409896850586,
          8.473490715026855,
          16.35885238647461,
          16.403278350830078,
          18.14870834350586,
          18.275043487548828,
          39.73295593261719,
          39.70381164550781,
          19.751049041748047,
          19.9266414642334,
          9.489910125732422,
          8.594883918762207,
          -27.639734268188477,
          -27.64250946044922,
          -4.3594279289245605,
          -4.363713264465332,
          -27.022069931030273,
          -26.972312927246094,
          -0.9972498416900635,
          -0.7429423928260803,
          -48.13486099243164,
          -45.76845169067383,
          29.413427352905273,
          28.517414093017578,
          -47.80276870727539,
          -46.549072265625,
          -50.74593734741211,
          -39.5944709777832,
          -39.69289016723633,
          -6.334233283996582,
          -5.489124298095703,
          -7.570396900177002,
          -6.780270576477051,
          -4.368265628814697,
          -3.652089834213257,
          -1.7244672775268555,
          -2.050875663757324,
          36.471500396728516,
          36.39889907836914,
          -41.60581970214844,
          -41.66371154785156,
          23.093326568603516,
          24.59341812133789,
          24.155006408691406,
          -6.063143730163574,
          -6.8361945152282715,
          -38.95869064331055,
          -39.82172775268555,
          -10.532336235046387,
          -10.552681922912598,
          1.119534969329834,
          1.2457451820373535,
          3.3695662021636963,
          2.7892308235168457,
          -13.228099822998047,
          -13.202157974243164,
          37.69272232055664,
          37.691017150878906,
          41.832298278808594,
          41.89009094238281,
          40.18313217163086,
          40.14162063598633,
          4.632479190826416,
          4.568709850311279,
          -13.504581451416016,
          -14.690350532531738,
          19.89314079284668,
          19.844667434692383,
          -15.548394203186035,
          -19.752458572387695,
          -19.750770568847656,
          -9.962517738342285,
          42.28147506713867,
          40.94381332397461,
          41.51947021484375,
          42.58075714111328,
          20.685354232788086,
          20.352739334106445,
          21.71254539489746,
          19.45775604248047,
          -35.310028076171875,
          -35.2612419128418,
          1.844018816947937,
          1.7970929145812988,
          22.896026611328125,
          16.165803909301758,
          16.722875595092773,
          15.464877128601074,
          7.170656681060791,
          7.168965816497803,
          1.5033916234970093,
          0.8169111609458923,
          1.9862244129180908,
          4.418395042419434,
          7.253857612609863,
          -1.4039868116378784,
          -1.3267896175384521,
          1.5775893926620483,
          3.5139150619506836,
          7.560885429382324,
          8.193719863891602,
          2.5702133178710938,
          0.19921541213989258,
          -21.606616973876953,
          -23.026687622070312,
          8.71108627319336,
          10.298483848571777,
          -49.03095626831055,
          -46.447540283203125,
          -48.5421028137207,
          -46.18516540527344,
          31.999210357666016,
          32.54142761230469,
          -8.786505699157715,
          -8.845847129821777,
          -0.9984864592552185,
          -0.7403256297111511,
          -3.2317378520965576,
          -2.4903690814971924,
          -4.0793304443359375,
          -3.820803165435791,
          22.26541519165039,
          -7.573738098144531,
          -0.1574024111032486,
          4.470832824707031,
          4.257576942443848,
          -44.13328552246094,
          -43.722412109375,
          -44.85496520996094,
          -44.42997360229492,
          -46.53559494018555,
          -46.34278869628906,
          -42.93720626831055,
          -42.752498626708984,
          -10.40750503540039,
          -41.60638427734375,
          50.432861328125,
          49.75659942626953,
          -36.13613510131836,
          -36.1016960144043,
          45.04830551147461,
          45.08443069458008,
          50.037967681884766,
          50.1701774597168,
          50.478240966796875,
          50.512760162353516,
          2.271692991256714,
          2.8435802459716797,
          0.5737193822860718,
          1.143245816230774,
          -9.593977928161621,
          -9.68836498260498,
          7.328054428100586,
          7.336187839508057,
          39.9634895324707,
          39.61094284057617,
          39.74824905395508,
          39.82136154174805,
          5.5738396644592285,
          6.018558025360107,
          11.421744346618652,
          11.046051025390625,
          12.295373916625977,
          11.433695793151855,
          -29.93733787536621,
          -31.67340660095215,
          5.227786540985107,
          -29.454591751098633,
          -5.153913497924805,
          -5.305447101593018,
          -6.063159465789795,
          -6.7460713386535645,
          -38.958560943603516,
          -39.82173156738281,
          38.756324768066406,
          38.26642608642578,
          39.257694244384766,
          6.339029312133789,
          6.213168144226074,
          -21.045331954956055,
          -21.071760177612305,
          -34.777278900146484,
          -34.7244758605957,
          -25.353668212890625,
          -25.345869064331055,
          7.580596923828125,
          7.470486164093018,
          53.05000305175781,
          53.66633224487305,
          50.8685188293457,
          50.55097961425781,
          52.13089370727539,
          52.829383850097656,
          49.28008270263672,
          49.21428680419922,
          8.008872985839844,
          -5.121877670288086,
          -31.480661392211914,
          -31.5371150970459,
          12.380302429199219,
          12.243979454040527,
          14.889742851257324,
          14.351347923278809,
          -34.0047607421875,
          -35.883235931396484,
          17.061433792114258,
          -39.72346115112305,
          -22.09589385986328,
          -22.275442123413086,
          -18.947118759155273,
          -20.70501708984375,
          -20.750877380371094,
          -24.121231079101562,
          -22.347537994384766,
          -20.940523147583008,
          -20.38026237487793,
          -19.73543357849121,
          -20.402742385864258,
          -37.8897590637207,
          -38.20815658569336,
          -24.078201293945312,
          -24.437286376953125,
          36.817970275878906,
          37.05733108520508,
          36.35591125488281,
          37.325626373291016,
          -27.126798629760742,
          -27.095491409301758,
          -30.542455673217773,
          -30.14858055114746,
          -31.36330223083496,
          -30.942798614501953,
          -41.44974136352539,
          -41.31303405761719,
          -39.5784912109375,
          56.824092864990234,
          56.76631164550781,
          16.52811622619629,
          16.556339263916016,
          54.49295425415039,
          54.537567138671875,
          -5.797248363494873,
          -6.136056423187256,
          20.829341888427734,
          20.828943252563477,
          -5.662470817565918,
          -5.611863613128662,
          10.472661972045898,
          10.38286304473877,
          -17.198593139648438,
          -16.75492286682129,
          -16.393407821655273,
          -17.260257720947266,
          -17.38082504272461,
          -16.97212791442871,
          -16.103515625,
          -2.900357723236084,
          -2.8278398513793945,
          -5.987107276916504,
          -5.976993083953857,
          11.65753173828125,
          11.796048164367676,
          -2.106950521469116,
          -2.121140241622925,
          -15.813966751098633,
          -16.10041618347168,
          -18.523277282714844,
          -18.53763771057129,
          -16.427780151367188,
          -19.358150482177734,
          24.686443328857422,
          25.638750076293945,
          24.716184616088867,
          23.717458724975586,
          23.86551284790039,
          24.12859344482422,
          23.499019622802734,
          21.947246551513672,
          21.079513549804688,
          23.7526912689209,
          24.0289363861084,
          22.891908645629883,
          21.194412231445312,
          6.5833740234375,
          6.749191761016846,
          9.436356544494629,
          12.917344093322754,
          -5.852858543395996,
          -8.274435043334961,
          29.444263458251953,
          29.834705352783203,
          28.544445037841797,
          28.69377326965332,
          -10.872919082641602,
          -9.962517738342285,
          -8.271443367004395,
          25.072216033935547,
          25.03499412536621,
          -5.852858543395996,
          -12.331035614013672,
          -12.756874084472656,
          17.089231491088867,
          17.017311096191406,
          16.790647506713867,
          16.283113479614258,
          -2.281834840774536,
          -2.159564733505249,
          15.551105499267578,
          15.89566707611084,
          -11.876981735229492,
          -11.978790283203125,
          13.408530235290527,
          13.60476303100586,
          -9.253588676452637,
          -9.316120147705078,
          19.596176147460938,
          19.14764976501465,
          15.991778373718262,
          0.40197277069091797,
          20.37493133544922,
          -22.601350784301758,
          21.542465209960938,
          21.863197326660156,
          15.425089836120605,
          24.962848663330078,
          25.657970428466797,
          25.27858543395996,
          21.24761962890625,
          22.046579360961914,
          20.591428756713867,
          20.679580688476562,
          -40.555912017822266,
          -39.16335678100586,
          -40.64225769042969,
          -39.0009651184082,
          -40.64061737060547,
          -39.9923210144043,
          0.9977214336395264,
          -0.3689612150192261,
          -20.959074020385742,
          -21.385583877563477,
          -20.997156143188477,
          -21.780376434326172,
          -24.54461097717285,
          -24.537240982055664,
          10.541399002075195,
          10.862818717956543,
          16.683746337890625,
          16.301193237304688,
          -22.35373878479004,
          -24.03040313720703,
          -24.976682662963867,
          29.33199691772461,
          29.87432098388672,
          29.0827693939209,
          29.298641204833984,
          -47.53171920776367,
          -46.29801559448242,
          -47.90778732299805,
          -48.13486862182617,
          -45.769649505615234,
          29.412506103515625,
          28.51758575439453,
          -14.260943412780762,
          -14.313399314880371,
          21.561288833618164,
          21.575664520263672,
          21.30475425720215,
          23.212099075317383,
          12.872384071350098,
          34.526363372802734,
          33.882850646972656,
          25.49979591369629,
          26.3326473236084,
          24.10265350341797,
          25.168806076049805,
          19.796749114990234,
          21.231311798095703,
          19.539409637451172,
          19.918006896972656,
          19.122407913208008,
          -19.524658203125,
          -20.180179595947266,
          -16.936710357666016,
          -18.921186447143555,
          -18.764080047607422,
          -33.945068359375,
          -34.195865631103516,
          -34.01289749145508,
          -34.1089973449707,
          21.92776107788086,
          22.213407516479492,
          24.598987579345703,
          24.2222843170166,
          23.212160110473633,
          12.872385025024414,
          34.529361724853516,
          33.882850646972656,
          22.15505027770996,
          24.25178337097168,
          22.928564071655273,
          23.694910049438477,
          4.277137279510498,
          4.746347427368164,
          7.299850940704346,
          7.722586631774902,
          5.4033203125,
          5.251858711242676,
          13.682815551757812,
          13.78078842163086,
          2.8503339290618896,
          3.010005235671997,
          8.915057182312012,
          8.873709678649902,
          -8.534632682800293,
          -8.68896198272705,
          15.364824295043945,
          15.352381706237793,
          10.190301895141602,
          10.458562850952148,
          10.275687217712402,
          11.072751998901367,
          17.466642379760742,
          17.353515625,
          4.268819332122803,
          3.24106502532959,
          5.617110729217529,
          5.156931400299072,
          -39.939395904541016,
          -39.48429870605469,
          -40.10423278808594,
          -39.003387451171875,
          -35.889644622802734,
          -34.788021087646484,
          -3.272211790084839,
          -3.9215855598449707,
          -1.5795923471450806,
          -2.2499167919158936,
          2.989537239074707,
          30.541759490966797,
          31.628217697143555,
          30.074949264526367,
          30.020231246948242,
          32.96209716796875,
          31.31778907775879,
          31.732458114624023,
          29.986328125,
          30.293304443359375,
          -25.790016174316406,
          -25.73839569091797,
          -33.106849670410156,
          -33.041587829589844,
          -36.45512008666992,
          -36.419349670410156,
          -40.356666564941406,
          -39.42578887939453,
          28.44808578491211,
          -30.081987380981445,
          -33.34905242919922,
          29.098621368408203,
          29.73495864868164,
          28.18864631652832,
          28.439119338989258,
          -17.84075164794922,
          -17.60301971435547,
          -16.148576736450195,
          -16.340492248535156,
          -15.230831146240234,
          -14.858241081237793,
          30.506553649902344,
          30.270706176757812,
          30.682945251464844,
          31.166259765625,
          -5.757911205291748,
          -6.209695339202881,
          -4.560632705688477,
          -5.120114803314209,
          -35.280006408691406,
          -35.50455093383789,
          -33.15735626220703,
          -34.373565673828125,
          -36.52582931518555,
          -37.026588439941406,
          20.332181930541992,
          20.391502380371094,
          0.7792248129844666,
          0.3374018669128418,
          1.997812032699585,
          2.5268917083740234,
          1.9820939302444458,
          4.418209075927734,
          7.253784656524658,
          -1.403823971748352,
          -1.3267896175384521,
          1.5775890350341797,
          3.871377468109131,
          4.104122638702393,
          8.127607345581055,
          7.82611083984375,
          5.428435325622559,
          5.320658206939697,
          27.840795516967773,
          28.906116485595703,
          0.8407989740371704,
          -0.5127059817314148,
          12.530205726623535,
          -4.670139789581299,
          -3.02728009223938,
          -2.1406495571136475,
          -1.5456732511520386,
          -1.9096866846084595,
          -3.5802764892578125,
          11.308451652526855,
          12.113484382629395,
          11.201987266540527,
          11.183494567871094,
          11.534494400024414,
          11.833602905273438,
          7.249406814575195,
          6.822210788726807,
          3.13668155670166,
          3.9502789974212646,
          11.258152961730957,
          11.646737098693848,
          10.519784927368164,
          14.410319328308105,
          14.825090408325195,
          12.783514022827148,
          12.516454696655273,
          31.19220733642578,
          32.5885124206543,
          32.46192169189453,
          33.07672882080078,
          34.29762268066406,
          33.631011962890625,
          30.82015609741211,
          31.85995101928711,
          27.10076904296875,
          27.785675048828125,
          26.373960494995117,
          26.66947364807129,
          19.161584854125977,
          18.969146728515625,
          18.15317726135254,
          14.368315696716309,
          5.13077974319458,
          4.700220584869385,
          4.460761070251465,
          37.691017150878906,
          38.10539245605469,
          36.72196578979492,
          35.9805908203125,
          -32.407814025878906,
          -32.5068473815918,
          29.622264862060547,
          29.413074493408203,
          30.687829971313477,
          31.25049591064453,
          30.455305099487305,
          30.064044952392578,
          32.97043991088867,
          33.181739807128906,
          -12.90550422668457,
          -12.450557708740234,
          -13.808754920959473,
          -13.583950996398926,
          6.582472324371338,
          6.75214147567749,
          9.43945598602295,
          12.917166709899902,
          3.097959280014038,
          3.066052198410034,
          -32.64387130737305,
          -29.8038272857666,
          -31.600933074951172,
          5.2280592918396,
          -29.44878387451172,
          3.0516390800476074,
          2.812819719314575,
          -6.52021598815918,
          -6.521661281585693,
          3.3773109912872314,
          2.9035511016845703,
          2.6729869842529297,
          2.706278085708618,
          7.498911380767822,
          5.537246227264404,
          5.011260032653809,
          6.778597354888916,
          5.986987590789795,
          14.048807144165039,
          13.416769027709961,
          13.52161979675293,
          18.17704963684082,
          16.955524444580078,
          16.346559524536133,
          16.643159866333008,
          13.38766098022461,
          13.363936424255371,
          -0.4620925188064575,
          -0.4949147701263428,
          -37.36357116699219,
          -37.2732048034668,
          24.753633499145508,
          1.928322434425354,
          -2.820939302444458,
          -3.055612087249756,
          -2.5068516731262207,
          -2.9495317935943604,
          -5.586198806762695,
          -5.390456199645996,
          3.994542360305786,
          4.08638858795166,
          -21.375699996948242,
          -21.056028366088867,
          -4.381484508514404,
          -4.708308219909668,
          -13.926358222961426,
          -12.434395790100098,
          -14.983674049377441,
          -14.973618507385254,
          -16.55826759338379,
          -15.81122875213623,
          32.25869369506836,
          32.596378326416016,
          33.015541076660156,
          32.81922149658203,
          -19.205995559692383,
          -18.865522384643555,
          -17.387840270996094,
          -17.41901969909668,
          -21.50295066833496,
          -21.424226760864258,
          -39.90634536743164,
          -39.84142303466797,
          28.455698013305664,
          -30.082059860229492,
          -33.349788665771484,
          13.744372367858887,
          13.283382415771484,
          13.958269119262695,
          14.715002059936523,
          13.43342399597168,
          12.714139938354492,
          14.347858428955078,
          13.08816146850586,
          16.343046188354492,
          17.106863021850586,
          16.121662139892578,
          15.565018653869629,
          -3.531287908554077,
          -4.345529556274414,
          -2.6461660861968994,
          -3.100501775741577,
          -27.531150817871094,
          -27.549707412719727,
          30.534605026245117,
          30.574052810668945,
          11.434544563293457,
          30.378360748291016,
          29.831256866455078,
          30.897415161132812,
          30.88629150390625,
          4.124421119689941,
          4.389749050140381,
          -14.874921798706055,
          42.93214416503906,
          42.166255950927734,
          43.188411712646484,
          43.61259841918945,
          38.230648040771484,
          39.362483978271484,
          38.906673431396484,
          37.80109786987305,
          20.55185317993164,
          20.37868881225586,
          20.877185821533203,
          21.30093765258789,
          -43.51063537597656,
          -43.94008255004883,
          29.383424758911133,
          28.632844924926758,
          -48.55849838256836,
          -46.185157775878906,
          32.26031494140625,
          32.80437469482422,
          -49.03096008300781,
          -46.44626235961914,
          -8.539180755615234,
          -7.478962421417236,
          -9.535606384277344,
          -9.035962104797363,
          -8.93592643737793,
          11.055898666381836,
          10.352313041687012,
          11.31270694732666,
          10.694525718688965,
          24.35404396057129,
          24.598390579223633,
          24.70945930480957,
          25.329307556152344,
          50.106689453125,
          50.04301834106445,
          49.06578826904297,
          49.617164611816406,
          50.676509857177734,
          -28.382505416870117,
          -28.88311004638672
         ],
         "y": [
          -6.346293926239014,
          -5.185609817504883,
          -24.519760131835938,
          -43.773292541503906,
          -8.003968238830566,
          -6.267086029052734,
          -1.1757869720458984,
          -2.473402261734009,
          35.33368682861328,
          32.849769592285156,
          11.212231636047363,
          -20.565126419067383,
          -21.106870651245117,
          -19.918943405151367,
          -20.102270126342773,
          11.358331680297852,
          10.213314056396484,
          8.478409767150879,
          10.916339874267578,
          9.888017654418945,
          12.501856803894043,
          14.155851364135742,
          16.371036529541016,
          16.25322151184082,
          9.84946346282959,
          9.831620216369629,
          11.423095703125,
          11.001410484313965,
          5.901530742645264,
          5.594775199890137,
          5.3896307945251465,
          2.1573195457458496,
          2.2325961589813232,
          5.572583198547363,
          5.087277889251709,
          -4.120552062988281,
          -3.981577157974243,
          -1.0695427656173706,
          -1.0528937578201294,
          41.84177017211914,
          42.31049728393555,
          43.19126892089844,
          32.90560531616211,
          44.65540313720703,
          44.53091812133789,
          42.011573791503906,
          42.38260269165039,
          16.274816513061523,
          16.199909210205078,
          -12.2936429977417,
          -12.280919075012207,
          21.08709144592285,
          20.938350677490234,
          25.536907196044922,
          24.812894821166992,
          24.911006927490234,
          24.431533813476562,
          26.06772232055664,
          23.879106521606445,
          10.276809692382812,
          10.108932495117188,
          12.768282890319824,
          12.338545799255371,
          -8.515432357788086,
          -8.746222496032715,
          35.97157287597656,
          36.22593307495117,
          34.80452346801758,
          34.59889221191406,
          35.82719802856445,
          35.664093017578125,
          37.19401550292969,
          36.94833755493164,
          34.55158996582031,
          35.16006851196289,
          -18.14740753173828,
          -18.424272537231445,
          27.58805274963379,
          27.583450317382812,
          -19.638277053833008,
          -19.516658782958984,
          -22.025117874145508,
          -21.97065544128418,
          -23.34222412109375,
          -23.626174926757812,
          20.561351776123047,
          20.570499420166016,
          18.309001922607422,
          18.458837509155273,
          22.10304832458496,
          22.184663772583008,
          15.957647323608398,
          15.76128101348877,
          16.37958335876465,
          16.199207305908203,
          9.726266860961914,
          7.940148830413818,
          10.807915687561035,
          12.886735916137695,
          8.714936256408691,
          24.35993003845215,
          23.45294952392578,
          26.969940185546875,
          26.230642318725586,
          24.340030670166016,
          23.63728904724121,
          25.522672653198242,
          25.27837562561035,
          27.486141204833984,
          27.185176849365234,
          2.6489434242248535,
          2.4203238487243652,
          -35.458988189697266,
          -32.37796401977539,
          -35.383056640625,
          -32.25186538696289,
          -36.31790542602539,
          -31.23947525024414,
          -33.97895812988281,
          -32.442413330078125,
          -3.453951835632324,
          -2.597949743270874,
          -1.5159409046173096,
          -2.017885446548462,
          -29.10774040222168,
          -29.221630096435547,
          12.271933555603027,
          12.585658073425293,
          -28.32588768005371,
          -23.51099967956543,
          -23.43787384033203,
          16.744056701660156,
          15.333784103393555,
          16.133947372436523,
          34.33218002319336,
          15.255172729492188,
          -6.78767728805542,
          -6.814229488372803,
          15.973856925964355,
          15.953253746032715,
          1.9050440788269043,
          1.608327031135559,
          2.6988232135772705,
          4.473931312561035,
          2.1049301624298096,
          -0.07882995158433914,
          -0.0928642675280571,
          0.6437283158302307,
          0.709231436252594,
          -1.751259684562683,
          -2.0774497985839844,
          -8.003968238830566,
          -6.306382179260254,
          -8.483053207397461,
          -7.911757469177246,
          -8.525960922241211,
          -9.559483528137207,
          -5.808663845062256,
          -6.645014762878418,
          -1.3357857465744019,
          -2.608210563659668,
          35.333961486816406,
          32.850341796875,
          11.212090492248535,
          22.900644302368164,
          22.4480037689209,
          23.994956970214844,
          23.888710021972656,
          -5.074458599090576,
          -5.154368877410889,
          17.998998641967773,
          18.044334411621094,
          36.07832717895508,
          36.0846061706543,
          20.753082275390625,
          20.707355499267578,
          34.26462173461914,
          37.25285339355469,
          37.803279876708984,
          36.82987976074219,
          36.600196838378906,
          6.069913387298584,
          4.457087993621826,
          3.8225271701812744,
          4.646581172943115,
          -44.70880889892578,
          -44.82134246826172,
          -38.64759826660156,
          -38.04379653930664,
          -23.485910415649414,
          -23.880287170410156,
          -20.927026748657227,
          -20.947917938232422,
          -32.69655227661133,
          -31.868518829345703,
          -33.93541717529297,
          -34.00224304199219,
          -36.203155517578125,
          -35.062618255615234,
          -49.027095794677734,
          -48.9712028503418,
          -46.659847259521484,
          -46.54286193847656,
          30.489376068115234,
          30.753520965576172,
          -42.58493423461914,
          -43.27992630004883,
          -43.65181350708008,
          -43.994842529296875,
          -47.58816146850586,
          -47.39451599121094,
          -10.350339889526367,
          -9.820855140686035,
          5.36381721496582,
          4.917647838592529,
          3.505122661590576,
          6.826085090637207,
          14.134779930114746,
          14.026832580566406,
          13.744722366333008,
          14.090396881103516,
          17.19944190979004,
          17.299896240234375,
          18.51288414001465,
          18.017921447753906,
          15.733817100524902,
          -5.12401819229126,
          -5.588520050048828,
          -6.2486701011657715,
          -7.833133220672607,
          -6.100944519042969,
          -7.521996021270752,
          -7.370353698730469,
          -7.366344451904297,
          -11.124035835266113,
          -11.094644546508789,
          -5.335683345794678,
          -5.386746406555176,
          -6.224206924438477,
          -7.628666877746582,
          -5.913865566253662,
          -7.6524810791015625,
          -1.707899570465088,
          -1.7861799001693726,
          -29.01711082458496,
          -28.943405151367188,
          -33.89035415649414,
          -35.03181457519531,
          -42.78165817260742,
          -43.05157470703125,
          -44.94980239868164,
          -44.561527252197266,
          -3.356541633605957,
          -3.38285231590271,
          -43.305721282958984,
          -43.68084716796875,
          -33.98871612548828,
          -32.5218505859375,
          -17.68063735961914,
          -17.830228805541992,
          -25.992115020751953,
          -26.043149948120117,
          -20.123600006103516,
          -20.042102813720703,
          -31.27863883972168,
          -28.772781372070312,
          -5.441836833953857,
          -5.250240325927734,
          -6.679808139801025,
          -9.72008991241455,
          -9.933354377746582,
          -11.04853630065918,
          -7.819150924682617,
          -11.853299140930176,
          -12.00304126739502,
          -45.38855743408203,
          -45.317352294921875,
          -47.658023834228516,
          -46.954673767089844,
          -43.085445404052734,
          -43.67081069946289,
          -42.5022087097168,
          -42.89085006713867,
          -7.446563243865967,
          -7.810144901275635,
          -14.339550971984863,
          -14.668096542358398,
          -30.27875518798828,
          -29.158428192138672,
          -29.556116104125977,
          -18.50870132446289,
          -20.18178367614746,
          12.465475082397461,
          10.618061065673828,
          -9.522761344909668,
          -9.43661880493164,
          -2.097965955734253,
          -1.997739315032959,
          -0.5282121896743774,
          -1.01706063747406,
          -4.345319747924805,
          -4.443968296051025,
          -27.11367416381836,
          -27.057430267333984,
          -20.248159408569336,
          -20.585180282592773,
          -23.844072341918945,
          -23.724279403686523,
          36.977195739746094,
          37.929443359375,
          9.380630493164062,
          7.462418556213379,
          10.809017181396484,
          12.886735916137695,
          8.17085075378418,
          6.305236339569092,
          6.298943996429443,
          9.128495216369629,
          17.9408016204834,
          17.560428619384766,
          17.151689529418945,
          17.111820220947266,
          -37.21277618408203,
          -37.6867790222168,
          -36.2592887878418,
          -37.41682815551758,
          13.311217308044434,
          13.394994735717773,
          -21.774831771850586,
          -22.0231876373291,
          -36.53559112548828,
          41.68556594848633,
          41.957550048828125,
          42.24474334716797,
          27.072803497314453,
          27.047258377075195,
          43.158477783203125,
          42.407493591308594,
          46.44969940185547,
          49.5457878112793,
          49.057342529296875,
          45.98798370361328,
          50.450904846191406,
          50.78801345825195,
          44.213096618652344,
          44.551612854003906,
          44.54057693481445,
          44.32878494262695,
          44.70651626586914,
          1.4821155071258545,
          1.224239468574524,
          2.6991183757781982,
          4.473391056060791,
          4.803314685821533,
          5.504112720489502,
          1.7311985492706299,
          1.8359863758087158,
          38.51436996459961,
          40.11417770385742,
          -15.803966522216797,
          -15.8600492477417,
          -31.277523040771484,
          -28.775001525878906,
          -36.52446365356445,
          -36.21700668334961,
          -36.92044448852539,
          -37.472816467285156,
          -31.365833282470703,
          -38.31136703491211,
          -34.3770866394043,
          -39.0272102355957,
          -39.25775146484375,
          -18.83342170715332,
          -18.372501373291016,
          -16.794775009155273,
          -16.935773849487305,
          -19.223913192749023,
          -19.052953720092773,
          -8.99204158782959,
          -9.14306354522705,
          21.265913009643555,
          -8.171019554138184,
          10.035161018371582,
          10.374584197998047,
          8.66911792755127,
          8.746495246887207,
          -0.4158247709274292,
          -0.4129396975040436,
          6.461928844451904,
          6.534095287322998,
          -1.0372639894485474,
          -0.9479765892028809,
          -36.972408294677734,
          -37.26247787475586,
          -37.933048248291016,
          -38.44920349121094,
          -27.836727142333984,
          -27.794780731201172,
          -42.15812301635742,
          -42.53310775756836,
          -18.724042892456055,
          -19.425996780395508,
          -16.764204025268555,
          -17.379873275756836,
          36.77813720703125,
          37.51112365722656,
          31.420129776000977,
          31.976024627685547,
          30.341129302978516,
          30.403459548950195,
          7.519286632537842,
          8.252105712890625,
          1.605995535850525,
          10.389904022216797,
          -40.95164489746094,
          -41.862205505371094,
          -18.508691787719727,
          -20.22422218322754,
          12.465444564819336,
          10.618061065673828,
          9.882316589355469,
          9.314778327941895,
          10.464147567749023,
          -9.139549255371094,
          -9.313215255737305,
          15.246429443359375,
          15.266378402709961,
          -43.86567306518555,
          -44.65693664550781,
          -12.940816879272461,
          -13.025236129760742,
          -44.87058639526367,
          -44.334571838378906,
          12.765439987182617,
          13.983760833740234,
          15.403124809265137,
          14.69603157043457,
          12.854565620422363,
          14.219151496887207,
          12.364457130432129,
          13.304705619812012,
          -25.78631591796875,
          3.1062588691711426,
          -17.547449111938477,
          -17.363277435302734,
          -36.48921585083008,
          -36.5406608581543,
          -36.490501403808594,
          -36.496219635009766,
          5.371143341064453,
          4.7581095695495605,
          3.504880905151367,
          6.826085090637207,
          -41.33491516113281,
          -41.64104080200195,
          -43.139427185058594,
          -43.57481002807617,
          -43.999229431152344,
          -41.707576751708984,
          -43.97919845581055,
          -39.08160400390625,
          -38.09835433959961,
          -39.05553436279297,
          -39.62454605102539,
          4.147343635559082,
          3.8041677474975586,
          -34.91972732543945,
          -32.58818817138672,
          3.215847969055176,
          4.009500026702881,
          2.8836638927459717,
          2.1386001110076904,
          -35.3822021484375,
          -32.25186538696289,
          -32.31372833251953,
          -32.04841995239258,
          -34.420318603515625,
          -34.15339279174805,
          -0.37198150157928467,
          -0.3237159252166748,
          0.7062335014343262,
          0.3074873387813568,
          0.37872666120529175,
          8.24543571472168,
          8.266096115112305,
          2.8546156883239746,
          2.8644180297851562,
          -30.72307586669922,
          -30.801069259643555,
          -26.508316040039062,
          -26.452503204345703,
          -32.52793884277344,
          -32.71017837524414,
          -28.811676025390625,
          -28.751384735107422,
          46.766883850097656,
          46.43922805786133,
          47.59836959838867,
          47.95513916015625,
          3.6601314544677734,
          3.7313454151153564,
          3.9588229656219482,
          -1.673568606376648,
          -1.466441035270691,
          -0.43786969780921936,
          -0.4860292673110962,
          0.798037052154541,
          0.7517481446266174,
          0.9526482820510864,
          0.8961482644081116,
          -11.961437225341797,
          -11.6256685256958,
          -11.780543327331543,
          -11.448317527770996,
          -14.222556114196777,
          -13.078042984008789,
          15.372593879699707,
          15.605195045471191,
          16.817777633666992,
          15.495489120483398,
          11.554677963256836,
          10.894102096557617,
          12.034482955932617,
          17.229909896850586,
          18.471630096435547,
          17.347412109375,
          18.158315658569336,
          16.212303161621094,
          19.19795799255371,
          18.058908462524414,
          16.093412399291992,
          15.680754661560059,
          9.610655784606934,
          5.0970354080200195,
          6.248708248138428,
          11.963221549987793,
          11.547876358032227,
          10.71228313446045,
          11.494202613830566,
          8.380866050720215,
          9.128495216369629,
          6.249809265136719,
          7.554372787475586,
          7.604172706604004,
          5.0970354080200195,
          6.363244533538818,
          6.118393898010254,
          16.369342803955078,
          17.05254364013672,
          15.302827835083008,
          16.04935646057129,
          6.2061591148376465,
          6.2733378410339355,
          19.151447296142578,
          19.32404136657715,
          2.795825242996216,
          2.910489320755005,
          15.621028900146484,
          15.652602195739746,
          2.8492164611816406,
          2.8884918689727783,
          41.52345657348633,
          42.48887634277344,
          45.202354431152344,
          -26.61935043334961,
          40.647090911865234,
          -8.794763565063477,
          41.80776596069336,
          42.76920700073242,
          45.60416793823242,
          -2.7499873638153076,
          -3.081026792526245,
          -3.702725410461426,
          -0.6876043081283569,
          -0.23559503257274628,
          -1.1515189409255981,
          -0.17903603613376617,
          -18.03076171875,
          -18.3889102935791,
          -18.732528686523438,
          -19.029125213623047,
          -21.536888122558594,
          -21.452917098999023,
          -15.033082962036133,
          -14.312585830688477,
          -3.818338632583618,
          -3.7296042442321777,
          -5.335788249969482,
          -5.8439717292785645,
          -2.168203115463257,
          -2.534722328186035,
          27.536090850830078,
          28.37968635559082,
          28.491043090820312,
          28.34250831604004,
          -3.0931499004364014,
          -5.028488636016846,
          -4.142571926116943,
          -22.13302230834961,
          -21.152027130126953,
          -21.24115562438965,
          -23.052791595458984,
          -9.728591918945312,
          -10.769475936889648,
          -8.144976615905762,
          -5.441837310791016,
          -5.250458240509033,
          -6.678882122039795,
          -9.7186279296875,
          0.02159537933766842,
          0.02425232157111168,
          33.562198638916016,
          35.54630661010742,
          34.63629913330078,
          25.251859664916992,
          -50.28339767456055,
          15.514772415161133,
          13.577990531921387,
          22.60494613647461,
          21.788705825805664,
          23.190038681030273,
          22.430644989013672,
          28.8231201171875,
          27.670860290527344,
          26.084531784057617,
          26.487539291381836,
          28.329021453857422,
          -16.18780517578125,
          -16.183727264404297,
          -14.746537208557129,
          -14.262164115905762,
          -16.743083953857422,
          -24.158811569213867,
          -24.435585021972656,
          -26.607181549072266,
          -26.552928924560547,
          30.650728225708008,
          31.28133201599121,
          29.93058204650879,
          29.81893539428711,
          25.252185821533203,
          -50.28340148925781,
          15.513874053955078,
          13.577990531921387,
          -14.046773910522461,
          -13.51738452911377,
          -13.327152252197266,
          -13.70154857635498,
          11.592185020446777,
          11.322196006774902,
          11.55044937133789,
          11.565073013305664,
          9.08474349975586,
          9.6001615524292,
          5.401669979095459,
          5.264283657073975,
          8.911197662353516,
          9.03406810760498,
          8.49096965789795,
          8.428376197814941,
          44.656700134277344,
          44.25377655029297,
          11.861614227294922,
          11.892004013061523,
          -7.918282985687256,
          -8.191312789916992,
          -9.642674446105957,
          -9.697829246520996,
          -15.622633934020996,
          -15.96678352355957,
          22.520296096801758,
          22.43840980529785,
          22.39788818359375,
          22.679468154907227,
          28.383888244628906,
          28.218713760375977,
          29.40257453918457,
          29.143577575683594,
          -42.91678237915039,
          -43.16653060913086,
          10.700854301452637,
          10.638932228088379,
          10.383896827697754,
          11.065482139587402,
          11.937273979187012,
          1.610121250152588,
          1.4832775592803955,
          2.4195637702941895,
          1.3351315259933472,
          7.044050216674805,
          6.170147895812988,
          5.408164978027344,
          5.94216251373291,
          6.381616592407227,
          19.896121978759766,
          19.8143253326416,
          16.2125244140625,
          16.149511337280273,
          19.22229766845703,
          19.106454849243164,
          21.729101181030273,
          20.590423583984375,
          34.92694854736328,
          31.54555320739746,
          32.27236557006836,
          28.858768463134766,
          29.116426467895508,
          27.36126708984375,
          27.76133918762207,
          -20.162282943725586,
          -20.66453742980957,
          -19.440759658813477,
          -20.021486282348633,
          -17.84731674194336,
          -19.901979446411133,
          -40.533180236816406,
          -41.0130729675293,
          -39.179779052734375,
          -39.94511795043945,
          -10.971113204956055,
          -11.126363754272461,
          -10.873140335083008,
          -10.081352233886719,
          -12.371805191040039,
          -12.780815124511719,
          -9.571739196777344,
          -10.574604034423828,
          -17.13359260559082,
          -17.288402557373047,
          -5.956565856933594,
          -5.811668395996094,
          3.61791729927063,
          3.237942695617676,
          4.4607954025268555,
          4.6852545738220215,
          46.449283599853516,
          49.54522705078125,
          49.0567512512207,
          45.9882698059082,
          50.450904846191406,
          50.78800964355469,
          -16.434741973876953,
          -16.722572326660156,
          -15.493208885192871,
          -15.635437965393066,
          -14.14340591430664,
          -14.03529167175293,
          -2.8227992057800293,
          -3.0204505920410156,
          -15.34211540222168,
          -14.59193229675293,
          -8.339686393737793,
          30.19136619567871,
          29.620038986206055,
          29.690370559692383,
          27.964094161987305,
          28.425207138061523,
          30.19084930419922,
          39.716732025146484,
          40.173553466796875,
          41.69738006591797,
          37.28384780883789,
          38.411312103271484,
          37.725074768066406,
          -26.902681350708008,
          -27.244524002075195,
          -33.26792526245117,
          -33.76207733154297,
          47.96712875366211,
          47.61013412475586,
          47.20759582519531,
          23.920589447021484,
          23.69021224975586,
          25.018186569213867,
          24.617029190063477,
          -15.520936965942383,
          -14.630846977233887,
          -16.34325408935547,
          -15.64918327331543,
          -13.240083694458008,
          -13.228340148925781,
          -14.416587829589844,
          -13.927443504333496,
          -16.767532348632812,
          -16.412912368774414,
          -17.16739845275879,
          -15.921248435974121,
          44.8436164855957,
          44.18124771118164,
          45.44379806518555,
          27.798690795898438,
          -19.169523239135742,
          -36.182186126708984,
          -36.80748748779297,
          -21.8295955657959,
          -21.976118087768555,
          -21.12701988220215,
          -22.428564071655273,
          -21.63031005859375,
          -21.75539779663086,
          -31.809274673461914,
          -32.1367301940918,
          -29.36481285095215,
          -28.963151931762695,
          -27.7811279296875,
          -28.39798355102539,
          -31.687910079956055,
          -31.940105438232422,
          52.02640151977539,
          51.36851119995117,
          51.65901565551758,
          52.57221984863281,
          18.05888557434082,
          16.090147018432617,
          15.679123878479004,
          9.609817504882812,
          16.909576416015625,
          17.04714584350586,
          -32.68617630004883,
          7.667759418487549,
          8.48807430267334,
          1.6069459915161133,
          10.386975288391113,
          32.47197341918945,
          32.23162841796875,
          19.84270477294922,
          19.82206916809082,
          29.521270751953125,
          29.484922409057617,
          27.308177947998047,
          28.102930068969727,
          34.42938995361328,
          31.746883392333984,
          32.06184387207031,
          30.361833572387695,
          30.784290313720703,
          -12.775508880615234,
          -13.441210746765137,
          -12.737433433532715,
          -30.675434112548828,
          -30.699398040771484,
          -30.860265731811523,
          -31.594608306884766,
          -31.505817413330078,
          -31.43896484375,
          -50.64752197265625,
          -50.54422378540039,
          -6.502187728881836,
          -5.029466152191162,
          -24.519760131835938,
          -43.77314758300781,
          -17.59311866760254,
          -17.52855110168457,
          -20.09400749206543,
          -20.15714454650879,
          -14.496297836303711,
          -14.94922161102295,
          -5.202456951141357,
          -5.2159504890441895,
          -9.217782020568848,
          -9.821181297302246,
          49.0594367980957,
          48.911380767822266,
          -32.94770812988281,
          -32.13426208496094,
          -26.803979873657227,
          -26.940391540527344,
          -32.45641326904297,
          -32.42608642578125,
          -3.6593260765075684,
          -3.6429054737091064,
          -5.562464237213135,
          -5.274022102355957,
          -26.080463409423828,
          -26.15610694885254,
          -23.941370010375977,
          -24.136730194091797,
          -27.511682510375977,
          -27.61911964416504,
          21.90471076965332,
          20.412235260009766,
          34.926570892333984,
          31.544912338256836,
          32.254661560058594,
          -20.587312698364258,
          -20.96564483642578,
          -19.695159912109375,
          -20.86741828918457,
          -25.24384117126465,
          -25.10540771484375,
          -25.226655960083008,
          -24.131214141845703,
          -22.89630889892578,
          -23.615659713745117,
          -23.999448776245117,
          -23.000751495361328,
          23.521724700927734,
          23.868263244628906,
          23.2064266204834,
          24.065061569213867,
          0.6199626922607422,
          0.559139609336853,
          22.896183013916016,
          24.005306243896484,
          43.01963424682617,
          19.992074966430664,
          19.081220626831055,
          20.918720245361328,
          19.79115104675293,
          14.600085258483887,
          14.845682144165039,
          -24.074769973754883,
          -12.076562881469727,
          -11.285371780395508,
          -11.3150053024292,
          -12.191733360290527,
          -9.667613983154297,
          -10.132905006408691,
          -8.881843566894531,
          -9.316648483276367,
          6.2978515625,
          6.636791229248047,
          4.814909934997559,
          4.704190731048584,
          4.214612007141113,
          3.93088436126709,
          37.38253402709961,
          38.24842071533203,
          1.8559199571609497,
          1.835986614227295,
          38.40790939331055,
          40.01654815673828,
          4.803314685821533,
          5.501744270324707,
          25.098352432250977,
          24.92644691467285,
          24.493629455566406,
          23.934356689453125,
          25.934581756591797,
          21.23089599609375,
          21.37801742553711,
          19.951353073120117,
          20.505704879760742,
          -8.256612777709961,
          -9.270124435424805,
          -7.700678825378418,
          -8.536541938781738,
          -13.473459243774414,
          -12.874144554138184,
          -13.868204116821289,
          -14.756815910339355,
          -14.308438301086426,
          16.841856002807617,
          15.539071083068848
         ]
        }
       ],
       "layout": {
        "template": {
         "data": {
          "bar": [
           {
            "error_x": {
             "color": "#2a3f5f"
            },
            "error_y": {
             "color": "#2a3f5f"
            },
            "marker": {
             "line": {
              "color": "#E5ECF6",
              "width": 0.5
             }
            },
            "type": "bar"
           }
          ],
          "barpolar": [
           {
            "marker": {
             "line": {
              "color": "#E5ECF6",
              "width": 0.5
             }
            },
            "type": "barpolar"
           }
          ],
          "carpet": [
           {
            "aaxis": {
             "endlinecolor": "#2a3f5f",
             "gridcolor": "white",
             "linecolor": "white",
             "minorgridcolor": "white",
             "startlinecolor": "#2a3f5f"
            },
            "baxis": {
             "endlinecolor": "#2a3f5f",
             "gridcolor": "white",
             "linecolor": "white",
             "minorgridcolor": "white",
             "startlinecolor": "#2a3f5f"
            },
            "type": "carpet"
           }
          ],
          "choropleth": [
           {
            "colorbar": {
             "outlinewidth": 0,
             "ticks": ""
            },
            "type": "choropleth"
           }
          ],
          "contour": [
           {
            "colorbar": {
             "outlinewidth": 0,
             "ticks": ""
            },
            "colorscale": [
             [
              0,
              "#0d0887"
             ],
             [
              0.1111111111111111,
              "#46039f"
             ],
             [
              0.2222222222222222,
              "#7201a8"
             ],
             [
              0.3333333333333333,
              "#9c179e"
             ],
             [
              0.4444444444444444,
              "#bd3786"
             ],
             [
              0.5555555555555556,
              "#d8576b"
             ],
             [
              0.6666666666666666,
              "#ed7953"
             ],
             [
              0.7777777777777778,
              "#fb9f3a"
             ],
             [
              0.8888888888888888,
              "#fdca26"
             ],
             [
              1,
              "#f0f921"
             ]
            ],
            "type": "contour"
           }
          ],
          "contourcarpet": [
           {
            "colorbar": {
             "outlinewidth": 0,
             "ticks": ""
            },
            "type": "contourcarpet"
           }
          ],
          "heatmap": [
           {
            "colorbar": {
             "outlinewidth": 0,
             "ticks": ""
            },
            "colorscale": [
             [
              0,
              "#0d0887"
             ],
             [
              0.1111111111111111,
              "#46039f"
             ],
             [
              0.2222222222222222,
              "#7201a8"
             ],
             [
              0.3333333333333333,
              "#9c179e"
             ],
             [
              0.4444444444444444,
              "#bd3786"
             ],
             [
              0.5555555555555556,
              "#d8576b"
             ],
             [
              0.6666666666666666,
              "#ed7953"
             ],
             [
              0.7777777777777778,
              "#fb9f3a"
             ],
             [
              0.8888888888888888,
              "#fdca26"
             ],
             [
              1,
              "#f0f921"
             ]
            ],
            "type": "heatmap"
           }
          ],
          "heatmapgl": [
           {
            "colorbar": {
             "outlinewidth": 0,
             "ticks": ""
            },
            "colorscale": [
             [
              0,
              "#0d0887"
             ],
             [
              0.1111111111111111,
              "#46039f"
             ],
             [
              0.2222222222222222,
              "#7201a8"
             ],
             [
              0.3333333333333333,
              "#9c179e"
             ],
             [
              0.4444444444444444,
              "#bd3786"
             ],
             [
              0.5555555555555556,
              "#d8576b"
             ],
             [
              0.6666666666666666,
              "#ed7953"
             ],
             [
              0.7777777777777778,
              "#fb9f3a"
             ],
             [
              0.8888888888888888,
              "#fdca26"
             ],
             [
              1,
              "#f0f921"
             ]
            ],
            "type": "heatmapgl"
           }
          ],
          "histogram": [
           {
            "marker": {
             "colorbar": {
              "outlinewidth": 0,
              "ticks": ""
             }
            },
            "type": "histogram"
           }
          ],
          "histogram2d": [
           {
            "colorbar": {
             "outlinewidth": 0,
             "ticks": ""
            },
            "colorscale": [
             [
              0,
              "#0d0887"
             ],
             [
              0.1111111111111111,
              "#46039f"
             ],
             [
              0.2222222222222222,
              "#7201a8"
             ],
             [
              0.3333333333333333,
              "#9c179e"
             ],
             [
              0.4444444444444444,
              "#bd3786"
             ],
             [
              0.5555555555555556,
              "#d8576b"
             ],
             [
              0.6666666666666666,
              "#ed7953"
             ],
             [
              0.7777777777777778,
              "#fb9f3a"
             ],
             [
              0.8888888888888888,
              "#fdca26"
             ],
             [
              1,
              "#f0f921"
             ]
            ],
            "type": "histogram2d"
           }
          ],
          "histogram2dcontour": [
           {
            "colorbar": {
             "outlinewidth": 0,
             "ticks": ""
            },
            "colorscale": [
             [
              0,
              "#0d0887"
             ],
             [
              0.1111111111111111,
              "#46039f"
             ],
             [
              0.2222222222222222,
              "#7201a8"
             ],
             [
              0.3333333333333333,
              "#9c179e"
             ],
             [
              0.4444444444444444,
              "#bd3786"
             ],
             [
              0.5555555555555556,
              "#d8576b"
             ],
             [
              0.6666666666666666,
              "#ed7953"
             ],
             [
              0.7777777777777778,
              "#fb9f3a"
             ],
             [
              0.8888888888888888,
              "#fdca26"
             ],
             [
              1,
              "#f0f921"
             ]
            ],
            "type": "histogram2dcontour"
           }
          ],
          "mesh3d": [
           {
            "colorbar": {
             "outlinewidth": 0,
             "ticks": ""
            },
            "type": "mesh3d"
           }
          ],
          "parcoords": [
           {
            "line": {
             "colorbar": {
              "outlinewidth": 0,
              "ticks": ""
             }
            },
            "type": "parcoords"
           }
          ],
          "pie": [
           {
            "automargin": true,
            "type": "pie"
           }
          ],
          "scatter": [
           {
            "marker": {
             "colorbar": {
              "outlinewidth": 0,
              "ticks": ""
             }
            },
            "type": "scatter"
           }
          ],
          "scatter3d": [
           {
            "line": {
             "colorbar": {
              "outlinewidth": 0,
              "ticks": ""
             }
            },
            "marker": {
             "colorbar": {
              "outlinewidth": 0,
              "ticks": ""
             }
            },
            "type": "scatter3d"
           }
          ],
          "scattercarpet": [
           {
            "marker": {
             "colorbar": {
              "outlinewidth": 0,
              "ticks": ""
             }
            },
            "type": "scattercarpet"
           }
          ],
          "scattergeo": [
           {
            "marker": {
             "colorbar": {
              "outlinewidth": 0,
              "ticks": ""
             }
            },
            "type": "scattergeo"
           }
          ],
          "scattergl": [
           {
            "marker": {
             "colorbar": {
              "outlinewidth": 0,
              "ticks": ""
             }
            },
            "type": "scattergl"
           }
          ],
          "scattermapbox": [
           {
            "marker": {
             "colorbar": {
              "outlinewidth": 0,
              "ticks": ""
             }
            },
            "type": "scattermapbox"
           }
          ],
          "scatterpolar": [
           {
            "marker": {
             "colorbar": {
              "outlinewidth": 0,
              "ticks": ""
             }
            },
            "type": "scatterpolar"
           }
          ],
          "scatterpolargl": [
           {
            "marker": {
             "colorbar": {
              "outlinewidth": 0,
              "ticks": ""
             }
            },
            "type": "scatterpolargl"
           }
          ],
          "scatterternary": [
           {
            "marker": {
             "colorbar": {
              "outlinewidth": 0,
              "ticks": ""
             }
            },
            "type": "scatterternary"
           }
          ],
          "surface": [
           {
            "colorbar": {
             "outlinewidth": 0,
             "ticks": ""
            },
            "colorscale": [
             [
              0,
              "#0d0887"
             ],
             [
              0.1111111111111111,
              "#46039f"
             ],
             [
              0.2222222222222222,
              "#7201a8"
             ],
             [
              0.3333333333333333,
              "#9c179e"
             ],
             [
              0.4444444444444444,
              "#bd3786"
             ],
             [
              0.5555555555555556,
              "#d8576b"
             ],
             [
              0.6666666666666666,
              "#ed7953"
             ],
             [
              0.7777777777777778,
              "#fb9f3a"
             ],
             [
              0.8888888888888888,
              "#fdca26"
             ],
             [
              1,
              "#f0f921"
             ]
            ],
            "type": "surface"
           }
          ],
          "table": [
           {
            "cells": {
             "fill": {
              "color": "#EBF0F8"
             },
             "line": {
              "color": "white"
             }
            },
            "header": {
             "fill": {
              "color": "#C8D4E3"
             },
             "line": {
              "color": "white"
             }
            },
            "type": "table"
           }
          ]
         },
         "layout": {
          "annotationdefaults": {
           "arrowcolor": "#2a3f5f",
           "arrowhead": 0,
           "arrowwidth": 1
          },
          "coloraxis": {
           "colorbar": {
            "outlinewidth": 0,
            "ticks": ""
           }
          },
          "colorscale": {
           "diverging": [
            [
             0,
             "#8e0152"
            ],
            [
             0.1,
             "#c51b7d"
            ],
            [
             0.2,
             "#de77ae"
            ],
            [
             0.3,
             "#f1b6da"
            ],
            [
             0.4,
             "#fde0ef"
            ],
            [
             0.5,
             "#f7f7f7"
            ],
            [
             0.6,
             "#e6f5d0"
            ],
            [
             0.7,
             "#b8e186"
            ],
            [
             0.8,
             "#7fbc41"
            ],
            [
             0.9,
             "#4d9221"
            ],
            [
             1,
             "#276419"
            ]
           ],
           "sequential": [
            [
             0,
             "#0d0887"
            ],
            [
             0.1111111111111111,
             "#46039f"
            ],
            [
             0.2222222222222222,
             "#7201a8"
            ],
            [
             0.3333333333333333,
             "#9c179e"
            ],
            [
             0.4444444444444444,
             "#bd3786"
            ],
            [
             0.5555555555555556,
             "#d8576b"
            ],
            [
             0.6666666666666666,
             "#ed7953"
            ],
            [
             0.7777777777777778,
             "#fb9f3a"
            ],
            [
             0.8888888888888888,
             "#fdca26"
            ],
            [
             1,
             "#f0f921"
            ]
           ],
           "sequentialminus": [
            [
             0,
             "#0d0887"
            ],
            [
             0.1111111111111111,
             "#46039f"
            ],
            [
             0.2222222222222222,
             "#7201a8"
            ],
            [
             0.3333333333333333,
             "#9c179e"
            ],
            [
             0.4444444444444444,
             "#bd3786"
            ],
            [
             0.5555555555555556,
             "#d8576b"
            ],
            [
             0.6666666666666666,
             "#ed7953"
            ],
            [
             0.7777777777777778,
             "#fb9f3a"
            ],
            [
             0.8888888888888888,
             "#fdca26"
            ],
            [
             1,
             "#f0f921"
            ]
           ]
          },
          "colorway": [
           "#636efa",
           "#EF553B",
           "#00cc96",
           "#ab63fa",
           "#FFA15A",
           "#19d3f3",
           "#FF6692",
           "#B6E880",
           "#FF97FF",
           "#FECB52"
          ],
          "font": {
           "color": "#2a3f5f"
          },
          "geo": {
           "bgcolor": "white",
           "lakecolor": "white",
           "landcolor": "#E5ECF6",
           "showlakes": true,
           "showland": true,
           "subunitcolor": "white"
          },
          "hoverlabel": {
           "align": "left"
          },
          "hovermode": "closest",
          "mapbox": {
           "style": "light"
          },
          "paper_bgcolor": "white",
          "plot_bgcolor": "#E5ECF6",
          "polar": {
           "angularaxis": {
            "gridcolor": "white",
            "linecolor": "white",
            "ticks": ""
           },
           "bgcolor": "#E5ECF6",
           "radialaxis": {
            "gridcolor": "white",
            "linecolor": "white",
            "ticks": ""
           }
          },
          "scene": {
           "xaxis": {
            "backgroundcolor": "#E5ECF6",
            "gridcolor": "white",
            "gridwidth": 2,
            "linecolor": "white",
            "showbackground": true,
            "ticks": "",
            "zerolinecolor": "white"
           },
           "yaxis": {
            "backgroundcolor": "#E5ECF6",
            "gridcolor": "white",
            "gridwidth": 2,
            "linecolor": "white",
            "showbackground": true,
            "ticks": "",
            "zerolinecolor": "white"
           },
           "zaxis": {
            "backgroundcolor": "#E5ECF6",
            "gridcolor": "white",
            "gridwidth": 2,
            "linecolor": "white",
            "showbackground": true,
            "ticks": "",
            "zerolinecolor": "white"
           }
          },
          "shapedefaults": {
           "line": {
            "color": "#2a3f5f"
           }
          },
          "ternary": {
           "aaxis": {
            "gridcolor": "white",
            "linecolor": "white",
            "ticks": ""
           },
           "baxis": {
            "gridcolor": "white",
            "linecolor": "white",
            "ticks": ""
           },
           "bgcolor": "#E5ECF6",
           "caxis": {
            "gridcolor": "white",
            "linecolor": "white",
            "ticks": ""
           }
          },
          "title": {
           "x": 0.05
          },
          "xaxis": {
           "automargin": true,
           "gridcolor": "white",
           "linecolor": "white",
           "ticks": "",
           "title": {
            "standoff": 15
           },
           "zerolinecolor": "white",
           "zerolinewidth": 2
          },
          "yaxis": {
           "automargin": true,
           "gridcolor": "white",
           "linecolor": "white",
           "ticks": "",
           "title": {
            "standoff": 15
           },
           "zerolinecolor": "white",
           "zerolinewidth": 2
          }
         }
        }
       }
      },
      "text/html": [
       "<div>\n",
       "        \n",
       "        \n",
       "            <div id=\"87cad770-5708-4da8-a386-c970bdd37b9a\" class=\"plotly-graph-div\" style=\"height:525px; width:100%;\"></div>\n",
       "            <script type=\"text/javascript\">\n",
       "                require([\"plotly\"], function(Plotly) {\n",
       "                    window.PLOTLYENV=window.PLOTLYENV || {};\n",
       "                    \n",
       "                if (document.getElementById(\"87cad770-5708-4da8-a386-c970bdd37b9a\")) {\n",
       "                    Plotly.newPlot(\n",
       "                        '87cad770-5708-4da8-a386-c970bdd37b9a',\n",
       "                        [{\"mode\": \"text\", \"text\": [\"train\", \"trains\", \"trained\", \"training\", \"car\", \"cars\", \"plane\", \"planes\", \"planed\", \"planing\", \"planer\", \"exercise\", \"exercises\", \"exercised\", \"exercising\", \"brother\", \"brothers\", \"bretheren\", \"sister\", \"sisters\", \"father\", \"fathers\", \"fathered\", \"fathering\", \"iron\", \"irons\", \"ironed\", \"ironing\", \"stool\", \"chair\", \"chairs\", \"chaired\", \"chairing\", \"couch\", \"couches\", \"couched\", \"couching\", \"door\", \"doors\", \"tree\", \"trees\", \"treed\", \"treeing\", \"grass\", \"grasses\", \"bush\", \"bushes\", \"clock\", \"clocks\", \"clocked\", \"clocking\", \"poster\", \"posters\", \"photo\", \"photos\", \"picture\", \"pictures\", \"pictured\", \"picturing\", \"camera\", \"cameras\", \"weight\", \"weights\", \"weighted\", \"weighting\", \"height\", \"heights\", \"length\", \"lengths\", \"meter\", \"meters\", \"metered\", \"metering\", \"metre\", \"metres\", \"worm\", \"worms\", \"wormed\", \"worming\", \"earthworm\", \"earthworms\", \"cockroach\", \"cockroaches\", \"tiger\", \"tigers\", \"cereal\", \"cereals\", \"milk\", \"milks\", \"milked\", \"milking\", \"butter\", \"butters\", \"buttered\", \"buttering\", \"knife\", \"knifes\", \"knifed\", \"knifing\", \"knives\", \"lunch\", \"lunches\", \"lunched\", \"lunching\", \"dinner\", \"dinners\", \"breakfast\", \"breakfasts\", \"breakfasted\", \"breakfasting\", \"kitchen\", \"kitchens\", \"basketball\", \"basketballs\", \"baseball\", \"baseballs\", \"football\", \"footballs\", \"strategy\", \"strategies\", \"net\", \"nets\", \"netted\", \"netting\", \"ball\", \"balls\", \"balled\", \"balling\", \"racket\", \"spider\", \"spiders\", \"shirt\", \"shirts\", \"trousers\", \"short\", \"shorts\", \"shorted\", \"shorting\", \"cheese\", \"cheeses\", \"bag\", \"bags\", \"bagged\", \"bagging\", \"luggage\", \"pocket\", \"pockets\", \"pocketed\", \"pocketing\", \"money\", \"monies\", \"car\", \"cars\", \"truck\", \"trucks\", \"trucked\", \"trucking\", \"van\", \"vans\", \"plane\", \"planes\", \"planed\", \"planing\", \"planer\", \"coffee\", \"coffees\", \"tea\", \"teas\", \"soda\", \"sodas\", \"pasta\", \"pastas\", \"wind\", \"winds\", \"wound\", \"winding\", \"winded\", \"rain\", \"rains\", \"rained\", \"raining\", \"hail\", \"hails\", \"hailed\", \"hailing\", \"poverty\", \"poverties\", \"math\", \"maths\", \"statistic\", \"statistics\", \"probability\", \"probabilities\", \"environment\", \"environments\", \"derivative\", \"derivatives\", \"integral\", \"integrals\", \"division\", \"divisions\", \"course\", \"courses\", \"coursed\", \"coursing\", \"student\", \"students\", \"teacher\", \"teachers\", \"class\", \"classes\", \"classed\", \"classing\", \"room\", \"rooms\", \"roomed\", \"rooming\", \"brush\", \"brushes\", \"brushed\", \"brushing\", \"mop\", \"mops\", \"mopped\", \"mopping\", \"duster\", \"pencil\", \"pencils\", \"penciled\", \"pencilled\", \"penciling\", \"pencilling\", \"pen\", \"pens\", \"penned\", \"penning\", \"pencil\", \"pencils\", \"penciled\", \"pencilled\", \"penciling\", \"pencilling\", \"marker\", \"markers\", \"market\", \"markets\", \"marketed\", \"marketing\", \"income\", \"incomes\", \"wage\", \"wages\", \"waged\", \"waging\", \"salary\", \"salaries\", \"strategy\", \"strategies\", \"virus\", \"viruses\", \"illness\", \"illnesses\", \"bacterium\", \"bacteria\", \"medicine\", \"medicines\", \"bar\", \"bars\", \"barred\", \"barring\", \"pub\", \"pubs\", \"disco\", \"office\", \"offices\", \"school\", \"schools\", \"schooled\", \"schooling\", \"university\", \"universities\", \"institute\", \"institutes\", \"instituted\", \"instituting\", \"building\", \"buildings\", \"built\", \"builds\", \"build\", \"book\", \"books\", \"booked\", \"booking\", \"notebook\", \"notebooks\", \"sheet\", \"sheets\", \"sheeted\", \"sheeting\", \"stapler\", \"staplers\", \"caution\", \"cautions\", \"danger\", \"dangers\", \"problem\", \"problems\", \"happiness\", \"happinesses\", \"knife\", \"knifes\", \"knifed\", \"knifing\", \"knives\", \"gun\", \"guns\", \"ax\", \"care\", \"cares\", \"cared\", \"caring\", \"price\", \"prices\", \"priced\", \"pricing\", \"ticket\", \"tickets\", \"receipt\", \"receipts\", \"expensive\", \"lucky\", \"luckier\", \"luckiest\", \"optimistic\", \"pesimistic\", \"orange\", \"oranges\", \"green\", \"greener\", \"greenest\", \"greens\", \"greened\", \"greening\", \"black\", \"blacker\", \"blackest\", \"brown\", \"browns\", \"bag\", \"bags\", \"bagged\", \"bagging\", \"television\", \"televisions\", \"radio\", \"radios\", \"radioed\", \"radioing\", \"newspaper\", \"newspapers\", \"medicine\", \"medicines\", \"engineering\", \"engineerings\", \"engineer\", \"engineers\", \"engineered\", \"mathematics\", \"scientific\", \"religion\", \"religions\", \"cathedral\", \"cathedrals\", \"church\", \"churches\", \"monastery\", \"monasteries\", \"shop\", \"shops\", \"shopped\", \"shopping\", \"friend\", \"friends\", \"guest\", \"guests\", \"guested\", \"guesting\", \"companion\", \"companions\", \"enemy\", \"enemies\", \"philosophy\", \"philosophies\", \"psychology\", \"psychologies\", \"anatomy\", \"anatomies\", \"government\", \"governments\", \"fear\", \"fears\", \"feared\", \"fearing\", \"joy\", \"joys\", \"surprise\", \"surprises\", \"surprised\", \"surprising\", \"bed\", \"beds\", \"bedded\", \"bedding\", \"professor\", \"professors\", \"book\", \"books\", \"booked\", \"booking\", \"meet\", \"meets\", \"met\", \"meeting\", \"meetings\", \"pepper\", \"peppers\", \"spain\", \"denmark\", \"turkey\", \"turkeys\", \"nation\", \"nations\", \"son\", \"sons\", \"child\", \"children\", \"daughter\", \"daughters\", \"family\", \"families\", \"data\", \"datum\", \"computer\", \"computers\", \"process\", \"processes\", \"processed\", \"processing\", \"room\", \"rooms\", \"roomed\", \"rooming\", \"game\", \"games\", \"gamed\", \"gaming\", \"gamer\", \"gamest\", \"console\", \"play\", \"plays\", \"played\", \"playing\", \"hotel\", \"hotels\", \"volleyball\", \"volleyballs\", \"wrestle\", \"wrestles\", \"wrestled\", \"wrestling\", \"baseball\", \"baseballs\", \"bat\", \"bats\", \"batted\", \"batting\", \"ventilator\", \"ventilators\", \"air-conditioner\", \"fan\", \"fans\", \"fanned\", \"fanning\", \"follower\", \"followers\", \"model\", \"models\", \"modeled\", \"modelled\", \"modeling\", \"modelling\", \"guidance\", \"guidances\", \"lead\", \"leads\", \"led\", \"leading\", \"aluminium\", \"aluminum\", \"aluminums\", \"column\", \"columns\", \"line\", \"lines\", \"lined\", \"lining\", \"row\", \"rows\", \"rowed\", \"rowing\", \"boat\", \"boats\", \"boated\", \"boating\", \"rip\", \"rips\", \"ripped\", \"ripping\", \"cut\", \"cuts\", \"cutting\", \"tear\", \"tears\", \"tore\", \"torn\", \"tearing\", \"teared\", \"eye\", \"eyes\", \"eyed\", \"eyeing\", \"axis\", \"axes\", \"pivot\", \"pivots\", \"pivoted\", \"pivoting\", \"axe\", \"ax\", \"axes\", \"axed\", \"axing\", \"axis\", \"sword\", \"swords\", \"bend\", \"bends\", \"bent\", \"bending\", \"curve\", \"curves\", \"curved\", \"curving\", \"bow\", \"bows\", \"bowed\", \"bowing\", \"arrow\", \"arrows\", \"good\", \"better\", \"best\", \"goods\", \"well\", \"wells\", \"fine\", \"finer\", \"finest\", \"fines\", \"fined\", \"fining\", \"pay\", \"pays\", \"paid\", \"paying\", \"town\", \"towns\", \"city\", \"cities\", \"capital\", \"capitals\", \"letter\", \"letters\", \"bottle\", \"bottles\", \"bottled\", \"bottling\", \"jar\", \"jars\", \"jarred\", \"jarring\", \"can\", \"could\", \"cans\", \"canned\", \"canning\", \"manage\", \"manages\", \"managed\", \"managing\", \"pub\", \"pubs\", \"bistro\", \"bar\", \"bars\", \"barred\", \"barring\", \"rod\", \"rods\", \"straight\", \"straighter\", \"straightest\", \"right\", \"rights\", \"righted\", \"righting\", \"leave\", \"leaves\", \"left\", \"leaving\", \"go\", \"goes\", \"went\", \"gone\", \"going\", \"fish\", \"fishes\", \"fished\", \"fishing\", \"salmon\", \"bass\", \"basses\", \"violin\", \"violins\", \"down\", \"downs\", \"-up\", \"up\", \"right\", \"rights\", \"righted\", \"righting\", \"correct\", \"corrects\", \"corrected\", \"correcting\", \"finger\", \"fingers\", \"fingered\", \"fingering\", \"hand\", \"hands\", \"handed\", \"handing\", \"palm\", \"palms\", \"palmed\", \"palming\", \"pine\", \"pines\", \"pined\", \"pining\", \"hour\", \"hours\", \"time\", \"times\", \"timed\", \"timing\", \"watch\", \"watches\", \"watched\", \"watching\", \"display\", \"displays\", \"displayed\", \"displaying\", \"turkish\", \"spanish\", \"polish\", \"polishes\", \"polished\", \"polishing\", \"fingernail\", \"attach\", \"attaches\", \"attached\", \"attaching\", \"clinch\", \"tie\", \"ties\", \"tied\", \"tying\", \"bowtie\", \"bowties\", \"wristband\", \"wristbands\", \"necklace\", \"necklaces\", \"ring\", \"rings\", \"rang\", \"rung\", \"ringing\", \"bang\", \"bangs\", \"banged\", \"banging\", \"dolphin\", \"dolphins\", \"whale\", \"whales\", \"whaled\", \"whaling\", \"seal\", \"seals\", \"sealed\", \"sealing\", \"stamp\", \"stamps\", \"stamped\", \"stamping\", \"park\", \"parks\", \"parked\", \"parking\", \"place\", \"places\", \"placed\", \"placing\", \"square\", \"squares\", \"squared\", \"squaring\", \"green\", \"greener\", \"greenest\", \"greens\", \"greened\", \"greening\", \"word\", \"words\", \"worded\", \"wording\", \"sentence\", \"sentences\", \"sentenced\", \"sentencing\", \"letter\", \"letters\", \"four\", \"gossip\", \"chatter\", \"chatters\", \"chattered\", \"chattering\", \"chitchat\", \"empty\", \"emptier\", \"emptiest\", \"empties\", \"emptied\", \"emptying\", \"information\", \"informations\", \"intellegence\", \"knowledge\", \"dirty\", \"dirtier\", \"dirtiest\", \"notice\", \"notices\", \"noticed\", \"noticing\", \"recognize\", \"recognise\", \"recognizes\", \"recognises\", \"recognized\", \"recognised\", \"recognizing\", \"recognising\", \"detect\", \"detects\", \"detected\", \"detecting\", \"hard\", \"harder\", \"hardest\", \"thought\", \"thoughts\", \"belief\", \"beliefs\", \"concern\", \"concerns\", \"concerned\", \"concerning\", \"keyboard\", \"keyboards\", \"goal\", \"goals\", \"aim\", \"aims\", \"aimed\", \"aiming\", \"purpose\", \"purposes\", \"continue\", \"continues\", \"continued\", \"continuing\", \"eye\", \"eyes\", \"eyed\", \"eyeing\", \"brow\", \"brows\", \"eyelash\", \"bed\", \"beds\", \"bedded\", \"bedding\", \"humor\", \"humour\", \"humors\", \"humours\", \"humored\", \"humoured\", \"humoring\", \"humouring\", \"fun\", \"joke\", \"jokes\", \"joked\", \"joking\", \"counted\", \"counts\", \"counting\", \"tested\", \"test\", \"tests\", \"testing\", \"evaluation\", \"evaluations\", \"exam\", \"exams\", \"train\", \"trains\", \"trained\", \"training\", \"essay\", \"essays\", \"article\", \"articles\", \"paper\", \"papers\", \"papered\", \"papering\", \"water\", \"waters\", \"watered\", \"watering\", \"environment\", \"environments\", \"habitat\", \"habitats\", \"surrounding\", \"surroundings\", \"judge\", \"judges\", \"judged\", \"judging\", \"zoo\", \"zoos\", \"animal\", \"animals\", \"circus\", \"circuses\", \"ring\", \"rings\", \"rang\", \"rung\", \"ringing\", \"estimate\", \"estimates\", \"estimated\", \"estimating\", \"forecast\", \"forecasts\", \"forecasted\", \"forecasting\", \"predict\", \"predicts\", \"predicted\", \"predicting\", \"chew\", \"chews\", \"chewed\", \"chewing\", \"coffin\", \"coffins\", \"dead\", \"deader\", \"deadest\", \"bury\", \"buries\", \"buried\", \"burying\", \"cheek\", \"cheeks\", \"extinct\", \"extinguish\", \"extinguishes\", \"extinguished\", \"extinguishing\", \"abolish\", \"abolishes\", \"abolished\", \"abolishing\", \"fork\", \"forks\", \"forked\", \"forking\", \"telephone\", \"telephones\", \"telephoned\", \"telephoning\", \"radio\", \"radios\", \"radioed\", \"radioing\", \"television\", \"televisions\", \"eat\", \"eats\", \"ate\", \"eaten\", \"eating\", \"pause\", \"pauses\", \"paused\", \"pausing\", \"halt\", \"halts\", \"halted\", \"halting\", \"freeze\", \"freezes\", \"froze\", \"frozen\", \"freezing\", \"shirt\", \"shirts\"], \"type\": \"scatter\", \"x\": [-37.74729537963867, -36.87751007080078, 24.753631591796875, 1.9228427410125732, -33.46111297607422, -32.87351989746094, -35.220584869384766, -34.19066619873047, 16.932355880737305, 16.24115562438965, -17.526592254638672, 21.426639556884766, 20.657241821289062, 22.87729263305664, 22.036865234375, 53.50276184082031, 54.38704299926758, 55.080596923828125, 52.4600830078125, 53.504180908203125, 54.17731857299805, 55.134830474853516, 54.25676727294922, 54.756954193115234, -21.690608978271484, -21.223615646362305, -23.675809860229492, -23.351442337036133, -25.647737503051758, -26.7288761138916, -27.106307983398438, 25.7303524017334, 25.649856567382812, -29.153310775756836, -28.91845703125, 14.09610652923584, 14.098366737365723, -30.539953231811523, -30.595088958740234, -8.458695411682129, -8.264138221740723, -10.234158515930176, 36.01795959472656, -4.925372123718262, -5.2756123542785645, -6.172755718231201, -6.697324275970459, -44.80985641479492, -44.76939010620117, 17.835453033447266, 17.80971336364746, -31.398717880249023, -31.42127799987793, -32.946598052978516, -33.91285705566406, -32.330848693847656, -33.62217330932617, -31.27827262878418, 8.622132301330566, -46.44230651855469, -46.438148498535156, -7.887145042419434, -7.788909435272217, 16.141632080078125, 16.161996841430664, -18.316608428955078, -18.552745819091797, -16.151371002197266, -16.146333694458008, -23.879039764404297, -23.06476593017578, -25.884689331054688, -25.6353759765625, -22.43560218811035, -22.21564483642578, -24.382339477539062, -24.15508270263672, 39.232112884521484, 39.24793243408203, -22.667858123779297, -23.006752014160156, -23.837820053100586, -23.907983779907227, -20.24787712097168, -20.0848445892334, -17.00428581237793, -17.08060646057129, -14.952277183532715, -14.41930103302002, 36.70168685913086, 36.73748016357422, -12.855803489685059, -13.361883163452148, -11.279178619384766, -10.738655090332031, -13.894949913024902, -14.237388610839844, 19.898221969604492, 19.844667434692383, -15.148289680480957, -13.563976287841797, -13.779470443725586, -12.56085205078125, -12.63008975982666, -14.817338943481445, -15.125688552856445, -16.70850372314453, -17.051376342773438, -14.122018814086914, -14.869224548339844, -32.65752410888672, -32.88420867919922, -24.647642135620117, -25.20322036743164, -27.126998901367188, -27.095491409301758, -25.20573616027832, -25.644832611083984, 9.516149520874023, 8.778806686401367, 8.531972885131836, 8.038607597351074, 9.442193031311035, 8.794189453125, -27.630775451660156, -27.540748596191406, 10.652915000915527, 10.84853744506836, -28.916622161865234, -25.517593383789062, -25.388813018798828, -28.036502838134766, -28.55906867980957, -26.486160278320312, -12.946907043457031, -26.88140869140625, 46.69166946411133, 46.69986343383789, -16.36680030822754, -16.554880142211914, -21.67970848083496, -23.02709197998047, 8.712072372436523, 10.29887866973877, -24.294048309326172, -18.116195678710938, -18.271223068237305, 14.798299789428711, 15.08755111694336, 18.36506462097168, 18.167688369750977, -33.46111297607422, -32.78656005859375, -30.277000427246094, -29.90728759765625, -27.799901962280273, -29.730548858642578, -30.047969818115234, -30.43794059753418, -35.43837356567383, -34.34821701049805, 16.93250274658203, 16.241146087646484, -17.52788734436035, -19.909873962402344, -20.13897132873535, -20.849929809570312, -21.277921676635742, -18.38442039489746, -18.473289489746094, -19.226518630981445, -19.214523315429688, -7.10036039352417, -7.063809871673584, 18.693208694458008, 17.856651306152344, -12.26839542388916, -4.0246052742004395, -3.8024966716766357, -2.5937294960021973, -3.0887718200683594, 42.931175231933594, 43.2996711730957, 42.066375732421875, 42.74708557128906, 13.846231460571289, 13.438573837280273, -8.248924255371094, -8.397751808166504, 8.205978393554688, 8.183856010437012, 10.425973892211914, 10.33508586883545, -14.004240989685059, -12.573182106018066, -41.126365661621094, -40.99741744995117, -38.68177032470703, -39.6793212890625, 6.156596660614014, 6.145071983337402, 0.016147607937455177, -0.5108946561813354, 35.810935974121094, 35.87875747680664, -6.953522205352783, -6.410640716552734, -8.195944786071777, -7.447459697723389, -2.944833278656006, -2.60819411277771, 32.849483489990234, 32.76871109008789, -34.002620697021484, -35.92951965332031, 17.062061309814453, -39.72346115112305, -2.1718673706054688, -2.638906240463257, -0.13543705642223358, -0.7871415019035339, -2.6796340942382812, -2.9506263732910156, -1.3369486331939697, -1.627403736114502, -4.204949378967285, -7.507505893707275, -9.380876541137695, -0.4920789301395416, -0.8945987224578857, -3.1389598846435547, -2.896803617477417, -7.973820209503174, -8.610452651977539, 1.4380360841751099, 1.4456993341445923, -7.391608715057373, -9.272150993347168, -1.0142050981521606, -0.376141220331192, -2.633690595626831, -2.415463447570801, -9.13393497467041, -9.195229530334473, 3.650555372238159, 3.4305825233459473, 22.17409896850586, 8.473490715026855, 16.35885238647461, 16.403278350830078, 18.14870834350586, 18.275043487548828, 39.73295593261719, 39.70381164550781, 19.751049041748047, 19.9266414642334, 9.489910125732422, 8.594883918762207, -27.639734268188477, -27.64250946044922, -4.3594279289245605, -4.363713264465332, -27.022069931030273, -26.972312927246094, -0.9972498416900635, -0.7429423928260803, -48.13486099243164, -45.76845169067383, 29.413427352905273, 28.517414093017578, -47.80276870727539, -46.549072265625, -50.74593734741211, -39.5944709777832, -39.69289016723633, -6.334233283996582, -5.489124298095703, -7.570396900177002, -6.780270576477051, -4.368265628814697, -3.652089834213257, -1.7244672775268555, -2.050875663757324, 36.471500396728516, 36.39889907836914, -41.60581970214844, -41.66371154785156, 23.093326568603516, 24.59341812133789, 24.155006408691406, -6.063143730163574, -6.8361945152282715, -38.95869064331055, -39.82172775268555, -10.532336235046387, -10.552681922912598, 1.119534969329834, 1.2457451820373535, 3.3695662021636963, 2.7892308235168457, -13.228099822998047, -13.202157974243164, 37.69272232055664, 37.691017150878906, 41.832298278808594, 41.89009094238281, 40.18313217163086, 40.14162063598633, 4.632479190826416, 4.568709850311279, -13.504581451416016, -14.690350532531738, 19.89314079284668, 19.844667434692383, -15.548394203186035, -19.752458572387695, -19.750770568847656, -9.962517738342285, 42.28147506713867, 40.94381332397461, 41.51947021484375, 42.58075714111328, 20.685354232788086, 20.352739334106445, 21.71254539489746, 19.45775604248047, -35.310028076171875, -35.2612419128418, 1.844018816947937, 1.7970929145812988, 22.896026611328125, 16.165803909301758, 16.722875595092773, 15.464877128601074, 7.170656681060791, 7.168965816497803, 1.5033916234970093, 0.8169111609458923, 1.9862244129180908, 4.418395042419434, 7.253857612609863, -1.4039868116378784, -1.3267896175384521, 1.5775893926620483, 3.5139150619506836, 7.560885429382324, 8.193719863891602, 2.5702133178710938, 0.19921541213989258, -21.606616973876953, -23.026687622070312, 8.71108627319336, 10.298483848571777, -49.03095626831055, -46.447540283203125, -48.5421028137207, -46.18516540527344, 31.999210357666016, 32.54142761230469, -8.786505699157715, -8.845847129821777, -0.9984864592552185, -0.7403256297111511, -3.2317378520965576, -2.4903690814971924, -4.0793304443359375, -3.820803165435791, 22.26541519165039, -7.573738098144531, -0.1574024111032486, 4.470832824707031, 4.257576942443848, -44.13328552246094, -43.722412109375, -44.85496520996094, -44.42997360229492, -46.53559494018555, -46.34278869628906, -42.93720626831055, -42.752498626708984, -10.40750503540039, -41.60638427734375, 50.432861328125, 49.75659942626953, -36.13613510131836, -36.1016960144043, 45.04830551147461, 45.08443069458008, 50.037967681884766, 50.1701774597168, 50.478240966796875, 50.512760162353516, 2.271692991256714, 2.8435802459716797, 0.5737193822860718, 1.143245816230774, -9.593977928161621, -9.68836498260498, 7.328054428100586, 7.336187839508057, 39.9634895324707, 39.61094284057617, 39.74824905395508, 39.82136154174805, 5.5738396644592285, 6.018558025360107, 11.421744346618652, 11.046051025390625, 12.295373916625977, 11.433695793151855, -29.93733787536621, -31.67340660095215, 5.227786540985107, -29.454591751098633, -5.153913497924805, -5.305447101593018, -6.063159465789795, -6.7460713386535645, -38.958560943603516, -39.82173156738281, 38.756324768066406, 38.26642608642578, 39.257694244384766, 6.339029312133789, 6.213168144226074, -21.045331954956055, -21.071760177612305, -34.777278900146484, -34.7244758605957, -25.353668212890625, -25.345869064331055, 7.580596923828125, 7.470486164093018, 53.05000305175781, 53.66633224487305, 50.8685188293457, 50.55097961425781, 52.13089370727539, 52.829383850097656, 49.28008270263672, 49.21428680419922, 8.008872985839844, -5.121877670288086, -31.480661392211914, -31.5371150970459, 12.380302429199219, 12.243979454040527, 14.889742851257324, 14.351347923278809, -34.0047607421875, -35.883235931396484, 17.061433792114258, -39.72346115112305, -22.09589385986328, -22.275442123413086, -18.947118759155273, -20.70501708984375, -20.750877380371094, -24.121231079101562, -22.347537994384766, -20.940523147583008, -20.38026237487793, -19.73543357849121, -20.402742385864258, -37.8897590637207, -38.20815658569336, -24.078201293945312, -24.437286376953125, 36.817970275878906, 37.05733108520508, 36.35591125488281, 37.325626373291016, -27.126798629760742, -27.095491409301758, -30.542455673217773, -30.14858055114746, -31.36330223083496, -30.942798614501953, -41.44974136352539, -41.31303405761719, -39.5784912109375, 56.824092864990234, 56.76631164550781, 16.52811622619629, 16.556339263916016, 54.49295425415039, 54.537567138671875, -5.797248363494873, -6.136056423187256, 20.829341888427734, 20.828943252563477, -5.662470817565918, -5.611863613128662, 10.472661972045898, 10.38286304473877, -17.198593139648438, -16.75492286682129, -16.393407821655273, -17.260257720947266, -17.38082504272461, -16.97212791442871, -16.103515625, -2.900357723236084, -2.8278398513793945, -5.987107276916504, -5.976993083953857, 11.65753173828125, 11.796048164367676, -2.106950521469116, -2.121140241622925, -15.813966751098633, -16.10041618347168, -18.523277282714844, -18.53763771057129, -16.427780151367188, -19.358150482177734, 24.686443328857422, 25.638750076293945, 24.716184616088867, 23.717458724975586, 23.86551284790039, 24.12859344482422, 23.499019622802734, 21.947246551513672, 21.079513549804688, 23.7526912689209, 24.0289363861084, 22.891908645629883, 21.194412231445312, 6.5833740234375, 6.749191761016846, 9.436356544494629, 12.917344093322754, -5.852858543395996, -8.274435043334961, 29.444263458251953, 29.834705352783203, 28.544445037841797, 28.69377326965332, -10.872919082641602, -9.962517738342285, -8.271443367004395, 25.072216033935547, 25.03499412536621, -5.852858543395996, -12.331035614013672, -12.756874084472656, 17.089231491088867, 17.017311096191406, 16.790647506713867, 16.283113479614258, -2.281834840774536, -2.159564733505249, 15.551105499267578, 15.89566707611084, -11.876981735229492, -11.978790283203125, 13.408530235290527, 13.60476303100586, -9.253588676452637, -9.316120147705078, 19.596176147460938, 19.14764976501465, 15.991778373718262, 0.40197277069091797, 20.37493133544922, -22.601350784301758, 21.542465209960938, 21.863197326660156, 15.425089836120605, 24.962848663330078, 25.657970428466797, 25.27858543395996, 21.24761962890625, 22.046579360961914, 20.591428756713867, 20.679580688476562, -40.555912017822266, -39.16335678100586, -40.64225769042969, -39.0009651184082, -40.64061737060547, -39.9923210144043, 0.9977214336395264, -0.3689612150192261, -20.959074020385742, -21.385583877563477, -20.997156143188477, -21.780376434326172, -24.54461097717285, -24.537240982055664, 10.541399002075195, 10.862818717956543, 16.683746337890625, 16.301193237304688, -22.35373878479004, -24.03040313720703, -24.976682662963867, 29.33199691772461, 29.87432098388672, 29.0827693939209, 29.298641204833984, -47.53171920776367, -46.29801559448242, -47.90778732299805, -48.13486862182617, -45.769649505615234, 29.412506103515625, 28.51758575439453, -14.260943412780762, -14.313399314880371, 21.561288833618164, 21.575664520263672, 21.30475425720215, 23.212099075317383, 12.872384071350098, 34.526363372802734, 33.882850646972656, 25.49979591369629, 26.3326473236084, 24.10265350341797, 25.168806076049805, 19.796749114990234, 21.231311798095703, 19.539409637451172, 19.918006896972656, 19.122407913208008, -19.524658203125, -20.180179595947266, -16.936710357666016, -18.921186447143555, -18.764080047607422, -33.945068359375, -34.195865631103516, -34.01289749145508, -34.1089973449707, 21.92776107788086, 22.213407516479492, 24.598987579345703, 24.2222843170166, 23.212160110473633, 12.872385025024414, 34.529361724853516, 33.882850646972656, 22.15505027770996, 24.25178337097168, 22.928564071655273, 23.694910049438477, 4.277137279510498, 4.746347427368164, 7.299850940704346, 7.722586631774902, 5.4033203125, 5.251858711242676, 13.682815551757812, 13.78078842163086, 2.8503339290618896, 3.010005235671997, 8.915057182312012, 8.873709678649902, -8.534632682800293, -8.68896198272705, 15.364824295043945, 15.352381706237793, 10.190301895141602, 10.458562850952148, 10.275687217712402, 11.072751998901367, 17.466642379760742, 17.353515625, 4.268819332122803, 3.24106502532959, 5.617110729217529, 5.156931400299072, -39.939395904541016, -39.48429870605469, -40.10423278808594, -39.003387451171875, -35.889644622802734, -34.788021087646484, -3.272211790084839, -3.9215855598449707, -1.5795923471450806, -2.2499167919158936, 2.989537239074707, 30.541759490966797, 31.628217697143555, 30.074949264526367, 30.020231246948242, 32.96209716796875, 31.31778907775879, 31.732458114624023, 29.986328125, 30.293304443359375, -25.790016174316406, -25.73839569091797, -33.106849670410156, -33.041587829589844, -36.45512008666992, -36.419349670410156, -40.356666564941406, -39.42578887939453, 28.44808578491211, -30.081987380981445, -33.34905242919922, 29.098621368408203, 29.73495864868164, 28.18864631652832, 28.439119338989258, -17.84075164794922, -17.60301971435547, -16.148576736450195, -16.340492248535156, -15.230831146240234, -14.858241081237793, 30.506553649902344, 30.270706176757812, 30.682945251464844, 31.166259765625, -5.757911205291748, -6.209695339202881, -4.560632705688477, -5.120114803314209, -35.280006408691406, -35.50455093383789, -33.15735626220703, -34.373565673828125, -36.52582931518555, -37.026588439941406, 20.332181930541992, 20.391502380371094, 0.7792248129844666, 0.3374018669128418, 1.997812032699585, 2.5268917083740234, 1.9820939302444458, 4.418209075927734, 7.253784656524658, -1.403823971748352, -1.3267896175384521, 1.5775890350341797, 3.871377468109131, 4.104122638702393, 8.127607345581055, 7.82611083984375, 5.428435325622559, 5.320658206939697, 27.840795516967773, 28.906116485595703, 0.8407989740371704, -0.5127059817314148, 12.530205726623535, -4.670139789581299, -3.02728009223938, -2.1406495571136475, -1.5456732511520386, -1.9096866846084595, -3.5802764892578125, 11.308451652526855, 12.113484382629395, 11.201987266540527, 11.183494567871094, 11.534494400024414, 11.833602905273438, 7.249406814575195, 6.822210788726807, 3.13668155670166, 3.9502789974212646, 11.258152961730957, 11.646737098693848, 10.519784927368164, 14.410319328308105, 14.825090408325195, 12.783514022827148, 12.516454696655273, 31.19220733642578, 32.5885124206543, 32.46192169189453, 33.07672882080078, 34.29762268066406, 33.631011962890625, 30.82015609741211, 31.85995101928711, 27.10076904296875, 27.785675048828125, 26.373960494995117, 26.66947364807129, 19.161584854125977, 18.969146728515625, 18.15317726135254, 14.368315696716309, 5.13077974319458, 4.700220584869385, 4.460761070251465, 37.691017150878906, 38.10539245605469, 36.72196578979492, 35.9805908203125, -32.407814025878906, -32.5068473815918, 29.622264862060547, 29.413074493408203, 30.687829971313477, 31.25049591064453, 30.455305099487305, 30.064044952392578, 32.97043991088867, 33.181739807128906, -12.90550422668457, -12.450557708740234, -13.808754920959473, -13.583950996398926, 6.582472324371338, 6.75214147567749, 9.43945598602295, 12.917166709899902, 3.097959280014038, 3.066052198410034, -32.64387130737305, -29.8038272857666, -31.600933074951172, 5.2280592918396, -29.44878387451172, 3.0516390800476074, 2.812819719314575, -6.52021598815918, -6.521661281585693, 3.3773109912872314, 2.9035511016845703, 2.6729869842529297, 2.706278085708618, 7.498911380767822, 5.537246227264404, 5.011260032653809, 6.778597354888916, 5.986987590789795, 14.048807144165039, 13.416769027709961, 13.52161979675293, 18.17704963684082, 16.955524444580078, 16.346559524536133, 16.643159866333008, 13.38766098022461, 13.363936424255371, -0.4620925188064575, -0.4949147701263428, -37.36357116699219, -37.2732048034668, 24.753633499145508, 1.928322434425354, -2.820939302444458, -3.055612087249756, -2.5068516731262207, -2.9495317935943604, -5.586198806762695, -5.390456199645996, 3.994542360305786, 4.08638858795166, -21.375699996948242, -21.056028366088867, -4.381484508514404, -4.708308219909668, -13.926358222961426, -12.434395790100098, -14.983674049377441, -14.973618507385254, -16.55826759338379, -15.81122875213623, 32.25869369506836, 32.596378326416016, 33.015541076660156, 32.81922149658203, -19.205995559692383, -18.865522384643555, -17.387840270996094, -17.41901969909668, -21.50295066833496, -21.424226760864258, -39.90634536743164, -39.84142303466797, 28.455698013305664, -30.082059860229492, -33.349788665771484, 13.744372367858887, 13.283382415771484, 13.958269119262695, 14.715002059936523, 13.43342399597168, 12.714139938354492, 14.347858428955078, 13.08816146850586, 16.343046188354492, 17.106863021850586, 16.121662139892578, 15.565018653869629, -3.531287908554077, -4.345529556274414, -2.6461660861968994, -3.100501775741577, -27.531150817871094, -27.549707412719727, 30.534605026245117, 30.574052810668945, 11.434544563293457, 30.378360748291016, 29.831256866455078, 30.897415161132812, 30.88629150390625, 4.124421119689941, 4.389749050140381, -14.874921798706055, 42.93214416503906, 42.166255950927734, 43.188411712646484, 43.61259841918945, 38.230648040771484, 39.362483978271484, 38.906673431396484, 37.80109786987305, 20.55185317993164, 20.37868881225586, 20.877185821533203, 21.30093765258789, -43.51063537597656, -43.94008255004883, 29.383424758911133, 28.632844924926758, -48.55849838256836, -46.185157775878906, 32.26031494140625, 32.80437469482422, -49.03096008300781, -46.44626235961914, -8.539180755615234, -7.478962421417236, -9.535606384277344, -9.035962104797363, -8.93592643737793, 11.055898666381836, 10.352313041687012, 11.31270694732666, 10.694525718688965, 24.35404396057129, 24.598390579223633, 24.70945930480957, 25.329307556152344, 50.106689453125, 50.04301834106445, 49.06578826904297, 49.617164611816406, 50.676509857177734, -28.382505416870117, -28.88311004638672], \"y\": [-6.346293926239014, -5.185609817504883, -24.519760131835938, -43.773292541503906, -8.003968238830566, -6.267086029052734, -1.1757869720458984, -2.473402261734009, 35.33368682861328, 32.849769592285156, 11.212231636047363, -20.565126419067383, -21.106870651245117, -19.918943405151367, -20.102270126342773, 11.358331680297852, 10.213314056396484, 8.478409767150879, 10.916339874267578, 9.888017654418945, 12.501856803894043, 14.155851364135742, 16.371036529541016, 16.25322151184082, 9.84946346282959, 9.831620216369629, 11.423095703125, 11.001410484313965, 5.901530742645264, 5.594775199890137, 5.3896307945251465, 2.1573195457458496, 2.2325961589813232, 5.572583198547363, 5.087277889251709, -4.120552062988281, -3.981577157974243, -1.0695427656173706, -1.0528937578201294, 41.84177017211914, 42.31049728393555, 43.19126892089844, 32.90560531616211, 44.65540313720703, 44.53091812133789, 42.011573791503906, 42.38260269165039, 16.274816513061523, 16.199909210205078, -12.2936429977417, -12.280919075012207, 21.08709144592285, 20.938350677490234, 25.536907196044922, 24.812894821166992, 24.911006927490234, 24.431533813476562, 26.06772232055664, 23.879106521606445, 10.276809692382812, 10.108932495117188, 12.768282890319824, 12.338545799255371, -8.515432357788086, -8.746222496032715, 35.97157287597656, 36.22593307495117, 34.80452346801758, 34.59889221191406, 35.82719802856445, 35.664093017578125, 37.19401550292969, 36.94833755493164, 34.55158996582031, 35.16006851196289, -18.14740753173828, -18.424272537231445, 27.58805274963379, 27.583450317382812, -19.638277053833008, -19.516658782958984, -22.025117874145508, -21.97065544128418, -23.34222412109375, -23.626174926757812, 20.561351776123047, 20.570499420166016, 18.309001922607422, 18.458837509155273, 22.10304832458496, 22.184663772583008, 15.957647323608398, 15.76128101348877, 16.37958335876465, 16.199207305908203, 9.726266860961914, 7.940148830413818, 10.807915687561035, 12.886735916137695, 8.714936256408691, 24.35993003845215, 23.45294952392578, 26.969940185546875, 26.230642318725586, 24.340030670166016, 23.63728904724121, 25.522672653198242, 25.27837562561035, 27.486141204833984, 27.185176849365234, 2.6489434242248535, 2.4203238487243652, -35.458988189697266, -32.37796401977539, -35.383056640625, -32.25186538696289, -36.31790542602539, -31.23947525024414, -33.97895812988281, -32.442413330078125, -3.453951835632324, -2.597949743270874, -1.5159409046173096, -2.017885446548462, -29.10774040222168, -29.221630096435547, 12.271933555603027, 12.585658073425293, -28.32588768005371, -23.51099967956543, -23.43787384033203, 16.744056701660156, 15.333784103393555, 16.133947372436523, 34.33218002319336, 15.255172729492188, -6.78767728805542, -6.814229488372803, 15.973856925964355, 15.953253746032715, 1.9050440788269043, 1.608327031135559, 2.6988232135772705, 4.473931312561035, 2.1049301624298096, -0.07882995158433914, -0.0928642675280571, 0.6437283158302307, 0.709231436252594, -1.751259684562683, -2.0774497985839844, -8.003968238830566, -6.306382179260254, -8.483053207397461, -7.911757469177246, -8.525960922241211, -9.559483528137207, -5.808663845062256, -6.645014762878418, -1.3357857465744019, -2.608210563659668, 35.333961486816406, 32.850341796875, 11.212090492248535, 22.900644302368164, 22.4480037689209, 23.994956970214844, 23.888710021972656, -5.074458599090576, -5.154368877410889, 17.998998641967773, 18.044334411621094, 36.07832717895508, 36.0846061706543, 20.753082275390625, 20.707355499267578, 34.26462173461914, 37.25285339355469, 37.803279876708984, 36.82987976074219, 36.600196838378906, 6.069913387298584, 4.457087993621826, 3.8225271701812744, 4.646581172943115, -44.70880889892578, -44.82134246826172, -38.64759826660156, -38.04379653930664, -23.485910415649414, -23.880287170410156, -20.927026748657227, -20.947917938232422, -32.69655227661133, -31.868518829345703, -33.93541717529297, -34.00224304199219, -36.203155517578125, -35.062618255615234, -49.027095794677734, -48.9712028503418, -46.659847259521484, -46.54286193847656, 30.489376068115234, 30.753520965576172, -42.58493423461914, -43.27992630004883, -43.65181350708008, -43.994842529296875, -47.58816146850586, -47.39451599121094, -10.350339889526367, -9.820855140686035, 5.36381721496582, 4.917647838592529, 3.505122661590576, 6.826085090637207, 14.134779930114746, 14.026832580566406, 13.744722366333008, 14.090396881103516, 17.19944190979004, 17.299896240234375, 18.51288414001465, 18.017921447753906, 15.733817100524902, -5.12401819229126, -5.588520050048828, -6.2486701011657715, -7.833133220672607, -6.100944519042969, -7.521996021270752, -7.370353698730469, -7.366344451904297, -11.124035835266113, -11.094644546508789, -5.335683345794678, -5.386746406555176, -6.224206924438477, -7.628666877746582, -5.913865566253662, -7.6524810791015625, -1.707899570465088, -1.7861799001693726, -29.01711082458496, -28.943405151367188, -33.89035415649414, -35.03181457519531, -42.78165817260742, -43.05157470703125, -44.94980239868164, -44.561527252197266, -3.356541633605957, -3.38285231590271, -43.305721282958984, -43.68084716796875, -33.98871612548828, -32.5218505859375, -17.68063735961914, -17.830228805541992, -25.992115020751953, -26.043149948120117, -20.123600006103516, -20.042102813720703, -31.27863883972168, -28.772781372070312, -5.441836833953857, -5.250240325927734, -6.679808139801025, -9.72008991241455, -9.933354377746582, -11.04853630065918, -7.819150924682617, -11.853299140930176, -12.00304126739502, -45.38855743408203, -45.317352294921875, -47.658023834228516, -46.954673767089844, -43.085445404052734, -43.67081069946289, -42.5022087097168, -42.89085006713867, -7.446563243865967, -7.810144901275635, -14.339550971984863, -14.668096542358398, -30.27875518798828, -29.158428192138672, -29.556116104125977, -18.50870132446289, -20.18178367614746, 12.465475082397461, 10.618061065673828, -9.522761344909668, -9.43661880493164, -2.097965955734253, -1.997739315032959, -0.5282121896743774, -1.01706063747406, -4.345319747924805, -4.443968296051025, -27.11367416381836, -27.057430267333984, -20.248159408569336, -20.585180282592773, -23.844072341918945, -23.724279403686523, 36.977195739746094, 37.929443359375, 9.380630493164062, 7.462418556213379, 10.809017181396484, 12.886735916137695, 8.17085075378418, 6.305236339569092, 6.298943996429443, 9.128495216369629, 17.9408016204834, 17.560428619384766, 17.151689529418945, 17.111820220947266, -37.21277618408203, -37.6867790222168, -36.2592887878418, -37.41682815551758, 13.311217308044434, 13.394994735717773, -21.774831771850586, -22.0231876373291, -36.53559112548828, 41.68556594848633, 41.957550048828125, 42.24474334716797, 27.072803497314453, 27.047258377075195, 43.158477783203125, 42.407493591308594, 46.44969940185547, 49.5457878112793, 49.057342529296875, 45.98798370361328, 50.450904846191406, 50.78801345825195, 44.213096618652344, 44.551612854003906, 44.54057693481445, 44.32878494262695, 44.70651626586914, 1.4821155071258545, 1.224239468574524, 2.6991183757781982, 4.473391056060791, 4.803314685821533, 5.504112720489502, 1.7311985492706299, 1.8359863758087158, 38.51436996459961, 40.11417770385742, -15.803966522216797, -15.8600492477417, -31.277523040771484, -28.775001525878906, -36.52446365356445, -36.21700668334961, -36.92044448852539, -37.472816467285156, -31.365833282470703, -38.31136703491211, -34.3770866394043, -39.0272102355957, -39.25775146484375, -18.83342170715332, -18.372501373291016, -16.794775009155273, -16.935773849487305, -19.223913192749023, -19.052953720092773, -8.99204158782959, -9.14306354522705, 21.265913009643555, -8.171019554138184, 10.035161018371582, 10.374584197998047, 8.66911792755127, 8.746495246887207, -0.4158247709274292, -0.4129396975040436, 6.461928844451904, 6.534095287322998, -1.0372639894485474, -0.9479765892028809, -36.972408294677734, -37.26247787475586, -37.933048248291016, -38.44920349121094, -27.836727142333984, -27.794780731201172, -42.15812301635742, -42.53310775756836, -18.724042892456055, -19.425996780395508, -16.764204025268555, -17.379873275756836, 36.77813720703125, 37.51112365722656, 31.420129776000977, 31.976024627685547, 30.341129302978516, 30.403459548950195, 7.519286632537842, 8.252105712890625, 1.605995535850525, 10.389904022216797, -40.95164489746094, -41.862205505371094, -18.508691787719727, -20.22422218322754, 12.465444564819336, 10.618061065673828, 9.882316589355469, 9.314778327941895, 10.464147567749023, -9.139549255371094, -9.313215255737305, 15.246429443359375, 15.266378402709961, -43.86567306518555, -44.65693664550781, -12.940816879272461, -13.025236129760742, -44.87058639526367, -44.334571838378906, 12.765439987182617, 13.983760833740234, 15.403124809265137, 14.69603157043457, 12.854565620422363, 14.219151496887207, 12.364457130432129, 13.304705619812012, -25.78631591796875, 3.1062588691711426, -17.547449111938477, -17.363277435302734, -36.48921585083008, -36.5406608581543, -36.490501403808594, -36.496219635009766, 5.371143341064453, 4.7581095695495605, 3.504880905151367, 6.826085090637207, -41.33491516113281, -41.64104080200195, -43.139427185058594, -43.57481002807617, -43.999229431152344, -41.707576751708984, -43.97919845581055, -39.08160400390625, -38.09835433959961, -39.05553436279297, -39.62454605102539, 4.147343635559082, 3.8041677474975586, -34.91972732543945, -32.58818817138672, 3.215847969055176, 4.009500026702881, 2.8836638927459717, 2.1386001110076904, -35.3822021484375, -32.25186538696289, -32.31372833251953, -32.04841995239258, -34.420318603515625, -34.15339279174805, -0.37198150157928467, -0.3237159252166748, 0.7062335014343262, 0.3074873387813568, 0.37872666120529175, 8.24543571472168, 8.266096115112305, 2.8546156883239746, 2.8644180297851562, -30.72307586669922, -30.801069259643555, -26.508316040039062, -26.452503204345703, -32.52793884277344, -32.71017837524414, -28.811676025390625, -28.751384735107422, 46.766883850097656, 46.43922805786133, 47.59836959838867, 47.95513916015625, 3.6601314544677734, 3.7313454151153564, 3.9588229656219482, -1.673568606376648, -1.466441035270691, -0.43786969780921936, -0.4860292673110962, 0.798037052154541, 0.7517481446266174, 0.9526482820510864, 0.8961482644081116, -11.961437225341797, -11.6256685256958, -11.780543327331543, -11.448317527770996, -14.222556114196777, -13.078042984008789, 15.372593879699707, 15.605195045471191, 16.817777633666992, 15.495489120483398, 11.554677963256836, 10.894102096557617, 12.034482955932617, 17.229909896850586, 18.471630096435547, 17.347412109375, 18.158315658569336, 16.212303161621094, 19.19795799255371, 18.058908462524414, 16.093412399291992, 15.680754661560059, 9.610655784606934, 5.0970354080200195, 6.248708248138428, 11.963221549987793, 11.547876358032227, 10.71228313446045, 11.494202613830566, 8.380866050720215, 9.128495216369629, 6.249809265136719, 7.554372787475586, 7.604172706604004, 5.0970354080200195, 6.363244533538818, 6.118393898010254, 16.369342803955078, 17.05254364013672, 15.302827835083008, 16.04935646057129, 6.2061591148376465, 6.2733378410339355, 19.151447296142578, 19.32404136657715, 2.795825242996216, 2.910489320755005, 15.621028900146484, 15.652602195739746, 2.8492164611816406, 2.8884918689727783, 41.52345657348633, 42.48887634277344, 45.202354431152344, -26.61935043334961, 40.647090911865234, -8.794763565063477, 41.80776596069336, 42.76920700073242, 45.60416793823242, -2.7499873638153076, -3.081026792526245, -3.702725410461426, -0.6876043081283569, -0.23559503257274628, -1.1515189409255981, -0.17903603613376617, -18.03076171875, -18.3889102935791, -18.732528686523438, -19.029125213623047, -21.536888122558594, -21.452917098999023, -15.033082962036133, -14.312585830688477, -3.818338632583618, -3.7296042442321777, -5.335788249969482, -5.8439717292785645, -2.168203115463257, -2.534722328186035, 27.536090850830078, 28.37968635559082, 28.491043090820312, 28.34250831604004, -3.0931499004364014, -5.028488636016846, -4.142571926116943, -22.13302230834961, -21.152027130126953, -21.24115562438965, -23.052791595458984, -9.728591918945312, -10.769475936889648, -8.144976615905762, -5.441837310791016, -5.250458240509033, -6.678882122039795, -9.7186279296875, 0.02159537933766842, 0.02425232157111168, 33.562198638916016, 35.54630661010742, 34.63629913330078, 25.251859664916992, -50.28339767456055, 15.514772415161133, 13.577990531921387, 22.60494613647461, 21.788705825805664, 23.190038681030273, 22.430644989013672, 28.8231201171875, 27.670860290527344, 26.084531784057617, 26.487539291381836, 28.329021453857422, -16.18780517578125, -16.183727264404297, -14.746537208557129, -14.262164115905762, -16.743083953857422, -24.158811569213867, -24.435585021972656, -26.607181549072266, -26.552928924560547, 30.650728225708008, 31.28133201599121, 29.93058204650879, 29.81893539428711, 25.252185821533203, -50.28340148925781, 15.513874053955078, 13.577990531921387, -14.046773910522461, -13.51738452911377, -13.327152252197266, -13.70154857635498, 11.592185020446777, 11.322196006774902, 11.55044937133789, 11.565073013305664, 9.08474349975586, 9.6001615524292, 5.401669979095459, 5.264283657073975, 8.911197662353516, 9.03406810760498, 8.49096965789795, 8.428376197814941, 44.656700134277344, 44.25377655029297, 11.861614227294922, 11.892004013061523, -7.918282985687256, -8.191312789916992, -9.642674446105957, -9.697829246520996, -15.622633934020996, -15.96678352355957, 22.520296096801758, 22.43840980529785, 22.39788818359375, 22.679468154907227, 28.383888244628906, 28.218713760375977, 29.40257453918457, 29.143577575683594, -42.91678237915039, -43.16653060913086, 10.700854301452637, 10.638932228088379, 10.383896827697754, 11.065482139587402, 11.937273979187012, 1.610121250152588, 1.4832775592803955, 2.4195637702941895, 1.3351315259933472, 7.044050216674805, 6.170147895812988, 5.408164978027344, 5.94216251373291, 6.381616592407227, 19.896121978759766, 19.8143253326416, 16.2125244140625, 16.149511337280273, 19.22229766845703, 19.106454849243164, 21.729101181030273, 20.590423583984375, 34.92694854736328, 31.54555320739746, 32.27236557006836, 28.858768463134766, 29.116426467895508, 27.36126708984375, 27.76133918762207, -20.162282943725586, -20.66453742980957, -19.440759658813477, -20.021486282348633, -17.84731674194336, -19.901979446411133, -40.533180236816406, -41.0130729675293, -39.179779052734375, -39.94511795043945, -10.971113204956055, -11.126363754272461, -10.873140335083008, -10.081352233886719, -12.371805191040039, -12.780815124511719, -9.571739196777344, -10.574604034423828, -17.13359260559082, -17.288402557373047, -5.956565856933594, -5.811668395996094, 3.61791729927063, 3.237942695617676, 4.4607954025268555, 4.6852545738220215, 46.449283599853516, 49.54522705078125, 49.0567512512207, 45.9882698059082, 50.450904846191406, 50.78800964355469, -16.434741973876953, -16.722572326660156, -15.493208885192871, -15.635437965393066, -14.14340591430664, -14.03529167175293, -2.8227992057800293, -3.0204505920410156, -15.34211540222168, -14.59193229675293, -8.339686393737793, 30.19136619567871, 29.620038986206055, 29.690370559692383, 27.964094161987305, 28.425207138061523, 30.19084930419922, 39.716732025146484, 40.173553466796875, 41.69738006591797, 37.28384780883789, 38.411312103271484, 37.725074768066406, -26.902681350708008, -27.244524002075195, -33.26792526245117, -33.76207733154297, 47.96712875366211, 47.61013412475586, 47.20759582519531, 23.920589447021484, 23.69021224975586, 25.018186569213867, 24.617029190063477, -15.520936965942383, -14.630846977233887, -16.34325408935547, -15.64918327331543, -13.240083694458008, -13.228340148925781, -14.416587829589844, -13.927443504333496, -16.767532348632812, -16.412912368774414, -17.16739845275879, -15.921248435974121, 44.8436164855957, 44.18124771118164, 45.44379806518555, 27.798690795898438, -19.169523239135742, -36.182186126708984, -36.80748748779297, -21.8295955657959, -21.976118087768555, -21.12701988220215, -22.428564071655273, -21.63031005859375, -21.75539779663086, -31.809274673461914, -32.1367301940918, -29.36481285095215, -28.963151931762695, -27.7811279296875, -28.39798355102539, -31.687910079956055, -31.940105438232422, 52.02640151977539, 51.36851119995117, 51.65901565551758, 52.57221984863281, 18.05888557434082, 16.090147018432617, 15.679123878479004, 9.609817504882812, 16.909576416015625, 17.04714584350586, -32.68617630004883, 7.667759418487549, 8.48807430267334, 1.6069459915161133, 10.386975288391113, 32.47197341918945, 32.23162841796875, 19.84270477294922, 19.82206916809082, 29.521270751953125, 29.484922409057617, 27.308177947998047, 28.102930068969727, 34.42938995361328, 31.746883392333984, 32.06184387207031, 30.361833572387695, 30.784290313720703, -12.775508880615234, -13.441210746765137, -12.737433433532715, -30.675434112548828, -30.699398040771484, -30.860265731811523, -31.594608306884766, -31.505817413330078, -31.43896484375, -50.64752197265625, -50.54422378540039, -6.502187728881836, -5.029466152191162, -24.519760131835938, -43.77314758300781, -17.59311866760254, -17.52855110168457, -20.09400749206543, -20.15714454650879, -14.496297836303711, -14.94922161102295, -5.202456951141357, -5.2159504890441895, -9.217782020568848, -9.821181297302246, 49.0594367980957, 48.911380767822266, -32.94770812988281, -32.13426208496094, -26.803979873657227, -26.940391540527344, -32.45641326904297, -32.42608642578125, -3.6593260765075684, -3.6429054737091064, -5.562464237213135, -5.274022102355957, -26.080463409423828, -26.15610694885254, -23.941370010375977, -24.136730194091797, -27.511682510375977, -27.61911964416504, 21.90471076965332, 20.412235260009766, 34.926570892333984, 31.544912338256836, 32.254661560058594, -20.587312698364258, -20.96564483642578, -19.695159912109375, -20.86741828918457, -25.24384117126465, -25.10540771484375, -25.226655960083008, -24.131214141845703, -22.89630889892578, -23.615659713745117, -23.999448776245117, -23.000751495361328, 23.521724700927734, 23.868263244628906, 23.2064266204834, 24.065061569213867, 0.6199626922607422, 0.559139609336853, 22.896183013916016, 24.005306243896484, 43.01963424682617, 19.992074966430664, 19.081220626831055, 20.918720245361328, 19.79115104675293, 14.600085258483887, 14.845682144165039, -24.074769973754883, -12.076562881469727, -11.285371780395508, -11.3150053024292, -12.191733360290527, -9.667613983154297, -10.132905006408691, -8.881843566894531, -9.316648483276367, 6.2978515625, 6.636791229248047, 4.814909934997559, 4.704190731048584, 4.214612007141113, 3.93088436126709, 37.38253402709961, 38.24842071533203, 1.8559199571609497, 1.835986614227295, 38.40790939331055, 40.01654815673828, 4.803314685821533, 5.501744270324707, 25.098352432250977, 24.92644691467285, 24.493629455566406, 23.934356689453125, 25.934581756591797, 21.23089599609375, 21.37801742553711, 19.951353073120117, 20.505704879760742, -8.256612777709961, -9.270124435424805, -7.700678825378418, -8.536541938781738, -13.473459243774414, -12.874144554138184, -13.868204116821289, -14.756815910339355, -14.308438301086426, 16.841856002807617, 15.539071083068848]}],\n",
       "                        {\"template\": {\"data\": {\"bar\": [{\"error_x\": {\"color\": \"#2a3f5f\"}, \"error_y\": {\"color\": \"#2a3f5f\"}, \"marker\": {\"line\": {\"color\": \"#E5ECF6\", \"width\": 0.5}}, \"type\": \"bar\"}], \"barpolar\": [{\"marker\": {\"line\": {\"color\": \"#E5ECF6\", \"width\": 0.5}}, \"type\": \"barpolar\"}], \"carpet\": [{\"aaxis\": {\"endlinecolor\": \"#2a3f5f\", \"gridcolor\": \"white\", \"linecolor\": \"white\", \"minorgridcolor\": \"white\", \"startlinecolor\": \"#2a3f5f\"}, \"baxis\": {\"endlinecolor\": \"#2a3f5f\", \"gridcolor\": \"white\", \"linecolor\": \"white\", \"minorgridcolor\": \"white\", \"startlinecolor\": \"#2a3f5f\"}, \"type\": \"carpet\"}], \"choropleth\": [{\"colorbar\": {\"outlinewidth\": 0, \"ticks\": \"\"}, \"type\": \"choropleth\"}], \"contour\": [{\"colorbar\": {\"outlinewidth\": 0, \"ticks\": \"\"}, \"colorscale\": [[0.0, \"#0d0887\"], [0.1111111111111111, \"#46039f\"], [0.2222222222222222, \"#7201a8\"], [0.3333333333333333, \"#9c179e\"], [0.4444444444444444, \"#bd3786\"], [0.5555555555555556, \"#d8576b\"], [0.6666666666666666, \"#ed7953\"], [0.7777777777777778, \"#fb9f3a\"], [0.8888888888888888, \"#fdca26\"], [1.0, \"#f0f921\"]], \"type\": \"contour\"}], \"contourcarpet\": [{\"colorbar\": {\"outlinewidth\": 0, \"ticks\": \"\"}, \"type\": \"contourcarpet\"}], \"heatmap\": [{\"colorbar\": {\"outlinewidth\": 0, \"ticks\": \"\"}, \"colorscale\": [[0.0, \"#0d0887\"], [0.1111111111111111, \"#46039f\"], [0.2222222222222222, \"#7201a8\"], [0.3333333333333333, \"#9c179e\"], [0.4444444444444444, \"#bd3786\"], [0.5555555555555556, \"#d8576b\"], [0.6666666666666666, \"#ed7953\"], [0.7777777777777778, \"#fb9f3a\"], [0.8888888888888888, \"#fdca26\"], [1.0, \"#f0f921\"]], \"type\": \"heatmap\"}], \"heatmapgl\": [{\"colorbar\": {\"outlinewidth\": 0, \"ticks\": \"\"}, \"colorscale\": [[0.0, \"#0d0887\"], [0.1111111111111111, \"#46039f\"], [0.2222222222222222, \"#7201a8\"], [0.3333333333333333, \"#9c179e\"], [0.4444444444444444, \"#bd3786\"], [0.5555555555555556, \"#d8576b\"], [0.6666666666666666, \"#ed7953\"], [0.7777777777777778, \"#fb9f3a\"], [0.8888888888888888, \"#fdca26\"], [1.0, \"#f0f921\"]], \"type\": \"heatmapgl\"}], \"histogram\": [{\"marker\": {\"colorbar\": {\"outlinewidth\": 0, \"ticks\": \"\"}}, \"type\": \"histogram\"}], \"histogram2d\": [{\"colorbar\": {\"outlinewidth\": 0, \"ticks\": \"\"}, \"colorscale\": [[0.0, \"#0d0887\"], [0.1111111111111111, \"#46039f\"], [0.2222222222222222, \"#7201a8\"], [0.3333333333333333, \"#9c179e\"], [0.4444444444444444, \"#bd3786\"], [0.5555555555555556, \"#d8576b\"], [0.6666666666666666, \"#ed7953\"], [0.7777777777777778, \"#fb9f3a\"], [0.8888888888888888, \"#fdca26\"], [1.0, \"#f0f921\"]], \"type\": \"histogram2d\"}], \"histogram2dcontour\": [{\"colorbar\": {\"outlinewidth\": 0, \"ticks\": \"\"}, \"colorscale\": [[0.0, \"#0d0887\"], [0.1111111111111111, \"#46039f\"], [0.2222222222222222, \"#7201a8\"], [0.3333333333333333, \"#9c179e\"], [0.4444444444444444, \"#bd3786\"], [0.5555555555555556, \"#d8576b\"], [0.6666666666666666, \"#ed7953\"], [0.7777777777777778, \"#fb9f3a\"], [0.8888888888888888, \"#fdca26\"], [1.0, \"#f0f921\"]], \"type\": \"histogram2dcontour\"}], \"mesh3d\": [{\"colorbar\": {\"outlinewidth\": 0, \"ticks\": \"\"}, \"type\": \"mesh3d\"}], \"parcoords\": [{\"line\": {\"colorbar\": {\"outlinewidth\": 0, \"ticks\": \"\"}}, \"type\": \"parcoords\"}], \"pie\": [{\"automargin\": true, \"type\": \"pie\"}], \"scatter\": [{\"marker\": {\"colorbar\": {\"outlinewidth\": 0, \"ticks\": \"\"}}, \"type\": \"scatter\"}], \"scatter3d\": [{\"line\": {\"colorbar\": {\"outlinewidth\": 0, \"ticks\": \"\"}}, \"marker\": {\"colorbar\": {\"outlinewidth\": 0, \"ticks\": \"\"}}, \"type\": \"scatter3d\"}], \"scattercarpet\": [{\"marker\": {\"colorbar\": {\"outlinewidth\": 0, \"ticks\": \"\"}}, \"type\": \"scattercarpet\"}], \"scattergeo\": [{\"marker\": {\"colorbar\": {\"outlinewidth\": 0, \"ticks\": \"\"}}, \"type\": \"scattergeo\"}], \"scattergl\": [{\"marker\": {\"colorbar\": {\"outlinewidth\": 0, \"ticks\": \"\"}}, \"type\": \"scattergl\"}], \"scattermapbox\": [{\"marker\": {\"colorbar\": {\"outlinewidth\": 0, \"ticks\": \"\"}}, \"type\": \"scattermapbox\"}], \"scatterpolar\": [{\"marker\": {\"colorbar\": {\"outlinewidth\": 0, \"ticks\": \"\"}}, \"type\": \"scatterpolar\"}], \"scatterpolargl\": [{\"marker\": {\"colorbar\": {\"outlinewidth\": 0, \"ticks\": \"\"}}, \"type\": \"scatterpolargl\"}], \"scatterternary\": [{\"marker\": {\"colorbar\": {\"outlinewidth\": 0, \"ticks\": \"\"}}, \"type\": \"scatterternary\"}], \"surface\": [{\"colorbar\": {\"outlinewidth\": 0, \"ticks\": \"\"}, \"colorscale\": [[0.0, \"#0d0887\"], [0.1111111111111111, \"#46039f\"], [0.2222222222222222, \"#7201a8\"], [0.3333333333333333, \"#9c179e\"], [0.4444444444444444, \"#bd3786\"], [0.5555555555555556, \"#d8576b\"], [0.6666666666666666, \"#ed7953\"], [0.7777777777777778, \"#fb9f3a\"], [0.8888888888888888, \"#fdca26\"], [1.0, \"#f0f921\"]], \"type\": \"surface\"}], \"table\": [{\"cells\": {\"fill\": {\"color\": \"#EBF0F8\"}, \"line\": {\"color\": \"white\"}}, \"header\": {\"fill\": {\"color\": \"#C8D4E3\"}, \"line\": {\"color\": \"white\"}}, \"type\": \"table\"}]}, \"layout\": {\"annotationdefaults\": {\"arrowcolor\": \"#2a3f5f\", \"arrowhead\": 0, \"arrowwidth\": 1}, \"coloraxis\": {\"colorbar\": {\"outlinewidth\": 0, \"ticks\": \"\"}}, \"colorscale\": {\"diverging\": [[0, \"#8e0152\"], [0.1, \"#c51b7d\"], [0.2, \"#de77ae\"], [0.3, \"#f1b6da\"], [0.4, \"#fde0ef\"], [0.5, \"#f7f7f7\"], [0.6, \"#e6f5d0\"], [0.7, \"#b8e186\"], [0.8, \"#7fbc41\"], [0.9, \"#4d9221\"], [1, \"#276419\"]], \"sequential\": [[0.0, \"#0d0887\"], [0.1111111111111111, \"#46039f\"], [0.2222222222222222, \"#7201a8\"], [0.3333333333333333, \"#9c179e\"], [0.4444444444444444, \"#bd3786\"], [0.5555555555555556, \"#d8576b\"], [0.6666666666666666, \"#ed7953\"], [0.7777777777777778, \"#fb9f3a\"], [0.8888888888888888, \"#fdca26\"], [1.0, \"#f0f921\"]], \"sequentialminus\": [[0.0, \"#0d0887\"], [0.1111111111111111, \"#46039f\"], [0.2222222222222222, \"#7201a8\"], [0.3333333333333333, \"#9c179e\"], [0.4444444444444444, \"#bd3786\"], [0.5555555555555556, \"#d8576b\"], [0.6666666666666666, \"#ed7953\"], [0.7777777777777778, \"#fb9f3a\"], [0.8888888888888888, \"#fdca26\"], [1.0, \"#f0f921\"]]}, \"colorway\": [\"#636efa\", \"#EF553B\", \"#00cc96\", \"#ab63fa\", \"#FFA15A\", \"#19d3f3\", \"#FF6692\", \"#B6E880\", \"#FF97FF\", \"#FECB52\"], \"font\": {\"color\": \"#2a3f5f\"}, \"geo\": {\"bgcolor\": \"white\", \"lakecolor\": \"white\", \"landcolor\": \"#E5ECF6\", \"showlakes\": true, \"showland\": true, \"subunitcolor\": \"white\"}, \"hoverlabel\": {\"align\": \"left\"}, \"hovermode\": \"closest\", \"mapbox\": {\"style\": \"light\"}, \"paper_bgcolor\": \"white\", \"plot_bgcolor\": \"#E5ECF6\", \"polar\": {\"angularaxis\": {\"gridcolor\": \"white\", \"linecolor\": \"white\", \"ticks\": \"\"}, \"bgcolor\": \"#E5ECF6\", \"radialaxis\": {\"gridcolor\": \"white\", \"linecolor\": \"white\", \"ticks\": \"\"}}, \"scene\": {\"xaxis\": {\"backgroundcolor\": \"#E5ECF6\", \"gridcolor\": \"white\", \"gridwidth\": 2, \"linecolor\": \"white\", \"showbackground\": true, \"ticks\": \"\", \"zerolinecolor\": \"white\"}, \"yaxis\": {\"backgroundcolor\": \"#E5ECF6\", \"gridcolor\": \"white\", \"gridwidth\": 2, \"linecolor\": \"white\", \"showbackground\": true, \"ticks\": \"\", \"zerolinecolor\": \"white\"}, \"zaxis\": {\"backgroundcolor\": \"#E5ECF6\", \"gridcolor\": \"white\", \"gridwidth\": 2, \"linecolor\": \"white\", \"showbackground\": true, \"ticks\": \"\", \"zerolinecolor\": \"white\"}}, \"shapedefaults\": {\"line\": {\"color\": \"#2a3f5f\"}}, \"ternary\": {\"aaxis\": {\"gridcolor\": \"white\", \"linecolor\": \"white\", \"ticks\": \"\"}, \"baxis\": {\"gridcolor\": \"white\", \"linecolor\": \"white\", \"ticks\": \"\"}, \"bgcolor\": \"#E5ECF6\", \"caxis\": {\"gridcolor\": \"white\", \"linecolor\": \"white\", \"ticks\": \"\"}}, \"title\": {\"x\": 0.05}, \"xaxis\": {\"automargin\": true, \"gridcolor\": \"white\", \"linecolor\": \"white\", \"ticks\": \"\", \"title\": {\"standoff\": 15}, \"zerolinecolor\": \"white\", \"zerolinewidth\": 2}, \"yaxis\": {\"automargin\": true, \"gridcolor\": \"white\", \"linecolor\": \"white\", \"ticks\": \"\", \"title\": {\"standoff\": 15}, \"zerolinecolor\": \"white\", \"zerolinewidth\": 2}}}},\n",
       "                        {\"responsive\": true}\n",
       "                    ).then(function(){\n",
       "                            \n",
       "var gd = document.getElementById('87cad770-5708-4da8-a386-c970bdd37b9a');\n",
       "var x = new MutationObserver(function (mutations, observer) {{\n",
       "        var display = window.getComputedStyle(gd).display;\n",
       "        if (!display || display === 'none') {{\n",
       "            console.log([gd, 'removed!']);\n",
       "            Plotly.purge(gd);\n",
       "            observer.disconnect();\n",
       "        }}\n",
       "}});\n",
       "\n",
       "// Listen for the removal of the full notebook cells\n",
       "var notebookContainer = gd.closest('#notebook-container');\n",
       "if (notebookContainer) {{\n",
       "    x.observe(notebookContainer, {childList: true});\n",
       "}}\n",
       "\n",
       "// Listen for the clearing of the current output cell\n",
       "var outputEl = gd.closest('.output');\n",
       "if (outputEl) {{\n",
       "    x.observe(outputEl, {childList: true});\n",
       "}}\n",
       "\n",
       "                        })\n",
       "                };\n",
       "                });\n",
       "            </script>\n",
       "        </div>"
      ]
     },
     "metadata": {},
     "output_type": "display_data"
    }
   ],
   "source": [
    "x_vals, y_vals, labels = reduce_dimensions_norm(lexi)\n",
    "\n",
    "try:\n",
    "    get_ipython()\n",
    "except Exception:\n",
    "    plot_function = plot_with_matplotlib\n",
    "else:\n",
    "    plot_function = plot_with_plotly\n",
    "\n",
    "plot_function(x_vals, y_vals, labels)"
   ]
  },
  {
   "cell_type": "markdown",
   "metadata": {},
   "source": [
    "> After normalization, we can see that, graph is more uniform distributed and not condensed in the center."
   ]
  },
  {
   "cell_type": "code",
   "execution_count": 25,
   "metadata": {},
   "outputs": [
    {
     "data": {
      "text/plain": [
       "[['train', 'trains', 'trained', 'training'],\n",
       " ['car', 'cars'],\n",
       " ['plane', 'planes', 'planed', 'planing', 'planer'],\n",
       " ['exercise', 'exercises', 'exercised', 'exercising']]"
      ]
     },
     "execution_count": 25,
     "metadata": {},
     "output_type": "execute_result"
    }
   ],
   "source": [
    "lexi[0:4]"
   ]
  },
  {
   "cell_type": "code",
   "execution_count": 26,
   "metadata": {},
   "outputs": [
    {
     "data": {
      "text/html": [
       "        <script type=\"text/javascript\">\n",
       "        window.PlotlyConfig = {MathJaxConfig: 'local'};\n",
       "        if (window.MathJax) {MathJax.Hub.Config({SVG: {font: \"STIX-Web\"}});}\n",
       "        if (typeof require !== 'undefined') {\n",
       "        require.undef(\"plotly\");\n",
       "        requirejs.config({\n",
       "            paths: {\n",
       "                'plotly': ['https://cdn.plot.ly/plotly-latest.min']\n",
       "            }\n",
       "        });\n",
       "        require(['plotly'], function(Plotly) {\n",
       "            window._Plotly = Plotly;\n",
       "        });\n",
       "        }\n",
       "        </script>\n",
       "        "
      ]
     },
     "metadata": {},
     "output_type": "display_data"
    },
    {
     "data": {
      "application/vnd.plotly.v1+json": {
       "config": {
        "linkText": "Export to plot.ly",
        "plotlyServerURL": "https://plot.ly",
        "showLink": false
       },
       "data": [
        {
         "mode": "text",
         "text": [
          "train",
          "trains",
          "trained",
          "training",
          "car",
          "cars",
          "plane",
          "planes",
          "planed",
          "planing",
          "planer",
          "exercise",
          "exercises",
          "exercised",
          "exercising"
         ],
         "type": "scatter",
         "x": [
          -95.66404724121094,
          -136.9251708984375,
          -271.7497863769531,
          -299.397705078125,
          -31.284879684448242,
          219.587158203125,
          236.5941162109375,
          -24.424129486083984,
          148.30764770507812,
          47.12105178833008,
          -34.290470123291016,
          -185.6997528076172,
          119.3447036743164,
          75.48576354980469,
          -195.1450653076172
         ],
         "y": [
          -103.94853210449219,
          31.12533187866211,
          -86.46434783935547,
          79.7692642211914,
          126.66764068603516,
          -78.00946044921875,
          89.71990966796875,
          -266.5644836425781,
          -236.91868591308594,
          -105.8845443725586,
          292.7355651855469,
          205.1172332763672,
          209.56838989257812,
          32.724308013916016,
          -238.86087036132812
         ]
        }
       ],
       "layout": {
        "template": {
         "data": {
          "bar": [
           {
            "error_x": {
             "color": "#2a3f5f"
            },
            "error_y": {
             "color": "#2a3f5f"
            },
            "marker": {
             "line": {
              "color": "#E5ECF6",
              "width": 0.5
             }
            },
            "type": "bar"
           }
          ],
          "barpolar": [
           {
            "marker": {
             "line": {
              "color": "#E5ECF6",
              "width": 0.5
             }
            },
            "type": "barpolar"
           }
          ],
          "carpet": [
           {
            "aaxis": {
             "endlinecolor": "#2a3f5f",
             "gridcolor": "white",
             "linecolor": "white",
             "minorgridcolor": "white",
             "startlinecolor": "#2a3f5f"
            },
            "baxis": {
             "endlinecolor": "#2a3f5f",
             "gridcolor": "white",
             "linecolor": "white",
             "minorgridcolor": "white",
             "startlinecolor": "#2a3f5f"
            },
            "type": "carpet"
           }
          ],
          "choropleth": [
           {
            "colorbar": {
             "outlinewidth": 0,
             "ticks": ""
            },
            "type": "choropleth"
           }
          ],
          "contour": [
           {
            "colorbar": {
             "outlinewidth": 0,
             "ticks": ""
            },
            "colorscale": [
             [
              0,
              "#0d0887"
             ],
             [
              0.1111111111111111,
              "#46039f"
             ],
             [
              0.2222222222222222,
              "#7201a8"
             ],
             [
              0.3333333333333333,
              "#9c179e"
             ],
             [
              0.4444444444444444,
              "#bd3786"
             ],
             [
              0.5555555555555556,
              "#d8576b"
             ],
             [
              0.6666666666666666,
              "#ed7953"
             ],
             [
              0.7777777777777778,
              "#fb9f3a"
             ],
             [
              0.8888888888888888,
              "#fdca26"
             ],
             [
              1,
              "#f0f921"
             ]
            ],
            "type": "contour"
           }
          ],
          "contourcarpet": [
           {
            "colorbar": {
             "outlinewidth": 0,
             "ticks": ""
            },
            "type": "contourcarpet"
           }
          ],
          "heatmap": [
           {
            "colorbar": {
             "outlinewidth": 0,
             "ticks": ""
            },
            "colorscale": [
             [
              0,
              "#0d0887"
             ],
             [
              0.1111111111111111,
              "#46039f"
             ],
             [
              0.2222222222222222,
              "#7201a8"
             ],
             [
              0.3333333333333333,
              "#9c179e"
             ],
             [
              0.4444444444444444,
              "#bd3786"
             ],
             [
              0.5555555555555556,
              "#d8576b"
             ],
             [
              0.6666666666666666,
              "#ed7953"
             ],
             [
              0.7777777777777778,
              "#fb9f3a"
             ],
             [
              0.8888888888888888,
              "#fdca26"
             ],
             [
              1,
              "#f0f921"
             ]
            ],
            "type": "heatmap"
           }
          ],
          "heatmapgl": [
           {
            "colorbar": {
             "outlinewidth": 0,
             "ticks": ""
            },
            "colorscale": [
             [
              0,
              "#0d0887"
             ],
             [
              0.1111111111111111,
              "#46039f"
             ],
             [
              0.2222222222222222,
              "#7201a8"
             ],
             [
              0.3333333333333333,
              "#9c179e"
             ],
             [
              0.4444444444444444,
              "#bd3786"
             ],
             [
              0.5555555555555556,
              "#d8576b"
             ],
             [
              0.6666666666666666,
              "#ed7953"
             ],
             [
              0.7777777777777778,
              "#fb9f3a"
             ],
             [
              0.8888888888888888,
              "#fdca26"
             ],
             [
              1,
              "#f0f921"
             ]
            ],
            "type": "heatmapgl"
           }
          ],
          "histogram": [
           {
            "marker": {
             "colorbar": {
              "outlinewidth": 0,
              "ticks": ""
             }
            },
            "type": "histogram"
           }
          ],
          "histogram2d": [
           {
            "colorbar": {
             "outlinewidth": 0,
             "ticks": ""
            },
            "colorscale": [
             [
              0,
              "#0d0887"
             ],
             [
              0.1111111111111111,
              "#46039f"
             ],
             [
              0.2222222222222222,
              "#7201a8"
             ],
             [
              0.3333333333333333,
              "#9c179e"
             ],
             [
              0.4444444444444444,
              "#bd3786"
             ],
             [
              0.5555555555555556,
              "#d8576b"
             ],
             [
              0.6666666666666666,
              "#ed7953"
             ],
             [
              0.7777777777777778,
              "#fb9f3a"
             ],
             [
              0.8888888888888888,
              "#fdca26"
             ],
             [
              1,
              "#f0f921"
             ]
            ],
            "type": "histogram2d"
           }
          ],
          "histogram2dcontour": [
           {
            "colorbar": {
             "outlinewidth": 0,
             "ticks": ""
            },
            "colorscale": [
             [
              0,
              "#0d0887"
             ],
             [
              0.1111111111111111,
              "#46039f"
             ],
             [
              0.2222222222222222,
              "#7201a8"
             ],
             [
              0.3333333333333333,
              "#9c179e"
             ],
             [
              0.4444444444444444,
              "#bd3786"
             ],
             [
              0.5555555555555556,
              "#d8576b"
             ],
             [
              0.6666666666666666,
              "#ed7953"
             ],
             [
              0.7777777777777778,
              "#fb9f3a"
             ],
             [
              0.8888888888888888,
              "#fdca26"
             ],
             [
              1,
              "#f0f921"
             ]
            ],
            "type": "histogram2dcontour"
           }
          ],
          "mesh3d": [
           {
            "colorbar": {
             "outlinewidth": 0,
             "ticks": ""
            },
            "type": "mesh3d"
           }
          ],
          "parcoords": [
           {
            "line": {
             "colorbar": {
              "outlinewidth": 0,
              "ticks": ""
             }
            },
            "type": "parcoords"
           }
          ],
          "pie": [
           {
            "automargin": true,
            "type": "pie"
           }
          ],
          "scatter": [
           {
            "marker": {
             "colorbar": {
              "outlinewidth": 0,
              "ticks": ""
             }
            },
            "type": "scatter"
           }
          ],
          "scatter3d": [
           {
            "line": {
             "colorbar": {
              "outlinewidth": 0,
              "ticks": ""
             }
            },
            "marker": {
             "colorbar": {
              "outlinewidth": 0,
              "ticks": ""
             }
            },
            "type": "scatter3d"
           }
          ],
          "scattercarpet": [
           {
            "marker": {
             "colorbar": {
              "outlinewidth": 0,
              "ticks": ""
             }
            },
            "type": "scattercarpet"
           }
          ],
          "scattergeo": [
           {
            "marker": {
             "colorbar": {
              "outlinewidth": 0,
              "ticks": ""
             }
            },
            "type": "scattergeo"
           }
          ],
          "scattergl": [
           {
            "marker": {
             "colorbar": {
              "outlinewidth": 0,
              "ticks": ""
             }
            },
            "type": "scattergl"
           }
          ],
          "scattermapbox": [
           {
            "marker": {
             "colorbar": {
              "outlinewidth": 0,
              "ticks": ""
             }
            },
            "type": "scattermapbox"
           }
          ],
          "scatterpolar": [
           {
            "marker": {
             "colorbar": {
              "outlinewidth": 0,
              "ticks": ""
             }
            },
            "type": "scatterpolar"
           }
          ],
          "scatterpolargl": [
           {
            "marker": {
             "colorbar": {
              "outlinewidth": 0,
              "ticks": ""
             }
            },
            "type": "scatterpolargl"
           }
          ],
          "scatterternary": [
           {
            "marker": {
             "colorbar": {
              "outlinewidth": 0,
              "ticks": ""
             }
            },
            "type": "scatterternary"
           }
          ],
          "surface": [
           {
            "colorbar": {
             "outlinewidth": 0,
             "ticks": ""
            },
            "colorscale": [
             [
              0,
              "#0d0887"
             ],
             [
              0.1111111111111111,
              "#46039f"
             ],
             [
              0.2222222222222222,
              "#7201a8"
             ],
             [
              0.3333333333333333,
              "#9c179e"
             ],
             [
              0.4444444444444444,
              "#bd3786"
             ],
             [
              0.5555555555555556,
              "#d8576b"
             ],
             [
              0.6666666666666666,
              "#ed7953"
             ],
             [
              0.7777777777777778,
              "#fb9f3a"
             ],
             [
              0.8888888888888888,
              "#fdca26"
             ],
             [
              1,
              "#f0f921"
             ]
            ],
            "type": "surface"
           }
          ],
          "table": [
           {
            "cells": {
             "fill": {
              "color": "#EBF0F8"
             },
             "line": {
              "color": "white"
             }
            },
            "header": {
             "fill": {
              "color": "#C8D4E3"
             },
             "line": {
              "color": "white"
             }
            },
            "type": "table"
           }
          ]
         },
         "layout": {
          "annotationdefaults": {
           "arrowcolor": "#2a3f5f",
           "arrowhead": 0,
           "arrowwidth": 1
          },
          "coloraxis": {
           "colorbar": {
            "outlinewidth": 0,
            "ticks": ""
           }
          },
          "colorscale": {
           "diverging": [
            [
             0,
             "#8e0152"
            ],
            [
             0.1,
             "#c51b7d"
            ],
            [
             0.2,
             "#de77ae"
            ],
            [
             0.3,
             "#f1b6da"
            ],
            [
             0.4,
             "#fde0ef"
            ],
            [
             0.5,
             "#f7f7f7"
            ],
            [
             0.6,
             "#e6f5d0"
            ],
            [
             0.7,
             "#b8e186"
            ],
            [
             0.8,
             "#7fbc41"
            ],
            [
             0.9,
             "#4d9221"
            ],
            [
             1,
             "#276419"
            ]
           ],
           "sequential": [
            [
             0,
             "#0d0887"
            ],
            [
             0.1111111111111111,
             "#46039f"
            ],
            [
             0.2222222222222222,
             "#7201a8"
            ],
            [
             0.3333333333333333,
             "#9c179e"
            ],
            [
             0.4444444444444444,
             "#bd3786"
            ],
            [
             0.5555555555555556,
             "#d8576b"
            ],
            [
             0.6666666666666666,
             "#ed7953"
            ],
            [
             0.7777777777777778,
             "#fb9f3a"
            ],
            [
             0.8888888888888888,
             "#fdca26"
            ],
            [
             1,
             "#f0f921"
            ]
           ],
           "sequentialminus": [
            [
             0,
             "#0d0887"
            ],
            [
             0.1111111111111111,
             "#46039f"
            ],
            [
             0.2222222222222222,
             "#7201a8"
            ],
            [
             0.3333333333333333,
             "#9c179e"
            ],
            [
             0.4444444444444444,
             "#bd3786"
            ],
            [
             0.5555555555555556,
             "#d8576b"
            ],
            [
             0.6666666666666666,
             "#ed7953"
            ],
            [
             0.7777777777777778,
             "#fb9f3a"
            ],
            [
             0.8888888888888888,
             "#fdca26"
            ],
            [
             1,
             "#f0f921"
            ]
           ]
          },
          "colorway": [
           "#636efa",
           "#EF553B",
           "#00cc96",
           "#ab63fa",
           "#FFA15A",
           "#19d3f3",
           "#FF6692",
           "#B6E880",
           "#FF97FF",
           "#FECB52"
          ],
          "font": {
           "color": "#2a3f5f"
          },
          "geo": {
           "bgcolor": "white",
           "lakecolor": "white",
           "landcolor": "#E5ECF6",
           "showlakes": true,
           "showland": true,
           "subunitcolor": "white"
          },
          "hoverlabel": {
           "align": "left"
          },
          "hovermode": "closest",
          "mapbox": {
           "style": "light"
          },
          "paper_bgcolor": "white",
          "plot_bgcolor": "#E5ECF6",
          "polar": {
           "angularaxis": {
            "gridcolor": "white",
            "linecolor": "white",
            "ticks": ""
           },
           "bgcolor": "#E5ECF6",
           "radialaxis": {
            "gridcolor": "white",
            "linecolor": "white",
            "ticks": ""
           }
          },
          "scene": {
           "xaxis": {
            "backgroundcolor": "#E5ECF6",
            "gridcolor": "white",
            "gridwidth": 2,
            "linecolor": "white",
            "showbackground": true,
            "ticks": "",
            "zerolinecolor": "white"
           },
           "yaxis": {
            "backgroundcolor": "#E5ECF6",
            "gridcolor": "white",
            "gridwidth": 2,
            "linecolor": "white",
            "showbackground": true,
            "ticks": "",
            "zerolinecolor": "white"
           },
           "zaxis": {
            "backgroundcolor": "#E5ECF6",
            "gridcolor": "white",
            "gridwidth": 2,
            "linecolor": "white",
            "showbackground": true,
            "ticks": "",
            "zerolinecolor": "white"
           }
          },
          "shapedefaults": {
           "line": {
            "color": "#2a3f5f"
           }
          },
          "ternary": {
           "aaxis": {
            "gridcolor": "white",
            "linecolor": "white",
            "ticks": ""
           },
           "baxis": {
            "gridcolor": "white",
            "linecolor": "white",
            "ticks": ""
           },
           "bgcolor": "#E5ECF6",
           "caxis": {
            "gridcolor": "white",
            "linecolor": "white",
            "ticks": ""
           }
          },
          "title": {
           "x": 0.05
          },
          "xaxis": {
           "automargin": true,
           "gridcolor": "white",
           "linecolor": "white",
           "ticks": "",
           "title": {
            "standoff": 15
           },
           "zerolinecolor": "white",
           "zerolinewidth": 2
          },
          "yaxis": {
           "automargin": true,
           "gridcolor": "white",
           "linecolor": "white",
           "ticks": "",
           "title": {
            "standoff": 15
           },
           "zerolinecolor": "white",
           "zerolinewidth": 2
          }
         }
        }
       }
      },
      "text/html": [
       "<div>\n",
       "        \n",
       "        \n",
       "            <div id=\"10b83b82-e2aa-4bcc-acb6-f647b309ded4\" class=\"plotly-graph-div\" style=\"height:525px; width:100%;\"></div>\n",
       "            <script type=\"text/javascript\">\n",
       "                require([\"plotly\"], function(Plotly) {\n",
       "                    window.PLOTLYENV=window.PLOTLYENV || {};\n",
       "                    \n",
       "                if (document.getElementById(\"10b83b82-e2aa-4bcc-acb6-f647b309ded4\")) {\n",
       "                    Plotly.newPlot(\n",
       "                        '10b83b82-e2aa-4bcc-acb6-f647b309ded4',\n",
       "                        [{\"mode\": \"text\", \"text\": [\"train\", \"trains\", \"trained\", \"training\", \"car\", \"cars\", \"plane\", \"planes\", \"planed\", \"planing\", \"planer\", \"exercise\", \"exercises\", \"exercised\", \"exercising\"], \"type\": \"scatter\", \"x\": [-95.66404724121094, -136.9251708984375, -271.7497863769531, -299.397705078125, -31.284879684448242, 219.587158203125, 236.5941162109375, -24.424129486083984, 148.30764770507812, 47.12105178833008, -34.290470123291016, -185.6997528076172, 119.3447036743164, 75.48576354980469, -195.1450653076172], \"y\": [-103.94853210449219, 31.12533187866211, -86.46434783935547, 79.7692642211914, 126.66764068603516, -78.00946044921875, 89.71990966796875, -266.5644836425781, -236.91868591308594, -105.8845443725586, 292.7355651855469, 205.1172332763672, 209.56838989257812, 32.724308013916016, -238.86087036132812]}],\n",
       "                        {\"template\": {\"data\": {\"bar\": [{\"error_x\": {\"color\": \"#2a3f5f\"}, \"error_y\": {\"color\": \"#2a3f5f\"}, \"marker\": {\"line\": {\"color\": \"#E5ECF6\", \"width\": 0.5}}, \"type\": \"bar\"}], \"barpolar\": [{\"marker\": {\"line\": {\"color\": \"#E5ECF6\", \"width\": 0.5}}, \"type\": \"barpolar\"}], \"carpet\": [{\"aaxis\": {\"endlinecolor\": \"#2a3f5f\", \"gridcolor\": \"white\", \"linecolor\": \"white\", \"minorgridcolor\": \"white\", \"startlinecolor\": \"#2a3f5f\"}, \"baxis\": {\"endlinecolor\": \"#2a3f5f\", \"gridcolor\": \"white\", \"linecolor\": \"white\", \"minorgridcolor\": \"white\", \"startlinecolor\": \"#2a3f5f\"}, \"type\": \"carpet\"}], \"choropleth\": [{\"colorbar\": {\"outlinewidth\": 0, \"ticks\": \"\"}, \"type\": \"choropleth\"}], \"contour\": [{\"colorbar\": {\"outlinewidth\": 0, \"ticks\": \"\"}, \"colorscale\": [[0.0, \"#0d0887\"], [0.1111111111111111, \"#46039f\"], [0.2222222222222222, \"#7201a8\"], [0.3333333333333333, \"#9c179e\"], [0.4444444444444444, \"#bd3786\"], [0.5555555555555556, \"#d8576b\"], [0.6666666666666666, \"#ed7953\"], [0.7777777777777778, \"#fb9f3a\"], [0.8888888888888888, \"#fdca26\"], [1.0, \"#f0f921\"]], \"type\": \"contour\"}], \"contourcarpet\": [{\"colorbar\": {\"outlinewidth\": 0, \"ticks\": \"\"}, \"type\": \"contourcarpet\"}], \"heatmap\": [{\"colorbar\": {\"outlinewidth\": 0, \"ticks\": \"\"}, \"colorscale\": [[0.0, \"#0d0887\"], [0.1111111111111111, \"#46039f\"], [0.2222222222222222, \"#7201a8\"], [0.3333333333333333, \"#9c179e\"], [0.4444444444444444, \"#bd3786\"], [0.5555555555555556, \"#d8576b\"], [0.6666666666666666, \"#ed7953\"], [0.7777777777777778, \"#fb9f3a\"], [0.8888888888888888, \"#fdca26\"], [1.0, \"#f0f921\"]], \"type\": \"heatmap\"}], \"heatmapgl\": [{\"colorbar\": {\"outlinewidth\": 0, \"ticks\": \"\"}, \"colorscale\": [[0.0, \"#0d0887\"], [0.1111111111111111, \"#46039f\"], [0.2222222222222222, \"#7201a8\"], [0.3333333333333333, \"#9c179e\"], [0.4444444444444444, \"#bd3786\"], [0.5555555555555556, \"#d8576b\"], [0.6666666666666666, \"#ed7953\"], [0.7777777777777778, \"#fb9f3a\"], [0.8888888888888888, \"#fdca26\"], [1.0, \"#f0f921\"]], \"type\": \"heatmapgl\"}], \"histogram\": [{\"marker\": {\"colorbar\": {\"outlinewidth\": 0, \"ticks\": \"\"}}, \"type\": \"histogram\"}], \"histogram2d\": [{\"colorbar\": {\"outlinewidth\": 0, \"ticks\": \"\"}, \"colorscale\": [[0.0, \"#0d0887\"], [0.1111111111111111, \"#46039f\"], [0.2222222222222222, \"#7201a8\"], [0.3333333333333333, \"#9c179e\"], [0.4444444444444444, \"#bd3786\"], [0.5555555555555556, \"#d8576b\"], [0.6666666666666666, \"#ed7953\"], [0.7777777777777778, \"#fb9f3a\"], [0.8888888888888888, \"#fdca26\"], [1.0, \"#f0f921\"]], \"type\": \"histogram2d\"}], \"histogram2dcontour\": [{\"colorbar\": {\"outlinewidth\": 0, \"ticks\": \"\"}, \"colorscale\": [[0.0, \"#0d0887\"], [0.1111111111111111, \"#46039f\"], [0.2222222222222222, \"#7201a8\"], [0.3333333333333333, \"#9c179e\"], [0.4444444444444444, \"#bd3786\"], [0.5555555555555556, \"#d8576b\"], [0.6666666666666666, \"#ed7953\"], [0.7777777777777778, \"#fb9f3a\"], [0.8888888888888888, \"#fdca26\"], [1.0, \"#f0f921\"]], \"type\": \"histogram2dcontour\"}], \"mesh3d\": [{\"colorbar\": {\"outlinewidth\": 0, \"ticks\": \"\"}, \"type\": \"mesh3d\"}], \"parcoords\": [{\"line\": {\"colorbar\": {\"outlinewidth\": 0, \"ticks\": \"\"}}, \"type\": \"parcoords\"}], \"pie\": [{\"automargin\": true, \"type\": \"pie\"}], \"scatter\": [{\"marker\": {\"colorbar\": {\"outlinewidth\": 0, \"ticks\": \"\"}}, \"type\": \"scatter\"}], \"scatter3d\": [{\"line\": {\"colorbar\": {\"outlinewidth\": 0, \"ticks\": \"\"}}, \"marker\": {\"colorbar\": {\"outlinewidth\": 0, \"ticks\": \"\"}}, \"type\": \"scatter3d\"}], \"scattercarpet\": [{\"marker\": {\"colorbar\": {\"outlinewidth\": 0, \"ticks\": \"\"}}, \"type\": \"scattercarpet\"}], \"scattergeo\": [{\"marker\": {\"colorbar\": {\"outlinewidth\": 0, \"ticks\": \"\"}}, \"type\": \"scattergeo\"}], \"scattergl\": [{\"marker\": {\"colorbar\": {\"outlinewidth\": 0, \"ticks\": \"\"}}, \"type\": \"scattergl\"}], \"scattermapbox\": [{\"marker\": {\"colorbar\": {\"outlinewidth\": 0, \"ticks\": \"\"}}, \"type\": \"scattermapbox\"}], \"scatterpolar\": [{\"marker\": {\"colorbar\": {\"outlinewidth\": 0, \"ticks\": \"\"}}, \"type\": \"scatterpolar\"}], \"scatterpolargl\": [{\"marker\": {\"colorbar\": {\"outlinewidth\": 0, \"ticks\": \"\"}}, \"type\": \"scatterpolargl\"}], \"scatterternary\": [{\"marker\": {\"colorbar\": {\"outlinewidth\": 0, \"ticks\": \"\"}}, \"type\": \"scatterternary\"}], \"surface\": [{\"colorbar\": {\"outlinewidth\": 0, \"ticks\": \"\"}, \"colorscale\": [[0.0, \"#0d0887\"], [0.1111111111111111, \"#46039f\"], [0.2222222222222222, \"#7201a8\"], [0.3333333333333333, \"#9c179e\"], [0.4444444444444444, \"#bd3786\"], [0.5555555555555556, \"#d8576b\"], [0.6666666666666666, \"#ed7953\"], [0.7777777777777778, \"#fb9f3a\"], [0.8888888888888888, \"#fdca26\"], [1.0, \"#f0f921\"]], \"type\": \"surface\"}], \"table\": [{\"cells\": {\"fill\": {\"color\": \"#EBF0F8\"}, \"line\": {\"color\": \"white\"}}, \"header\": {\"fill\": {\"color\": \"#C8D4E3\"}, \"line\": {\"color\": \"white\"}}, \"type\": \"table\"}]}, \"layout\": {\"annotationdefaults\": {\"arrowcolor\": \"#2a3f5f\", \"arrowhead\": 0, \"arrowwidth\": 1}, \"coloraxis\": {\"colorbar\": {\"outlinewidth\": 0, \"ticks\": \"\"}}, \"colorscale\": {\"diverging\": [[0, \"#8e0152\"], [0.1, \"#c51b7d\"], [0.2, \"#de77ae\"], [0.3, \"#f1b6da\"], [0.4, \"#fde0ef\"], [0.5, \"#f7f7f7\"], [0.6, \"#e6f5d0\"], [0.7, \"#b8e186\"], [0.8, \"#7fbc41\"], [0.9, \"#4d9221\"], [1, \"#276419\"]], \"sequential\": [[0.0, \"#0d0887\"], [0.1111111111111111, \"#46039f\"], [0.2222222222222222, \"#7201a8\"], [0.3333333333333333, \"#9c179e\"], [0.4444444444444444, \"#bd3786\"], [0.5555555555555556, \"#d8576b\"], [0.6666666666666666, \"#ed7953\"], [0.7777777777777778, \"#fb9f3a\"], [0.8888888888888888, \"#fdca26\"], [1.0, \"#f0f921\"]], \"sequentialminus\": [[0.0, \"#0d0887\"], [0.1111111111111111, \"#46039f\"], [0.2222222222222222, \"#7201a8\"], [0.3333333333333333, \"#9c179e\"], [0.4444444444444444, \"#bd3786\"], [0.5555555555555556, \"#d8576b\"], [0.6666666666666666, \"#ed7953\"], [0.7777777777777778, \"#fb9f3a\"], [0.8888888888888888, \"#fdca26\"], [1.0, \"#f0f921\"]]}, \"colorway\": [\"#636efa\", \"#EF553B\", \"#00cc96\", \"#ab63fa\", \"#FFA15A\", \"#19d3f3\", \"#FF6692\", \"#B6E880\", \"#FF97FF\", \"#FECB52\"], \"font\": {\"color\": \"#2a3f5f\"}, \"geo\": {\"bgcolor\": \"white\", \"lakecolor\": \"white\", \"landcolor\": \"#E5ECF6\", \"showlakes\": true, \"showland\": true, \"subunitcolor\": \"white\"}, \"hoverlabel\": {\"align\": \"left\"}, \"hovermode\": \"closest\", \"mapbox\": {\"style\": \"light\"}, \"paper_bgcolor\": \"white\", \"plot_bgcolor\": \"#E5ECF6\", \"polar\": {\"angularaxis\": {\"gridcolor\": \"white\", \"linecolor\": \"white\", \"ticks\": \"\"}, \"bgcolor\": \"#E5ECF6\", \"radialaxis\": {\"gridcolor\": \"white\", \"linecolor\": \"white\", \"ticks\": \"\"}}, \"scene\": {\"xaxis\": {\"backgroundcolor\": \"#E5ECF6\", \"gridcolor\": \"white\", \"gridwidth\": 2, \"linecolor\": \"white\", \"showbackground\": true, \"ticks\": \"\", \"zerolinecolor\": \"white\"}, \"yaxis\": {\"backgroundcolor\": \"#E5ECF6\", \"gridcolor\": \"white\", \"gridwidth\": 2, \"linecolor\": \"white\", \"showbackground\": true, \"ticks\": \"\", \"zerolinecolor\": \"white\"}, \"zaxis\": {\"backgroundcolor\": \"#E5ECF6\", \"gridcolor\": \"white\", \"gridwidth\": 2, \"linecolor\": \"white\", \"showbackground\": true, \"ticks\": \"\", \"zerolinecolor\": \"white\"}}, \"shapedefaults\": {\"line\": {\"color\": \"#2a3f5f\"}}, \"ternary\": {\"aaxis\": {\"gridcolor\": \"white\", \"linecolor\": \"white\", \"ticks\": \"\"}, \"baxis\": {\"gridcolor\": \"white\", \"linecolor\": \"white\", \"ticks\": \"\"}, \"bgcolor\": \"#E5ECF6\", \"caxis\": {\"gridcolor\": \"white\", \"linecolor\": \"white\", \"ticks\": \"\"}}, \"title\": {\"x\": 0.05}, \"xaxis\": {\"automargin\": true, \"gridcolor\": \"white\", \"linecolor\": \"white\", \"ticks\": \"\", \"title\": {\"standoff\": 15}, \"zerolinecolor\": \"white\", \"zerolinewidth\": 2}, \"yaxis\": {\"automargin\": true, \"gridcolor\": \"white\", \"linecolor\": \"white\", \"ticks\": \"\", \"title\": {\"standoff\": 15}, \"zerolinecolor\": \"white\", \"zerolinewidth\": 2}}}},\n",
       "                        {\"responsive\": true}\n",
       "                    ).then(function(){\n",
       "                            \n",
       "var gd = document.getElementById('10b83b82-e2aa-4bcc-acb6-f647b309ded4');\n",
       "var x = new MutationObserver(function (mutations, observer) {{\n",
       "        var display = window.getComputedStyle(gd).display;\n",
       "        if (!display || display === 'none') {{\n",
       "            console.log([gd, 'removed!']);\n",
       "            Plotly.purge(gd);\n",
       "            observer.disconnect();\n",
       "        }}\n",
       "}});\n",
       "\n",
       "// Listen for the removal of the full notebook cells\n",
       "var notebookContainer = gd.closest('#notebook-container');\n",
       "if (notebookContainer) {{\n",
       "    x.observe(notebookContainer, {childList: true});\n",
       "}}\n",
       "\n",
       "// Listen for the clearing of the current output cell\n",
       "var outputEl = gd.closest('.output');\n",
       "if (outputEl) {{\n",
       "    x.observe(outputEl, {childList: true});\n",
       "}}\n",
       "\n",
       "                        })\n",
       "                };\n",
       "                });\n",
       "            </script>\n",
       "        </div>"
      ]
     },
     "metadata": {},
     "output_type": "display_data"
    }
   ],
   "source": [
    "x_vals, y_vals, labels = reduce_dimensions_norm(lexi[0:4])\n",
    "\n",
    "try:\n",
    "    get_ipython()\n",
    "except Exception:\n",
    "    plot_function = plot_with_matplotlib\n",
    "else:\n",
    "    plot_function = plot_with_plotly\n",
    "\n",
    "plot_function(x_vals, y_vals, labels)"
   ]
  },
  {
   "cell_type": "markdown",
   "metadata": {},
   "source": [
    "> Train and trains are closer to plane and cars however trained and training are more closer to exercise and exercising. (After limiting our data, it is easier to see.)"
   ]
  },
  {
   "cell_type": "code",
   "execution_count": 27,
   "metadata": {},
   "outputs": [
    {
     "data": {
      "text/html": [
       "        <script type=\"text/javascript\">\n",
       "        window.PlotlyConfig = {MathJaxConfig: 'local'};\n",
       "        if (window.MathJax) {MathJax.Hub.Config({SVG: {font: \"STIX-Web\"}});}\n",
       "        if (typeof require !== 'undefined') {\n",
       "        require.undef(\"plotly\");\n",
       "        requirejs.config({\n",
       "            paths: {\n",
       "                'plotly': ['https://cdn.plot.ly/plotly-latest.min']\n",
       "            }\n",
       "        });\n",
       "        require(['plotly'], function(Plotly) {\n",
       "            window._Plotly = Plotly;\n",
       "        });\n",
       "        }\n",
       "        </script>\n",
       "        "
      ]
     },
     "metadata": {},
     "output_type": "display_data"
    },
    {
     "data": {
      "application/vnd.plotly.v1+json": {
       "config": {
        "linkText": "Export to plot.ly",
        "plotlyServerURL": "https://plot.ly",
        "showLink": false
       },
       "data": [
        {
         "mode": "text",
         "text": [
          "brother",
          "brothers",
          "bretheren",
          "sister",
          "sisters",
          "father",
          "fathers",
          "fathered",
          "fathering",
          "iron",
          "irons",
          "ironed",
          "ironing"
         ],
         "type": "scatter",
         "x": [
          -123.25281524658203,
          -189.0962371826172,
          106.05255889892578,
          -54.720848083496094,
          -280.1941223144531,
          -54.887123107910156,
          -18.61899185180664,
          -192.75799560546875,
          87.85687255859375,
          107.48848724365234,
          -19.797651290893555,
          225.51829528808594,
          224.83216857910156
         ],
         "y": [
          54.52328109741211,
          -98.91158294677734,
          250.41065979003906,
          -201.1572265625,
          50.455257415771484,
          310.2071533203125,
          -43.92961120605469,
          206.91555786132812,
          54.12578582763672,
          -143.23483276367188,
          152.4060821533203,
          -31.204326629638672,
          140.97943115234375
         ]
        }
       ],
       "layout": {
        "template": {
         "data": {
          "bar": [
           {
            "error_x": {
             "color": "#2a3f5f"
            },
            "error_y": {
             "color": "#2a3f5f"
            },
            "marker": {
             "line": {
              "color": "#E5ECF6",
              "width": 0.5
             }
            },
            "type": "bar"
           }
          ],
          "barpolar": [
           {
            "marker": {
             "line": {
              "color": "#E5ECF6",
              "width": 0.5
             }
            },
            "type": "barpolar"
           }
          ],
          "carpet": [
           {
            "aaxis": {
             "endlinecolor": "#2a3f5f",
             "gridcolor": "white",
             "linecolor": "white",
             "minorgridcolor": "white",
             "startlinecolor": "#2a3f5f"
            },
            "baxis": {
             "endlinecolor": "#2a3f5f",
             "gridcolor": "white",
             "linecolor": "white",
             "minorgridcolor": "white",
             "startlinecolor": "#2a3f5f"
            },
            "type": "carpet"
           }
          ],
          "choropleth": [
           {
            "colorbar": {
             "outlinewidth": 0,
             "ticks": ""
            },
            "type": "choropleth"
           }
          ],
          "contour": [
           {
            "colorbar": {
             "outlinewidth": 0,
             "ticks": ""
            },
            "colorscale": [
             [
              0,
              "#0d0887"
             ],
             [
              0.1111111111111111,
              "#46039f"
             ],
             [
              0.2222222222222222,
              "#7201a8"
             ],
             [
              0.3333333333333333,
              "#9c179e"
             ],
             [
              0.4444444444444444,
              "#bd3786"
             ],
             [
              0.5555555555555556,
              "#d8576b"
             ],
             [
              0.6666666666666666,
              "#ed7953"
             ],
             [
              0.7777777777777778,
              "#fb9f3a"
             ],
             [
              0.8888888888888888,
              "#fdca26"
             ],
             [
              1,
              "#f0f921"
             ]
            ],
            "type": "contour"
           }
          ],
          "contourcarpet": [
           {
            "colorbar": {
             "outlinewidth": 0,
             "ticks": ""
            },
            "type": "contourcarpet"
           }
          ],
          "heatmap": [
           {
            "colorbar": {
             "outlinewidth": 0,
             "ticks": ""
            },
            "colorscale": [
             [
              0,
              "#0d0887"
             ],
             [
              0.1111111111111111,
              "#46039f"
             ],
             [
              0.2222222222222222,
              "#7201a8"
             ],
             [
              0.3333333333333333,
              "#9c179e"
             ],
             [
              0.4444444444444444,
              "#bd3786"
             ],
             [
              0.5555555555555556,
              "#d8576b"
             ],
             [
              0.6666666666666666,
              "#ed7953"
             ],
             [
              0.7777777777777778,
              "#fb9f3a"
             ],
             [
              0.8888888888888888,
              "#fdca26"
             ],
             [
              1,
              "#f0f921"
             ]
            ],
            "type": "heatmap"
           }
          ],
          "heatmapgl": [
           {
            "colorbar": {
             "outlinewidth": 0,
             "ticks": ""
            },
            "colorscale": [
             [
              0,
              "#0d0887"
             ],
             [
              0.1111111111111111,
              "#46039f"
             ],
             [
              0.2222222222222222,
              "#7201a8"
             ],
             [
              0.3333333333333333,
              "#9c179e"
             ],
             [
              0.4444444444444444,
              "#bd3786"
             ],
             [
              0.5555555555555556,
              "#d8576b"
             ],
             [
              0.6666666666666666,
              "#ed7953"
             ],
             [
              0.7777777777777778,
              "#fb9f3a"
             ],
             [
              0.8888888888888888,
              "#fdca26"
             ],
             [
              1,
              "#f0f921"
             ]
            ],
            "type": "heatmapgl"
           }
          ],
          "histogram": [
           {
            "marker": {
             "colorbar": {
              "outlinewidth": 0,
              "ticks": ""
             }
            },
            "type": "histogram"
           }
          ],
          "histogram2d": [
           {
            "colorbar": {
             "outlinewidth": 0,
             "ticks": ""
            },
            "colorscale": [
             [
              0,
              "#0d0887"
             ],
             [
              0.1111111111111111,
              "#46039f"
             ],
             [
              0.2222222222222222,
              "#7201a8"
             ],
             [
              0.3333333333333333,
              "#9c179e"
             ],
             [
              0.4444444444444444,
              "#bd3786"
             ],
             [
              0.5555555555555556,
              "#d8576b"
             ],
             [
              0.6666666666666666,
              "#ed7953"
             ],
             [
              0.7777777777777778,
              "#fb9f3a"
             ],
             [
              0.8888888888888888,
              "#fdca26"
             ],
             [
              1,
              "#f0f921"
             ]
            ],
            "type": "histogram2d"
           }
          ],
          "histogram2dcontour": [
           {
            "colorbar": {
             "outlinewidth": 0,
             "ticks": ""
            },
            "colorscale": [
             [
              0,
              "#0d0887"
             ],
             [
              0.1111111111111111,
              "#46039f"
             ],
             [
              0.2222222222222222,
              "#7201a8"
             ],
             [
              0.3333333333333333,
              "#9c179e"
             ],
             [
              0.4444444444444444,
              "#bd3786"
             ],
             [
              0.5555555555555556,
              "#d8576b"
             ],
             [
              0.6666666666666666,
              "#ed7953"
             ],
             [
              0.7777777777777778,
              "#fb9f3a"
             ],
             [
              0.8888888888888888,
              "#fdca26"
             ],
             [
              1,
              "#f0f921"
             ]
            ],
            "type": "histogram2dcontour"
           }
          ],
          "mesh3d": [
           {
            "colorbar": {
             "outlinewidth": 0,
             "ticks": ""
            },
            "type": "mesh3d"
           }
          ],
          "parcoords": [
           {
            "line": {
             "colorbar": {
              "outlinewidth": 0,
              "ticks": ""
             }
            },
            "type": "parcoords"
           }
          ],
          "pie": [
           {
            "automargin": true,
            "type": "pie"
           }
          ],
          "scatter": [
           {
            "marker": {
             "colorbar": {
              "outlinewidth": 0,
              "ticks": ""
             }
            },
            "type": "scatter"
           }
          ],
          "scatter3d": [
           {
            "line": {
             "colorbar": {
              "outlinewidth": 0,
              "ticks": ""
             }
            },
            "marker": {
             "colorbar": {
              "outlinewidth": 0,
              "ticks": ""
             }
            },
            "type": "scatter3d"
           }
          ],
          "scattercarpet": [
           {
            "marker": {
             "colorbar": {
              "outlinewidth": 0,
              "ticks": ""
             }
            },
            "type": "scattercarpet"
           }
          ],
          "scattergeo": [
           {
            "marker": {
             "colorbar": {
              "outlinewidth": 0,
              "ticks": ""
             }
            },
            "type": "scattergeo"
           }
          ],
          "scattergl": [
           {
            "marker": {
             "colorbar": {
              "outlinewidth": 0,
              "ticks": ""
             }
            },
            "type": "scattergl"
           }
          ],
          "scattermapbox": [
           {
            "marker": {
             "colorbar": {
              "outlinewidth": 0,
              "ticks": ""
             }
            },
            "type": "scattermapbox"
           }
          ],
          "scatterpolar": [
           {
            "marker": {
             "colorbar": {
              "outlinewidth": 0,
              "ticks": ""
             }
            },
            "type": "scatterpolar"
           }
          ],
          "scatterpolargl": [
           {
            "marker": {
             "colorbar": {
              "outlinewidth": 0,
              "ticks": ""
             }
            },
            "type": "scatterpolargl"
           }
          ],
          "scatterternary": [
           {
            "marker": {
             "colorbar": {
              "outlinewidth": 0,
              "ticks": ""
             }
            },
            "type": "scatterternary"
           }
          ],
          "surface": [
           {
            "colorbar": {
             "outlinewidth": 0,
             "ticks": ""
            },
            "colorscale": [
             [
              0,
              "#0d0887"
             ],
             [
              0.1111111111111111,
              "#46039f"
             ],
             [
              0.2222222222222222,
              "#7201a8"
             ],
             [
              0.3333333333333333,
              "#9c179e"
             ],
             [
              0.4444444444444444,
              "#bd3786"
             ],
             [
              0.5555555555555556,
              "#d8576b"
             ],
             [
              0.6666666666666666,
              "#ed7953"
             ],
             [
              0.7777777777777778,
              "#fb9f3a"
             ],
             [
              0.8888888888888888,
              "#fdca26"
             ],
             [
              1,
              "#f0f921"
             ]
            ],
            "type": "surface"
           }
          ],
          "table": [
           {
            "cells": {
             "fill": {
              "color": "#EBF0F8"
             },
             "line": {
              "color": "white"
             }
            },
            "header": {
             "fill": {
              "color": "#C8D4E3"
             },
             "line": {
              "color": "white"
             }
            },
            "type": "table"
           }
          ]
         },
         "layout": {
          "annotationdefaults": {
           "arrowcolor": "#2a3f5f",
           "arrowhead": 0,
           "arrowwidth": 1
          },
          "coloraxis": {
           "colorbar": {
            "outlinewidth": 0,
            "ticks": ""
           }
          },
          "colorscale": {
           "diverging": [
            [
             0,
             "#8e0152"
            ],
            [
             0.1,
             "#c51b7d"
            ],
            [
             0.2,
             "#de77ae"
            ],
            [
             0.3,
             "#f1b6da"
            ],
            [
             0.4,
             "#fde0ef"
            ],
            [
             0.5,
             "#f7f7f7"
            ],
            [
             0.6,
             "#e6f5d0"
            ],
            [
             0.7,
             "#b8e186"
            ],
            [
             0.8,
             "#7fbc41"
            ],
            [
             0.9,
             "#4d9221"
            ],
            [
             1,
             "#276419"
            ]
           ],
           "sequential": [
            [
             0,
             "#0d0887"
            ],
            [
             0.1111111111111111,
             "#46039f"
            ],
            [
             0.2222222222222222,
             "#7201a8"
            ],
            [
             0.3333333333333333,
             "#9c179e"
            ],
            [
             0.4444444444444444,
             "#bd3786"
            ],
            [
             0.5555555555555556,
             "#d8576b"
            ],
            [
             0.6666666666666666,
             "#ed7953"
            ],
            [
             0.7777777777777778,
             "#fb9f3a"
            ],
            [
             0.8888888888888888,
             "#fdca26"
            ],
            [
             1,
             "#f0f921"
            ]
           ],
           "sequentialminus": [
            [
             0,
             "#0d0887"
            ],
            [
             0.1111111111111111,
             "#46039f"
            ],
            [
             0.2222222222222222,
             "#7201a8"
            ],
            [
             0.3333333333333333,
             "#9c179e"
            ],
            [
             0.4444444444444444,
             "#bd3786"
            ],
            [
             0.5555555555555556,
             "#d8576b"
            ],
            [
             0.6666666666666666,
             "#ed7953"
            ],
            [
             0.7777777777777778,
             "#fb9f3a"
            ],
            [
             0.8888888888888888,
             "#fdca26"
            ],
            [
             1,
             "#f0f921"
            ]
           ]
          },
          "colorway": [
           "#636efa",
           "#EF553B",
           "#00cc96",
           "#ab63fa",
           "#FFA15A",
           "#19d3f3",
           "#FF6692",
           "#B6E880",
           "#FF97FF",
           "#FECB52"
          ],
          "font": {
           "color": "#2a3f5f"
          },
          "geo": {
           "bgcolor": "white",
           "lakecolor": "white",
           "landcolor": "#E5ECF6",
           "showlakes": true,
           "showland": true,
           "subunitcolor": "white"
          },
          "hoverlabel": {
           "align": "left"
          },
          "hovermode": "closest",
          "mapbox": {
           "style": "light"
          },
          "paper_bgcolor": "white",
          "plot_bgcolor": "#E5ECF6",
          "polar": {
           "angularaxis": {
            "gridcolor": "white",
            "linecolor": "white",
            "ticks": ""
           },
           "bgcolor": "#E5ECF6",
           "radialaxis": {
            "gridcolor": "white",
            "linecolor": "white",
            "ticks": ""
           }
          },
          "scene": {
           "xaxis": {
            "backgroundcolor": "#E5ECF6",
            "gridcolor": "white",
            "gridwidth": 2,
            "linecolor": "white",
            "showbackground": true,
            "ticks": "",
            "zerolinecolor": "white"
           },
           "yaxis": {
            "backgroundcolor": "#E5ECF6",
            "gridcolor": "white",
            "gridwidth": 2,
            "linecolor": "white",
            "showbackground": true,
            "ticks": "",
            "zerolinecolor": "white"
           },
           "zaxis": {
            "backgroundcolor": "#E5ECF6",
            "gridcolor": "white",
            "gridwidth": 2,
            "linecolor": "white",
            "showbackground": true,
            "ticks": "",
            "zerolinecolor": "white"
           }
          },
          "shapedefaults": {
           "line": {
            "color": "#2a3f5f"
           }
          },
          "ternary": {
           "aaxis": {
            "gridcolor": "white",
            "linecolor": "white",
            "ticks": ""
           },
           "baxis": {
            "gridcolor": "white",
            "linecolor": "white",
            "ticks": ""
           },
           "bgcolor": "#E5ECF6",
           "caxis": {
            "gridcolor": "white",
            "linecolor": "white",
            "ticks": ""
           }
          },
          "title": {
           "x": 0.05
          },
          "xaxis": {
           "automargin": true,
           "gridcolor": "white",
           "linecolor": "white",
           "ticks": "",
           "title": {
            "standoff": 15
           },
           "zerolinecolor": "white",
           "zerolinewidth": 2
          },
          "yaxis": {
           "automargin": true,
           "gridcolor": "white",
           "linecolor": "white",
           "ticks": "",
           "title": {
            "standoff": 15
           },
           "zerolinecolor": "white",
           "zerolinewidth": 2
          }
         }
        }
       }
      },
      "text/html": [
       "<div>\n",
       "        \n",
       "        \n",
       "            <div id=\"6b67798b-5830-4b2b-aeec-0233d84f819f\" class=\"plotly-graph-div\" style=\"height:525px; width:100%;\"></div>\n",
       "            <script type=\"text/javascript\">\n",
       "                require([\"plotly\"], function(Plotly) {\n",
       "                    window.PLOTLYENV=window.PLOTLYENV || {};\n",
       "                    \n",
       "                if (document.getElementById(\"6b67798b-5830-4b2b-aeec-0233d84f819f\")) {\n",
       "                    Plotly.newPlot(\n",
       "                        '6b67798b-5830-4b2b-aeec-0233d84f819f',\n",
       "                        [{\"mode\": \"text\", \"text\": [\"brother\", \"brothers\", \"bretheren\", \"sister\", \"sisters\", \"father\", \"fathers\", \"fathered\", \"fathering\", \"iron\", \"irons\", \"ironed\", \"ironing\"], \"type\": \"scatter\", \"x\": [-123.25281524658203, -189.0962371826172, 106.05255889892578, -54.720848083496094, -280.1941223144531, -54.887123107910156, -18.61899185180664, -192.75799560546875, 87.85687255859375, 107.48848724365234, -19.797651290893555, 225.51829528808594, 224.83216857910156], \"y\": [54.52328109741211, -98.91158294677734, 250.41065979003906, -201.1572265625, 50.455257415771484, 310.2071533203125, -43.92961120605469, 206.91555786132812, 54.12578582763672, -143.23483276367188, 152.4060821533203, -31.204326629638672, 140.97943115234375]}],\n",
       "                        {\"template\": {\"data\": {\"bar\": [{\"error_x\": {\"color\": \"#2a3f5f\"}, \"error_y\": {\"color\": \"#2a3f5f\"}, \"marker\": {\"line\": {\"color\": \"#E5ECF6\", \"width\": 0.5}}, \"type\": \"bar\"}], \"barpolar\": [{\"marker\": {\"line\": {\"color\": \"#E5ECF6\", \"width\": 0.5}}, \"type\": \"barpolar\"}], \"carpet\": [{\"aaxis\": {\"endlinecolor\": \"#2a3f5f\", \"gridcolor\": \"white\", \"linecolor\": \"white\", \"minorgridcolor\": \"white\", \"startlinecolor\": \"#2a3f5f\"}, \"baxis\": {\"endlinecolor\": \"#2a3f5f\", \"gridcolor\": \"white\", \"linecolor\": \"white\", \"minorgridcolor\": \"white\", \"startlinecolor\": \"#2a3f5f\"}, \"type\": \"carpet\"}], \"choropleth\": [{\"colorbar\": {\"outlinewidth\": 0, \"ticks\": \"\"}, \"type\": \"choropleth\"}], \"contour\": [{\"colorbar\": {\"outlinewidth\": 0, \"ticks\": \"\"}, \"colorscale\": [[0.0, \"#0d0887\"], [0.1111111111111111, \"#46039f\"], [0.2222222222222222, \"#7201a8\"], [0.3333333333333333, \"#9c179e\"], [0.4444444444444444, \"#bd3786\"], [0.5555555555555556, \"#d8576b\"], [0.6666666666666666, \"#ed7953\"], [0.7777777777777778, \"#fb9f3a\"], [0.8888888888888888, \"#fdca26\"], [1.0, \"#f0f921\"]], \"type\": \"contour\"}], \"contourcarpet\": [{\"colorbar\": {\"outlinewidth\": 0, \"ticks\": \"\"}, \"type\": \"contourcarpet\"}], \"heatmap\": [{\"colorbar\": {\"outlinewidth\": 0, \"ticks\": \"\"}, \"colorscale\": [[0.0, \"#0d0887\"], [0.1111111111111111, \"#46039f\"], [0.2222222222222222, \"#7201a8\"], [0.3333333333333333, \"#9c179e\"], [0.4444444444444444, \"#bd3786\"], [0.5555555555555556, \"#d8576b\"], [0.6666666666666666, \"#ed7953\"], [0.7777777777777778, \"#fb9f3a\"], [0.8888888888888888, \"#fdca26\"], [1.0, \"#f0f921\"]], \"type\": \"heatmap\"}], \"heatmapgl\": [{\"colorbar\": {\"outlinewidth\": 0, \"ticks\": \"\"}, \"colorscale\": [[0.0, \"#0d0887\"], [0.1111111111111111, \"#46039f\"], [0.2222222222222222, \"#7201a8\"], [0.3333333333333333, \"#9c179e\"], [0.4444444444444444, \"#bd3786\"], [0.5555555555555556, \"#d8576b\"], [0.6666666666666666, \"#ed7953\"], [0.7777777777777778, \"#fb9f3a\"], [0.8888888888888888, \"#fdca26\"], [1.0, \"#f0f921\"]], \"type\": \"heatmapgl\"}], \"histogram\": [{\"marker\": {\"colorbar\": {\"outlinewidth\": 0, \"ticks\": \"\"}}, \"type\": \"histogram\"}], \"histogram2d\": [{\"colorbar\": {\"outlinewidth\": 0, \"ticks\": \"\"}, \"colorscale\": [[0.0, \"#0d0887\"], [0.1111111111111111, \"#46039f\"], [0.2222222222222222, \"#7201a8\"], [0.3333333333333333, \"#9c179e\"], [0.4444444444444444, \"#bd3786\"], [0.5555555555555556, \"#d8576b\"], [0.6666666666666666, \"#ed7953\"], [0.7777777777777778, \"#fb9f3a\"], [0.8888888888888888, \"#fdca26\"], [1.0, \"#f0f921\"]], \"type\": \"histogram2d\"}], \"histogram2dcontour\": [{\"colorbar\": {\"outlinewidth\": 0, \"ticks\": \"\"}, \"colorscale\": [[0.0, \"#0d0887\"], [0.1111111111111111, \"#46039f\"], [0.2222222222222222, \"#7201a8\"], [0.3333333333333333, \"#9c179e\"], [0.4444444444444444, \"#bd3786\"], [0.5555555555555556, \"#d8576b\"], [0.6666666666666666, \"#ed7953\"], [0.7777777777777778, \"#fb9f3a\"], [0.8888888888888888, \"#fdca26\"], [1.0, \"#f0f921\"]], \"type\": \"histogram2dcontour\"}], \"mesh3d\": [{\"colorbar\": {\"outlinewidth\": 0, \"ticks\": \"\"}, \"type\": \"mesh3d\"}], \"parcoords\": [{\"line\": {\"colorbar\": {\"outlinewidth\": 0, \"ticks\": \"\"}}, \"type\": \"parcoords\"}], \"pie\": [{\"automargin\": true, \"type\": \"pie\"}], \"scatter\": [{\"marker\": {\"colorbar\": {\"outlinewidth\": 0, \"ticks\": \"\"}}, \"type\": \"scatter\"}], \"scatter3d\": [{\"line\": {\"colorbar\": {\"outlinewidth\": 0, \"ticks\": \"\"}}, \"marker\": {\"colorbar\": {\"outlinewidth\": 0, \"ticks\": \"\"}}, \"type\": \"scatter3d\"}], \"scattercarpet\": [{\"marker\": {\"colorbar\": {\"outlinewidth\": 0, \"ticks\": \"\"}}, \"type\": \"scattercarpet\"}], \"scattergeo\": [{\"marker\": {\"colorbar\": {\"outlinewidth\": 0, \"ticks\": \"\"}}, \"type\": \"scattergeo\"}], \"scattergl\": [{\"marker\": {\"colorbar\": {\"outlinewidth\": 0, \"ticks\": \"\"}}, \"type\": \"scattergl\"}], \"scattermapbox\": [{\"marker\": {\"colorbar\": {\"outlinewidth\": 0, \"ticks\": \"\"}}, \"type\": \"scattermapbox\"}], \"scatterpolar\": [{\"marker\": {\"colorbar\": {\"outlinewidth\": 0, \"ticks\": \"\"}}, \"type\": \"scatterpolar\"}], \"scatterpolargl\": [{\"marker\": {\"colorbar\": {\"outlinewidth\": 0, \"ticks\": \"\"}}, \"type\": \"scatterpolargl\"}], \"scatterternary\": [{\"marker\": {\"colorbar\": {\"outlinewidth\": 0, \"ticks\": \"\"}}, \"type\": \"scatterternary\"}], \"surface\": [{\"colorbar\": {\"outlinewidth\": 0, \"ticks\": \"\"}, \"colorscale\": [[0.0, \"#0d0887\"], [0.1111111111111111, \"#46039f\"], [0.2222222222222222, \"#7201a8\"], [0.3333333333333333, \"#9c179e\"], [0.4444444444444444, \"#bd3786\"], [0.5555555555555556, \"#d8576b\"], [0.6666666666666666, \"#ed7953\"], [0.7777777777777778, \"#fb9f3a\"], [0.8888888888888888, \"#fdca26\"], [1.0, \"#f0f921\"]], \"type\": \"surface\"}], \"table\": [{\"cells\": {\"fill\": {\"color\": \"#EBF0F8\"}, \"line\": {\"color\": \"white\"}}, \"header\": {\"fill\": {\"color\": \"#C8D4E3\"}, \"line\": {\"color\": \"white\"}}, \"type\": \"table\"}]}, \"layout\": {\"annotationdefaults\": {\"arrowcolor\": \"#2a3f5f\", \"arrowhead\": 0, \"arrowwidth\": 1}, \"coloraxis\": {\"colorbar\": {\"outlinewidth\": 0, \"ticks\": \"\"}}, \"colorscale\": {\"diverging\": [[0, \"#8e0152\"], [0.1, \"#c51b7d\"], [0.2, \"#de77ae\"], [0.3, \"#f1b6da\"], [0.4, \"#fde0ef\"], [0.5, \"#f7f7f7\"], [0.6, \"#e6f5d0\"], [0.7, \"#b8e186\"], [0.8, \"#7fbc41\"], [0.9, \"#4d9221\"], [1, \"#276419\"]], \"sequential\": [[0.0, \"#0d0887\"], [0.1111111111111111, \"#46039f\"], [0.2222222222222222, \"#7201a8\"], [0.3333333333333333, \"#9c179e\"], [0.4444444444444444, \"#bd3786\"], [0.5555555555555556, \"#d8576b\"], [0.6666666666666666, \"#ed7953\"], [0.7777777777777778, \"#fb9f3a\"], [0.8888888888888888, \"#fdca26\"], [1.0, \"#f0f921\"]], \"sequentialminus\": [[0.0, \"#0d0887\"], [0.1111111111111111, \"#46039f\"], [0.2222222222222222, \"#7201a8\"], [0.3333333333333333, \"#9c179e\"], [0.4444444444444444, \"#bd3786\"], [0.5555555555555556, \"#d8576b\"], [0.6666666666666666, \"#ed7953\"], [0.7777777777777778, \"#fb9f3a\"], [0.8888888888888888, \"#fdca26\"], [1.0, \"#f0f921\"]]}, \"colorway\": [\"#636efa\", \"#EF553B\", \"#00cc96\", \"#ab63fa\", \"#FFA15A\", \"#19d3f3\", \"#FF6692\", \"#B6E880\", \"#FF97FF\", \"#FECB52\"], \"font\": {\"color\": \"#2a3f5f\"}, \"geo\": {\"bgcolor\": \"white\", \"lakecolor\": \"white\", \"landcolor\": \"#E5ECF6\", \"showlakes\": true, \"showland\": true, \"subunitcolor\": \"white\"}, \"hoverlabel\": {\"align\": \"left\"}, \"hovermode\": \"closest\", \"mapbox\": {\"style\": \"light\"}, \"paper_bgcolor\": \"white\", \"plot_bgcolor\": \"#E5ECF6\", \"polar\": {\"angularaxis\": {\"gridcolor\": \"white\", \"linecolor\": \"white\", \"ticks\": \"\"}, \"bgcolor\": \"#E5ECF6\", \"radialaxis\": {\"gridcolor\": \"white\", \"linecolor\": \"white\", \"ticks\": \"\"}}, \"scene\": {\"xaxis\": {\"backgroundcolor\": \"#E5ECF6\", \"gridcolor\": \"white\", \"gridwidth\": 2, \"linecolor\": \"white\", \"showbackground\": true, \"ticks\": \"\", \"zerolinecolor\": \"white\"}, \"yaxis\": {\"backgroundcolor\": \"#E5ECF6\", \"gridcolor\": \"white\", \"gridwidth\": 2, \"linecolor\": \"white\", \"showbackground\": true, \"ticks\": \"\", \"zerolinecolor\": \"white\"}, \"zaxis\": {\"backgroundcolor\": \"#E5ECF6\", \"gridcolor\": \"white\", \"gridwidth\": 2, \"linecolor\": \"white\", \"showbackground\": true, \"ticks\": \"\", \"zerolinecolor\": \"white\"}}, \"shapedefaults\": {\"line\": {\"color\": \"#2a3f5f\"}}, \"ternary\": {\"aaxis\": {\"gridcolor\": \"white\", \"linecolor\": \"white\", \"ticks\": \"\"}, \"baxis\": {\"gridcolor\": \"white\", \"linecolor\": \"white\", \"ticks\": \"\"}, \"bgcolor\": \"#E5ECF6\", \"caxis\": {\"gridcolor\": \"white\", \"linecolor\": \"white\", \"ticks\": \"\"}}, \"title\": {\"x\": 0.05}, \"xaxis\": {\"automargin\": true, \"gridcolor\": \"white\", \"linecolor\": \"white\", \"ticks\": \"\", \"title\": {\"standoff\": 15}, \"zerolinecolor\": \"white\", \"zerolinewidth\": 2}, \"yaxis\": {\"automargin\": true, \"gridcolor\": \"white\", \"linecolor\": \"white\", \"ticks\": \"\", \"title\": {\"standoff\": 15}, \"zerolinecolor\": \"white\", \"zerolinewidth\": 2}}}},\n",
       "                        {\"responsive\": true}\n",
       "                    ).then(function(){\n",
       "                            \n",
       "var gd = document.getElementById('6b67798b-5830-4b2b-aeec-0233d84f819f');\n",
       "var x = new MutationObserver(function (mutations, observer) {{\n",
       "        var display = window.getComputedStyle(gd).display;\n",
       "        if (!display || display === 'none') {{\n",
       "            console.log([gd, 'removed!']);\n",
       "            Plotly.purge(gd);\n",
       "            observer.disconnect();\n",
       "        }}\n",
       "}});\n",
       "\n",
       "// Listen for the removal of the full notebook cells\n",
       "var notebookContainer = gd.closest('#notebook-container');\n",
       "if (notebookContainer) {{\n",
       "    x.observe(notebookContainer, {childList: true});\n",
       "}}\n",
       "\n",
       "// Listen for the clearing of the current output cell\n",
       "var outputEl = gd.closest('.output');\n",
       "if (outputEl) {{\n",
       "    x.observe(outputEl, {childList: true});\n",
       "}}\n",
       "\n",
       "                        })\n",
       "                };\n",
       "                });\n",
       "            </script>\n",
       "        </div>"
      ]
     },
     "metadata": {},
     "output_type": "display_data"
    }
   ],
   "source": [
    "x_vals, y_vals, labels = reduce_dimensions_norm(lexi[4:8])\n",
    "\n",
    "try:\n",
    "    get_ipython()\n",
    "except Exception:\n",
    "    plot_function = plot_with_matplotlib\n",
    "else:\n",
    "    plot_function = plot_with_plotly\n",
    "\n",
    "plot_function(x_vals, y_vals, labels)"
   ]
  },
  {
   "cell_type": "code",
   "execution_count": 323,
   "metadata": {},
   "outputs": [
    {
     "data": {
      "text/plain": [
       "[['brother', 'brothers', 'bretheren'],\n",
       " ['sister', 'sisters'],\n",
       " ['father', 'fathers', 'fathered', 'fathering'],\n",
       " ['iron', 'irons', 'ironed', 'ironing']]"
      ]
     },
     "execution_count": 323,
     "metadata": {},
     "output_type": "execute_result"
    }
   ],
   "source": [
    "lexi[4:8]"
   ]
  },
  {
   "cell_type": "code",
   "execution_count": 28,
   "metadata": {},
   "outputs": [],
   "source": [
    "def reduce_dimensions_norm_mean(lexi):\n",
    "    num_dimensions = 2  # final num dimensions (2D, 3D, etc)\n",
    "    means_vector = []\n",
    "    means_label = []\n",
    "    vectors = [] # positions in vector space\n",
    "    labels = [] # keep track of words to label our data again later\n",
    "    for ls in lexi:\n",
    "        counter = 0\n",
    "        for word in ls:\n",
    "            vectors.append(model.wv[word]/np.linalg.norm(model.wv[word]))\n",
    "            labels.append(word)\n",
    "            index = 0\n",
    "            temp = []\n",
    "            while(index<len(ls)):\n",
    "                temp.append(model.wv[word]/np.linalg.norm(model.wv[word]))\n",
    "                if counter < 1:\n",
    "                    means_label.append(\"{words}_mean\".format(words = word))\n",
    "                counter += 1\n",
    "                index += 1\n",
    "            mean = np.mean(temp, axis=0)\n",
    "        means_vector.append(mean)\n",
    "\n",
    "    # convert both lists into numpy vectors for reduction\n",
    "    vectors = np.asarray(vectors)\n",
    "    labels = np.asarray(labels)\n",
    "    means_vector = np.asarray(means_vector)\n",
    "    means_label = np.asarray(means_label)\n",
    "    \n",
    "\n",
    "    # reduce using t-SNE\n",
    "    vectors = np.asarray(vectors)\n",
    "    tsne = TSNE(n_components=num_dimensions, random_state=0)\n",
    "    vectors = tsne.fit_transform(vectors)\n",
    "    \n",
    "    # reduce using t-SNE for the means\n",
    "    means_vector = np.asarray(means_vector)\n",
    "    tsne = TSNE(n_components=num_dimensions, random_state=0)\n",
    "    means_vector = tsne.fit_transform(means_vector)\n",
    "\n",
    "    x_vals = [v[0] for v in vectors]\n",
    "    y_vals = [v[1] for v in vectors]\n",
    "    \n",
    "    means_x_vals = [v[0] for v in means_vector]\n",
    "    means_y_vals = [v[1] for v in means_vector]\n",
    "    \n",
    "    \n",
    "    return x_vals, y_vals, labels, means_x_vals, means_y_vals, means_label"
   ]
  },
  {
   "cell_type": "markdown",
   "metadata": {},
   "source": [
    "> At the above function, mean value are calculated and then t-Distributed Stochastic Neighbor Embedding (which reduces dimensionality) applied."
   ]
  },
  {
   "cell_type": "code",
   "execution_count": 29,
   "metadata": {
    "scrolled": false
   },
   "outputs": [
    {
     "data": {
      "text/html": [
       "        <script type=\"text/javascript\">\n",
       "        window.PlotlyConfig = {MathJaxConfig: 'local'};\n",
       "        if (window.MathJax) {MathJax.Hub.Config({SVG: {font: \"STIX-Web\"}});}\n",
       "        if (typeof require !== 'undefined') {\n",
       "        require.undef(\"plotly\");\n",
       "        requirejs.config({\n",
       "            paths: {\n",
       "                'plotly': ['https://cdn.plot.ly/plotly-latest.min']\n",
       "            }\n",
       "        });\n",
       "        require(['plotly'], function(Plotly) {\n",
       "            window._Plotly = Plotly;\n",
       "        });\n",
       "        }\n",
       "        </script>\n",
       "        "
      ]
     },
     "metadata": {},
     "output_type": "display_data"
    },
    {
     "data": {
      "application/vnd.plotly.v1+json": {
       "config": {
        "linkText": "Export to plot.ly",
        "plotlyServerURL": "https://plot.ly",
        "showLink": false
       },
       "data": [
        {
         "mode": "text",
         "text": [
          "brother",
          "brothers",
          "bretheren",
          "sister",
          "sisters",
          "father",
          "fathers",
          "fathered",
          "fathering",
          "iron",
          "irons",
          "ironed",
          "ironing"
         ],
         "type": "scatter",
         "x": [
          -123.25281524658203,
          -189.0962371826172,
          106.05255889892578,
          -54.720848083496094,
          -280.1941223144531,
          -54.887123107910156,
          -18.61899185180664,
          -192.75799560546875,
          87.85687255859375,
          107.48848724365234,
          -19.797651290893555,
          225.51829528808594,
          224.83216857910156
         ],
         "y": [
          54.52328109741211,
          -98.91158294677734,
          250.41065979003906,
          -201.1572265625,
          50.455257415771484,
          310.2071533203125,
          -43.92961120605469,
          206.91555786132812,
          54.12578582763672,
          -143.23483276367188,
          152.4060821533203,
          -31.204326629638672,
          140.97943115234375
         ]
        }
       ],
       "layout": {
        "template": {
         "data": {
          "bar": [
           {
            "error_x": {
             "color": "#2a3f5f"
            },
            "error_y": {
             "color": "#2a3f5f"
            },
            "marker": {
             "line": {
              "color": "#E5ECF6",
              "width": 0.5
             }
            },
            "type": "bar"
           }
          ],
          "barpolar": [
           {
            "marker": {
             "line": {
              "color": "#E5ECF6",
              "width": 0.5
             }
            },
            "type": "barpolar"
           }
          ],
          "carpet": [
           {
            "aaxis": {
             "endlinecolor": "#2a3f5f",
             "gridcolor": "white",
             "linecolor": "white",
             "minorgridcolor": "white",
             "startlinecolor": "#2a3f5f"
            },
            "baxis": {
             "endlinecolor": "#2a3f5f",
             "gridcolor": "white",
             "linecolor": "white",
             "minorgridcolor": "white",
             "startlinecolor": "#2a3f5f"
            },
            "type": "carpet"
           }
          ],
          "choropleth": [
           {
            "colorbar": {
             "outlinewidth": 0,
             "ticks": ""
            },
            "type": "choropleth"
           }
          ],
          "contour": [
           {
            "colorbar": {
             "outlinewidth": 0,
             "ticks": ""
            },
            "colorscale": [
             [
              0,
              "#0d0887"
             ],
             [
              0.1111111111111111,
              "#46039f"
             ],
             [
              0.2222222222222222,
              "#7201a8"
             ],
             [
              0.3333333333333333,
              "#9c179e"
             ],
             [
              0.4444444444444444,
              "#bd3786"
             ],
             [
              0.5555555555555556,
              "#d8576b"
             ],
             [
              0.6666666666666666,
              "#ed7953"
             ],
             [
              0.7777777777777778,
              "#fb9f3a"
             ],
             [
              0.8888888888888888,
              "#fdca26"
             ],
             [
              1,
              "#f0f921"
             ]
            ],
            "type": "contour"
           }
          ],
          "contourcarpet": [
           {
            "colorbar": {
             "outlinewidth": 0,
             "ticks": ""
            },
            "type": "contourcarpet"
           }
          ],
          "heatmap": [
           {
            "colorbar": {
             "outlinewidth": 0,
             "ticks": ""
            },
            "colorscale": [
             [
              0,
              "#0d0887"
             ],
             [
              0.1111111111111111,
              "#46039f"
             ],
             [
              0.2222222222222222,
              "#7201a8"
             ],
             [
              0.3333333333333333,
              "#9c179e"
             ],
             [
              0.4444444444444444,
              "#bd3786"
             ],
             [
              0.5555555555555556,
              "#d8576b"
             ],
             [
              0.6666666666666666,
              "#ed7953"
             ],
             [
              0.7777777777777778,
              "#fb9f3a"
             ],
             [
              0.8888888888888888,
              "#fdca26"
             ],
             [
              1,
              "#f0f921"
             ]
            ],
            "type": "heatmap"
           }
          ],
          "heatmapgl": [
           {
            "colorbar": {
             "outlinewidth": 0,
             "ticks": ""
            },
            "colorscale": [
             [
              0,
              "#0d0887"
             ],
             [
              0.1111111111111111,
              "#46039f"
             ],
             [
              0.2222222222222222,
              "#7201a8"
             ],
             [
              0.3333333333333333,
              "#9c179e"
             ],
             [
              0.4444444444444444,
              "#bd3786"
             ],
             [
              0.5555555555555556,
              "#d8576b"
             ],
             [
              0.6666666666666666,
              "#ed7953"
             ],
             [
              0.7777777777777778,
              "#fb9f3a"
             ],
             [
              0.8888888888888888,
              "#fdca26"
             ],
             [
              1,
              "#f0f921"
             ]
            ],
            "type": "heatmapgl"
           }
          ],
          "histogram": [
           {
            "marker": {
             "colorbar": {
              "outlinewidth": 0,
              "ticks": ""
             }
            },
            "type": "histogram"
           }
          ],
          "histogram2d": [
           {
            "colorbar": {
             "outlinewidth": 0,
             "ticks": ""
            },
            "colorscale": [
             [
              0,
              "#0d0887"
             ],
             [
              0.1111111111111111,
              "#46039f"
             ],
             [
              0.2222222222222222,
              "#7201a8"
             ],
             [
              0.3333333333333333,
              "#9c179e"
             ],
             [
              0.4444444444444444,
              "#bd3786"
             ],
             [
              0.5555555555555556,
              "#d8576b"
             ],
             [
              0.6666666666666666,
              "#ed7953"
             ],
             [
              0.7777777777777778,
              "#fb9f3a"
             ],
             [
              0.8888888888888888,
              "#fdca26"
             ],
             [
              1,
              "#f0f921"
             ]
            ],
            "type": "histogram2d"
           }
          ],
          "histogram2dcontour": [
           {
            "colorbar": {
             "outlinewidth": 0,
             "ticks": ""
            },
            "colorscale": [
             [
              0,
              "#0d0887"
             ],
             [
              0.1111111111111111,
              "#46039f"
             ],
             [
              0.2222222222222222,
              "#7201a8"
             ],
             [
              0.3333333333333333,
              "#9c179e"
             ],
             [
              0.4444444444444444,
              "#bd3786"
             ],
             [
              0.5555555555555556,
              "#d8576b"
             ],
             [
              0.6666666666666666,
              "#ed7953"
             ],
             [
              0.7777777777777778,
              "#fb9f3a"
             ],
             [
              0.8888888888888888,
              "#fdca26"
             ],
             [
              1,
              "#f0f921"
             ]
            ],
            "type": "histogram2dcontour"
           }
          ],
          "mesh3d": [
           {
            "colorbar": {
             "outlinewidth": 0,
             "ticks": ""
            },
            "type": "mesh3d"
           }
          ],
          "parcoords": [
           {
            "line": {
             "colorbar": {
              "outlinewidth": 0,
              "ticks": ""
             }
            },
            "type": "parcoords"
           }
          ],
          "pie": [
           {
            "automargin": true,
            "type": "pie"
           }
          ],
          "scatter": [
           {
            "marker": {
             "colorbar": {
              "outlinewidth": 0,
              "ticks": ""
             }
            },
            "type": "scatter"
           }
          ],
          "scatter3d": [
           {
            "line": {
             "colorbar": {
              "outlinewidth": 0,
              "ticks": ""
             }
            },
            "marker": {
             "colorbar": {
              "outlinewidth": 0,
              "ticks": ""
             }
            },
            "type": "scatter3d"
           }
          ],
          "scattercarpet": [
           {
            "marker": {
             "colorbar": {
              "outlinewidth": 0,
              "ticks": ""
             }
            },
            "type": "scattercarpet"
           }
          ],
          "scattergeo": [
           {
            "marker": {
             "colorbar": {
              "outlinewidth": 0,
              "ticks": ""
             }
            },
            "type": "scattergeo"
           }
          ],
          "scattergl": [
           {
            "marker": {
             "colorbar": {
              "outlinewidth": 0,
              "ticks": ""
             }
            },
            "type": "scattergl"
           }
          ],
          "scattermapbox": [
           {
            "marker": {
             "colorbar": {
              "outlinewidth": 0,
              "ticks": ""
             }
            },
            "type": "scattermapbox"
           }
          ],
          "scatterpolar": [
           {
            "marker": {
             "colorbar": {
              "outlinewidth": 0,
              "ticks": ""
             }
            },
            "type": "scatterpolar"
           }
          ],
          "scatterpolargl": [
           {
            "marker": {
             "colorbar": {
              "outlinewidth": 0,
              "ticks": ""
             }
            },
            "type": "scatterpolargl"
           }
          ],
          "scatterternary": [
           {
            "marker": {
             "colorbar": {
              "outlinewidth": 0,
              "ticks": ""
             }
            },
            "type": "scatterternary"
           }
          ],
          "surface": [
           {
            "colorbar": {
             "outlinewidth": 0,
             "ticks": ""
            },
            "colorscale": [
             [
              0,
              "#0d0887"
             ],
             [
              0.1111111111111111,
              "#46039f"
             ],
             [
              0.2222222222222222,
              "#7201a8"
             ],
             [
              0.3333333333333333,
              "#9c179e"
             ],
             [
              0.4444444444444444,
              "#bd3786"
             ],
             [
              0.5555555555555556,
              "#d8576b"
             ],
             [
              0.6666666666666666,
              "#ed7953"
             ],
             [
              0.7777777777777778,
              "#fb9f3a"
             ],
             [
              0.8888888888888888,
              "#fdca26"
             ],
             [
              1,
              "#f0f921"
             ]
            ],
            "type": "surface"
           }
          ],
          "table": [
           {
            "cells": {
             "fill": {
              "color": "#EBF0F8"
             },
             "line": {
              "color": "white"
             }
            },
            "header": {
             "fill": {
              "color": "#C8D4E3"
             },
             "line": {
              "color": "white"
             }
            },
            "type": "table"
           }
          ]
         },
         "layout": {
          "annotationdefaults": {
           "arrowcolor": "#2a3f5f",
           "arrowhead": 0,
           "arrowwidth": 1
          },
          "coloraxis": {
           "colorbar": {
            "outlinewidth": 0,
            "ticks": ""
           }
          },
          "colorscale": {
           "diverging": [
            [
             0,
             "#8e0152"
            ],
            [
             0.1,
             "#c51b7d"
            ],
            [
             0.2,
             "#de77ae"
            ],
            [
             0.3,
             "#f1b6da"
            ],
            [
             0.4,
             "#fde0ef"
            ],
            [
             0.5,
             "#f7f7f7"
            ],
            [
             0.6,
             "#e6f5d0"
            ],
            [
             0.7,
             "#b8e186"
            ],
            [
             0.8,
             "#7fbc41"
            ],
            [
             0.9,
             "#4d9221"
            ],
            [
             1,
             "#276419"
            ]
           ],
           "sequential": [
            [
             0,
             "#0d0887"
            ],
            [
             0.1111111111111111,
             "#46039f"
            ],
            [
             0.2222222222222222,
             "#7201a8"
            ],
            [
             0.3333333333333333,
             "#9c179e"
            ],
            [
             0.4444444444444444,
             "#bd3786"
            ],
            [
             0.5555555555555556,
             "#d8576b"
            ],
            [
             0.6666666666666666,
             "#ed7953"
            ],
            [
             0.7777777777777778,
             "#fb9f3a"
            ],
            [
             0.8888888888888888,
             "#fdca26"
            ],
            [
             1,
             "#f0f921"
            ]
           ],
           "sequentialminus": [
            [
             0,
             "#0d0887"
            ],
            [
             0.1111111111111111,
             "#46039f"
            ],
            [
             0.2222222222222222,
             "#7201a8"
            ],
            [
             0.3333333333333333,
             "#9c179e"
            ],
            [
             0.4444444444444444,
             "#bd3786"
            ],
            [
             0.5555555555555556,
             "#d8576b"
            ],
            [
             0.6666666666666666,
             "#ed7953"
            ],
            [
             0.7777777777777778,
             "#fb9f3a"
            ],
            [
             0.8888888888888888,
             "#fdca26"
            ],
            [
             1,
             "#f0f921"
            ]
           ]
          },
          "colorway": [
           "#636efa",
           "#EF553B",
           "#00cc96",
           "#ab63fa",
           "#FFA15A",
           "#19d3f3",
           "#FF6692",
           "#B6E880",
           "#FF97FF",
           "#FECB52"
          ],
          "font": {
           "color": "#2a3f5f"
          },
          "geo": {
           "bgcolor": "white",
           "lakecolor": "white",
           "landcolor": "#E5ECF6",
           "showlakes": true,
           "showland": true,
           "subunitcolor": "white"
          },
          "hoverlabel": {
           "align": "left"
          },
          "hovermode": "closest",
          "mapbox": {
           "style": "light"
          },
          "paper_bgcolor": "white",
          "plot_bgcolor": "#E5ECF6",
          "polar": {
           "angularaxis": {
            "gridcolor": "white",
            "linecolor": "white",
            "ticks": ""
           },
           "bgcolor": "#E5ECF6",
           "radialaxis": {
            "gridcolor": "white",
            "linecolor": "white",
            "ticks": ""
           }
          },
          "scene": {
           "xaxis": {
            "backgroundcolor": "#E5ECF6",
            "gridcolor": "white",
            "gridwidth": 2,
            "linecolor": "white",
            "showbackground": true,
            "ticks": "",
            "zerolinecolor": "white"
           },
           "yaxis": {
            "backgroundcolor": "#E5ECF6",
            "gridcolor": "white",
            "gridwidth": 2,
            "linecolor": "white",
            "showbackground": true,
            "ticks": "",
            "zerolinecolor": "white"
           },
           "zaxis": {
            "backgroundcolor": "#E5ECF6",
            "gridcolor": "white",
            "gridwidth": 2,
            "linecolor": "white",
            "showbackground": true,
            "ticks": "",
            "zerolinecolor": "white"
           }
          },
          "shapedefaults": {
           "line": {
            "color": "#2a3f5f"
           }
          },
          "ternary": {
           "aaxis": {
            "gridcolor": "white",
            "linecolor": "white",
            "ticks": ""
           },
           "baxis": {
            "gridcolor": "white",
            "linecolor": "white",
            "ticks": ""
           },
           "bgcolor": "#E5ECF6",
           "caxis": {
            "gridcolor": "white",
            "linecolor": "white",
            "ticks": ""
           }
          },
          "title": {
           "x": 0.05
          },
          "xaxis": {
           "automargin": true,
           "gridcolor": "white",
           "linecolor": "white",
           "ticks": "",
           "title": {
            "standoff": 15
           },
           "zerolinecolor": "white",
           "zerolinewidth": 2
          },
          "yaxis": {
           "automargin": true,
           "gridcolor": "white",
           "linecolor": "white",
           "ticks": "",
           "title": {
            "standoff": 15
           },
           "zerolinecolor": "white",
           "zerolinewidth": 2
          }
         }
        }
       }
      },
      "text/html": [
       "<div>\n",
       "        \n",
       "        \n",
       "            <div id=\"f53ea85c-946d-4eec-8213-1434758f6528\" class=\"plotly-graph-div\" style=\"height:525px; width:100%;\"></div>\n",
       "            <script type=\"text/javascript\">\n",
       "                require([\"plotly\"], function(Plotly) {\n",
       "                    window.PLOTLYENV=window.PLOTLYENV || {};\n",
       "                    \n",
       "                if (document.getElementById(\"f53ea85c-946d-4eec-8213-1434758f6528\")) {\n",
       "                    Plotly.newPlot(\n",
       "                        'f53ea85c-946d-4eec-8213-1434758f6528',\n",
       "                        [{\"mode\": \"text\", \"text\": [\"brother\", \"brothers\", \"bretheren\", \"sister\", \"sisters\", \"father\", \"fathers\", \"fathered\", \"fathering\", \"iron\", \"irons\", \"ironed\", \"ironing\"], \"type\": \"scatter\", \"x\": [-123.25281524658203, -189.0962371826172, 106.05255889892578, -54.720848083496094, -280.1941223144531, -54.887123107910156, -18.61899185180664, -192.75799560546875, 87.85687255859375, 107.48848724365234, -19.797651290893555, 225.51829528808594, 224.83216857910156], \"y\": [54.52328109741211, -98.91158294677734, 250.41065979003906, -201.1572265625, 50.455257415771484, 310.2071533203125, -43.92961120605469, 206.91555786132812, 54.12578582763672, -143.23483276367188, 152.4060821533203, -31.204326629638672, 140.97943115234375]}],\n",
       "                        {\"template\": {\"data\": {\"bar\": [{\"error_x\": {\"color\": \"#2a3f5f\"}, \"error_y\": {\"color\": \"#2a3f5f\"}, \"marker\": {\"line\": {\"color\": \"#E5ECF6\", \"width\": 0.5}}, \"type\": \"bar\"}], \"barpolar\": [{\"marker\": {\"line\": {\"color\": \"#E5ECF6\", \"width\": 0.5}}, \"type\": \"barpolar\"}], \"carpet\": [{\"aaxis\": {\"endlinecolor\": \"#2a3f5f\", \"gridcolor\": \"white\", \"linecolor\": \"white\", \"minorgridcolor\": \"white\", \"startlinecolor\": \"#2a3f5f\"}, \"baxis\": {\"endlinecolor\": \"#2a3f5f\", \"gridcolor\": \"white\", \"linecolor\": \"white\", \"minorgridcolor\": \"white\", \"startlinecolor\": \"#2a3f5f\"}, \"type\": \"carpet\"}], \"choropleth\": [{\"colorbar\": {\"outlinewidth\": 0, \"ticks\": \"\"}, \"type\": \"choropleth\"}], \"contour\": [{\"colorbar\": {\"outlinewidth\": 0, \"ticks\": \"\"}, \"colorscale\": [[0.0, \"#0d0887\"], [0.1111111111111111, \"#46039f\"], [0.2222222222222222, \"#7201a8\"], [0.3333333333333333, \"#9c179e\"], [0.4444444444444444, \"#bd3786\"], [0.5555555555555556, \"#d8576b\"], [0.6666666666666666, \"#ed7953\"], [0.7777777777777778, \"#fb9f3a\"], [0.8888888888888888, \"#fdca26\"], [1.0, \"#f0f921\"]], \"type\": \"contour\"}], \"contourcarpet\": [{\"colorbar\": {\"outlinewidth\": 0, \"ticks\": \"\"}, \"type\": \"contourcarpet\"}], \"heatmap\": [{\"colorbar\": {\"outlinewidth\": 0, \"ticks\": \"\"}, \"colorscale\": [[0.0, \"#0d0887\"], [0.1111111111111111, \"#46039f\"], [0.2222222222222222, \"#7201a8\"], [0.3333333333333333, \"#9c179e\"], [0.4444444444444444, \"#bd3786\"], [0.5555555555555556, \"#d8576b\"], [0.6666666666666666, \"#ed7953\"], [0.7777777777777778, \"#fb9f3a\"], [0.8888888888888888, \"#fdca26\"], [1.0, \"#f0f921\"]], \"type\": \"heatmap\"}], \"heatmapgl\": [{\"colorbar\": {\"outlinewidth\": 0, \"ticks\": \"\"}, \"colorscale\": [[0.0, \"#0d0887\"], [0.1111111111111111, \"#46039f\"], [0.2222222222222222, \"#7201a8\"], [0.3333333333333333, \"#9c179e\"], [0.4444444444444444, \"#bd3786\"], [0.5555555555555556, \"#d8576b\"], [0.6666666666666666, \"#ed7953\"], [0.7777777777777778, \"#fb9f3a\"], [0.8888888888888888, \"#fdca26\"], [1.0, \"#f0f921\"]], \"type\": \"heatmapgl\"}], \"histogram\": [{\"marker\": {\"colorbar\": {\"outlinewidth\": 0, \"ticks\": \"\"}}, \"type\": \"histogram\"}], \"histogram2d\": [{\"colorbar\": {\"outlinewidth\": 0, \"ticks\": \"\"}, \"colorscale\": [[0.0, \"#0d0887\"], [0.1111111111111111, \"#46039f\"], [0.2222222222222222, \"#7201a8\"], [0.3333333333333333, \"#9c179e\"], [0.4444444444444444, \"#bd3786\"], [0.5555555555555556, \"#d8576b\"], [0.6666666666666666, \"#ed7953\"], [0.7777777777777778, \"#fb9f3a\"], [0.8888888888888888, \"#fdca26\"], [1.0, \"#f0f921\"]], \"type\": \"histogram2d\"}], \"histogram2dcontour\": [{\"colorbar\": {\"outlinewidth\": 0, \"ticks\": \"\"}, \"colorscale\": [[0.0, \"#0d0887\"], [0.1111111111111111, \"#46039f\"], [0.2222222222222222, \"#7201a8\"], [0.3333333333333333, \"#9c179e\"], [0.4444444444444444, \"#bd3786\"], [0.5555555555555556, \"#d8576b\"], [0.6666666666666666, \"#ed7953\"], [0.7777777777777778, \"#fb9f3a\"], [0.8888888888888888, \"#fdca26\"], [1.0, \"#f0f921\"]], \"type\": \"histogram2dcontour\"}], \"mesh3d\": [{\"colorbar\": {\"outlinewidth\": 0, \"ticks\": \"\"}, \"type\": \"mesh3d\"}], \"parcoords\": [{\"line\": {\"colorbar\": {\"outlinewidth\": 0, \"ticks\": \"\"}}, \"type\": \"parcoords\"}], \"pie\": [{\"automargin\": true, \"type\": \"pie\"}], \"scatter\": [{\"marker\": {\"colorbar\": {\"outlinewidth\": 0, \"ticks\": \"\"}}, \"type\": \"scatter\"}], \"scatter3d\": [{\"line\": {\"colorbar\": {\"outlinewidth\": 0, \"ticks\": \"\"}}, \"marker\": {\"colorbar\": {\"outlinewidth\": 0, \"ticks\": \"\"}}, \"type\": \"scatter3d\"}], \"scattercarpet\": [{\"marker\": {\"colorbar\": {\"outlinewidth\": 0, \"ticks\": \"\"}}, \"type\": \"scattercarpet\"}], \"scattergeo\": [{\"marker\": {\"colorbar\": {\"outlinewidth\": 0, \"ticks\": \"\"}}, \"type\": \"scattergeo\"}], \"scattergl\": [{\"marker\": {\"colorbar\": {\"outlinewidth\": 0, \"ticks\": \"\"}}, \"type\": \"scattergl\"}], \"scattermapbox\": [{\"marker\": {\"colorbar\": {\"outlinewidth\": 0, \"ticks\": \"\"}}, \"type\": \"scattermapbox\"}], \"scatterpolar\": [{\"marker\": {\"colorbar\": {\"outlinewidth\": 0, \"ticks\": \"\"}}, \"type\": \"scatterpolar\"}], \"scatterpolargl\": [{\"marker\": {\"colorbar\": {\"outlinewidth\": 0, \"ticks\": \"\"}}, \"type\": \"scatterpolargl\"}], \"scatterternary\": [{\"marker\": {\"colorbar\": {\"outlinewidth\": 0, \"ticks\": \"\"}}, \"type\": \"scatterternary\"}], \"surface\": [{\"colorbar\": {\"outlinewidth\": 0, \"ticks\": \"\"}, \"colorscale\": [[0.0, \"#0d0887\"], [0.1111111111111111, \"#46039f\"], [0.2222222222222222, \"#7201a8\"], [0.3333333333333333, \"#9c179e\"], [0.4444444444444444, \"#bd3786\"], [0.5555555555555556, \"#d8576b\"], [0.6666666666666666, \"#ed7953\"], [0.7777777777777778, \"#fb9f3a\"], [0.8888888888888888, \"#fdca26\"], [1.0, \"#f0f921\"]], \"type\": \"surface\"}], \"table\": [{\"cells\": {\"fill\": {\"color\": \"#EBF0F8\"}, \"line\": {\"color\": \"white\"}}, \"header\": {\"fill\": {\"color\": \"#C8D4E3\"}, \"line\": {\"color\": \"white\"}}, \"type\": \"table\"}]}, \"layout\": {\"annotationdefaults\": {\"arrowcolor\": \"#2a3f5f\", \"arrowhead\": 0, \"arrowwidth\": 1}, \"coloraxis\": {\"colorbar\": {\"outlinewidth\": 0, \"ticks\": \"\"}}, \"colorscale\": {\"diverging\": [[0, \"#8e0152\"], [0.1, \"#c51b7d\"], [0.2, \"#de77ae\"], [0.3, \"#f1b6da\"], [0.4, \"#fde0ef\"], [0.5, \"#f7f7f7\"], [0.6, \"#e6f5d0\"], [0.7, \"#b8e186\"], [0.8, \"#7fbc41\"], [0.9, \"#4d9221\"], [1, \"#276419\"]], \"sequential\": [[0.0, \"#0d0887\"], [0.1111111111111111, \"#46039f\"], [0.2222222222222222, \"#7201a8\"], [0.3333333333333333, \"#9c179e\"], [0.4444444444444444, \"#bd3786\"], [0.5555555555555556, \"#d8576b\"], [0.6666666666666666, \"#ed7953\"], [0.7777777777777778, \"#fb9f3a\"], [0.8888888888888888, \"#fdca26\"], [1.0, \"#f0f921\"]], \"sequentialminus\": [[0.0, \"#0d0887\"], [0.1111111111111111, \"#46039f\"], [0.2222222222222222, \"#7201a8\"], [0.3333333333333333, \"#9c179e\"], [0.4444444444444444, \"#bd3786\"], [0.5555555555555556, \"#d8576b\"], [0.6666666666666666, \"#ed7953\"], [0.7777777777777778, \"#fb9f3a\"], [0.8888888888888888, \"#fdca26\"], [1.0, \"#f0f921\"]]}, \"colorway\": [\"#636efa\", \"#EF553B\", \"#00cc96\", \"#ab63fa\", \"#FFA15A\", \"#19d3f3\", \"#FF6692\", \"#B6E880\", \"#FF97FF\", \"#FECB52\"], \"font\": {\"color\": \"#2a3f5f\"}, \"geo\": {\"bgcolor\": \"white\", \"lakecolor\": \"white\", \"landcolor\": \"#E5ECF6\", \"showlakes\": true, \"showland\": true, \"subunitcolor\": \"white\"}, \"hoverlabel\": {\"align\": \"left\"}, \"hovermode\": \"closest\", \"mapbox\": {\"style\": \"light\"}, \"paper_bgcolor\": \"white\", \"plot_bgcolor\": \"#E5ECF6\", \"polar\": {\"angularaxis\": {\"gridcolor\": \"white\", \"linecolor\": \"white\", \"ticks\": \"\"}, \"bgcolor\": \"#E5ECF6\", \"radialaxis\": {\"gridcolor\": \"white\", \"linecolor\": \"white\", \"ticks\": \"\"}}, \"scene\": {\"xaxis\": {\"backgroundcolor\": \"#E5ECF6\", \"gridcolor\": \"white\", \"gridwidth\": 2, \"linecolor\": \"white\", \"showbackground\": true, \"ticks\": \"\", \"zerolinecolor\": \"white\"}, \"yaxis\": {\"backgroundcolor\": \"#E5ECF6\", \"gridcolor\": \"white\", \"gridwidth\": 2, \"linecolor\": \"white\", \"showbackground\": true, \"ticks\": \"\", \"zerolinecolor\": \"white\"}, \"zaxis\": {\"backgroundcolor\": \"#E5ECF6\", \"gridcolor\": \"white\", \"gridwidth\": 2, \"linecolor\": \"white\", \"showbackground\": true, \"ticks\": \"\", \"zerolinecolor\": \"white\"}}, \"shapedefaults\": {\"line\": {\"color\": \"#2a3f5f\"}}, \"ternary\": {\"aaxis\": {\"gridcolor\": \"white\", \"linecolor\": \"white\", \"ticks\": \"\"}, \"baxis\": {\"gridcolor\": \"white\", \"linecolor\": \"white\", \"ticks\": \"\"}, \"bgcolor\": \"#E5ECF6\", \"caxis\": {\"gridcolor\": \"white\", \"linecolor\": \"white\", \"ticks\": \"\"}}, \"title\": {\"x\": 0.05}, \"xaxis\": {\"automargin\": true, \"gridcolor\": \"white\", \"linecolor\": \"white\", \"ticks\": \"\", \"title\": {\"standoff\": 15}, \"zerolinecolor\": \"white\", \"zerolinewidth\": 2}, \"yaxis\": {\"automargin\": true, \"gridcolor\": \"white\", \"linecolor\": \"white\", \"ticks\": \"\", \"title\": {\"standoff\": 15}, \"zerolinecolor\": \"white\", \"zerolinewidth\": 2}}}},\n",
       "                        {\"responsive\": true}\n",
       "                    ).then(function(){\n",
       "                            \n",
       "var gd = document.getElementById('f53ea85c-946d-4eec-8213-1434758f6528');\n",
       "var x = new MutationObserver(function (mutations, observer) {{\n",
       "        var display = window.getComputedStyle(gd).display;\n",
       "        if (!display || display === 'none') {{\n",
       "            console.log([gd, 'removed!']);\n",
       "            Plotly.purge(gd);\n",
       "            observer.disconnect();\n",
       "        }}\n",
       "}});\n",
       "\n",
       "// Listen for the removal of the full notebook cells\n",
       "var notebookContainer = gd.closest('#notebook-container');\n",
       "if (notebookContainer) {{\n",
       "    x.observe(notebookContainer, {childList: true});\n",
       "}}\n",
       "\n",
       "// Listen for the clearing of the current output cell\n",
       "var outputEl = gd.closest('.output');\n",
       "if (outputEl) {{\n",
       "    x.observe(outputEl, {childList: true});\n",
       "}}\n",
       "\n",
       "                        })\n",
       "                };\n",
       "                });\n",
       "            </script>\n",
       "        </div>"
      ]
     },
     "metadata": {},
     "output_type": "display_data"
    }
   ],
   "source": [
    "x_vals, y_vals, labels, means_x_vals, means_y_vals, means_label = reduce_dimensions_norm_mean(lexi[4:8])\n",
    "\n",
    "try:\n",
    "    get_ipython()\n",
    "except Exception:\n",
    "    plot_function = plot_with_matplotlib\n",
    "else:\n",
    "    plot_function = plot_with_plotly\n",
    "\n",
    "plot_function(x_vals, y_vals, labels)\n"
   ]
  },
  {
   "cell_type": "code",
   "execution_count": 30,
   "metadata": {},
   "outputs": [
    {
     "data": {
      "text/html": [
       "        <script type=\"text/javascript\">\n",
       "        window.PlotlyConfig = {MathJaxConfig: 'local'};\n",
       "        if (window.MathJax) {MathJax.Hub.Config({SVG: {font: \"STIX-Web\"}});}\n",
       "        if (typeof require !== 'undefined') {\n",
       "        require.undef(\"plotly\");\n",
       "        requirejs.config({\n",
       "            paths: {\n",
       "                'plotly': ['https://cdn.plot.ly/plotly-latest.min']\n",
       "            }\n",
       "        });\n",
       "        require(['plotly'], function(Plotly) {\n",
       "            window._Plotly = Plotly;\n",
       "        });\n",
       "        }\n",
       "        </script>\n",
       "        "
      ]
     },
     "metadata": {},
     "output_type": "display_data"
    },
    {
     "data": {
      "application/vnd.plotly.v1+json": {
       "config": {
        "linkText": "Export to plot.ly",
        "plotlyServerURL": "https://plot.ly",
        "showLink": false
       },
       "data": [
        {
         "mode": "text",
         "text": [
          "brother_mean",
          "sister_mean",
          "father_mean",
          "iron_mean"
         ],
         "type": "scatter",
         "x": [
          20.10395050048828,
          26.388408660888672,
          -92.99526977539062,
          -86.71078491210938
         ],
         "y": [
          -315.4450378417969,
          -428.5440368652344,
          -321.7256774902344,
          -434.82476806640625
         ]
        }
       ],
       "layout": {
        "template": {
         "data": {
          "bar": [
           {
            "error_x": {
             "color": "#2a3f5f"
            },
            "error_y": {
             "color": "#2a3f5f"
            },
            "marker": {
             "line": {
              "color": "#E5ECF6",
              "width": 0.5
             }
            },
            "type": "bar"
           }
          ],
          "barpolar": [
           {
            "marker": {
             "line": {
              "color": "#E5ECF6",
              "width": 0.5
             }
            },
            "type": "barpolar"
           }
          ],
          "carpet": [
           {
            "aaxis": {
             "endlinecolor": "#2a3f5f",
             "gridcolor": "white",
             "linecolor": "white",
             "minorgridcolor": "white",
             "startlinecolor": "#2a3f5f"
            },
            "baxis": {
             "endlinecolor": "#2a3f5f",
             "gridcolor": "white",
             "linecolor": "white",
             "minorgridcolor": "white",
             "startlinecolor": "#2a3f5f"
            },
            "type": "carpet"
           }
          ],
          "choropleth": [
           {
            "colorbar": {
             "outlinewidth": 0,
             "ticks": ""
            },
            "type": "choropleth"
           }
          ],
          "contour": [
           {
            "colorbar": {
             "outlinewidth": 0,
             "ticks": ""
            },
            "colorscale": [
             [
              0,
              "#0d0887"
             ],
             [
              0.1111111111111111,
              "#46039f"
             ],
             [
              0.2222222222222222,
              "#7201a8"
             ],
             [
              0.3333333333333333,
              "#9c179e"
             ],
             [
              0.4444444444444444,
              "#bd3786"
             ],
             [
              0.5555555555555556,
              "#d8576b"
             ],
             [
              0.6666666666666666,
              "#ed7953"
             ],
             [
              0.7777777777777778,
              "#fb9f3a"
             ],
             [
              0.8888888888888888,
              "#fdca26"
             ],
             [
              1,
              "#f0f921"
             ]
            ],
            "type": "contour"
           }
          ],
          "contourcarpet": [
           {
            "colorbar": {
             "outlinewidth": 0,
             "ticks": ""
            },
            "type": "contourcarpet"
           }
          ],
          "heatmap": [
           {
            "colorbar": {
             "outlinewidth": 0,
             "ticks": ""
            },
            "colorscale": [
             [
              0,
              "#0d0887"
             ],
             [
              0.1111111111111111,
              "#46039f"
             ],
             [
              0.2222222222222222,
              "#7201a8"
             ],
             [
              0.3333333333333333,
              "#9c179e"
             ],
             [
              0.4444444444444444,
              "#bd3786"
             ],
             [
              0.5555555555555556,
              "#d8576b"
             ],
             [
              0.6666666666666666,
              "#ed7953"
             ],
             [
              0.7777777777777778,
              "#fb9f3a"
             ],
             [
              0.8888888888888888,
              "#fdca26"
             ],
             [
              1,
              "#f0f921"
             ]
            ],
            "type": "heatmap"
           }
          ],
          "heatmapgl": [
           {
            "colorbar": {
             "outlinewidth": 0,
             "ticks": ""
            },
            "colorscale": [
             [
              0,
              "#0d0887"
             ],
             [
              0.1111111111111111,
              "#46039f"
             ],
             [
              0.2222222222222222,
              "#7201a8"
             ],
             [
              0.3333333333333333,
              "#9c179e"
             ],
             [
              0.4444444444444444,
              "#bd3786"
             ],
             [
              0.5555555555555556,
              "#d8576b"
             ],
             [
              0.6666666666666666,
              "#ed7953"
             ],
             [
              0.7777777777777778,
              "#fb9f3a"
             ],
             [
              0.8888888888888888,
              "#fdca26"
             ],
             [
              1,
              "#f0f921"
             ]
            ],
            "type": "heatmapgl"
           }
          ],
          "histogram": [
           {
            "marker": {
             "colorbar": {
              "outlinewidth": 0,
              "ticks": ""
             }
            },
            "type": "histogram"
           }
          ],
          "histogram2d": [
           {
            "colorbar": {
             "outlinewidth": 0,
             "ticks": ""
            },
            "colorscale": [
             [
              0,
              "#0d0887"
             ],
             [
              0.1111111111111111,
              "#46039f"
             ],
             [
              0.2222222222222222,
              "#7201a8"
             ],
             [
              0.3333333333333333,
              "#9c179e"
             ],
             [
              0.4444444444444444,
              "#bd3786"
             ],
             [
              0.5555555555555556,
              "#d8576b"
             ],
             [
              0.6666666666666666,
              "#ed7953"
             ],
             [
              0.7777777777777778,
              "#fb9f3a"
             ],
             [
              0.8888888888888888,
              "#fdca26"
             ],
             [
              1,
              "#f0f921"
             ]
            ],
            "type": "histogram2d"
           }
          ],
          "histogram2dcontour": [
           {
            "colorbar": {
             "outlinewidth": 0,
             "ticks": ""
            },
            "colorscale": [
             [
              0,
              "#0d0887"
             ],
             [
              0.1111111111111111,
              "#46039f"
             ],
             [
              0.2222222222222222,
              "#7201a8"
             ],
             [
              0.3333333333333333,
              "#9c179e"
             ],
             [
              0.4444444444444444,
              "#bd3786"
             ],
             [
              0.5555555555555556,
              "#d8576b"
             ],
             [
              0.6666666666666666,
              "#ed7953"
             ],
             [
              0.7777777777777778,
              "#fb9f3a"
             ],
             [
              0.8888888888888888,
              "#fdca26"
             ],
             [
              1,
              "#f0f921"
             ]
            ],
            "type": "histogram2dcontour"
           }
          ],
          "mesh3d": [
           {
            "colorbar": {
             "outlinewidth": 0,
             "ticks": ""
            },
            "type": "mesh3d"
           }
          ],
          "parcoords": [
           {
            "line": {
             "colorbar": {
              "outlinewidth": 0,
              "ticks": ""
             }
            },
            "type": "parcoords"
           }
          ],
          "pie": [
           {
            "automargin": true,
            "type": "pie"
           }
          ],
          "scatter": [
           {
            "marker": {
             "colorbar": {
              "outlinewidth": 0,
              "ticks": ""
             }
            },
            "type": "scatter"
           }
          ],
          "scatter3d": [
           {
            "line": {
             "colorbar": {
              "outlinewidth": 0,
              "ticks": ""
             }
            },
            "marker": {
             "colorbar": {
              "outlinewidth": 0,
              "ticks": ""
             }
            },
            "type": "scatter3d"
           }
          ],
          "scattercarpet": [
           {
            "marker": {
             "colorbar": {
              "outlinewidth": 0,
              "ticks": ""
             }
            },
            "type": "scattercarpet"
           }
          ],
          "scattergeo": [
           {
            "marker": {
             "colorbar": {
              "outlinewidth": 0,
              "ticks": ""
             }
            },
            "type": "scattergeo"
           }
          ],
          "scattergl": [
           {
            "marker": {
             "colorbar": {
              "outlinewidth": 0,
              "ticks": ""
             }
            },
            "type": "scattergl"
           }
          ],
          "scattermapbox": [
           {
            "marker": {
             "colorbar": {
              "outlinewidth": 0,
              "ticks": ""
             }
            },
            "type": "scattermapbox"
           }
          ],
          "scatterpolar": [
           {
            "marker": {
             "colorbar": {
              "outlinewidth": 0,
              "ticks": ""
             }
            },
            "type": "scatterpolar"
           }
          ],
          "scatterpolargl": [
           {
            "marker": {
             "colorbar": {
              "outlinewidth": 0,
              "ticks": ""
             }
            },
            "type": "scatterpolargl"
           }
          ],
          "scatterternary": [
           {
            "marker": {
             "colorbar": {
              "outlinewidth": 0,
              "ticks": ""
             }
            },
            "type": "scatterternary"
           }
          ],
          "surface": [
           {
            "colorbar": {
             "outlinewidth": 0,
             "ticks": ""
            },
            "colorscale": [
             [
              0,
              "#0d0887"
             ],
             [
              0.1111111111111111,
              "#46039f"
             ],
             [
              0.2222222222222222,
              "#7201a8"
             ],
             [
              0.3333333333333333,
              "#9c179e"
             ],
             [
              0.4444444444444444,
              "#bd3786"
             ],
             [
              0.5555555555555556,
              "#d8576b"
             ],
             [
              0.6666666666666666,
              "#ed7953"
             ],
             [
              0.7777777777777778,
              "#fb9f3a"
             ],
             [
              0.8888888888888888,
              "#fdca26"
             ],
             [
              1,
              "#f0f921"
             ]
            ],
            "type": "surface"
           }
          ],
          "table": [
           {
            "cells": {
             "fill": {
              "color": "#EBF0F8"
             },
             "line": {
              "color": "white"
             }
            },
            "header": {
             "fill": {
              "color": "#C8D4E3"
             },
             "line": {
              "color": "white"
             }
            },
            "type": "table"
           }
          ]
         },
         "layout": {
          "annotationdefaults": {
           "arrowcolor": "#2a3f5f",
           "arrowhead": 0,
           "arrowwidth": 1
          },
          "coloraxis": {
           "colorbar": {
            "outlinewidth": 0,
            "ticks": ""
           }
          },
          "colorscale": {
           "diverging": [
            [
             0,
             "#8e0152"
            ],
            [
             0.1,
             "#c51b7d"
            ],
            [
             0.2,
             "#de77ae"
            ],
            [
             0.3,
             "#f1b6da"
            ],
            [
             0.4,
             "#fde0ef"
            ],
            [
             0.5,
             "#f7f7f7"
            ],
            [
             0.6,
             "#e6f5d0"
            ],
            [
             0.7,
             "#b8e186"
            ],
            [
             0.8,
             "#7fbc41"
            ],
            [
             0.9,
             "#4d9221"
            ],
            [
             1,
             "#276419"
            ]
           ],
           "sequential": [
            [
             0,
             "#0d0887"
            ],
            [
             0.1111111111111111,
             "#46039f"
            ],
            [
             0.2222222222222222,
             "#7201a8"
            ],
            [
             0.3333333333333333,
             "#9c179e"
            ],
            [
             0.4444444444444444,
             "#bd3786"
            ],
            [
             0.5555555555555556,
             "#d8576b"
            ],
            [
             0.6666666666666666,
             "#ed7953"
            ],
            [
             0.7777777777777778,
             "#fb9f3a"
            ],
            [
             0.8888888888888888,
             "#fdca26"
            ],
            [
             1,
             "#f0f921"
            ]
           ],
           "sequentialminus": [
            [
             0,
             "#0d0887"
            ],
            [
             0.1111111111111111,
             "#46039f"
            ],
            [
             0.2222222222222222,
             "#7201a8"
            ],
            [
             0.3333333333333333,
             "#9c179e"
            ],
            [
             0.4444444444444444,
             "#bd3786"
            ],
            [
             0.5555555555555556,
             "#d8576b"
            ],
            [
             0.6666666666666666,
             "#ed7953"
            ],
            [
             0.7777777777777778,
             "#fb9f3a"
            ],
            [
             0.8888888888888888,
             "#fdca26"
            ],
            [
             1,
             "#f0f921"
            ]
           ]
          },
          "colorway": [
           "#636efa",
           "#EF553B",
           "#00cc96",
           "#ab63fa",
           "#FFA15A",
           "#19d3f3",
           "#FF6692",
           "#B6E880",
           "#FF97FF",
           "#FECB52"
          ],
          "font": {
           "color": "#2a3f5f"
          },
          "geo": {
           "bgcolor": "white",
           "lakecolor": "white",
           "landcolor": "#E5ECF6",
           "showlakes": true,
           "showland": true,
           "subunitcolor": "white"
          },
          "hoverlabel": {
           "align": "left"
          },
          "hovermode": "closest",
          "mapbox": {
           "style": "light"
          },
          "paper_bgcolor": "white",
          "plot_bgcolor": "#E5ECF6",
          "polar": {
           "angularaxis": {
            "gridcolor": "white",
            "linecolor": "white",
            "ticks": ""
           },
           "bgcolor": "#E5ECF6",
           "radialaxis": {
            "gridcolor": "white",
            "linecolor": "white",
            "ticks": ""
           }
          },
          "scene": {
           "xaxis": {
            "backgroundcolor": "#E5ECF6",
            "gridcolor": "white",
            "gridwidth": 2,
            "linecolor": "white",
            "showbackground": true,
            "ticks": "",
            "zerolinecolor": "white"
           },
           "yaxis": {
            "backgroundcolor": "#E5ECF6",
            "gridcolor": "white",
            "gridwidth": 2,
            "linecolor": "white",
            "showbackground": true,
            "ticks": "",
            "zerolinecolor": "white"
           },
           "zaxis": {
            "backgroundcolor": "#E5ECF6",
            "gridcolor": "white",
            "gridwidth": 2,
            "linecolor": "white",
            "showbackground": true,
            "ticks": "",
            "zerolinecolor": "white"
           }
          },
          "shapedefaults": {
           "line": {
            "color": "#2a3f5f"
           }
          },
          "ternary": {
           "aaxis": {
            "gridcolor": "white",
            "linecolor": "white",
            "ticks": ""
           },
           "baxis": {
            "gridcolor": "white",
            "linecolor": "white",
            "ticks": ""
           },
           "bgcolor": "#E5ECF6",
           "caxis": {
            "gridcolor": "white",
            "linecolor": "white",
            "ticks": ""
           }
          },
          "title": {
           "x": 0.05
          },
          "xaxis": {
           "automargin": true,
           "gridcolor": "white",
           "linecolor": "white",
           "ticks": "",
           "title": {
            "standoff": 15
           },
           "zerolinecolor": "white",
           "zerolinewidth": 2
          },
          "yaxis": {
           "automargin": true,
           "gridcolor": "white",
           "linecolor": "white",
           "ticks": "",
           "title": {
            "standoff": 15
           },
           "zerolinecolor": "white",
           "zerolinewidth": 2
          }
         }
        }
       }
      },
      "text/html": [
       "<div>\n",
       "        \n",
       "        \n",
       "            <div id=\"0de90358-2c32-4f95-b109-896845c7a3ed\" class=\"plotly-graph-div\" style=\"height:525px; width:100%;\"></div>\n",
       "            <script type=\"text/javascript\">\n",
       "                require([\"plotly\"], function(Plotly) {\n",
       "                    window.PLOTLYENV=window.PLOTLYENV || {};\n",
       "                    \n",
       "                if (document.getElementById(\"0de90358-2c32-4f95-b109-896845c7a3ed\")) {\n",
       "                    Plotly.newPlot(\n",
       "                        '0de90358-2c32-4f95-b109-896845c7a3ed',\n",
       "                        [{\"mode\": \"text\", \"text\": [\"brother_mean\", \"sister_mean\", \"father_mean\", \"iron_mean\"], \"type\": \"scatter\", \"x\": [20.10395050048828, 26.388408660888672, -92.99526977539062, -86.71078491210938], \"y\": [-315.4450378417969, -428.5440368652344, -321.7256774902344, -434.82476806640625]}],\n",
       "                        {\"template\": {\"data\": {\"bar\": [{\"error_x\": {\"color\": \"#2a3f5f\"}, \"error_y\": {\"color\": \"#2a3f5f\"}, \"marker\": {\"line\": {\"color\": \"#E5ECF6\", \"width\": 0.5}}, \"type\": \"bar\"}], \"barpolar\": [{\"marker\": {\"line\": {\"color\": \"#E5ECF6\", \"width\": 0.5}}, \"type\": \"barpolar\"}], \"carpet\": [{\"aaxis\": {\"endlinecolor\": \"#2a3f5f\", \"gridcolor\": \"white\", \"linecolor\": \"white\", \"minorgridcolor\": \"white\", \"startlinecolor\": \"#2a3f5f\"}, \"baxis\": {\"endlinecolor\": \"#2a3f5f\", \"gridcolor\": \"white\", \"linecolor\": \"white\", \"minorgridcolor\": \"white\", \"startlinecolor\": \"#2a3f5f\"}, \"type\": \"carpet\"}], \"choropleth\": [{\"colorbar\": {\"outlinewidth\": 0, \"ticks\": \"\"}, \"type\": \"choropleth\"}], \"contour\": [{\"colorbar\": {\"outlinewidth\": 0, \"ticks\": \"\"}, \"colorscale\": [[0.0, \"#0d0887\"], [0.1111111111111111, \"#46039f\"], [0.2222222222222222, \"#7201a8\"], [0.3333333333333333, \"#9c179e\"], [0.4444444444444444, \"#bd3786\"], [0.5555555555555556, \"#d8576b\"], [0.6666666666666666, \"#ed7953\"], [0.7777777777777778, \"#fb9f3a\"], [0.8888888888888888, \"#fdca26\"], [1.0, \"#f0f921\"]], \"type\": \"contour\"}], \"contourcarpet\": [{\"colorbar\": {\"outlinewidth\": 0, \"ticks\": \"\"}, \"type\": \"contourcarpet\"}], \"heatmap\": [{\"colorbar\": {\"outlinewidth\": 0, \"ticks\": \"\"}, \"colorscale\": [[0.0, \"#0d0887\"], [0.1111111111111111, \"#46039f\"], [0.2222222222222222, \"#7201a8\"], [0.3333333333333333, \"#9c179e\"], [0.4444444444444444, \"#bd3786\"], [0.5555555555555556, \"#d8576b\"], [0.6666666666666666, \"#ed7953\"], [0.7777777777777778, \"#fb9f3a\"], [0.8888888888888888, \"#fdca26\"], [1.0, \"#f0f921\"]], \"type\": \"heatmap\"}], \"heatmapgl\": [{\"colorbar\": {\"outlinewidth\": 0, \"ticks\": \"\"}, \"colorscale\": [[0.0, \"#0d0887\"], [0.1111111111111111, \"#46039f\"], [0.2222222222222222, \"#7201a8\"], [0.3333333333333333, \"#9c179e\"], [0.4444444444444444, \"#bd3786\"], [0.5555555555555556, \"#d8576b\"], [0.6666666666666666, \"#ed7953\"], [0.7777777777777778, \"#fb9f3a\"], [0.8888888888888888, \"#fdca26\"], [1.0, \"#f0f921\"]], \"type\": \"heatmapgl\"}], \"histogram\": [{\"marker\": {\"colorbar\": {\"outlinewidth\": 0, \"ticks\": \"\"}}, \"type\": \"histogram\"}], \"histogram2d\": [{\"colorbar\": {\"outlinewidth\": 0, \"ticks\": \"\"}, \"colorscale\": [[0.0, \"#0d0887\"], [0.1111111111111111, \"#46039f\"], [0.2222222222222222, \"#7201a8\"], [0.3333333333333333, \"#9c179e\"], [0.4444444444444444, \"#bd3786\"], [0.5555555555555556, \"#d8576b\"], [0.6666666666666666, \"#ed7953\"], [0.7777777777777778, \"#fb9f3a\"], [0.8888888888888888, \"#fdca26\"], [1.0, \"#f0f921\"]], \"type\": \"histogram2d\"}], \"histogram2dcontour\": [{\"colorbar\": {\"outlinewidth\": 0, \"ticks\": \"\"}, \"colorscale\": [[0.0, \"#0d0887\"], [0.1111111111111111, \"#46039f\"], [0.2222222222222222, \"#7201a8\"], [0.3333333333333333, \"#9c179e\"], [0.4444444444444444, \"#bd3786\"], [0.5555555555555556, \"#d8576b\"], [0.6666666666666666, \"#ed7953\"], [0.7777777777777778, \"#fb9f3a\"], [0.8888888888888888, \"#fdca26\"], [1.0, \"#f0f921\"]], \"type\": \"histogram2dcontour\"}], \"mesh3d\": [{\"colorbar\": {\"outlinewidth\": 0, \"ticks\": \"\"}, \"type\": \"mesh3d\"}], \"parcoords\": [{\"line\": {\"colorbar\": {\"outlinewidth\": 0, \"ticks\": \"\"}}, \"type\": \"parcoords\"}], \"pie\": [{\"automargin\": true, \"type\": \"pie\"}], \"scatter\": [{\"marker\": {\"colorbar\": {\"outlinewidth\": 0, \"ticks\": \"\"}}, \"type\": \"scatter\"}], \"scatter3d\": [{\"line\": {\"colorbar\": {\"outlinewidth\": 0, \"ticks\": \"\"}}, \"marker\": {\"colorbar\": {\"outlinewidth\": 0, \"ticks\": \"\"}}, \"type\": \"scatter3d\"}], \"scattercarpet\": [{\"marker\": {\"colorbar\": {\"outlinewidth\": 0, \"ticks\": \"\"}}, \"type\": \"scattercarpet\"}], \"scattergeo\": [{\"marker\": {\"colorbar\": {\"outlinewidth\": 0, \"ticks\": \"\"}}, \"type\": \"scattergeo\"}], \"scattergl\": [{\"marker\": {\"colorbar\": {\"outlinewidth\": 0, \"ticks\": \"\"}}, \"type\": \"scattergl\"}], \"scattermapbox\": [{\"marker\": {\"colorbar\": {\"outlinewidth\": 0, \"ticks\": \"\"}}, \"type\": \"scattermapbox\"}], \"scatterpolar\": [{\"marker\": {\"colorbar\": {\"outlinewidth\": 0, \"ticks\": \"\"}}, \"type\": \"scatterpolar\"}], \"scatterpolargl\": [{\"marker\": {\"colorbar\": {\"outlinewidth\": 0, \"ticks\": \"\"}}, \"type\": \"scatterpolargl\"}], \"scatterternary\": [{\"marker\": {\"colorbar\": {\"outlinewidth\": 0, \"ticks\": \"\"}}, \"type\": \"scatterternary\"}], \"surface\": [{\"colorbar\": {\"outlinewidth\": 0, \"ticks\": \"\"}, \"colorscale\": [[0.0, \"#0d0887\"], [0.1111111111111111, \"#46039f\"], [0.2222222222222222, \"#7201a8\"], [0.3333333333333333, \"#9c179e\"], [0.4444444444444444, \"#bd3786\"], [0.5555555555555556, \"#d8576b\"], [0.6666666666666666, \"#ed7953\"], [0.7777777777777778, \"#fb9f3a\"], [0.8888888888888888, \"#fdca26\"], [1.0, \"#f0f921\"]], \"type\": \"surface\"}], \"table\": [{\"cells\": {\"fill\": {\"color\": \"#EBF0F8\"}, \"line\": {\"color\": \"white\"}}, \"header\": {\"fill\": {\"color\": \"#C8D4E3\"}, \"line\": {\"color\": \"white\"}}, \"type\": \"table\"}]}, \"layout\": {\"annotationdefaults\": {\"arrowcolor\": \"#2a3f5f\", \"arrowhead\": 0, \"arrowwidth\": 1}, \"coloraxis\": {\"colorbar\": {\"outlinewidth\": 0, \"ticks\": \"\"}}, \"colorscale\": {\"diverging\": [[0, \"#8e0152\"], [0.1, \"#c51b7d\"], [0.2, \"#de77ae\"], [0.3, \"#f1b6da\"], [0.4, \"#fde0ef\"], [0.5, \"#f7f7f7\"], [0.6, \"#e6f5d0\"], [0.7, \"#b8e186\"], [0.8, \"#7fbc41\"], [0.9, \"#4d9221\"], [1, \"#276419\"]], \"sequential\": [[0.0, \"#0d0887\"], [0.1111111111111111, \"#46039f\"], [0.2222222222222222, \"#7201a8\"], [0.3333333333333333, \"#9c179e\"], [0.4444444444444444, \"#bd3786\"], [0.5555555555555556, \"#d8576b\"], [0.6666666666666666, \"#ed7953\"], [0.7777777777777778, \"#fb9f3a\"], [0.8888888888888888, \"#fdca26\"], [1.0, \"#f0f921\"]], \"sequentialminus\": [[0.0, \"#0d0887\"], [0.1111111111111111, \"#46039f\"], [0.2222222222222222, \"#7201a8\"], [0.3333333333333333, \"#9c179e\"], [0.4444444444444444, \"#bd3786\"], [0.5555555555555556, \"#d8576b\"], [0.6666666666666666, \"#ed7953\"], [0.7777777777777778, \"#fb9f3a\"], [0.8888888888888888, \"#fdca26\"], [1.0, \"#f0f921\"]]}, \"colorway\": [\"#636efa\", \"#EF553B\", \"#00cc96\", \"#ab63fa\", \"#FFA15A\", \"#19d3f3\", \"#FF6692\", \"#B6E880\", \"#FF97FF\", \"#FECB52\"], \"font\": {\"color\": \"#2a3f5f\"}, \"geo\": {\"bgcolor\": \"white\", \"lakecolor\": \"white\", \"landcolor\": \"#E5ECF6\", \"showlakes\": true, \"showland\": true, \"subunitcolor\": \"white\"}, \"hoverlabel\": {\"align\": \"left\"}, \"hovermode\": \"closest\", \"mapbox\": {\"style\": \"light\"}, \"paper_bgcolor\": \"white\", \"plot_bgcolor\": \"#E5ECF6\", \"polar\": {\"angularaxis\": {\"gridcolor\": \"white\", \"linecolor\": \"white\", \"ticks\": \"\"}, \"bgcolor\": \"#E5ECF6\", \"radialaxis\": {\"gridcolor\": \"white\", \"linecolor\": \"white\", \"ticks\": \"\"}}, \"scene\": {\"xaxis\": {\"backgroundcolor\": \"#E5ECF6\", \"gridcolor\": \"white\", \"gridwidth\": 2, \"linecolor\": \"white\", \"showbackground\": true, \"ticks\": \"\", \"zerolinecolor\": \"white\"}, \"yaxis\": {\"backgroundcolor\": \"#E5ECF6\", \"gridcolor\": \"white\", \"gridwidth\": 2, \"linecolor\": \"white\", \"showbackground\": true, \"ticks\": \"\", \"zerolinecolor\": \"white\"}, \"zaxis\": {\"backgroundcolor\": \"#E5ECF6\", \"gridcolor\": \"white\", \"gridwidth\": 2, \"linecolor\": \"white\", \"showbackground\": true, \"ticks\": \"\", \"zerolinecolor\": \"white\"}}, \"shapedefaults\": {\"line\": {\"color\": \"#2a3f5f\"}}, \"ternary\": {\"aaxis\": {\"gridcolor\": \"white\", \"linecolor\": \"white\", \"ticks\": \"\"}, \"baxis\": {\"gridcolor\": \"white\", \"linecolor\": \"white\", \"ticks\": \"\"}, \"bgcolor\": \"#E5ECF6\", \"caxis\": {\"gridcolor\": \"white\", \"linecolor\": \"white\", \"ticks\": \"\"}}, \"title\": {\"x\": 0.05}, \"xaxis\": {\"automargin\": true, \"gridcolor\": \"white\", \"linecolor\": \"white\", \"ticks\": \"\", \"title\": {\"standoff\": 15}, \"zerolinecolor\": \"white\", \"zerolinewidth\": 2}, \"yaxis\": {\"automargin\": true, \"gridcolor\": \"white\", \"linecolor\": \"white\", \"ticks\": \"\", \"title\": {\"standoff\": 15}, \"zerolinecolor\": \"white\", \"zerolinewidth\": 2}}}},\n",
       "                        {\"responsive\": true}\n",
       "                    ).then(function(){\n",
       "                            \n",
       "var gd = document.getElementById('0de90358-2c32-4f95-b109-896845c7a3ed');\n",
       "var x = new MutationObserver(function (mutations, observer) {{\n",
       "        var display = window.getComputedStyle(gd).display;\n",
       "        if (!display || display === 'none') {{\n",
       "            console.log([gd, 'removed!']);\n",
       "            Plotly.purge(gd);\n",
       "            observer.disconnect();\n",
       "        }}\n",
       "}});\n",
       "\n",
       "// Listen for the removal of the full notebook cells\n",
       "var notebookContainer = gd.closest('#notebook-container');\n",
       "if (notebookContainer) {{\n",
       "    x.observe(notebookContainer, {childList: true});\n",
       "}}\n",
       "\n",
       "// Listen for the clearing of the current output cell\n",
       "var outputEl = gd.closest('.output');\n",
       "if (outputEl) {{\n",
       "    x.observe(outputEl, {childList: true});\n",
       "}}\n",
       "\n",
       "                        })\n",
       "                };\n",
       "                });\n",
       "            </script>\n",
       "        </div>"
      ]
     },
     "metadata": {},
     "output_type": "display_data"
    }
   ],
   "source": [
    "x_vals, y_vals, labels, means_x_vals, means_y_vals, means_label = reduce_dimensions_norm_mean(lexi[4:8])\n",
    "\n",
    "try:\n",
    "    get_ipython()\n",
    "except Exception:\n",
    "    plot_function = plot_with_matplotlib\n",
    "else:\n",
    "    plot_function = plot_with_plotly\n",
    "\n",
    "plot_function(means_x_vals, means_y_vals, means_label)\n"
   ]
  },
  {
   "cell_type": "code",
   "execution_count": 31,
   "metadata": {},
   "outputs": [],
   "source": [
    "xs = x_vals+means_x_vals\n",
    "ys = y_vals+means_y_vals\n",
    "lms = np.concatenate([labels,means_label])"
   ]
  },
  {
   "cell_type": "code",
   "execution_count": 32,
   "metadata": {},
   "outputs": [
    {
     "data": {
      "text/html": [
       "        <script type=\"text/javascript\">\n",
       "        window.PlotlyConfig = {MathJaxConfig: 'local'};\n",
       "        if (window.MathJax) {MathJax.Hub.Config({SVG: {font: \"STIX-Web\"}});}\n",
       "        if (typeof require !== 'undefined') {\n",
       "        require.undef(\"plotly\");\n",
       "        requirejs.config({\n",
       "            paths: {\n",
       "                'plotly': ['https://cdn.plot.ly/plotly-latest.min']\n",
       "            }\n",
       "        });\n",
       "        require(['plotly'], function(Plotly) {\n",
       "            window._Plotly = Plotly;\n",
       "        });\n",
       "        }\n",
       "        </script>\n",
       "        "
      ]
     },
     "metadata": {},
     "output_type": "display_data"
    },
    {
     "data": {
      "application/vnd.plotly.v1+json": {
       "config": {
        "linkText": "Export to plot.ly",
        "plotlyServerURL": "https://plot.ly",
        "showLink": false
       },
       "data": [
        {
         "mode": "text",
         "text": [
          "brother",
          "brothers",
          "bretheren",
          "sister",
          "sisters",
          "father",
          "fathers",
          "fathered",
          "fathering",
          "iron",
          "irons",
          "ironed",
          "ironing",
          "brother_mean",
          "sister_mean",
          "father_mean",
          "iron_mean"
         ],
         "type": "scatter",
         "x": [
          -123.25281524658203,
          -189.0962371826172,
          106.05255889892578,
          -54.720848083496094,
          -280.1941223144531,
          -54.887123107910156,
          -18.61899185180664,
          -192.75799560546875,
          87.85687255859375,
          107.48848724365234,
          -19.797651290893555,
          225.51829528808594,
          224.83216857910156,
          20.10395050048828,
          26.388408660888672,
          -92.99526977539062,
          -86.71078491210938
         ],
         "y": [
          54.52328109741211,
          -98.91158294677734,
          250.41065979003906,
          -201.1572265625,
          50.455257415771484,
          310.2071533203125,
          -43.92961120605469,
          206.91555786132812,
          54.12578582763672,
          -143.23483276367188,
          152.4060821533203,
          -31.204326629638672,
          140.97943115234375,
          -315.4450378417969,
          -428.5440368652344,
          -321.7256774902344,
          -434.82476806640625
         ]
        }
       ],
       "layout": {
        "template": {
         "data": {
          "bar": [
           {
            "error_x": {
             "color": "#2a3f5f"
            },
            "error_y": {
             "color": "#2a3f5f"
            },
            "marker": {
             "line": {
              "color": "#E5ECF6",
              "width": 0.5
             }
            },
            "type": "bar"
           }
          ],
          "barpolar": [
           {
            "marker": {
             "line": {
              "color": "#E5ECF6",
              "width": 0.5
             }
            },
            "type": "barpolar"
           }
          ],
          "carpet": [
           {
            "aaxis": {
             "endlinecolor": "#2a3f5f",
             "gridcolor": "white",
             "linecolor": "white",
             "minorgridcolor": "white",
             "startlinecolor": "#2a3f5f"
            },
            "baxis": {
             "endlinecolor": "#2a3f5f",
             "gridcolor": "white",
             "linecolor": "white",
             "minorgridcolor": "white",
             "startlinecolor": "#2a3f5f"
            },
            "type": "carpet"
           }
          ],
          "choropleth": [
           {
            "colorbar": {
             "outlinewidth": 0,
             "ticks": ""
            },
            "type": "choropleth"
           }
          ],
          "contour": [
           {
            "colorbar": {
             "outlinewidth": 0,
             "ticks": ""
            },
            "colorscale": [
             [
              0,
              "#0d0887"
             ],
             [
              0.1111111111111111,
              "#46039f"
             ],
             [
              0.2222222222222222,
              "#7201a8"
             ],
             [
              0.3333333333333333,
              "#9c179e"
             ],
             [
              0.4444444444444444,
              "#bd3786"
             ],
             [
              0.5555555555555556,
              "#d8576b"
             ],
             [
              0.6666666666666666,
              "#ed7953"
             ],
             [
              0.7777777777777778,
              "#fb9f3a"
             ],
             [
              0.8888888888888888,
              "#fdca26"
             ],
             [
              1,
              "#f0f921"
             ]
            ],
            "type": "contour"
           }
          ],
          "contourcarpet": [
           {
            "colorbar": {
             "outlinewidth": 0,
             "ticks": ""
            },
            "type": "contourcarpet"
           }
          ],
          "heatmap": [
           {
            "colorbar": {
             "outlinewidth": 0,
             "ticks": ""
            },
            "colorscale": [
             [
              0,
              "#0d0887"
             ],
             [
              0.1111111111111111,
              "#46039f"
             ],
             [
              0.2222222222222222,
              "#7201a8"
             ],
             [
              0.3333333333333333,
              "#9c179e"
             ],
             [
              0.4444444444444444,
              "#bd3786"
             ],
             [
              0.5555555555555556,
              "#d8576b"
             ],
             [
              0.6666666666666666,
              "#ed7953"
             ],
             [
              0.7777777777777778,
              "#fb9f3a"
             ],
             [
              0.8888888888888888,
              "#fdca26"
             ],
             [
              1,
              "#f0f921"
             ]
            ],
            "type": "heatmap"
           }
          ],
          "heatmapgl": [
           {
            "colorbar": {
             "outlinewidth": 0,
             "ticks": ""
            },
            "colorscale": [
             [
              0,
              "#0d0887"
             ],
             [
              0.1111111111111111,
              "#46039f"
             ],
             [
              0.2222222222222222,
              "#7201a8"
             ],
             [
              0.3333333333333333,
              "#9c179e"
             ],
             [
              0.4444444444444444,
              "#bd3786"
             ],
             [
              0.5555555555555556,
              "#d8576b"
             ],
             [
              0.6666666666666666,
              "#ed7953"
             ],
             [
              0.7777777777777778,
              "#fb9f3a"
             ],
             [
              0.8888888888888888,
              "#fdca26"
             ],
             [
              1,
              "#f0f921"
             ]
            ],
            "type": "heatmapgl"
           }
          ],
          "histogram": [
           {
            "marker": {
             "colorbar": {
              "outlinewidth": 0,
              "ticks": ""
             }
            },
            "type": "histogram"
           }
          ],
          "histogram2d": [
           {
            "colorbar": {
             "outlinewidth": 0,
             "ticks": ""
            },
            "colorscale": [
             [
              0,
              "#0d0887"
             ],
             [
              0.1111111111111111,
              "#46039f"
             ],
             [
              0.2222222222222222,
              "#7201a8"
             ],
             [
              0.3333333333333333,
              "#9c179e"
             ],
             [
              0.4444444444444444,
              "#bd3786"
             ],
             [
              0.5555555555555556,
              "#d8576b"
             ],
             [
              0.6666666666666666,
              "#ed7953"
             ],
             [
              0.7777777777777778,
              "#fb9f3a"
             ],
             [
              0.8888888888888888,
              "#fdca26"
             ],
             [
              1,
              "#f0f921"
             ]
            ],
            "type": "histogram2d"
           }
          ],
          "histogram2dcontour": [
           {
            "colorbar": {
             "outlinewidth": 0,
             "ticks": ""
            },
            "colorscale": [
             [
              0,
              "#0d0887"
             ],
             [
              0.1111111111111111,
              "#46039f"
             ],
             [
              0.2222222222222222,
              "#7201a8"
             ],
             [
              0.3333333333333333,
              "#9c179e"
             ],
             [
              0.4444444444444444,
              "#bd3786"
             ],
             [
              0.5555555555555556,
              "#d8576b"
             ],
             [
              0.6666666666666666,
              "#ed7953"
             ],
             [
              0.7777777777777778,
              "#fb9f3a"
             ],
             [
              0.8888888888888888,
              "#fdca26"
             ],
             [
              1,
              "#f0f921"
             ]
            ],
            "type": "histogram2dcontour"
           }
          ],
          "mesh3d": [
           {
            "colorbar": {
             "outlinewidth": 0,
             "ticks": ""
            },
            "type": "mesh3d"
           }
          ],
          "parcoords": [
           {
            "line": {
             "colorbar": {
              "outlinewidth": 0,
              "ticks": ""
             }
            },
            "type": "parcoords"
           }
          ],
          "pie": [
           {
            "automargin": true,
            "type": "pie"
           }
          ],
          "scatter": [
           {
            "marker": {
             "colorbar": {
              "outlinewidth": 0,
              "ticks": ""
             }
            },
            "type": "scatter"
           }
          ],
          "scatter3d": [
           {
            "line": {
             "colorbar": {
              "outlinewidth": 0,
              "ticks": ""
             }
            },
            "marker": {
             "colorbar": {
              "outlinewidth": 0,
              "ticks": ""
             }
            },
            "type": "scatter3d"
           }
          ],
          "scattercarpet": [
           {
            "marker": {
             "colorbar": {
              "outlinewidth": 0,
              "ticks": ""
             }
            },
            "type": "scattercarpet"
           }
          ],
          "scattergeo": [
           {
            "marker": {
             "colorbar": {
              "outlinewidth": 0,
              "ticks": ""
             }
            },
            "type": "scattergeo"
           }
          ],
          "scattergl": [
           {
            "marker": {
             "colorbar": {
              "outlinewidth": 0,
              "ticks": ""
             }
            },
            "type": "scattergl"
           }
          ],
          "scattermapbox": [
           {
            "marker": {
             "colorbar": {
              "outlinewidth": 0,
              "ticks": ""
             }
            },
            "type": "scattermapbox"
           }
          ],
          "scatterpolar": [
           {
            "marker": {
             "colorbar": {
              "outlinewidth": 0,
              "ticks": ""
             }
            },
            "type": "scatterpolar"
           }
          ],
          "scatterpolargl": [
           {
            "marker": {
             "colorbar": {
              "outlinewidth": 0,
              "ticks": ""
             }
            },
            "type": "scatterpolargl"
           }
          ],
          "scatterternary": [
           {
            "marker": {
             "colorbar": {
              "outlinewidth": 0,
              "ticks": ""
             }
            },
            "type": "scatterternary"
           }
          ],
          "surface": [
           {
            "colorbar": {
             "outlinewidth": 0,
             "ticks": ""
            },
            "colorscale": [
             [
              0,
              "#0d0887"
             ],
             [
              0.1111111111111111,
              "#46039f"
             ],
             [
              0.2222222222222222,
              "#7201a8"
             ],
             [
              0.3333333333333333,
              "#9c179e"
             ],
             [
              0.4444444444444444,
              "#bd3786"
             ],
             [
              0.5555555555555556,
              "#d8576b"
             ],
             [
              0.6666666666666666,
              "#ed7953"
             ],
             [
              0.7777777777777778,
              "#fb9f3a"
             ],
             [
              0.8888888888888888,
              "#fdca26"
             ],
             [
              1,
              "#f0f921"
             ]
            ],
            "type": "surface"
           }
          ],
          "table": [
           {
            "cells": {
             "fill": {
              "color": "#EBF0F8"
             },
             "line": {
              "color": "white"
             }
            },
            "header": {
             "fill": {
              "color": "#C8D4E3"
             },
             "line": {
              "color": "white"
             }
            },
            "type": "table"
           }
          ]
         },
         "layout": {
          "annotationdefaults": {
           "arrowcolor": "#2a3f5f",
           "arrowhead": 0,
           "arrowwidth": 1
          },
          "coloraxis": {
           "colorbar": {
            "outlinewidth": 0,
            "ticks": ""
           }
          },
          "colorscale": {
           "diverging": [
            [
             0,
             "#8e0152"
            ],
            [
             0.1,
             "#c51b7d"
            ],
            [
             0.2,
             "#de77ae"
            ],
            [
             0.3,
             "#f1b6da"
            ],
            [
             0.4,
             "#fde0ef"
            ],
            [
             0.5,
             "#f7f7f7"
            ],
            [
             0.6,
             "#e6f5d0"
            ],
            [
             0.7,
             "#b8e186"
            ],
            [
             0.8,
             "#7fbc41"
            ],
            [
             0.9,
             "#4d9221"
            ],
            [
             1,
             "#276419"
            ]
           ],
           "sequential": [
            [
             0,
             "#0d0887"
            ],
            [
             0.1111111111111111,
             "#46039f"
            ],
            [
             0.2222222222222222,
             "#7201a8"
            ],
            [
             0.3333333333333333,
             "#9c179e"
            ],
            [
             0.4444444444444444,
             "#bd3786"
            ],
            [
             0.5555555555555556,
             "#d8576b"
            ],
            [
             0.6666666666666666,
             "#ed7953"
            ],
            [
             0.7777777777777778,
             "#fb9f3a"
            ],
            [
             0.8888888888888888,
             "#fdca26"
            ],
            [
             1,
             "#f0f921"
            ]
           ],
           "sequentialminus": [
            [
             0,
             "#0d0887"
            ],
            [
             0.1111111111111111,
             "#46039f"
            ],
            [
             0.2222222222222222,
             "#7201a8"
            ],
            [
             0.3333333333333333,
             "#9c179e"
            ],
            [
             0.4444444444444444,
             "#bd3786"
            ],
            [
             0.5555555555555556,
             "#d8576b"
            ],
            [
             0.6666666666666666,
             "#ed7953"
            ],
            [
             0.7777777777777778,
             "#fb9f3a"
            ],
            [
             0.8888888888888888,
             "#fdca26"
            ],
            [
             1,
             "#f0f921"
            ]
           ]
          },
          "colorway": [
           "#636efa",
           "#EF553B",
           "#00cc96",
           "#ab63fa",
           "#FFA15A",
           "#19d3f3",
           "#FF6692",
           "#B6E880",
           "#FF97FF",
           "#FECB52"
          ],
          "font": {
           "color": "#2a3f5f"
          },
          "geo": {
           "bgcolor": "white",
           "lakecolor": "white",
           "landcolor": "#E5ECF6",
           "showlakes": true,
           "showland": true,
           "subunitcolor": "white"
          },
          "hoverlabel": {
           "align": "left"
          },
          "hovermode": "closest",
          "mapbox": {
           "style": "light"
          },
          "paper_bgcolor": "white",
          "plot_bgcolor": "#E5ECF6",
          "polar": {
           "angularaxis": {
            "gridcolor": "white",
            "linecolor": "white",
            "ticks": ""
           },
           "bgcolor": "#E5ECF6",
           "radialaxis": {
            "gridcolor": "white",
            "linecolor": "white",
            "ticks": ""
           }
          },
          "scene": {
           "xaxis": {
            "backgroundcolor": "#E5ECF6",
            "gridcolor": "white",
            "gridwidth": 2,
            "linecolor": "white",
            "showbackground": true,
            "ticks": "",
            "zerolinecolor": "white"
           },
           "yaxis": {
            "backgroundcolor": "#E5ECF6",
            "gridcolor": "white",
            "gridwidth": 2,
            "linecolor": "white",
            "showbackground": true,
            "ticks": "",
            "zerolinecolor": "white"
           },
           "zaxis": {
            "backgroundcolor": "#E5ECF6",
            "gridcolor": "white",
            "gridwidth": 2,
            "linecolor": "white",
            "showbackground": true,
            "ticks": "",
            "zerolinecolor": "white"
           }
          },
          "shapedefaults": {
           "line": {
            "color": "#2a3f5f"
           }
          },
          "ternary": {
           "aaxis": {
            "gridcolor": "white",
            "linecolor": "white",
            "ticks": ""
           },
           "baxis": {
            "gridcolor": "white",
            "linecolor": "white",
            "ticks": ""
           },
           "bgcolor": "#E5ECF6",
           "caxis": {
            "gridcolor": "white",
            "linecolor": "white",
            "ticks": ""
           }
          },
          "title": {
           "x": 0.05
          },
          "xaxis": {
           "automargin": true,
           "gridcolor": "white",
           "linecolor": "white",
           "ticks": "",
           "title": {
            "standoff": 15
           },
           "zerolinecolor": "white",
           "zerolinewidth": 2
          },
          "yaxis": {
           "automargin": true,
           "gridcolor": "white",
           "linecolor": "white",
           "ticks": "",
           "title": {
            "standoff": 15
           },
           "zerolinecolor": "white",
           "zerolinewidth": 2
          }
         }
        }
       }
      },
      "text/html": [
       "<div>\n",
       "        \n",
       "        \n",
       "            <div id=\"12a28cbc-bd1a-4faa-a2b8-9efa0f7c2651\" class=\"plotly-graph-div\" style=\"height:525px; width:100%;\"></div>\n",
       "            <script type=\"text/javascript\">\n",
       "                require([\"plotly\"], function(Plotly) {\n",
       "                    window.PLOTLYENV=window.PLOTLYENV || {};\n",
       "                    \n",
       "                if (document.getElementById(\"12a28cbc-bd1a-4faa-a2b8-9efa0f7c2651\")) {\n",
       "                    Plotly.newPlot(\n",
       "                        '12a28cbc-bd1a-4faa-a2b8-9efa0f7c2651',\n",
       "                        [{\"mode\": \"text\", \"text\": [\"brother\", \"brothers\", \"bretheren\", \"sister\", \"sisters\", \"father\", \"fathers\", \"fathered\", \"fathering\", \"iron\", \"irons\", \"ironed\", \"ironing\", \"brother_mean\", \"sister_mean\", \"father_mean\", \"iron_mean\"], \"type\": \"scatter\", \"x\": [-123.25281524658203, -189.0962371826172, 106.05255889892578, -54.720848083496094, -280.1941223144531, -54.887123107910156, -18.61899185180664, -192.75799560546875, 87.85687255859375, 107.48848724365234, -19.797651290893555, 225.51829528808594, 224.83216857910156, 20.10395050048828, 26.388408660888672, -92.99526977539062, -86.71078491210938], \"y\": [54.52328109741211, -98.91158294677734, 250.41065979003906, -201.1572265625, 50.455257415771484, 310.2071533203125, -43.92961120605469, 206.91555786132812, 54.12578582763672, -143.23483276367188, 152.4060821533203, -31.204326629638672, 140.97943115234375, -315.4450378417969, -428.5440368652344, -321.7256774902344, -434.82476806640625]}],\n",
       "                        {\"template\": {\"data\": {\"bar\": [{\"error_x\": {\"color\": \"#2a3f5f\"}, \"error_y\": {\"color\": \"#2a3f5f\"}, \"marker\": {\"line\": {\"color\": \"#E5ECF6\", \"width\": 0.5}}, \"type\": \"bar\"}], \"barpolar\": [{\"marker\": {\"line\": {\"color\": \"#E5ECF6\", \"width\": 0.5}}, \"type\": \"barpolar\"}], \"carpet\": [{\"aaxis\": {\"endlinecolor\": \"#2a3f5f\", \"gridcolor\": \"white\", \"linecolor\": \"white\", \"minorgridcolor\": \"white\", \"startlinecolor\": \"#2a3f5f\"}, \"baxis\": {\"endlinecolor\": \"#2a3f5f\", \"gridcolor\": \"white\", \"linecolor\": \"white\", \"minorgridcolor\": \"white\", \"startlinecolor\": \"#2a3f5f\"}, \"type\": \"carpet\"}], \"choropleth\": [{\"colorbar\": {\"outlinewidth\": 0, \"ticks\": \"\"}, \"type\": \"choropleth\"}], \"contour\": [{\"colorbar\": {\"outlinewidth\": 0, \"ticks\": \"\"}, \"colorscale\": [[0.0, \"#0d0887\"], [0.1111111111111111, \"#46039f\"], [0.2222222222222222, \"#7201a8\"], [0.3333333333333333, \"#9c179e\"], [0.4444444444444444, \"#bd3786\"], [0.5555555555555556, \"#d8576b\"], [0.6666666666666666, \"#ed7953\"], [0.7777777777777778, \"#fb9f3a\"], [0.8888888888888888, \"#fdca26\"], [1.0, \"#f0f921\"]], \"type\": \"contour\"}], \"contourcarpet\": [{\"colorbar\": {\"outlinewidth\": 0, \"ticks\": \"\"}, \"type\": \"contourcarpet\"}], \"heatmap\": [{\"colorbar\": {\"outlinewidth\": 0, \"ticks\": \"\"}, \"colorscale\": [[0.0, \"#0d0887\"], [0.1111111111111111, \"#46039f\"], [0.2222222222222222, \"#7201a8\"], [0.3333333333333333, \"#9c179e\"], [0.4444444444444444, \"#bd3786\"], [0.5555555555555556, \"#d8576b\"], [0.6666666666666666, \"#ed7953\"], [0.7777777777777778, \"#fb9f3a\"], [0.8888888888888888, \"#fdca26\"], [1.0, \"#f0f921\"]], \"type\": \"heatmap\"}], \"heatmapgl\": [{\"colorbar\": {\"outlinewidth\": 0, \"ticks\": \"\"}, \"colorscale\": [[0.0, \"#0d0887\"], [0.1111111111111111, \"#46039f\"], [0.2222222222222222, \"#7201a8\"], [0.3333333333333333, \"#9c179e\"], [0.4444444444444444, \"#bd3786\"], [0.5555555555555556, \"#d8576b\"], [0.6666666666666666, \"#ed7953\"], [0.7777777777777778, \"#fb9f3a\"], [0.8888888888888888, \"#fdca26\"], [1.0, \"#f0f921\"]], \"type\": \"heatmapgl\"}], \"histogram\": [{\"marker\": {\"colorbar\": {\"outlinewidth\": 0, \"ticks\": \"\"}}, \"type\": \"histogram\"}], \"histogram2d\": [{\"colorbar\": {\"outlinewidth\": 0, \"ticks\": \"\"}, \"colorscale\": [[0.0, \"#0d0887\"], [0.1111111111111111, \"#46039f\"], [0.2222222222222222, \"#7201a8\"], [0.3333333333333333, \"#9c179e\"], [0.4444444444444444, \"#bd3786\"], [0.5555555555555556, \"#d8576b\"], [0.6666666666666666, \"#ed7953\"], [0.7777777777777778, \"#fb9f3a\"], [0.8888888888888888, \"#fdca26\"], [1.0, \"#f0f921\"]], \"type\": \"histogram2d\"}], \"histogram2dcontour\": [{\"colorbar\": {\"outlinewidth\": 0, \"ticks\": \"\"}, \"colorscale\": [[0.0, \"#0d0887\"], [0.1111111111111111, \"#46039f\"], [0.2222222222222222, \"#7201a8\"], [0.3333333333333333, \"#9c179e\"], [0.4444444444444444, \"#bd3786\"], [0.5555555555555556, \"#d8576b\"], [0.6666666666666666, \"#ed7953\"], [0.7777777777777778, \"#fb9f3a\"], [0.8888888888888888, \"#fdca26\"], [1.0, \"#f0f921\"]], \"type\": \"histogram2dcontour\"}], \"mesh3d\": [{\"colorbar\": {\"outlinewidth\": 0, \"ticks\": \"\"}, \"type\": \"mesh3d\"}], \"parcoords\": [{\"line\": {\"colorbar\": {\"outlinewidth\": 0, \"ticks\": \"\"}}, \"type\": \"parcoords\"}], \"pie\": [{\"automargin\": true, \"type\": \"pie\"}], \"scatter\": [{\"marker\": {\"colorbar\": {\"outlinewidth\": 0, \"ticks\": \"\"}}, \"type\": \"scatter\"}], \"scatter3d\": [{\"line\": {\"colorbar\": {\"outlinewidth\": 0, \"ticks\": \"\"}}, \"marker\": {\"colorbar\": {\"outlinewidth\": 0, \"ticks\": \"\"}}, \"type\": \"scatter3d\"}], \"scattercarpet\": [{\"marker\": {\"colorbar\": {\"outlinewidth\": 0, \"ticks\": \"\"}}, \"type\": \"scattercarpet\"}], \"scattergeo\": [{\"marker\": {\"colorbar\": {\"outlinewidth\": 0, \"ticks\": \"\"}}, \"type\": \"scattergeo\"}], \"scattergl\": [{\"marker\": {\"colorbar\": {\"outlinewidth\": 0, \"ticks\": \"\"}}, \"type\": \"scattergl\"}], \"scattermapbox\": [{\"marker\": {\"colorbar\": {\"outlinewidth\": 0, \"ticks\": \"\"}}, \"type\": \"scattermapbox\"}], \"scatterpolar\": [{\"marker\": {\"colorbar\": {\"outlinewidth\": 0, \"ticks\": \"\"}}, \"type\": \"scatterpolar\"}], \"scatterpolargl\": [{\"marker\": {\"colorbar\": {\"outlinewidth\": 0, \"ticks\": \"\"}}, \"type\": \"scatterpolargl\"}], \"scatterternary\": [{\"marker\": {\"colorbar\": {\"outlinewidth\": 0, \"ticks\": \"\"}}, \"type\": \"scatterternary\"}], \"surface\": [{\"colorbar\": {\"outlinewidth\": 0, \"ticks\": \"\"}, \"colorscale\": [[0.0, \"#0d0887\"], [0.1111111111111111, \"#46039f\"], [0.2222222222222222, \"#7201a8\"], [0.3333333333333333, \"#9c179e\"], [0.4444444444444444, \"#bd3786\"], [0.5555555555555556, \"#d8576b\"], [0.6666666666666666, \"#ed7953\"], [0.7777777777777778, \"#fb9f3a\"], [0.8888888888888888, \"#fdca26\"], [1.0, \"#f0f921\"]], \"type\": \"surface\"}], \"table\": [{\"cells\": {\"fill\": {\"color\": \"#EBF0F8\"}, \"line\": {\"color\": \"white\"}}, \"header\": {\"fill\": {\"color\": \"#C8D4E3\"}, \"line\": {\"color\": \"white\"}}, \"type\": \"table\"}]}, \"layout\": {\"annotationdefaults\": {\"arrowcolor\": \"#2a3f5f\", \"arrowhead\": 0, \"arrowwidth\": 1}, \"coloraxis\": {\"colorbar\": {\"outlinewidth\": 0, \"ticks\": \"\"}}, \"colorscale\": {\"diverging\": [[0, \"#8e0152\"], [0.1, \"#c51b7d\"], [0.2, \"#de77ae\"], [0.3, \"#f1b6da\"], [0.4, \"#fde0ef\"], [0.5, \"#f7f7f7\"], [0.6, \"#e6f5d0\"], [0.7, \"#b8e186\"], [0.8, \"#7fbc41\"], [0.9, \"#4d9221\"], [1, \"#276419\"]], \"sequential\": [[0.0, \"#0d0887\"], [0.1111111111111111, \"#46039f\"], [0.2222222222222222, \"#7201a8\"], [0.3333333333333333, \"#9c179e\"], [0.4444444444444444, \"#bd3786\"], [0.5555555555555556, \"#d8576b\"], [0.6666666666666666, \"#ed7953\"], [0.7777777777777778, \"#fb9f3a\"], [0.8888888888888888, \"#fdca26\"], [1.0, \"#f0f921\"]], \"sequentialminus\": [[0.0, \"#0d0887\"], [0.1111111111111111, \"#46039f\"], [0.2222222222222222, \"#7201a8\"], [0.3333333333333333, \"#9c179e\"], [0.4444444444444444, \"#bd3786\"], [0.5555555555555556, \"#d8576b\"], [0.6666666666666666, \"#ed7953\"], [0.7777777777777778, \"#fb9f3a\"], [0.8888888888888888, \"#fdca26\"], [1.0, \"#f0f921\"]]}, \"colorway\": [\"#636efa\", \"#EF553B\", \"#00cc96\", \"#ab63fa\", \"#FFA15A\", \"#19d3f3\", \"#FF6692\", \"#B6E880\", \"#FF97FF\", \"#FECB52\"], \"font\": {\"color\": \"#2a3f5f\"}, \"geo\": {\"bgcolor\": \"white\", \"lakecolor\": \"white\", \"landcolor\": \"#E5ECF6\", \"showlakes\": true, \"showland\": true, \"subunitcolor\": \"white\"}, \"hoverlabel\": {\"align\": \"left\"}, \"hovermode\": \"closest\", \"mapbox\": {\"style\": \"light\"}, \"paper_bgcolor\": \"white\", \"plot_bgcolor\": \"#E5ECF6\", \"polar\": {\"angularaxis\": {\"gridcolor\": \"white\", \"linecolor\": \"white\", \"ticks\": \"\"}, \"bgcolor\": \"#E5ECF6\", \"radialaxis\": {\"gridcolor\": \"white\", \"linecolor\": \"white\", \"ticks\": \"\"}}, \"scene\": {\"xaxis\": {\"backgroundcolor\": \"#E5ECF6\", \"gridcolor\": \"white\", \"gridwidth\": 2, \"linecolor\": \"white\", \"showbackground\": true, \"ticks\": \"\", \"zerolinecolor\": \"white\"}, \"yaxis\": {\"backgroundcolor\": \"#E5ECF6\", \"gridcolor\": \"white\", \"gridwidth\": 2, \"linecolor\": \"white\", \"showbackground\": true, \"ticks\": \"\", \"zerolinecolor\": \"white\"}, \"zaxis\": {\"backgroundcolor\": \"#E5ECF6\", \"gridcolor\": \"white\", \"gridwidth\": 2, \"linecolor\": \"white\", \"showbackground\": true, \"ticks\": \"\", \"zerolinecolor\": \"white\"}}, \"shapedefaults\": {\"line\": {\"color\": \"#2a3f5f\"}}, \"ternary\": {\"aaxis\": {\"gridcolor\": \"white\", \"linecolor\": \"white\", \"ticks\": \"\"}, \"baxis\": {\"gridcolor\": \"white\", \"linecolor\": \"white\", \"ticks\": \"\"}, \"bgcolor\": \"#E5ECF6\", \"caxis\": {\"gridcolor\": \"white\", \"linecolor\": \"white\", \"ticks\": \"\"}}, \"title\": {\"x\": 0.05}, \"xaxis\": {\"automargin\": true, \"gridcolor\": \"white\", \"linecolor\": \"white\", \"ticks\": \"\", \"title\": {\"standoff\": 15}, \"zerolinecolor\": \"white\", \"zerolinewidth\": 2}, \"yaxis\": {\"automargin\": true, \"gridcolor\": \"white\", \"linecolor\": \"white\", \"ticks\": \"\", \"title\": {\"standoff\": 15}, \"zerolinecolor\": \"white\", \"zerolinewidth\": 2}}}},\n",
       "                        {\"responsive\": true}\n",
       "                    ).then(function(){\n",
       "                            \n",
       "var gd = document.getElementById('12a28cbc-bd1a-4faa-a2b8-9efa0f7c2651');\n",
       "var x = new MutationObserver(function (mutations, observer) {{\n",
       "        var display = window.getComputedStyle(gd).display;\n",
       "        if (!display || display === 'none') {{\n",
       "            console.log([gd, 'removed!']);\n",
       "            Plotly.purge(gd);\n",
       "            observer.disconnect();\n",
       "        }}\n",
       "}});\n",
       "\n",
       "// Listen for the removal of the full notebook cells\n",
       "var notebookContainer = gd.closest('#notebook-container');\n",
       "if (notebookContainer) {{\n",
       "    x.observe(notebookContainer, {childList: true});\n",
       "}}\n",
       "\n",
       "// Listen for the clearing of the current output cell\n",
       "var outputEl = gd.closest('.output');\n",
       "if (outputEl) {{\n",
       "    x.observe(outputEl, {childList: true});\n",
       "}}\n",
       "\n",
       "                        })\n",
       "                };\n",
       "                });\n",
       "            </script>\n",
       "        </div>"
      ]
     },
     "metadata": {},
     "output_type": "display_data"
    }
   ],
   "source": [
    "try:\n",
    "    get_ipython()\n",
    "except Exception:\n",
    "    plot_function = plot_with_matplotlib\n",
    "else:\n",
    "    plot_function = plot_with_plotly\n",
    "\n",
    "plot_function(xs, ys, lms)"
   ]
  },
  {
   "cell_type": "code",
   "execution_count": null,
   "metadata": {},
   "outputs": [],
   "source": [
    "\"\"\"\n",
    "import itertools\n",
    "vectors = [] # positions in vector space\n",
    "labels = [] # keep track of words to label our data again later\n",
    "means = []\n",
    "\n",
    "for key, value in dict(itertools.islice(lexi_dic.items(), 4)).items():\n",
    "    print(key, value)\n",
    "    for word in value:\n",
    "        vectors.append(model.wv[word]/np.linalg.norm(model.wv[word]))\n",
    "        labels.append(word)\"\"\""
   ]
  },
  {
   "cell_type": "code",
   "execution_count": 36,
   "metadata": {},
   "outputs": [
    {
     "data": {
      "text/plain": [
       "array([[  20.10395 , -315.44504 ],\n",
       "       [  26.388409, -428.54404 ],\n",
       "       [ -92.99527 , -321.72568 ],\n",
       "       [ -86.710785, -434.82477 ]], dtype=float32)"
      ]
     },
     "execution_count": 36,
     "metadata": {},
     "output_type": "execute_result"
    }
   ],
   "source": [
    "mx = np.concatenate([means_x_vals, means_y_vals]).reshape(2,4).T\n",
    "mx"
   ]
  },
  {
   "cell_type": "code",
   "execution_count": 37,
   "metadata": {},
   "outputs": [
    {
     "data": {
      "text/plain": [
       "2.205371856689453e-06"
      ]
     },
     "execution_count": 37,
     "metadata": {},
     "output_type": "execute_result"
    }
   ],
   "source": [
    "from scipy.spatial import distance\n",
    "\n",
    "dist = distance.cosine(mx[0], mx[1])\n",
    "dist"
   ]
  },
  {
   "cell_type": "code",
   "execution_count": 42,
   "metadata": {},
   "outputs": [],
   "source": [
    "vector_dic = {}\n",
    "row = 0\n",
    "while(row < len(mx)):\n",
    "    for i in list(means_label):\n",
    "        if i not in vector_dic.keys():\n",
    "            vector_dic[i] = list(mx[row])\n",
    "        else:\n",
    "            pass\n",
    "        row += 1"
   ]
  },
  {
   "cell_type": "code",
   "execution_count": 43,
   "metadata": {},
   "outputs": [
    {
     "data": {
      "text/plain": [
       "{'brother_mean': [20.10395, -315.44504],\n",
       " 'sister_mean': [26.388409, -428.54404],\n",
       " 'father_mean': [-92.99527, -321.72568],\n",
       " 'iron_mean': [-86.710785, -434.82477]}"
      ]
     },
     "execution_count": 43,
     "metadata": {},
     "output_type": "execute_result"
    }
   ],
   "source": [
    "vector_dic"
   ]
  },
  {
   "cell_type": "code",
   "execution_count": 64,
   "metadata": {},
   "outputs": [
    {
     "data": {
      "text/plain": [
       "[{'brother_mean': [20.10395, -315.44504],\n",
       "  'sister_mean': [26.388409, -428.54404]},\n",
       " {'brother_mean': [20.10395, -315.44504],\n",
       "  'father_mean': [-92.99527, -321.72568]},\n",
       " {'brother_mean': [20.10395, -315.44504],\n",
       "  'iron_mean': [-86.710785, -434.82477]},\n",
       " {'sister_mean': [26.388409, -428.54404],\n",
       "  'father_mean': [-92.99527, -321.72568]},\n",
       " {'sister_mean': [26.388409, -428.54404],\n",
       "  'iron_mean': [-86.710785, -434.82477]},\n",
       " {'father_mean': [-92.99527, -321.72568],\n",
       "  'iron_mean': [-86.710785, -434.82477]}]"
      ]
     },
     "execution_count": 64,
     "metadata": {},
     "output_type": "execute_result"
    }
   ],
   "source": [
    "import itertools\n",
    "comb_list = list(map(dict, itertools.combinations(vector_dic.items(), 2)))\n",
    "comb_list"
   ]
  },
  {
   "cell_type": "code",
   "execution_count": 97,
   "metadata": {},
   "outputs": [
    {
     "name": "stdout",
     "output_type": "stream",
     "text": [
      "Comparison of brother_mean and sister_mean:\n",
      "0.00000\n",
      "Comparison of brother_mean and father_mean:\n",
      "0.05893\n",
      "Comparison of brother_mean and iron_mean:\n",
      "0.03373\n",
      "Comparison of sister_mean and father_mean:\n",
      "0.05821\n",
      "Comparison of sister_mean and iron_mean:\n",
      "0.03318\n",
      "Comparison of father_mean and iron_mean:\n",
      "0.00357\n",
      "Greatest distance is:  Comparison of brother_mean and father_mean: 0.05893409252166748\n"
     ]
    }
   ],
   "source": [
    "max_comb = \"None\"\n",
    "max_value = float(0)\n",
    "for dicts in comb_list:\n",
    "    index = 0\n",
    "    while(index < len(dicts)-1):\n",
    "        print(\"Comparison of {i} and {j}:\".format(i=list(dicts.keys())[index], j=list(dicts.keys())[index+1]))\n",
    "        print(\"{k:.5f}\".format(k=distance.cosine(list(dicts.values())[index], list(dicts.values())[index+1])))\n",
    "        if distance.cosine(list(dicts.values())[index], list(dicts.values())[index+1]) > max_value:\n",
    "            max_value = distance.cosine(list(dicts.values())[index], list(dicts.values())[index+1])\n",
    "            max_comb = \"Comparison of {i} and {j}:\".format(i=list(dicts.keys())[index], j=list(dicts.keys())[index+1])\n",
    "        index += 1\n",
    "print('Greatest distance is: ',max_comb, max_value)"
   ]
  },
  {
   "cell_type": "code",
   "execution_count": null,
   "metadata": {},
   "outputs": [],
   "source": []
  }
 ],
 "metadata": {
  "kernelspec": {
   "display_name": "Python 3",
   "language": "python",
   "name": "python3"
  },
  "language_info": {
   "codemirror_mode": {
    "name": "ipython",
    "version": 3
   },
   "file_extension": ".py",
   "mimetype": "text/x-python",
   "name": "python",
   "nbconvert_exporter": "python",
   "pygments_lexer": "ipython3",
   "version": "3.7.1"
  }
 },
 "nbformat": 4,
 "nbformat_minor": 2
}
